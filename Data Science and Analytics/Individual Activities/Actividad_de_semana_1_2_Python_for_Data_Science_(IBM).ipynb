{
  "nbformat": 4,
  "nbformat_minor": 0,
  "metadata": {
    "colab": {
      "provenance": [],
      "authorship_tag": "ABX9TyPez6V/2CwC63xZJDyGEUzO",
      "include_colab_link": true
    },
    "kernelspec": {
      "name": "python3",
      "display_name": "Python 3"
    },
    "language_info": {
      "name": "python"
    }
  },
  "cells": [
    {
      "cell_type": "markdown",
      "metadata": {
        "id": "view-in-github",
        "colab_type": "text"
      },
      "source": [
        "<a href=\"https://colab.research.google.com/github/PosgradoMNA/actividades-de-aprendizaje-RobertoRomeroVielma-A00822314/blob/main/Actividad_de_semana_1_2_Python_for_Data_Science_(IBM).ipynb\" target=\"_parent\"><img src=\"https://colab.research.google.com/assets/colab-badge.svg\" alt=\"Open In Colab\"/></a>"
      ]
    },
    {
      "cell_type": "markdown",
      "source": [
        "* Nombre del Alumno: Roberto Romero Vielma\n",
        "* Matrícula: A00822314"
      ],
      "metadata": {
        "id": "lY8EiYMOehBi"
      }
    },
    {
      "cell_type": "markdown",
      "source": [
        "# Módulo 1"
      ],
      "metadata": {
        "id": "J8zQk1AU7_cZ"
      }
    },
    {
      "cell_type": "markdown",
      "source": [
        "### Your First Program"
      ],
      "metadata": {
        "id": "SeMguaIcaGyk"
      }
    },
    {
      "cell_type": "code",
      "execution_count": null,
      "metadata": {
        "colab": {
          "base_uri": "https://localhost:8080/"
        },
        "id": "IizalU0RPRtn",
        "outputId": "e9217650-6685-40be-a476-b684da5a9080"
      },
      "outputs": [
        {
          "output_type": "stream",
          "name": "stdout",
          "text": [
            "Hello Python 101\n"
          ]
        }
      ],
      "source": [
        "#print Hello Python 101\n",
        "print(\"Hello Python 101\")"
      ]
    },
    {
      "cell_type": "code",
      "source": [
        "#Error de semántica\n",
        "print(\"Hello Python 102\")"
      ],
      "metadata": {
        "id": "38q4lwXLQmyx",
        "outputId": "bca1d85a-fa55-4e82-f76c-c5d5b8463026",
        "colab": {
          "base_uri": "https://localhost:8080/"
        }
      },
      "execution_count": null,
      "outputs": [
        {
          "output_type": "stream",
          "name": "stdout",
          "text": [
            "Hello Python 102\n"
          ]
        }
      ]
    },
    {
      "cell_type": "code",
      "source": [
        "print(\"Hello\\nWorld!\")"
      ],
      "metadata": {
        "id": "XQq1qvwiQ6sz",
        "outputId": "b9117cd1-de63-439f-9e3f-b6e4b7c03a43",
        "colab": {
          "base_uri": "https://localhost:8080/"
        }
      },
      "execution_count": null,
      "outputs": [
        {
          "output_type": "stream",
          "name": "stdout",
          "text": [
            "Hello\n",
            "World!\n"
          ]
        }
      ]
    },
    {
      "cell_type": "code",
      "source": [
        "# print('Hello World!') "
      ],
      "metadata": {
        "id": "gw5MdqcJRJti"
      },
      "execution_count": null,
      "outputs": []
    },
    {
      "cell_type": "markdown",
      "source": [
        "### Types"
      ],
      "metadata": {
        "id": "Ieu9hYDU8IZT"
      }
    },
    {
      "cell_type": "code",
      "source": [
        "type(11)"
      ],
      "metadata": {
        "id": "xlzvL_jT7iP6",
        "outputId": "a966afb5-a220-4f15-de7d-b9435002ad14",
        "colab": {
          "base_uri": "https://localhost:8080/"
        }
      },
      "execution_count": null,
      "outputs": [
        {
          "output_type": "execute_result",
          "data": {
            "text/plain": [
              "int"
            ]
          },
          "metadata": {},
          "execution_count": 1
        }
      ]
    },
    {
      "cell_type": "code",
      "source": [
        "type(21.213)"
      ],
      "metadata": {
        "id": "7-emnuHp8Qm3",
        "outputId": "c38521cc-236f-4685-887a-e20ca5ee8957",
        "colab": {
          "base_uri": "https://localhost:8080/"
        }
      },
      "execution_count": null,
      "outputs": [
        {
          "output_type": "execute_result",
          "data": {
            "text/plain": [
              "float"
            ]
          },
          "metadata": {},
          "execution_count": 2
        }
      ]
    },
    {
      "cell_type": "code",
      "source": [
        "type(\"Hello Python 101\")"
      ],
      "metadata": {
        "id": "8NHFy58r8TSP",
        "outputId": "e9babb01-67bb-43c5-a75f-8a7edfd63e38",
        "colab": {
          "base_uri": "https://localhost:8080/"
        }
      },
      "execution_count": null,
      "outputs": [
        {
          "output_type": "execute_result",
          "data": {
            "text/plain": [
              "str"
            ]
          },
          "metadata": {},
          "execution_count": 4
        }
      ]
    },
    {
      "cell_type": "code",
      "source": [
        "float(2)"
      ],
      "metadata": {
        "id": "2Kz-7NZb8V0S",
        "outputId": "7c8a6ac4-b3a3-465b-9457-19a61a69b427",
        "colab": {
          "base_uri": "https://localhost:8080/"
        }
      },
      "execution_count": null,
      "outputs": [
        {
          "output_type": "execute_result",
          "data": {
            "text/plain": [
              "2.0"
            ]
          },
          "metadata": {},
          "execution_count": 5
        }
      ]
    },
    {
      "cell_type": "code",
      "source": [
        "int(1.1)"
      ],
      "metadata": {
        "id": "B3XPGN6g8o6I",
        "outputId": "8188032d-0261-418e-af4c-fdd369081ff6",
        "colab": {
          "base_uri": "https://localhost:8080/"
        }
      },
      "execution_count": null,
      "outputs": [
        {
          "output_type": "execute_result",
          "data": {
            "text/plain": [
              "1"
            ]
          },
          "metadata": {},
          "execution_count": 6
        }
      ]
    },
    {
      "cell_type": "code",
      "source": [
        "int(\"1\")"
      ],
      "metadata": {
        "id": "OJg_0sGX8q3Z",
        "outputId": "1dd4788b-761d-4bfd-8b8f-2ceac156c14b",
        "colab": {
          "base_uri": "https://localhost:8080/"
        }
      },
      "execution_count": null,
      "outputs": [
        {
          "output_type": "execute_result",
          "data": {
            "text/plain": [
              "1"
            ]
          },
          "metadata": {},
          "execution_count": 7
        }
      ]
    },
    {
      "cell_type": "code",
      "source": [
        "str(1)"
      ],
      "metadata": {
        "id": "pRlBv9X_8sox",
        "outputId": "9d38c92c-e33d-4dc7-d25f-c70b377cce65",
        "colab": {
          "base_uri": "https://localhost:8080/",
          "height": 36
        }
      },
      "execution_count": null,
      "outputs": [
        {
          "output_type": "execute_result",
          "data": {
            "text/plain": [
              "'1'"
            ],
            "application/vnd.google.colaboratory.intrinsic+json": {
              "type": "string"
            }
          },
          "metadata": {},
          "execution_count": 8
        }
      ]
    },
    {
      "cell_type": "code",
      "source": [
        "str(4.5)"
      ],
      "metadata": {
        "id": "mxkrPVZX8yH6",
        "outputId": "82014fb9-3aa8-4bec-e4af-c590eb3ac83e",
        "colab": {
          "base_uri": "https://localhost:8080/",
          "height": 36
        }
      },
      "execution_count": null,
      "outputs": [
        {
          "output_type": "execute_result",
          "data": {
            "text/plain": [
              "'4.5'"
            ],
            "application/vnd.google.colaboratory.intrinsic+json": {
              "type": "string"
            }
          },
          "metadata": {},
          "execution_count": 9
        }
      ]
    },
    {
      "cell_type": "code",
      "source": [
        "type(True)"
      ],
      "metadata": {
        "id": "o5SlPALE8196",
        "outputId": "60b77a95-7056-44e9-da96-5ea5785c951d",
        "colab": {
          "base_uri": "https://localhost:8080/"
        }
      },
      "execution_count": null,
      "outputs": [
        {
          "output_type": "execute_result",
          "data": {
            "text/plain": [
              "bool"
            ]
          },
          "metadata": {},
          "execution_count": 10
        }
      ]
    },
    {
      "cell_type": "code",
      "source": [
        "int(True)"
      ],
      "metadata": {
        "id": "GXzJCXGk898q",
        "outputId": "4ac6abeb-b1ff-485d-9a47-31e0cd939a3d",
        "colab": {
          "base_uri": "https://localhost:8080/"
        }
      },
      "execution_count": null,
      "outputs": [
        {
          "output_type": "execute_result",
          "data": {
            "text/plain": [
              "1"
            ]
          },
          "metadata": {},
          "execution_count": 11
        }
      ]
    },
    {
      "cell_type": "code",
      "source": [
        "int(False)"
      ],
      "metadata": {
        "id": "9HGZweB79Bpg",
        "outputId": "d42bd248-9e55-40eb-a486-b9cb1480cf99",
        "colab": {
          "base_uri": "https://localhost:8080/"
        }
      },
      "execution_count": null,
      "outputs": [
        {
          "output_type": "execute_result",
          "data": {
            "text/plain": [
              "0"
            ]
          },
          "metadata": {},
          "execution_count": 12
        }
      ]
    },
    {
      "cell_type": "code",
      "source": [
        "bool(1)"
      ],
      "metadata": {
        "id": "FsmZH1ja9Dgd",
        "outputId": "07adeca5-eb22-4fc5-f5a8-62928b2306d5",
        "colab": {
          "base_uri": "https://localhost:8080/"
        }
      },
      "execution_count": null,
      "outputs": [
        {
          "output_type": "execute_result",
          "data": {
            "text/plain": [
              "True"
            ]
          },
          "metadata": {},
          "execution_count": 13
        }
      ]
    },
    {
      "cell_type": "code",
      "source": [
        "bool(0)"
      ],
      "metadata": {
        "id": "uqL4tvik9E4c",
        "outputId": "8c7fe8a9-4f2a-426c-e980-036183a150e5",
        "colab": {
          "base_uri": "https://localhost:8080/"
        }
      },
      "execution_count": null,
      "outputs": [
        {
          "output_type": "execute_result",
          "data": {
            "text/plain": [
              "False"
            ]
          },
          "metadata": {},
          "execution_count": 14
        }
      ]
    },
    {
      "cell_type": "code",
      "source": [
        "type(int(1))"
      ],
      "metadata": {
        "id": "PVDi6sWO9GDC",
        "outputId": "ce09ab90-a6be-407a-bc90-dd5401a02838",
        "colab": {
          "base_uri": "https://localhost:8080/"
        }
      },
      "execution_count": null,
      "outputs": [
        {
          "output_type": "execute_result",
          "data": {
            "text/plain": [
              "int"
            ]
          },
          "metadata": {},
          "execution_count": 15
        }
      ]
    },
    {
      "cell_type": "code",
      "source": [
        "bool(1)"
      ],
      "metadata": {
        "id": "HUpdmSXe9NBh",
        "outputId": "7ef625bf-c652-4442-8ad8-b4baf295788d",
        "colab": {
          "base_uri": "https://localhost:8080/"
        }
      },
      "execution_count": null,
      "outputs": [
        {
          "output_type": "execute_result",
          "data": {
            "text/plain": [
              "True"
            ]
          },
          "metadata": {},
          "execution_count": 16
        }
      ]
    },
    {
      "cell_type": "code",
      "source": [
        "type(\"Hello World\")"
      ],
      "metadata": {
        "id": "xJIvt_bN9PCw",
        "outputId": "4b9fc640-7f65-4d2a-8977-047bfb915b3b",
        "colab": {
          "base_uri": "https://localhost:8080/"
        }
      },
      "execution_count": null,
      "outputs": [
        {
          "output_type": "execute_result",
          "data": {
            "text/plain": [
              "str"
            ]
          },
          "metadata": {},
          "execution_count": 17
        }
      ]
    },
    {
      "cell_type": "code",
      "source": [
        "type(\"1.1\")"
      ],
      "metadata": {
        "id": "mJWAJmd79nDS",
        "outputId": "6eb74280-26c8-4f3b-ada9-1add8db838cd",
        "colab": {
          "base_uri": "https://localhost:8080/"
        }
      },
      "execution_count": null,
      "outputs": [
        {
          "output_type": "execute_result",
          "data": {
            "text/plain": [
              "str"
            ]
          },
          "metadata": {},
          "execution_count": 18
        }
      ]
    },
    {
      "cell_type": "code",
      "source": [
        "print(bool(int(\"1\")))"
      ],
      "metadata": {
        "id": "UEk3tJec9pU8",
        "outputId": "b3000cf9-176f-4aaa-faaf-f13e4e70a452",
        "colab": {
          "base_uri": "https://localhost:8080/"
        }
      },
      "execution_count": null,
      "outputs": [
        {
          "output_type": "stream",
          "name": "stdout",
          "text": [
            "True\n"
          ]
        }
      ]
    },
    {
      "cell_type": "markdown",
      "source": [
        "### Expressions and Variables"
      ],
      "metadata": {
        "id": "g-fMEfu-aOaa"
      }
    },
    {
      "cell_type": "markdown",
      "source": [
        "#### Expresiones"
      ],
      "metadata": {
        "id": "2_7EJrOnb6Yb"
      }
    },
    {
      "cell_type": "code",
      "source": [
        "43+60+16+41"
      ],
      "metadata": {
        "colab": {
          "base_uri": "https://localhost:8080/"
        },
        "id": "7t5wQY5rah9b",
        "outputId": "8ae35b2b-0641-442a-ee36-817b0696b862"
      },
      "execution_count": null,
      "outputs": [
        {
          "output_type": "execute_result",
          "data": {
            "text/plain": [
              "160"
            ]
          },
          "metadata": {},
          "execution_count": 1
        }
      ]
    },
    {
      "cell_type": "code",
      "source": [
        "50-60"
      ],
      "metadata": {
        "colab": {
          "base_uri": "https://localhost:8080/"
        },
        "id": "2EJgJ5sBav8a",
        "outputId": "7beaecd1-1beb-4a33-d727-50e1df7550a1"
      },
      "execution_count": null,
      "outputs": [
        {
          "output_type": "execute_result",
          "data": {
            "text/plain": [
              "-10"
            ]
          },
          "metadata": {},
          "execution_count": 2
        }
      ]
    },
    {
      "cell_type": "code",
      "source": [
        "5*5"
      ],
      "metadata": {
        "colab": {
          "base_uri": "https://localhost:8080/"
        },
        "id": "O-0OEWUIa5BW",
        "outputId": "4c6f2783-47b9-4de9-f3e0-62c9b3a99a21"
      },
      "execution_count": null,
      "outputs": [
        {
          "output_type": "execute_result",
          "data": {
            "text/plain": [
              "25"
            ]
          },
          "metadata": {},
          "execution_count": 3
        }
      ]
    },
    {
      "cell_type": "code",
      "source": [
        "25/5"
      ],
      "metadata": {
        "colab": {
          "base_uri": "https://localhost:8080/"
        },
        "id": "K-yWdzzKa6nT",
        "outputId": "3b57fefe-7026-420f-d6fa-d98dbbf17d9a"
      },
      "execution_count": null,
      "outputs": [
        {
          "output_type": "execute_result",
          "data": {
            "text/plain": [
              "5.0"
            ]
          },
          "metadata": {},
          "execution_count": 4
        }
      ]
    },
    {
      "cell_type": "code",
      "source": [
        "25/6"
      ],
      "metadata": {
        "colab": {
          "base_uri": "https://localhost:8080/"
        },
        "id": "zr24hc38a88S",
        "outputId": "116993f5-90db-46c2-eadf-0e7e589bb272"
      },
      "execution_count": null,
      "outputs": [
        {
          "output_type": "execute_result",
          "data": {
            "text/plain": [
              "4.166666666666667"
            ]
          },
          "metadata": {},
          "execution_count": 5
        }
      ]
    },
    {
      "cell_type": "code",
      "source": [
        "25//5 #// es para solo dejar números enteros"
      ],
      "metadata": {
        "colab": {
          "base_uri": "https://localhost:8080/"
        },
        "id": "eKfotqC7a-jM",
        "outputId": "e534d5c8-fefa-426f-c540-f4ae91733f5c"
      },
      "execution_count": null,
      "outputs": [
        {
          "output_type": "execute_result",
          "data": {
            "text/plain": [
              "5"
            ]
          },
          "metadata": {},
          "execution_count": 7
        }
      ]
    },
    {
      "cell_type": "code",
      "source": [
        "25//6"
      ],
      "metadata": {
        "colab": {
          "base_uri": "https://localhost:8080/"
        },
        "id": "P2I26Y18bCAV",
        "outputId": "b26a7db6-1d4c-4a78-9384-f68221bf2be1"
      },
      "execution_count": null,
      "outputs": [
        {
          "output_type": "execute_result",
          "data": {
            "text/plain": [
              "4"
            ]
          },
          "metadata": {},
          "execution_count": 8
        }
      ]
    },
    {
      "cell_type": "code",
      "source": [
        "2*60+30"
      ],
      "metadata": {
        "colab": {
          "base_uri": "https://localhost:8080/"
        },
        "id": "dOlkSiXGbISZ",
        "outputId": "74b03036-50c1-49d9-cdfe-6880f573fe57"
      },
      "execution_count": null,
      "outputs": [
        {
          "output_type": "execute_result",
          "data": {
            "text/plain": [
              "150"
            ]
          },
          "metadata": {},
          "execution_count": 9
        }
      ]
    },
    {
      "cell_type": "code",
      "source": [
        "30+2*60"
      ],
      "metadata": {
        "colab": {
          "base_uri": "https://localhost:8080/"
        },
        "id": "aAViOSV-bMJk",
        "outputId": "1556d903-8ea7-4c52-f2a6-6c6f2b6bc042"
      },
      "execution_count": null,
      "outputs": [
        {
          "output_type": "execute_result",
          "data": {
            "text/plain": [
              "150"
            ]
          },
          "metadata": {},
          "execution_count": 10
        }
      ]
    },
    {
      "cell_type": "code",
      "source": [
        "(30+2)*60"
      ],
      "metadata": {
        "colab": {
          "base_uri": "https://localhost:8080/"
        },
        "id": "sWkif8wjbNz5",
        "outputId": "b31ac353-a98d-4537-ba1f-a84976c9d2f8"
      },
      "execution_count": null,
      "outputs": [
        {
          "output_type": "execute_result",
          "data": {
            "text/plain": [
              "1920"
            ]
          },
          "metadata": {},
          "execution_count": 11
        }
      ]
    },
    {
      "cell_type": "markdown",
      "source": [
        "#### Variables"
      ],
      "metadata": {
        "id": "gbSUpQ-Sb2hp"
      }
    },
    {
      "cell_type": "code",
      "source": [
        "my_variable=1\n",
        "my_variable"
      ],
      "metadata": {
        "colab": {
          "base_uri": "https://localhost:8080/"
        },
        "id": "Rl4MIkbKbinK",
        "outputId": "754b4251-c759-4f91-8d90-97a6b7d236b1"
      },
      "execution_count": null,
      "outputs": [
        {
          "output_type": "execute_result",
          "data": {
            "text/plain": [
              "1"
            ]
          },
          "metadata": {},
          "execution_count": 15
        }
      ]
    },
    {
      "cell_type": "code",
      "source": [
        "my_variable=10\n",
        "my_variable"
      ],
      "metadata": {
        "colab": {
          "base_uri": "https://localhost:8080/"
        },
        "id": "RNphefWUb-VB",
        "outputId": "b89e27f2-e50d-48da-952b-c68167eba5e7"
      },
      "execution_count": null,
      "outputs": [
        {
          "output_type": "execute_result",
          "data": {
            "text/plain": [
              "10"
            ]
          },
          "metadata": {},
          "execution_count": 16
        }
      ]
    },
    {
      "cell_type": "code",
      "source": [
        "x=43+60+16+41\n",
        "x"
      ],
      "metadata": {
        "colab": {
          "base_uri": "https://localhost:8080/"
        },
        "id": "3K_PFoR7cOsh",
        "outputId": "c68e20dc-1b20-4146-a2b6-b1c703000920"
      },
      "execution_count": null,
      "outputs": [
        {
          "output_type": "execute_result",
          "data": {
            "text/plain": [
              "160"
            ]
          },
          "metadata": {},
          "execution_count": 18
        }
      ]
    },
    {
      "cell_type": "code",
      "source": [
        "y=x/60\n",
        "y"
      ],
      "metadata": {
        "colab": {
          "base_uri": "https://localhost:8080/"
        },
        "id": "vDa0jL0QcRTu",
        "outputId": "c9168ab9-5c56-4a1e-85b8-506b26cc2a81"
      },
      "execution_count": null,
      "outputs": [
        {
          "output_type": "execute_result",
          "data": {
            "text/plain": [
              "2.6666666666666665"
            ]
          },
          "metadata": {},
          "execution_count": 19
        }
      ]
    },
    {
      "cell_type": "code",
      "source": [
        "x=160\n",
        "x=x/60\n",
        "x"
      ],
      "metadata": {
        "colab": {
          "base_uri": "https://localhost:8080/"
        },
        "id": "32wUwFcQcYh-",
        "outputId": "9655c692-6ae8-4973-e218-7c351b678c4f"
      },
      "execution_count": null,
      "outputs": [
        {
          "output_type": "execute_result",
          "data": {
            "text/plain": [
              "2.6666666666666665"
            ]
          },
          "metadata": {},
          "execution_count": 20
        }
      ]
    },
    {
      "cell_type": "code",
      "source": [
        "type(x) "
      ],
      "metadata": {
        "colab": {
          "base_uri": "https://localhost:8080/"
        },
        "id": "muV_g3G6cdVB",
        "outputId": "4a6b31f7-13d6-4405-b9c0-e0a2bb932c15"
      },
      "execution_count": null,
      "outputs": [
        {
          "output_type": "execute_result",
          "data": {
            "text/plain": [
              "float"
            ]
          },
          "metadata": {},
          "execution_count": 21
        }
      ]
    },
    {
      "cell_type": "markdown",
      "source": [
        "**Importante**: Nombrar variables de manera que podamos usarlos con facilidad dentro del código"
      ],
      "metadata": {
        "id": "fBdhLTDZcl_Y"
      }
    },
    {
      "cell_type": "code",
      "source": [
        "total_min=43+42+57\n",
        "total_min"
      ],
      "metadata": {
        "colab": {
          "base_uri": "https://localhost:8080/"
        },
        "id": "9j6os-8Bc4wj",
        "outputId": "f09ccf57-9d08-4eee-fb8f-1fdab9d9ebf4"
      },
      "execution_count": null,
      "outputs": [
        {
          "output_type": "execute_result",
          "data": {
            "text/plain": [
              "142"
            ]
          },
          "metadata": {},
          "execution_count": 23
        }
      ]
    },
    {
      "cell_type": "code",
      "source": [
        "total_hr=total_min/60\n",
        "round(total_hr,3)"
      ],
      "metadata": {
        "colab": {
          "base_uri": "https://localhost:8080/"
        },
        "id": "POXax29zdA56",
        "outputId": "beb715ef-fe65-4477-b4c1-aba087e10dab"
      },
      "execution_count": null,
      "outputs": [
        {
          "output_type": "execute_result",
          "data": {
            "text/plain": [
              "2.367"
            ]
          },
          "metadata": {},
          "execution_count": 24
        }
      ]
    },
    {
      "cell_type": "code",
      "source": [
        "def total_hours(total_min):\n",
        "  total_hr=total_min/60\n",
        "  return round(total_hr,4)"
      ],
      "metadata": {
        "id": "eRdwfI-7dLcX"
      },
      "execution_count": null,
      "outputs": []
    },
    {
      "cell_type": "code",
      "source": [
        "total_hours(142)"
      ],
      "metadata": {
        "colab": {
          "base_uri": "https://localhost:8080/"
        },
        "id": "3WpBh-stdyCa",
        "outputId": "9f80896d-cff2-4bfe-c628-b4f9af95fb5e"
      },
      "execution_count": null,
      "outputs": [
        {
          "output_type": "execute_result",
          "data": {
            "text/plain": [
              "2.3667"
            ]
          },
          "metadata": {},
          "execution_count": 29
        }
      ]
    },
    {
      "cell_type": "code",
      "source": [
        "total_hours(85)"
      ],
      "metadata": {
        "colab": {
          "base_uri": "https://localhost:8080/"
        },
        "id": "b42DOXqMd1b2",
        "outputId": "31a6d5fa-53fe-439d-c936-de12e628b207"
      },
      "execution_count": null,
      "outputs": [
        {
          "output_type": "execute_result",
          "data": {
            "text/plain": [
              "1.4167"
            ]
          },
          "metadata": {},
          "execution_count": 30
        }
      ]
    },
    {
      "cell_type": "markdown",
      "source": [
        "#### String Operations"
      ],
      "metadata": {
        "id": "XKr-7IEJg3I2"
      }
    },
    {
      "cell_type": "code",
      "source": [
        "\"Michael Jackson\"\n"
      ],
      "metadata": {
        "colab": {
          "base_uri": "https://localhost:8080/",
          "height": 36
        },
        "id": "4kU-1L9Td9vl",
        "outputId": "08a662c1-5130-4d3c-de19-80716d69cb7d"
      },
      "execution_count": null,
      "outputs": [
        {
          "output_type": "execute_result",
          "data": {
            "text/plain": [
              "'Michael Jackson'"
            ],
            "application/vnd.google.colaboratory.intrinsic+json": {
              "type": "string"
            }
          },
          "metadata": {},
          "execution_count": 45
        }
      ]
    },
    {
      "cell_type": "code",
      "source": [
        "'Michael Jackson'\n"
      ],
      "metadata": {
        "colab": {
          "base_uri": "https://localhost:8080/",
          "height": 36
        },
        "id": "lymbLYPqhAp5",
        "outputId": "a280f41d-75d4-4715-cd71-c9c471027bd7"
      },
      "execution_count": null,
      "outputs": [
        {
          "output_type": "execute_result",
          "data": {
            "text/plain": [
              "'Michael Jackson'"
            ],
            "application/vnd.google.colaboratory.intrinsic+json": {
              "type": "string"
            }
          },
          "metadata": {},
          "execution_count": 46
        }
      ]
    },
    {
      "cell_type": "code",
      "source": [
        "def compare (firstsentence,secondsentence):\n",
        "  if(firstsentence==secondsentence):\n",
        "    print(\" Son iguales\")\n",
        "  else:\n",
        "    print(\"Son diferentes\")"
      ],
      "metadata": {
        "id": "EtqECROkhPy5"
      },
      "execution_count": null,
      "outputs": []
    },
    {
      "cell_type": "code",
      "source": [
        "compare(\"Michael Jackson\",'Michael Jackson')"
      ],
      "metadata": {
        "colab": {
          "base_uri": "https://localhost:8080/"
        },
        "id": "ajtdg04jhubZ",
        "outputId": "f9380c41-6cbc-4897-c505-41a861dafff7"
      },
      "execution_count": null,
      "outputs": [
        {
          "output_type": "stream",
          "name": "stdout",
          "text": [
            "Ambos son iguales\n"
          ]
        }
      ]
    },
    {
      "cell_type": "code",
      "source": [
        "type(\"1 2 3 4 5 6\")"
      ],
      "metadata": {
        "colab": {
          "base_uri": "https://localhost:8080/"
        },
        "id": "xI4fwY1-h0kZ",
        "outputId": "7c86f374-84e5-4423-9a04-53583393f9ad"
      },
      "execution_count": null,
      "outputs": [
        {
          "output_type": "execute_result",
          "data": {
            "text/plain": [
              "str"
            ]
          },
          "metadata": {},
          "execution_count": 43
        }
      ]
    },
    {
      "cell_type": "code",
      "source": [
        "type(\"@#2_#]&*^%$\")"
      ],
      "metadata": {
        "colab": {
          "base_uri": "https://localhost:8080/"
        },
        "id": "abkUjTWiiZtk",
        "outputId": "36807257-0ae3-44cc-a00f-041ddc26b669"
      },
      "execution_count": null,
      "outputs": [
        {
          "output_type": "execute_result",
          "data": {
            "text/plain": [
              "str"
            ]
          },
          "metadata": {},
          "execution_count": 44
        }
      ]
    },
    {
      "cell_type": "code",
      "source": [
        "Name=\"Michael Jackson\""
      ],
      "metadata": {
        "id": "dTzv32OBimd_"
      },
      "execution_count": null,
      "outputs": []
    },
    {
      "cell_type": "code",
      "source": [
        "Name[0]"
      ],
      "metadata": {
        "colab": {
          "base_uri": "https://localhost:8080/",
          "height": 36
        },
        "id": "OvV1oYFtjJ-S",
        "outputId": "9b60f25a-ca5a-4df3-db65-34f6e537f005"
      },
      "execution_count": null,
      "outputs": [
        {
          "output_type": "execute_result",
          "data": {
            "text/plain": [
              "'M'"
            ],
            "application/vnd.google.colaboratory.intrinsic+json": {
              "type": "string"
            }
          },
          "metadata": {},
          "execution_count": 48
        }
      ]
    },
    {
      "cell_type": "code",
      "source": [
        "Name[6]"
      ],
      "metadata": {
        "colab": {
          "base_uri": "https://localhost:8080/",
          "height": 36
        },
        "id": "tN-2BdLZjOTh",
        "outputId": "df7bf2e9-fb94-49a7-c976-75e28f4eabbd"
      },
      "execution_count": null,
      "outputs": [
        {
          "output_type": "execute_result",
          "data": {
            "text/plain": [
              "'l'"
            ],
            "application/vnd.google.colaboratory.intrinsic+json": {
              "type": "string"
            }
          },
          "metadata": {},
          "execution_count": 49
        }
      ]
    },
    {
      "cell_type": "code",
      "source": [
        "Name[13]"
      ],
      "metadata": {
        "colab": {
          "base_uri": "https://localhost:8080/",
          "height": 36
        },
        "id": "QvLc5WTkjqkn",
        "outputId": "9224e2ee-3059-4abf-b684-b14b2e507ce0"
      },
      "execution_count": null,
      "outputs": [
        {
          "output_type": "execute_result",
          "data": {
            "text/plain": [
              "'o'"
            ],
            "application/vnd.google.colaboratory.intrinsic+json": {
              "type": "string"
            }
          },
          "metadata": {},
          "execution_count": 53
        }
      ]
    },
    {
      "cell_type": "code",
      "source": [
        "Name[-1]"
      ],
      "metadata": {
        "colab": {
          "base_uri": "https://localhost:8080/",
          "height": 36
        },
        "id": "rDlhlcYXkJxz",
        "outputId": "ecab0092-b612-40bf-b8c5-a2e85e8acb38"
      },
      "execution_count": null,
      "outputs": [
        {
          "output_type": "execute_result",
          "data": {
            "text/plain": [
              "'n'"
            ],
            "application/vnd.google.colaboratory.intrinsic+json": {
              "type": "string"
            }
          },
          "metadata": {},
          "execution_count": 54
        }
      ]
    },
    {
      "cell_type": "code",
      "source": [
        "Name[-15]"
      ],
      "metadata": {
        "colab": {
          "base_uri": "https://localhost:8080/",
          "height": 36
        },
        "id": "cG0_PCGPkNHj",
        "outputId": "2cedcab7-c468-4167-9320-5e7573433226"
      },
      "execution_count": null,
      "outputs": [
        {
          "output_type": "execute_result",
          "data": {
            "text/plain": [
              "'M'"
            ],
            "application/vnd.google.colaboratory.intrinsic+json": {
              "type": "string"
            }
          },
          "metadata": {},
          "execution_count": 55
        }
      ]
    },
    {
      "cell_type": "code",
      "source": [
        "Name[-7]"
      ],
      "metadata": {
        "colab": {
          "base_uri": "https://localhost:8080/",
          "height": 36
        },
        "id": "3oPuKBiekTLh",
        "outputId": "50e059f9-a513-4b77-b659-2264cd7e52a1"
      },
      "execution_count": null,
      "outputs": [
        {
          "output_type": "execute_result",
          "data": {
            "text/plain": [
              "'J'"
            ],
            "application/vnd.google.colaboratory.intrinsic+json": {
              "type": "string"
            }
          },
          "metadata": {},
          "execution_count": 56
        }
      ]
    },
    {
      "cell_type": "code",
      "source": [
        "Name[0:4]"
      ],
      "metadata": {
        "colab": {
          "base_uri": "https://localhost:8080/",
          "height": 36
        },
        "id": "eACx-K97kWll",
        "outputId": "2180f272-d0ff-4e6a-9251-9c042347ebbd"
      },
      "execution_count": null,
      "outputs": [
        {
          "output_type": "execute_result",
          "data": {
            "text/plain": [
              "'Mich'"
            ],
            "application/vnd.google.colaboratory.intrinsic+json": {
              "type": "string"
            }
          },
          "metadata": {},
          "execution_count": 57
        }
      ]
    },
    {
      "cell_type": "code",
      "source": [
        "Name[8:12]"
      ],
      "metadata": {
        "colab": {
          "base_uri": "https://localhost:8080/",
          "height": 36
        },
        "id": "AsC2zSQYkguk",
        "outputId": "32e223a1-51ee-4395-ba2d-9aeab6e4472e"
      },
      "execution_count": null,
      "outputs": [
        {
          "output_type": "execute_result",
          "data": {
            "text/plain": [
              "'Jack'"
            ],
            "application/vnd.google.colaboratory.intrinsic+json": {
              "type": "string"
            }
          },
          "metadata": {},
          "execution_count": 59
        }
      ]
    },
    {
      "cell_type": "code",
      "source": [
        "Name[::2] #Stride"
      ],
      "metadata": {
        "id": "fAdUlfjukweM",
        "colab": {
          "base_uri": "https://localhost:8080/",
          "height": 36
        },
        "outputId": "9f86a80a-00a8-48df-8c49-2e226080da5d"
      },
      "execution_count": null,
      "outputs": [
        {
          "output_type": "execute_result",
          "data": {
            "text/plain": [
              "'McalJcsn'"
            ],
            "application/vnd.google.colaboratory.intrinsic+json": {
              "type": "string"
            }
          },
          "metadata": {},
          "execution_count": 2
        }
      ]
    },
    {
      "cell_type": "code",
      "source": [
        "Name[0:5:2] #Slicing"
      ],
      "metadata": {
        "colab": {
          "base_uri": "https://localhost:8080/",
          "height": 36
        },
        "id": "EI4jGgGTSq2W",
        "outputId": "236487ba-0e95-478e-c856-27d6ba6dd7a5"
      },
      "execution_count": null,
      "outputs": [
        {
          "output_type": "execute_result",
          "data": {
            "text/plain": [
              "'Mca'"
            ],
            "application/vnd.google.colaboratory.intrinsic+json": {
              "type": "string"
            }
          },
          "metadata": {},
          "execution_count": 3
        }
      ]
    },
    {
      "cell_type": "code",
      "source": [
        "len(\"Michael Jackson\")"
      ],
      "metadata": {
        "colab": {
          "base_uri": "https://localhost:8080/"
        },
        "id": "MJnKIEKwSyBE",
        "outputId": "1cc07ba6-3d26-4156-fdca-1e00968aeb4a"
      },
      "execution_count": null,
      "outputs": [
        {
          "output_type": "execute_result",
          "data": {
            "text/plain": [
              "15"
            ]
          },
          "metadata": {},
          "execution_count": 4
        }
      ]
    },
    {
      "cell_type": "code",
      "source": [
        "Statement=Name+\" is the best\"\n",
        "Statement"
      ],
      "metadata": {
        "colab": {
          "base_uri": "https://localhost:8080/",
          "height": 36
        },
        "id": "lnwETO0DS2fz",
        "outputId": "4c72bcc9-3c98-468c-f800-69842948117a"
      },
      "execution_count": null,
      "outputs": [
        {
          "output_type": "execute_result",
          "data": {
            "text/plain": [
              "'Michael Jackson is the best'"
            ],
            "application/vnd.google.colaboratory.intrinsic+json": {
              "type": "string"
            }
          },
          "metadata": {},
          "execution_count": 6
        }
      ]
    },
    {
      "cell_type": "code",
      "source": [
        "3*\" Michael Jackson\""
      ],
      "metadata": {
        "colab": {
          "base_uri": "https://localhost:8080/",
          "height": 36
        },
        "id": "vcbcxRCXS-Jz",
        "outputId": "bcdf8cea-6155-4d5d-8fac-237c2d1b0694"
      },
      "execution_count": null,
      "outputs": [
        {
          "output_type": "execute_result",
          "data": {
            "text/plain": [
              "' Michael Jackson Michael Jackson Michael Jackson'"
            ],
            "application/vnd.google.colaboratory.intrinsic+json": {
              "type": "string"
            }
          },
          "metadata": {},
          "execution_count": 8
        }
      ]
    },
    {
      "cell_type": "code",
      "source": [
        "Name=Name+\" is the best\"\n",
        "Name"
      ],
      "metadata": {
        "colab": {
          "base_uri": "https://localhost:8080/",
          "height": 36
        },
        "id": "h1rzCdiiTHxJ",
        "outputId": "2d90b27c-15ea-42d8-ef3c-94f409065dc0"
      },
      "execution_count": null,
      "outputs": [
        {
          "output_type": "execute_result",
          "data": {
            "text/plain": [
              "'Michael Jackson is the best'"
            ],
            "application/vnd.google.colaboratory.intrinsic+json": {
              "type": "string"
            }
          },
          "metadata": {},
          "execution_count": 9
        }
      ]
    },
    {
      "cell_type": "code",
      "source": [
        "print(\"Michael Jackson \\n is the best\") #\\n es una nueva linea"
      ],
      "metadata": {
        "colab": {
          "base_uri": "https://localhost:8080/"
        },
        "id": "kKzDOOHuTVLN",
        "outputId": "ab5e022b-c930-4ce6-b229-aa614186f40d"
      },
      "execution_count": null,
      "outputs": [
        {
          "output_type": "stream",
          "name": "stdout",
          "text": [
            "Michael Jackson \n",
            " is the best\n"
          ]
        }
      ]
    },
    {
      "cell_type": "code",
      "source": [
        "print(\"Michael Jackson \\t is the best\") #\\t es para insertar un tab"
      ],
      "metadata": {
        "colab": {
          "base_uri": "https://localhost:8080/"
        },
        "id": "pVI1I0akTfzF",
        "outputId": "d5629936-af86-4518-801c-c9bfffb54ffa"
      },
      "execution_count": null,
      "outputs": [
        {
          "output_type": "stream",
          "name": "stdout",
          "text": [
            "Michael Jackson \t is the best\n"
          ]
        }
      ]
    },
    {
      "cell_type": "code",
      "source": [
        "print(\"Michael Jackson  \\\\ is the best\") #se pone doble \\\\ para que al imprimirse salga solo uno \\"
      ],
      "metadata": {
        "colab": {
          "base_uri": "https://localhost:8080/"
        },
        "id": "eZOCT17sTrWD",
        "outputId": "b534e262-0613-4c88-b87c-e5d0a14a0584"
      },
      "execution_count": null,
      "outputs": [
        {
          "output_type": "stream",
          "name": "stdout",
          "text": [
            "Michael Jackson  \\ is the best\n"
          ]
        }
      ]
    },
    {
      "cell_type": "markdown",
      "source": [
        "Paralelamente se puede usar una r antes de lo que va dentro de laas comillas"
      ],
      "metadata": {
        "id": "1Tcm2RYOUNTW"
      }
    },
    {
      "cell_type": "code",
      "source": [
        "print(r\"Michael Jackson \\ es el mejor\")"
      ],
      "metadata": {
        "colab": {
          "base_uri": "https://localhost:8080/"
        },
        "id": "aGkX-d3cUTGZ",
        "outputId": "4d6fa464-6899-4d18-eb64-3a2a501d23ae"
      },
      "execution_count": null,
      "outputs": [
        {
          "output_type": "stream",
          "name": "stdout",
          "text": [
            "Michael Jackson \\ es el mejor\n"
          ]
        }
      ]
    },
    {
      "cell_type": "markdown",
      "source": [
        "### String methods"
      ],
      "metadata": {
        "id": "CWWqt0ueUeZJ"
      }
    },
    {
      "cell_type": "code",
      "source": [
        "A=\"Thriller is the sixth studio album\""
      ],
      "metadata": {
        "id": "96or91w8UhAb"
      },
      "execution_count": null,
      "outputs": []
    },
    {
      "cell_type": "code",
      "source": [
        "B=A.upper() #Convierte el string en mayúsculas\n",
        "B"
      ],
      "metadata": {
        "colab": {
          "base_uri": "https://localhost:8080/",
          "height": 36
        },
        "id": "PMy--HggU7T6",
        "outputId": "d67009eb-f0e5-4ea0-f43a-8704ed921e95"
      },
      "execution_count": null,
      "outputs": [
        {
          "output_type": "execute_result",
          "data": {
            "text/plain": [
              "'THRILLER IS THE SIXTH STUDIO ALBUM'"
            ],
            "application/vnd.google.colaboratory.intrinsic+json": {
              "type": "string"
            }
          },
          "metadata": {},
          "execution_count": 18
        }
      ]
    },
    {
      "cell_type": "code",
      "source": [
        "A=\"Michael Jackson is the best\"\n",
        "B=A.replace(\"Michael\",\"Janet\") #Reemplaza una palabra dentro del string por otra\n",
        "B"
      ],
      "metadata": {
        "colab": {
          "base_uri": "https://localhost:8080/",
          "height": 36
        },
        "id": "pY8qzeQ-U_Sg",
        "outputId": "6a36df03-8bdc-4bde-c97d-e507967169fc"
      },
      "execution_count": null,
      "outputs": [
        {
          "output_type": "execute_result",
          "data": {
            "text/plain": [
              "'Janet Jackson is the best'"
            ],
            "application/vnd.google.colaboratory.intrinsic+json": {
              "type": "string"
            }
          },
          "metadata": {},
          "execution_count": 20
        }
      ]
    },
    {
      "cell_type": "code",
      "source": [
        "Name.find(\"el\") #find encuentra una palabra dentro de un string y arroja la primer posición"
      ],
      "metadata": {
        "colab": {
          "base_uri": "https://localhost:8080/"
        },
        "id": "S-3avUtpVMOh",
        "outputId": "88e82ce4-9788-4fbc-f7bf-fc269a25ba2b"
      },
      "execution_count": null,
      "outputs": [
        {
          "output_type": "execute_result",
          "data": {
            "text/plain": [
              "5"
            ]
          },
          "metadata": {},
          "execution_count": 21
        }
      ]
    },
    {
      "cell_type": "code",
      "source": [
        "Name.find(\"Jack\")"
      ],
      "metadata": {
        "colab": {
          "base_uri": "https://localhost:8080/"
        },
        "id": "txv6bJ6YVfXQ",
        "outputId": "bee9f0e8-16d0-4835-9f2b-dbd12f59535d"
      },
      "execution_count": null,
      "outputs": [
        {
          "output_type": "execute_result",
          "data": {
            "text/plain": [
              "8"
            ]
          },
          "metadata": {},
          "execution_count": 23
        }
      ]
    },
    {
      "cell_type": "code",
      "source": [
        "Numbers=\"0123456\"\n",
        "Numbers[::2]"
      ],
      "metadata": {
        "colab": {
          "base_uri": "https://localhost:8080/",
          "height": 36
        },
        "id": "z7oxC2k0VooR",
        "outputId": "d067327d-9407-4238-efc8-98e91831d9ba"
      },
      "execution_count": null,
      "outputs": [
        {
          "output_type": "execute_result",
          "data": {
            "text/plain": [
              "'0246'"
            ],
            "application/vnd.google.colaboratory.intrinsic+json": {
              "type": "string"
            }
          },
          "metadata": {},
          "execution_count": 27
        }
      ]
    },
    {
      "cell_type": "code",
      "source": [
        "\"0123456\".find(\"1\")"
      ],
      "metadata": {
        "colab": {
          "base_uri": "https://localhost:8080/"
        },
        "id": "O0a-zp0lV-k-",
        "outputId": "35dc207c-c98d-41e5-dce6-ec8477214d8b"
      },
      "execution_count": null,
      "outputs": [
        {
          "output_type": "execute_result",
          "data": {
            "text/plain": [
              "1"
            ]
          },
          "metadata": {},
          "execution_count": 28
        }
      ]
    },
    {
      "cell_type": "code",
      "source": [
        "var = '01234567'\n",
        "print(var[::2])"
      ],
      "metadata": {
        "colab": {
          "base_uri": "https://localhost:8080/"
        },
        "id": "rOrE6ho2XJYb",
        "outputId": "cd331f0b-9b42-4b8c-a4c9-b1614c44632b"
      },
      "execution_count": null,
      "outputs": [
        {
          "output_type": "stream",
          "name": "stdout",
          "text": [
            "0246\n"
          ]
        }
      ]
    },
    {
      "cell_type": "code",
      "source": [
        "name = 'Lizz'\n",
        "print(name[0:2])"
      ],
      "metadata": {
        "colab": {
          "base_uri": "https://localhost:8080/"
        },
        "id": "o0aD_ttyXS-Z",
        "outputId": "2c111521-e075-412a-ed80-221c5bf9a02d"
      },
      "execution_count": null,
      "outputs": [
        {
          "output_type": "stream",
          "name": "stdout",
          "text": [
            "Li\n"
          ]
        }
      ]
    },
    {
      "cell_type": "code",
      "source": [
        "3 + 2 * 2"
      ],
      "metadata": {
        "colab": {
          "base_uri": "https://localhost:8080/"
        },
        "id": "RT9bWFANXYQo",
        "outputId": "cd515fb6-a476-45b7-b99c-0b439a3784e5"
      },
      "execution_count": null,
      "outputs": [
        {
          "output_type": "execute_result",
          "data": {
            "text/plain": [
              "7"
            ]
          },
          "metadata": {},
          "execution_count": 32
        }
      ]
    },
    {
      "cell_type": "code",
      "source": [
        "myvar = 'hello'\n",
        "myvar.upper()"
      ],
      "metadata": {
        "colab": {
          "base_uri": "https://localhost:8080/",
          "height": 36
        },
        "id": "xruY70OzXfz8",
        "outputId": "20853b1a-e14f-4ffb-d280-b3181bd80924"
      },
      "execution_count": null,
      "outputs": [
        {
          "output_type": "execute_result",
          "data": {
            "text/plain": [
              "'HELLO'"
            ],
            "application/vnd.google.colaboratory.intrinsic+json": {
              "type": "string"
            }
          },
          "metadata": {},
          "execution_count": 33
        }
      ]
    },
    {
      "cell_type": "markdown",
      "source": [
        "# Módulo 2"
      ],
      "metadata": {
        "id": "ojYSzKrpYoSz"
      }
    },
    {
      "cell_type": "markdown",
      "source": [
        "## List and Tuples"
      ],
      "metadata": {
        "id": "PUA4TJTEk8Wy"
      }
    },
    {
      "cell_type": "markdown",
      "source": [
        "### Tuples"
      ],
      "metadata": {
        "id": "VlQA1kJxY4xb"
      }
    },
    {
      "cell_type": "code",
      "source": [
        "Ratings= (10,9,6,5,10,8,9,6,2)"
      ],
      "metadata": {
        "id": "CtnZgkF0Yssp"
      },
      "execution_count": null,
      "outputs": []
    },
    {
      "cell_type": "code",
      "source": [
        "tuple1=(\"disco\",10,1.2)\n",
        "type(tuple1)"
      ],
      "metadata": {
        "id": "5apJd0OFZAZ1",
        "outputId": "40b78ef4-cabb-40ac-8723-503f451e763c",
        "colab": {
          "base_uri": "https://localhost:8080/"
        }
      },
      "execution_count": null,
      "outputs": [
        {
          "output_type": "execute_result",
          "data": {
            "text/plain": [
              "tuple"
            ]
          },
          "metadata": {},
          "execution_count": 36
        }
      ]
    },
    {
      "cell_type": "code",
      "source": [
        "tuple1[0]"
      ],
      "metadata": {
        "id": "D4MUFTyaZJVA",
        "outputId": "acff8573-cbc7-412e-ca37-95e574caa349",
        "colab": {
          "base_uri": "https://localhost:8080/",
          "height": 36
        }
      },
      "execution_count": null,
      "outputs": [
        {
          "output_type": "execute_result",
          "data": {
            "text/plain": [
              "'disco'"
            ],
            "application/vnd.google.colaboratory.intrinsic+json": {
              "type": "string"
            }
          },
          "metadata": {},
          "execution_count": 37
        }
      ]
    },
    {
      "cell_type": "code",
      "source": [
        "tuple1[1]"
      ],
      "metadata": {
        "id": "YjO3ZzraZbLI",
        "outputId": "7590c3f1-4a7b-4139-9304-0c84f2ea3549",
        "colab": {
          "base_uri": "https://localhost:8080/"
        }
      },
      "execution_count": null,
      "outputs": [
        {
          "output_type": "execute_result",
          "data": {
            "text/plain": [
              "10"
            ]
          },
          "metadata": {},
          "execution_count": 38
        }
      ]
    },
    {
      "cell_type": "code",
      "source": [
        "tuple1[2]"
      ],
      "metadata": {
        "id": "pGvCAmhdZfyz",
        "outputId": "ea89c955-bfa5-410d-c1b2-68f6e4d98bd4",
        "colab": {
          "base_uri": "https://localhost:8080/"
        }
      },
      "execution_count": null,
      "outputs": [
        {
          "output_type": "execute_result",
          "data": {
            "text/plain": [
              "1.2"
            ]
          },
          "metadata": {},
          "execution_count": 39
        }
      ]
    },
    {
      "cell_type": "code",
      "source": [
        "tuple1[-3]"
      ],
      "metadata": {
        "id": "L1fi6xVAZhXW",
        "outputId": "74c093e8-e9d6-48f1-b814-95728a3a1258",
        "colab": {
          "base_uri": "https://localhost:8080/",
          "height": 36
        }
      },
      "execution_count": null,
      "outputs": [
        {
          "output_type": "execute_result",
          "data": {
            "text/plain": [
              "'disco'"
            ],
            "application/vnd.google.colaboratory.intrinsic+json": {
              "type": "string"
            }
          },
          "metadata": {},
          "execution_count": 40
        }
      ]
    },
    {
      "cell_type": "code",
      "source": [
        "tuple1[-2]"
      ],
      "metadata": {
        "id": "bjULu_QgZm1d",
        "outputId": "8b3d0c54-cfed-496d-86ca-53887775345c",
        "colab": {
          "base_uri": "https://localhost:8080/"
        }
      },
      "execution_count": null,
      "outputs": [
        {
          "output_type": "execute_result",
          "data": {
            "text/plain": [
              "10"
            ]
          },
          "metadata": {},
          "execution_count": 41
        }
      ]
    },
    {
      "cell_type": "code",
      "source": [
        "tuple1[-1]"
      ],
      "metadata": {
        "id": "21R5HlJXZofr",
        "outputId": "f385935f-3fce-4f38-bee4-09b02435d66d",
        "colab": {
          "base_uri": "https://localhost:8080/"
        }
      },
      "execution_count": null,
      "outputs": [
        {
          "output_type": "execute_result",
          "data": {
            "text/plain": [
              "1.2"
            ]
          },
          "metadata": {},
          "execution_count": 42
        }
      ]
    },
    {
      "cell_type": "code",
      "source": [
        "tuple1[-2]"
      ],
      "metadata": {
        "id": "y4WIK481Zp1P",
        "outputId": "c2b0fa76-36dd-4653-a26a-478f7a19d849",
        "colab": {
          "base_uri": "https://localhost:8080/"
        }
      },
      "execution_count": null,
      "outputs": [
        {
          "output_type": "execute_result",
          "data": {
            "text/plain": [
              "10"
            ]
          },
          "metadata": {},
          "execution_count": 43
        }
      ]
    },
    {
      "cell_type": "code",
      "source": [
        "tuple1[-3]"
      ],
      "metadata": {
        "id": "Sr50JypaaDzS",
        "outputId": "14188b03-e01b-4b2b-c0b6-7ce3dc8e61f9",
        "colab": {
          "base_uri": "https://localhost:8080/",
          "height": 36
        }
      },
      "execution_count": null,
      "outputs": [
        {
          "output_type": "execute_result",
          "data": {
            "text/plain": [
              "'disco'"
            ],
            "application/vnd.google.colaboratory.intrinsic+json": {
              "type": "string"
            }
          },
          "metadata": {},
          "execution_count": 44
        }
      ]
    },
    {
      "cell_type": "code",
      "source": [
        "tuple2=tuple1+(\"hard rock\",10)\n",
        "tuple2"
      ],
      "metadata": {
        "id": "_wFLhq82aFAz",
        "outputId": "44cc5169-23e4-464d-bbc3-1b8fb7d592de",
        "colab": {
          "base_uri": "https://localhost:8080/"
        }
      },
      "execution_count": null,
      "outputs": [
        {
          "output_type": "execute_result",
          "data": {
            "text/plain": [
              "('disco', 10, 1.2, 'hard rock', 10)"
            ]
          },
          "metadata": {},
          "execution_count": 46
        }
      ]
    },
    {
      "cell_type": "code",
      "source": [
        "tuple2[0:3]"
      ],
      "metadata": {
        "id": "RI4fvOnFaKMK",
        "outputId": "0e49fb94-6ea9-41cc-9b83-cf3ef9cbfa7f",
        "colab": {
          "base_uri": "https://localhost:8080/"
        }
      },
      "execution_count": null,
      "outputs": [
        {
          "output_type": "execute_result",
          "data": {
            "text/plain": [
              "('disco', 10, 1.2)"
            ]
          },
          "metadata": {},
          "execution_count": 49
        }
      ]
    },
    {
      "cell_type": "code",
      "source": [
        "tuple2[3:5]"
      ],
      "metadata": {
        "id": "1mQkLDVFaX9A",
        "outputId": "59d11f68-806a-4145-880e-63cb90fd2023",
        "colab": {
          "base_uri": "https://localhost:8080/"
        }
      },
      "execution_count": null,
      "outputs": [
        {
          "output_type": "execute_result",
          "data": {
            "text/plain": [
              "('hard rock', 10)"
            ]
          },
          "metadata": {},
          "execution_count": 50
        }
      ]
    },
    {
      "cell_type": "code",
      "source": [
        "len(tuple2)"
      ],
      "metadata": {
        "id": "BIMov7f_ajTQ",
        "outputId": "581406fb-ebf7-441a-e6e4-7ea9e7a111a0",
        "colab": {
          "base_uri": "https://localhost:8080/"
        }
      },
      "execution_count": null,
      "outputs": [
        {
          "output_type": "execute_result",
          "data": {
            "text/plain": [
              "5"
            ]
          },
          "metadata": {},
          "execution_count": 51
        }
      ]
    },
    {
      "cell_type": "markdown",
      "source": [
        "Importante las tuplas son inmutables"
      ],
      "metadata": {
        "id": "MyfSr8Y_axWX"
      }
    },
    {
      "cell_type": "code",
      "source": [
        "Ratings1= Ratings # Sin importar en que variable intentemos modificar la tupla, tenderemos siempre el mismo error"
      ],
      "metadata": {
        "id": "WL2L_gAbarPu"
      },
      "execution_count": null,
      "outputs": []
    },
    {
      "cell_type": "markdown",
      "source": [
        "Si deseamos cambiar los valores debemos generar otra tupla"
      ],
      "metadata": {
        "id": "k0ZFhntdcK8v"
      }
    },
    {
      "cell_type": "code",
      "source": [
        "Ratings=(2,10,1)"
      ],
      "metadata": {
        "id": "2A5NpDdjb8CL"
      },
      "execution_count": null,
      "outputs": []
    },
    {
      "cell_type": "code",
      "source": [
        "RatingsSorted=sorted(Ratings) #sirve para acomodar los valores\n",
        "RatingsSorted"
      ],
      "metadata": {
        "id": "vO6BqA9VcUTd",
        "outputId": "7055bded-5c02-4876-c65b-26ae3cbe4883",
        "colab": {
          "base_uri": "https://localhost:8080/"
        }
      },
      "execution_count": null,
      "outputs": [
        {
          "output_type": "execute_result",
          "data": {
            "text/plain": [
              "[2, 5, 6, 6, 8, 9, 9, 10, 10]"
            ]
          },
          "metadata": {},
          "execution_count": 62
        }
      ]
    },
    {
      "cell_type": "markdown",
      "source": [
        "### Tuples Nesting"
      ],
      "metadata": {
        "id": "pTErLaU6cnf_"
      }
    },
    {
      "cell_type": "code",
      "source": [
        "NT=(1,2,(\"pop\",\"rock\"),(3,4),(\"disco\",(1,2)))"
      ],
      "metadata": {
        "id": "lfuqdGHvccm6"
      },
      "execution_count": null,
      "outputs": []
    },
    {
      "cell_type": "code",
      "source": [
        "NT[2][1]"
      ],
      "metadata": {
        "id": "dyFKZe6ocyEk",
        "outputId": "50a1f55d-41af-457f-b3cc-1c0494d2e01e",
        "colab": {
          "base_uri": "https://localhost:8080/",
          "height": 36
        }
      },
      "execution_count": null,
      "outputs": [
        {
          "output_type": "execute_result",
          "data": {
            "text/plain": [
              "'rock'"
            ],
            "application/vnd.google.colaboratory.intrinsic+json": {
              "type": "string"
            }
          },
          "metadata": {},
          "execution_count": 67
        }
      ]
    },
    {
      "cell_type": "code",
      "source": [
        "NT[2]"
      ],
      "metadata": {
        "id": "f1EmbKGbc58Y",
        "outputId": "9d2b39b4-dee6-44fd-f8ff-371099349384",
        "colab": {
          "base_uri": "https://localhost:8080/"
        }
      },
      "execution_count": null,
      "outputs": [
        {
          "output_type": "execute_result",
          "data": {
            "text/plain": [
              "('pop', 'rock')"
            ]
          },
          "metadata": {},
          "execution_count": 68
        }
      ]
    },
    {
      "cell_type": "code",
      "source": [
        "NT[2][0]"
      ],
      "metadata": {
        "id": "mZsJdLRtc-q2",
        "outputId": "d28d8324-8376-4fe4-ab45-ff30fc1e37c1",
        "colab": {
          "base_uri": "https://localhost:8080/",
          "height": 36
        }
      },
      "execution_count": null,
      "outputs": [
        {
          "output_type": "execute_result",
          "data": {
            "text/plain": [
              "'pop'"
            ],
            "application/vnd.google.colaboratory.intrinsic+json": {
              "type": "string"
            }
          },
          "metadata": {},
          "execution_count": 69
        }
      ]
    },
    {
      "cell_type": "code",
      "source": [
        "NT[3]"
      ],
      "metadata": {
        "id": "Zcsf_De-kSsR",
        "outputId": "c600d0a3-d7e9-433f-a307-dce24848bbf8",
        "colab": {
          "base_uri": "https://localhost:8080/"
        }
      },
      "execution_count": null,
      "outputs": [
        {
          "output_type": "execute_result",
          "data": {
            "text/plain": [
              "(3, 4)"
            ]
          },
          "metadata": {},
          "execution_count": 70
        }
      ]
    },
    {
      "cell_type": "code",
      "source": [
        "NT[3][0]"
      ],
      "metadata": {
        "id": "kDwWucd2kYgh",
        "outputId": "ac32a7df-155a-43bf-8421-0f85bd3121d2",
        "colab": {
          "base_uri": "https://localhost:8080/"
        }
      },
      "execution_count": null,
      "outputs": [
        {
          "output_type": "execute_result",
          "data": {
            "text/plain": [
              "3"
            ]
          },
          "metadata": {},
          "execution_count": 71
        }
      ]
    },
    {
      "cell_type": "code",
      "source": [
        "NT[3][1]"
      ],
      "metadata": {
        "id": "l0zjYSexkbKw",
        "outputId": "714f7932-b835-4f42-8e12-0be723648752",
        "colab": {
          "base_uri": "https://localhost:8080/"
        }
      },
      "execution_count": null,
      "outputs": [
        {
          "output_type": "execute_result",
          "data": {
            "text/plain": [
              "4"
            ]
          },
          "metadata": {},
          "execution_count": 72
        }
      ]
    },
    {
      "cell_type": "code",
      "source": [
        "NT[4]"
      ],
      "metadata": {
        "id": "6edWIHawkcXp",
        "outputId": "020317c9-2e0d-4903-9491-c28171d8cdc7",
        "colab": {
          "base_uri": "https://localhost:8080/"
        }
      },
      "execution_count": null,
      "outputs": [
        {
          "output_type": "execute_result",
          "data": {
            "text/plain": [
              "('disco', (1, 2))"
            ]
          },
          "metadata": {},
          "execution_count": 73
        }
      ]
    },
    {
      "cell_type": "code",
      "source": [
        "NT[4][0]"
      ],
      "metadata": {
        "id": "PRwS07DEkgL9",
        "outputId": "8191ebec-fcd0-48b5-a5ee-2cd7512121db",
        "colab": {
          "base_uri": "https://localhost:8080/",
          "height": 36
        }
      },
      "execution_count": null,
      "outputs": [
        {
          "output_type": "execute_result",
          "data": {
            "text/plain": [
              "'disco'"
            ],
            "application/vnd.google.colaboratory.intrinsic+json": {
              "type": "string"
            }
          },
          "metadata": {},
          "execution_count": 74
        }
      ]
    },
    {
      "cell_type": "code",
      "source": [
        "NT[4][1]"
      ],
      "metadata": {
        "id": "KkSMqHwrkh4c",
        "outputId": "e4c08f05-ea58-4a72-e635-311338b5087b",
        "colab": {
          "base_uri": "https://localhost:8080/"
        }
      },
      "execution_count": null,
      "outputs": [
        {
          "output_type": "execute_result",
          "data": {
            "text/plain": [
              "(1, 2)"
            ]
          },
          "metadata": {},
          "execution_count": 75
        }
      ]
    },
    {
      "cell_type": "code",
      "source": [
        "NT[4][1][0]"
      ],
      "metadata": {
        "id": "Ye3c0J_YkjYi",
        "outputId": "742e59e3-7757-4a3e-d3be-8cf7d8699c6b",
        "colab": {
          "base_uri": "https://localhost:8080/"
        }
      },
      "execution_count": null,
      "outputs": [
        {
          "output_type": "execute_result",
          "data": {
            "text/plain": [
              "1"
            ]
          },
          "metadata": {},
          "execution_count": 76
        }
      ]
    },
    {
      "cell_type": "code",
      "source": [
        "NT[4][1][1]"
      ],
      "metadata": {
        "id": "dQjn92umklxj",
        "outputId": "34f95287-1eb3-4037-ea5e-4cd65c635b66",
        "colab": {
          "base_uri": "https://localhost:8080/"
        }
      },
      "execution_count": null,
      "outputs": [
        {
          "output_type": "execute_result",
          "data": {
            "text/plain": [
              "2"
            ]
          },
          "metadata": {},
          "execution_count": 77
        }
      ]
    },
    {
      "cell_type": "code",
      "source": [
        "NT[2][1][0]"
      ],
      "metadata": {
        "id": "uVZnMvmKkn-c",
        "outputId": "9248c142-9477-48a3-9d61-b7f9dbcf6ed8",
        "colab": {
          "base_uri": "https://localhost:8080/",
          "height": 36
        }
      },
      "execution_count": null,
      "outputs": [
        {
          "output_type": "execute_result",
          "data": {
            "text/plain": [
              "'r'"
            ],
            "application/vnd.google.colaboratory.intrinsic+json": {
              "type": "string"
            }
          },
          "metadata": {},
          "execution_count": 78
        }
      ]
    },
    {
      "cell_type": "code",
      "source": [
        "NT[2][1][1]"
      ],
      "metadata": {
        "id": "ySP76_cckuqk",
        "outputId": "442fdbe7-0674-4784-ad59-76e5817a295f",
        "colab": {
          "base_uri": "https://localhost:8080/",
          "height": 36
        }
      },
      "execution_count": null,
      "outputs": [
        {
          "output_type": "execute_result",
          "data": {
            "text/plain": [
              "'o'"
            ],
            "application/vnd.google.colaboratory.intrinsic+json": {
              "type": "string"
            }
          },
          "metadata": {},
          "execution_count": 79
        }
      ]
    },
    {
      "cell_type": "code",
      "source": [
        "NT[4][1][0]"
      ],
      "metadata": {
        "id": "f-DO-OOxkySh",
        "outputId": "6df65207-7db1-445d-f62a-8f21142af23c",
        "colab": {
          "base_uri": "https://localhost:8080/"
        }
      },
      "execution_count": null,
      "outputs": [
        {
          "output_type": "execute_result",
          "data": {
            "text/plain": [
              "1"
            ]
          },
          "metadata": {},
          "execution_count": 80
        }
      ]
    },
    {
      "cell_type": "code",
      "source": [
        "NT[4][1][1]"
      ],
      "metadata": {
        "id": "3ZJznP3Xk0lj",
        "outputId": "36dc2745-e567-4ffa-978b-e4f928865d3e",
        "colab": {
          "base_uri": "https://localhost:8080/"
        }
      },
      "execution_count": null,
      "outputs": [
        {
          "output_type": "execute_result",
          "data": {
            "text/plain": [
              "2"
            ]
          },
          "metadata": {},
          "execution_count": 81
        }
      ]
    },
    {
      "cell_type": "markdown",
      "source": [
        "### Lists"
      ],
      "metadata": {
        "id": "9j9fOPCzlBiq"
      }
    },
    {
      "cell_type": "code",
      "source": [
        "L=[\"Michael Jackson\",10.1,1982] #Las listas se representan con []"
      ],
      "metadata": {
        "id": "pEvhx8AMk2RH"
      },
      "execution_count": null,
      "outputs": []
    },
    {
      "cell_type": "code",
      "source": [
        "[\"Michael Jackson\",10.1,1982,[1,2],(\"A\",1)] #Las listas si se pueden modificar"
      ],
      "metadata": {
        "id": "pTiNAYWjlLoM",
        "outputId": "94acd328-2191-4486-81dc-f174434a817d",
        "colab": {
          "base_uri": "https://localhost:8080/"
        }
      },
      "execution_count": null,
      "outputs": [
        {
          "output_type": "execute_result",
          "data": {
            "text/plain": [
              "['Michael Jackson', 10.1, 1982, [1, 2], ('A', 1)]"
            ]
          },
          "metadata": {},
          "execution_count": 84
        }
      ]
    },
    {
      "cell_type": "code",
      "source": [
        "L[0]"
      ],
      "metadata": {
        "id": "s53hMYCNlZH9",
        "outputId": "8dd5ce36-9cb9-4b07-a72f-53500826aafa",
        "colab": {
          "base_uri": "https://localhost:8080/",
          "height": 36
        }
      },
      "execution_count": null,
      "outputs": [
        {
          "output_type": "execute_result",
          "data": {
            "text/plain": [
              "'Michael Jackson'"
            ],
            "application/vnd.google.colaboratory.intrinsic+json": {
              "type": "string"
            }
          },
          "metadata": {},
          "execution_count": 85
        }
      ]
    },
    {
      "cell_type": "code",
      "source": [
        "L[1]"
      ],
      "metadata": {
        "id": "c28Y6xz2lkVu",
        "outputId": "a4185b6d-725c-49ab-b126-c07de2058896",
        "colab": {
          "base_uri": "https://localhost:8080/"
        }
      },
      "execution_count": null,
      "outputs": [
        {
          "output_type": "execute_result",
          "data": {
            "text/plain": [
              "10.1"
            ]
          },
          "metadata": {},
          "execution_count": 86
        }
      ]
    },
    {
      "cell_type": "code",
      "source": [
        "L[2]"
      ],
      "metadata": {
        "id": "9jSGKsikllBf",
        "outputId": "75cbc82c-b5e5-454f-f7e1-5fbe653513da",
        "colab": {
          "base_uri": "https://localhost:8080/"
        }
      },
      "execution_count": null,
      "outputs": [
        {
          "output_type": "execute_result",
          "data": {
            "text/plain": [
              "1982"
            ]
          },
          "metadata": {},
          "execution_count": 87
        }
      ]
    },
    {
      "cell_type": "code",
      "source": [
        "L[-1]"
      ],
      "metadata": {
        "id": "tGpszWBAll2S",
        "outputId": "223c7c5e-ac0f-438f-fe75-1dc856475e10",
        "colab": {
          "base_uri": "https://localhost:8080/"
        }
      },
      "execution_count": null,
      "outputs": [
        {
          "output_type": "execute_result",
          "data": {
            "text/plain": [
              "1982"
            ]
          },
          "metadata": {},
          "execution_count": 88
        }
      ]
    },
    {
      "cell_type": "code",
      "source": [
        "L[-2]"
      ],
      "metadata": {
        "id": "OMKsBtVYlpXF",
        "outputId": "da968a0f-2328-43e9-829b-cd7e74eadfd7",
        "colab": {
          "base_uri": "https://localhost:8080/"
        }
      },
      "execution_count": null,
      "outputs": [
        {
          "output_type": "execute_result",
          "data": {
            "text/plain": [
              "10.1"
            ]
          },
          "metadata": {},
          "execution_count": 89
        }
      ]
    },
    {
      "cell_type": "code",
      "source": [
        "L[-3]"
      ],
      "metadata": {
        "id": "fiiVIvAelq5m",
        "outputId": "df3f2258-3d1b-495b-9ca6-04218a6cbd15",
        "colab": {
          "base_uri": "https://localhost:8080/",
          "height": 36
        }
      },
      "execution_count": null,
      "outputs": [
        {
          "output_type": "execute_result",
          "data": {
            "text/plain": [
              "'Michael Jackson'"
            ],
            "application/vnd.google.colaboratory.intrinsic+json": {
              "type": "string"
            }
          },
          "metadata": {},
          "execution_count": 90
        }
      ]
    },
    {
      "cell_type": "code",
      "source": [
        "L=[\"Michael Jackson\",10.1,1982,\"MJ\",1]\n",
        "L[3:5]"
      ],
      "metadata": {
        "id": "bq0Mg42tlrmX",
        "outputId": "08770e50-9fa2-4e64-ada0-80b3976979e6",
        "colab": {
          "base_uri": "https://localhost:8080/"
        }
      },
      "execution_count": null,
      "outputs": [
        {
          "output_type": "execute_result",
          "data": {
            "text/plain": [
              "['MJ', 1]"
            ]
          },
          "metadata": {},
          "execution_count": 93
        }
      ]
    },
    {
      "cell_type": "code",
      "source": [
        "L=[\"Michael Jackson\",10.1,1982]\n",
        "L1=L+[\"pop\",10]\n",
        "L1"
      ],
      "metadata": {
        "id": "TMWno-yPlu1e",
        "outputId": "2a3554d1-9dc9-487a-87ed-136301431b6a",
        "colab": {
          "base_uri": "https://localhost:8080/"
        }
      },
      "execution_count": null,
      "outputs": [
        {
          "output_type": "execute_result",
          "data": {
            "text/plain": [
              "['Michael Jackson', 10.1, 1982, 'pop', 10]"
            ]
          },
          "metadata": {},
          "execution_count": 96
        }
      ]
    },
    {
      "cell_type": "code",
      "source": [
        "L=[\"Michael Jackson\",10.1,1982]\n",
        "L.extend([\"pop\",10]) #el método extend es para agregar más elementos a la lista\n",
        "L"
      ],
      "metadata": {
        "id": "zGueGKKymHm0",
        "outputId": "50d453c5-7d0f-484c-8849-246cdba2b128",
        "colab": {
          "base_uri": "https://localhost:8080/"
        }
      },
      "execution_count": null,
      "outputs": [
        {
          "output_type": "execute_result",
          "data": {
            "text/plain": [
              "['Michael Jackson', 10.1, 1982, 'pop', 10]"
            ]
          },
          "metadata": {},
          "execution_count": 98
        }
      ]
    },
    {
      "cell_type": "code",
      "source": [
        "L=[\"Michael Jackson\",10.1,1982]\n",
        "L.append([\"pop\",10]) #append agrega todo lo que este dentro del array como el último elemento\n",
        "L"
      ],
      "metadata": {
        "id": "QfZT7fWNmIGv",
        "outputId": "04a9c39f-8851-4e7a-f136-dbcd9eea0787",
        "colab": {
          "base_uri": "https://localhost:8080/"
        }
      },
      "execution_count": null,
      "outputs": [
        {
          "output_type": "execute_result",
          "data": {
            "text/plain": [
              "['Michael Jackson', 10.1, 1982, ['pop', 10]]"
            ]
          },
          "metadata": {},
          "execution_count": 101
        }
      ]
    },
    {
      "cell_type": "code",
      "source": [
        "L=[\"Michael Jackson\",10.1,1982]\n",
        "L.extend([\"pop\",10]) \n",
        "L.append(\"A\")\n",
        "L"
      ],
      "metadata": {
        "id": "M4LxKDBNmkNI",
        "outputId": "f7154e61-750a-4ac7-f54d-815f6b23a942",
        "colab": {
          "base_uri": "https://localhost:8080/"
        }
      },
      "execution_count": null,
      "outputs": [
        {
          "output_type": "execute_result",
          "data": {
            "text/plain": [
              "['Michael Jackson', 10.1, 1982, 'pop', 10, 'A']"
            ]
          },
          "metadata": {},
          "execution_count": 102
        }
      ]
    },
    {
      "cell_type": "code",
      "source": [
        "A=[\"disco\",10,1.2]\n",
        "A[0]=\"hard rock\"\n",
        "A"
      ],
      "metadata": {
        "id": "WZPj8-x0m2wD",
        "outputId": "a000e8df-d6fe-40c7-cf6e-df38c3227fb7",
        "colab": {
          "base_uri": "https://localhost:8080/"
        }
      },
      "execution_count": null,
      "outputs": [
        {
          "output_type": "execute_result",
          "data": {
            "text/plain": [
              "['hard rock', 10, 1.2]"
            ]
          },
          "metadata": {},
          "execution_count": 109
        }
      ]
    },
    {
      "cell_type": "code",
      "source": [
        "A=[\"disco\",10,1.2]\n",
        "del(A[0])\n",
        "A"
      ],
      "metadata": {
        "id": "-65bpecHm-c6",
        "outputId": "0e0fec16-631b-40d0-a14d-db44f6d9791c",
        "colab": {
          "base_uri": "https://localhost:8080/"
        }
      },
      "execution_count": null,
      "outputs": [
        {
          "output_type": "execute_result",
          "data": {
            "text/plain": [
              "[10, 1.2]"
            ]
          },
          "metadata": {},
          "execution_count": 111
        }
      ]
    },
    {
      "cell_type": "code",
      "source": [
        "A=[\"disco\",10,1.2]\n",
        "del(A[1])\n",
        "A"
      ],
      "metadata": {
        "id": "aHGKnUIhnIem",
        "outputId": "4fdcb948-b401-4dd0-de08-212183eac377",
        "colab": {
          "base_uri": "https://localhost:8080/"
        }
      },
      "execution_count": null,
      "outputs": [
        {
          "output_type": "execute_result",
          "data": {
            "text/plain": [
              "['disco', 1.2]"
            ]
          },
          "metadata": {},
          "execution_count": 112
        }
      ]
    },
    {
      "cell_type": "markdown",
      "source": [
        "El método split separa un string en base a los espacios"
      ],
      "metadata": {
        "id": "51CsFRAlnaIH"
      }
    },
    {
      "cell_type": "code",
      "source": [
        "\"hard rock\".split()"
      ],
      "metadata": {
        "id": "V16izbwFnS9M",
        "outputId": "aa201c1a-454e-4a97-f410-0ea6980143dd",
        "colab": {
          "base_uri": "https://localhost:8080/"
        }
      },
      "execution_count": null,
      "outputs": [
        {
          "output_type": "execute_result",
          "data": {
            "text/plain": [
              "['hard', 'rock']"
            ]
          },
          "metadata": {},
          "execution_count": 113
        }
      ]
    },
    {
      "cell_type": "code",
      "source": [
        "\"A,B,C,D\".split(\",\")"
      ],
      "metadata": {
        "id": "LWwd28EsnYYX",
        "outputId": "d06b39f1-e1ef-4ab7-99a1-ea283344dba0",
        "colab": {
          "base_uri": "https://localhost:8080/"
        }
      },
      "execution_count": null,
      "outputs": [
        {
          "output_type": "execute_result",
          "data": {
            "text/plain": [
              "['A', 'B', 'C', 'D']"
            ]
          },
          "metadata": {},
          "execution_count": 114
        }
      ]
    },
    {
      "cell_type": "code",
      "source": [
        "A=[\"hard rock\",10,1.2]\n",
        "B=A"
      ],
      "metadata": {
        "id": "cbRWHcc-nmXH"
      },
      "execution_count": null,
      "outputs": []
    },
    {
      "cell_type": "code",
      "source": [
        "B[0]"
      ],
      "metadata": {
        "id": "HGMi-5RsnzKV",
        "outputId": "94e03638-89ca-4030-d20a-881dcf65fb35",
        "colab": {
          "base_uri": "https://localhost:8080/",
          "height": 36
        }
      },
      "execution_count": null,
      "outputs": [
        {
          "output_type": "execute_result",
          "data": {
            "text/plain": [
              "'hard rock'"
            ],
            "application/vnd.google.colaboratory.intrinsic+json": {
              "type": "string"
            }
          },
          "metadata": {},
          "execution_count": 116
        }
      ]
    },
    {
      "cell_type": "code",
      "source": [
        "A[0]=\"banana\""
      ],
      "metadata": {
        "id": "TNeO_qQ6n3HO"
      },
      "execution_count": null,
      "outputs": []
    },
    {
      "cell_type": "code",
      "source": [
        "B[0]"
      ],
      "metadata": {
        "id": "BnslRC4nn6i3",
        "outputId": "7d48e936-8362-470f-df3f-9cf45b5f099e",
        "colab": {
          "base_uri": "https://localhost:8080/",
          "height": 36
        }
      },
      "execution_count": null,
      "outputs": [
        {
          "output_type": "execute_result",
          "data": {
            "text/plain": [
              "'banana'"
            ],
            "application/vnd.google.colaboratory.intrinsic+json": {
              "type": "string"
            }
          },
          "metadata": {},
          "execution_count": 119
        }
      ]
    },
    {
      "cell_type": "markdown",
      "source": [
        "Podemos clonar una lista usando el siguiente ejemplo B=A[:]"
      ],
      "metadata": {
        "id": "iYYChwjZoF3r"
      }
    },
    {
      "cell_type": "code",
      "source": [
        "B=A[:]"
      ],
      "metadata": {
        "id": "kekPvR5FoBCC"
      },
      "execution_count": null,
      "outputs": []
    },
    {
      "cell_type": "code",
      "source": [
        "A[0]=\"strawberry\""
      ],
      "metadata": {
        "id": "iaVvtZAJoOga"
      },
      "execution_count": null,
      "outputs": []
    },
    {
      "cell_type": "code",
      "source": [
        "B[0]"
      ],
      "metadata": {
        "id": "YWAUB4bPoVrX",
        "outputId": "8b1316eb-a6bc-4c7d-edcc-e24d4573cdfe",
        "colab": {
          "base_uri": "https://localhost:8080/",
          "height": 36
        }
      },
      "execution_count": null,
      "outputs": [
        {
          "output_type": "execute_result",
          "data": {
            "text/plain": [
              "'banana'"
            ],
            "application/vnd.google.colaboratory.intrinsic+json": {
              "type": "string"
            }
          },
          "metadata": {},
          "execution_count": 124
        }
      ]
    },
    {
      "cell_type": "code",
      "source": [
        "help(A)"
      ],
      "metadata": {
        "id": "cwEF1fKZofdy",
        "outputId": "cb5b1010-64c0-4084-be88-5ea1e442c27a",
        "colab": {
          "base_uri": "https://localhost:8080/"
        }
      },
      "execution_count": null,
      "outputs": [
        {
          "output_type": "stream",
          "name": "stdout",
          "text": [
            "Help on list object:\n",
            "\n",
            "class list(object)\n",
            " |  list(iterable=(), /)\n",
            " |  \n",
            " |  Built-in mutable sequence.\n",
            " |  \n",
            " |  If no argument is given, the constructor creates a new empty list.\n",
            " |  The argument must be an iterable if specified.\n",
            " |  \n",
            " |  Methods defined here:\n",
            " |  \n",
            " |  __add__(self, value, /)\n",
            " |      Return self+value.\n",
            " |  \n",
            " |  __contains__(self, key, /)\n",
            " |      Return key in self.\n",
            " |  \n",
            " |  __delitem__(self, key, /)\n",
            " |      Delete self[key].\n",
            " |  \n",
            " |  __eq__(self, value, /)\n",
            " |      Return self==value.\n",
            " |  \n",
            " |  __ge__(self, value, /)\n",
            " |      Return self>=value.\n",
            " |  \n",
            " |  __getattribute__(self, name, /)\n",
            " |      Return getattr(self, name).\n",
            " |  \n",
            " |  __getitem__(...)\n",
            " |      x.__getitem__(y) <==> x[y]\n",
            " |  \n",
            " |  __gt__(self, value, /)\n",
            " |      Return self>value.\n",
            " |  \n",
            " |  __iadd__(self, value, /)\n",
            " |      Implement self+=value.\n",
            " |  \n",
            " |  __imul__(self, value, /)\n",
            " |      Implement self*=value.\n",
            " |  \n",
            " |  __init__(self, /, *args, **kwargs)\n",
            " |      Initialize self.  See help(type(self)) for accurate signature.\n",
            " |  \n",
            " |  __iter__(self, /)\n",
            " |      Implement iter(self).\n",
            " |  \n",
            " |  __le__(self, value, /)\n",
            " |      Return self<=value.\n",
            " |  \n",
            " |  __len__(self, /)\n",
            " |      Return len(self).\n",
            " |  \n",
            " |  __lt__(self, value, /)\n",
            " |      Return self<value.\n",
            " |  \n",
            " |  __mul__(self, value, /)\n",
            " |      Return self*value.\n",
            " |  \n",
            " |  __ne__(self, value, /)\n",
            " |      Return self!=value.\n",
            " |  \n",
            " |  __repr__(self, /)\n",
            " |      Return repr(self).\n",
            " |  \n",
            " |  __reversed__(self, /)\n",
            " |      Return a reverse iterator over the list.\n",
            " |  \n",
            " |  __rmul__(self, value, /)\n",
            " |      Return value*self.\n",
            " |  \n",
            " |  __setitem__(self, key, value, /)\n",
            " |      Set self[key] to value.\n",
            " |  \n",
            " |  __sizeof__(self, /)\n",
            " |      Return the size of the list in memory, in bytes.\n",
            " |  \n",
            " |  append(self, object, /)\n",
            " |      Append object to the end of the list.\n",
            " |  \n",
            " |  clear(self, /)\n",
            " |      Remove all items from list.\n",
            " |  \n",
            " |  copy(self, /)\n",
            " |      Return a shallow copy of the list.\n",
            " |  \n",
            " |  count(self, value, /)\n",
            " |      Return number of occurrences of value.\n",
            " |  \n",
            " |  extend(self, iterable, /)\n",
            " |      Extend list by appending elements from the iterable.\n",
            " |  \n",
            " |  index(self, value, start=0, stop=9223372036854775807, /)\n",
            " |      Return first index of value.\n",
            " |      \n",
            " |      Raises ValueError if the value is not present.\n",
            " |  \n",
            " |  insert(self, index, object, /)\n",
            " |      Insert object before index.\n",
            " |  \n",
            " |  pop(self, index=-1, /)\n",
            " |      Remove and return item at index (default last).\n",
            " |      \n",
            " |      Raises IndexError if list is empty or index is out of range.\n",
            " |  \n",
            " |  remove(self, value, /)\n",
            " |      Remove first occurrence of value.\n",
            " |      \n",
            " |      Raises ValueError if the value is not present.\n",
            " |  \n",
            " |  reverse(self, /)\n",
            " |      Reverse *IN PLACE*.\n",
            " |  \n",
            " |  sort(self, /, *, key=None, reverse=False)\n",
            " |      Stable sort *IN PLACE*.\n",
            " |  \n",
            " |  ----------------------------------------------------------------------\n",
            " |  Static methods defined here:\n",
            " |  \n",
            " |  __new__(*args, **kwargs) from builtins.type\n",
            " |      Create and return a new object.  See help(type) for accurate signature.\n",
            " |  \n",
            " |  ----------------------------------------------------------------------\n",
            " |  Data and other attributes defined here:\n",
            " |  \n",
            " |  __hash__ = None\n",
            "\n"
          ]
        }
      ]
    },
    {
      "cell_type": "code",
      "source": [
        "A=(0,1,2,3)"
      ],
      "metadata": {
        "id": "5uVTT4qpokLo"
      },
      "execution_count": null,
      "outputs": []
    },
    {
      "cell_type": "code",
      "source": [
        "A[3]"
      ],
      "metadata": {
        "id": "0FriNtroooDk",
        "outputId": "d5067542-6f6a-4b12-9502-5ea69ee1c541",
        "colab": {
          "base_uri": "https://localhost:8080/"
        }
      },
      "execution_count": null,
      "outputs": [
        {
          "output_type": "execute_result",
          "data": {
            "text/plain": [
              "3"
            ]
          },
          "metadata": {},
          "execution_count": 128
        }
      ]
    },
    {
      "cell_type": "code",
      "source": [
        "A[-1]"
      ],
      "metadata": {
        "id": "3hPqyeRGoqxl",
        "outputId": "ea113737-33e2-439d-c349-792f5bc24490",
        "colab": {
          "base_uri": "https://localhost:8080/"
        }
      },
      "execution_count": null,
      "outputs": [
        {
          "output_type": "execute_result",
          "data": {
            "text/plain": [
              "3"
            ]
          },
          "metadata": {},
          "execution_count": 129
        }
      ]
    },
    {
      "cell_type": "code",
      "source": [
        "B=[\"a\",\"b\",\"c\"]\n",
        "B[1:]"
      ],
      "metadata": {
        "id": "sM4Y1OSSor7h",
        "outputId": "121debdb-8e2f-46c9-bd94-34acb536bf55",
        "colab": {
          "base_uri": "https://localhost:8080/"
        }
      },
      "execution_count": null,
      "outputs": [
        {
          "output_type": "execute_result",
          "data": {
            "text/plain": [
              "['b', 'c']"
            ]
          },
          "metadata": {},
          "execution_count": 130
        }
      ]
    },
    {
      "cell_type": "markdown",
      "source": [
        "## Sets\n",
        "Los sets no guardan indices, ni tampoco guardan valores duplicados"
      ],
      "metadata": {
        "id": "Cuu-ly6ppQKa"
      }
    },
    {
      "cell_type": "code",
      "source": [
        "Set1={\"pop\",\"rock\",\"soul\",\"hard rock\",\"rock\",\"R&B\",\"rock\",\"disco\"}\n",
        "Set1"
      ],
      "metadata": {
        "id": "7ApARQfBo1FI",
        "outputId": "09ae85b8-ef66-419c-dea9-45562533e8bd",
        "colab": {
          "base_uri": "https://localhost:8080/"
        }
      },
      "execution_count": null,
      "outputs": [
        {
          "output_type": "execute_result",
          "data": {
            "text/plain": [
              "{'R&B', 'disco', 'hard rock', 'pop', 'rock', 'soul'}"
            ]
          },
          "metadata": {},
          "execution_count": 132
        }
      ]
    },
    {
      "cell_type": "markdown",
      "source": [
        "Podemos hacer una lista un set mediante el método **set()**"
      ],
      "metadata": {
        "id": "eL9KOAWpp7Jn"
      }
    },
    {
      "cell_type": "code",
      "source": [
        "album_list=[\"Michael Jackson\",\"Thriller\",\"Thriller\",1982]\n",
        "album_Set=set(album_list)\n",
        "album_Set"
      ],
      "metadata": {
        "id": "3ka9H2u3psAc",
        "outputId": "7d1a1eab-174a-4484-8bc7-84164c30317d",
        "colab": {
          "base_uri": "https://localhost:8080/"
        }
      },
      "execution_count": null,
      "outputs": [
        {
          "output_type": "execute_result",
          "data": {
            "text/plain": [
              "{1982, 'Michael Jackson', 'Thriller'}"
            ]
          },
          "metadata": {},
          "execution_count": 135
        }
      ]
    },
    {
      "cell_type": "code",
      "source": [
        "A={\"Thriller\",\"Back in Black\",\"AC/DC\"}"
      ],
      "metadata": {
        "id": "cDIejAfGqJa_"
      },
      "execution_count": null,
      "outputs": []
    },
    {
      "cell_type": "code",
      "source": [
        "A.add(\"NSYNC\") #el método add añade lo que nos interesa al Set\n",
        "A"
      ],
      "metadata": {
        "id": "sdH9fJCpqdJD",
        "outputId": "e7ff638b-b05a-42d1-b706-4afb006dc1ce",
        "colab": {
          "base_uri": "https://localhost:8080/"
        }
      },
      "execution_count": null,
      "outputs": [
        {
          "output_type": "execute_result",
          "data": {
            "text/plain": [
              "{'AC/DC', 'Back in Black', 'NSYNC', 'Thriller'}"
            ]
          },
          "metadata": {},
          "execution_count": 139
        }
      ]
    },
    {
      "cell_type": "code",
      "source": [
        "A.add(\"NSYNC\") #si lo intentamos agregar no pasará nada por ser un elemento repetido"
      ],
      "metadata": {
        "id": "auyFBJZurDpp"
      },
      "execution_count": null,
      "outputs": []
    },
    {
      "cell_type": "code",
      "source": [
        "A"
      ],
      "metadata": {
        "id": "Lgrifpm_rYpQ",
        "outputId": "462a98a0-bea5-478c-d3ad-121356c0b07c",
        "colab": {
          "base_uri": "https://localhost:8080/"
        }
      },
      "execution_count": null,
      "outputs": [
        {
          "output_type": "execute_result",
          "data": {
            "text/plain": [
              "{'AC/DC', 'Back in Black', 'NSYNC', 'Thriller'}"
            ]
          },
          "metadata": {},
          "execution_count": 141
        }
      ]
    },
    {
      "cell_type": "code",
      "source": [
        "A.remove(\"NSYNC\") #remove quita el elemento que queramos del set\n",
        "A"
      ],
      "metadata": {
        "id": "nJfG9bWTrZfh",
        "outputId": "35af943f-f18e-4a50-8407-72b166b9de10",
        "colab": {
          "base_uri": "https://localhost:8080/"
        }
      },
      "execution_count": null,
      "outputs": [
        {
          "output_type": "execute_result",
          "data": {
            "text/plain": [
              "{'AC/DC', 'Back in Black', 'Thriller'}"
            ]
          },
          "metadata": {},
          "execution_count": 146
        }
      ]
    },
    {
      "cell_type": "code",
      "source": [
        "\"AC/DC\" in A #in es para verificar que un elemento se encuentre dentro del set"
      ],
      "metadata": {
        "id": "QW8mNujTrhwg",
        "outputId": "f56681f0-e1b0-4ebe-aae9-6f4e60d8e5ac",
        "colab": {
          "base_uri": "https://localhost:8080/"
        }
      },
      "execution_count": null,
      "outputs": [
        {
          "output_type": "execute_result",
          "data": {
            "text/plain": [
              "True"
            ]
          },
          "metadata": {},
          "execution_count": 147
        }
      ]
    },
    {
      "cell_type": "code",
      "source": [
        "\"Who\" in A"
      ],
      "metadata": {
        "id": "1qJ3UxA6riM3",
        "outputId": "84c8a2c1-e68a-4173-e0e2-1ad16ee5ea61",
        "colab": {
          "base_uri": "https://localhost:8080/"
        }
      },
      "execution_count": null,
      "outputs": [
        {
          "output_type": "execute_result",
          "data": {
            "text/plain": [
              "False"
            ]
          },
          "metadata": {},
          "execution_count": 148
        }
      ]
    },
    {
      "cell_type": "code",
      "source": [
        "album_set_1={\"AC/DC\",\"Back in Black\",\"Thriller\"}"
      ],
      "metadata": {
        "id": "tcb1UXC3r-Mh"
      },
      "execution_count": null,
      "outputs": []
    },
    {
      "cell_type": "code",
      "source": [
        "album_set_2={\"AC/DC\",\"Back in Black\",\"The Dark Side of the Moon\"}"
      ],
      "metadata": {
        "id": "ceznb7AYsIog"
      },
      "execution_count": null,
      "outputs": []
    },
    {
      "cell_type": "code",
      "source": [
        "album_set_3=album_set_1 & album_set_2 #usamos and para que solo se muestren los elementos que se encuentran en ambas listas\n",
        "album_set_3"
      ],
      "metadata": {
        "id": "9wJj4Q2dsT_-",
        "outputId": "6eac22b0-e72c-4e91-ab1c-3743549db778",
        "colab": {
          "base_uri": "https://localhost:8080/"
        }
      },
      "execution_count": null,
      "outputs": [
        {
          "output_type": "execute_result",
          "data": {
            "text/plain": [
              "{'AC/DC', 'Back in Black'}"
            ]
          },
          "metadata": {},
          "execution_count": 154
        }
      ]
    },
    {
      "cell_type": "code",
      "source": [
        "album_set_1.union(album_set_2)"
      ],
      "metadata": {
        "id": "9csI_Xp-swq-",
        "outputId": "4ebbd8f6-0365-47f5-a2a0-b35206a7c994",
        "colab": {
          "base_uri": "https://localhost:8080/"
        }
      },
      "execution_count": null,
      "outputs": [
        {
          "output_type": "execute_result",
          "data": {
            "text/plain": [
              "{'AC/DC', 'Back in Black', 'The Dark Side of the Moon', 'Thriller'}"
            ]
          },
          "metadata": {},
          "execution_count": 155
        }
      ]
    },
    {
      "cell_type": "markdown",
      "source": [
        "El método **issubset** es para saber si un set es un subset de otro set"
      ],
      "metadata": {
        "id": "5tF4BfURtxxs"
      }
    },
    {
      "cell_type": "code",
      "source": [
        "album_set_1={\"AC/DC\",\"Back in Black\",\"Thriller\"}\n",
        "album_set_3={\"AC/DC\",\"Back in Black\"}"
      ],
      "metadata": {
        "id": "gNqtn3NmtMC0"
      },
      "execution_count": null,
      "outputs": []
    },
    {
      "cell_type": "code",
      "source": [
        "album_set_3.issubset(album_set_1)"
      ],
      "metadata": {
        "id": "4O27wSFPth8m",
        "outputId": "b5259bc1-d622-4d60-abd9-0d2634204e05",
        "colab": {
          "base_uri": "https://localhost:8080/"
        }
      },
      "execution_count": null,
      "outputs": [
        {
          "output_type": "execute_result",
          "data": {
            "text/plain": [
              "True"
            ]
          },
          "metadata": {},
          "execution_count": 157
        }
      ]
    },
    {
      "cell_type": "code",
      "source": [
        "S={'A','B','C'}\n",
        "\n",
        "U={'A','Z','C'}\n",
        "\n",
        "U.union(S)"
      ],
      "metadata": {
        "id": "AeNtDLhst9U5",
        "outputId": "f8b56742-46f1-4c92-fa8d-504e6d9f50cc",
        "colab": {
          "base_uri": "https://localhost:8080/"
        }
      },
      "execution_count": null,
      "outputs": [
        {
          "output_type": "execute_result",
          "data": {
            "text/plain": [
              "{'A', 'B', 'C', 'Z'}"
            ]
          },
          "metadata": {},
          "execution_count": 158
        }
      ]
    },
    {
      "cell_type": "code",
      "source": [
        "S={'A','B','C'}\n",
        "\n",
        "U={'A','Z','C'}\n",
        "\n",
        "S & U"
      ],
      "metadata": {
        "id": "o6Z3TqswuQtA",
        "outputId": "358ce703-36b2-42eb-cac5-882489f7850e",
        "colab": {
          "base_uri": "https://localhost:8080/"
        }
      },
      "execution_count": null,
      "outputs": [
        {
          "output_type": "execute_result",
          "data": {
            "text/plain": [
              "{'A', 'C'}"
            ]
          },
          "metadata": {},
          "execution_count": 159
        }
      ]
    },
    {
      "cell_type": "markdown",
      "source": [
        "## Dictionaries"
      ],
      "metadata": {
        "id": "FDNZTGstuy5K"
      }
    },
    {
      "cell_type": "markdown",
      "source": [
        "\n",
        "\n",
        "*   van dentro de {}\n",
        "*   Las llaves son inmutables y únicas\n",
        "*   Los valores pueden ser mutables, inmutables y duplicados\n",
        "*   Cada par de de llave y valor es separado por una coma\n",
        "\n",
        "\n",
        "\n",
        "\n"
      ],
      "metadata": {
        "id": "zFzw89BzvCNB"
      }
    },
    {
      "cell_type": "code",
      "source": [
        "type({\"key1\":1,\"key2\":\"2\",\"key3\":[3,3,3],\"key4\":(4,4,4),(\"key5\"):5})"
      ],
      "metadata": {
        "id": "a_BnfaPiuapS",
        "outputId": "58dc07af-5272-4645-9adb-65daaeb2fed5",
        "colab": {
          "base_uri": "https://localhost:8080/"
        }
      },
      "execution_count": null,
      "outputs": [
        {
          "output_type": "execute_result",
          "data": {
            "text/plain": [
              "dict"
            ]
          },
          "metadata": {},
          "execution_count": 161
        }
      ]
    },
    {
      "cell_type": "code",
      "source": [
        "{\"key1\":1,\"key2\":\"2\",\"key3\":[3,3,3],\"key4\":(4,4,4),(\"key5\"):5}"
      ],
      "metadata": {
        "id": "8GVw5jqFv_5Z",
        "outputId": "6de41d53-cbfb-4fe1-889b-8255c023f112",
        "colab": {
          "base_uri": "https://localhost:8080/"
        }
      },
      "execution_count": null,
      "outputs": [
        {
          "output_type": "execute_result",
          "data": {
            "text/plain": [
              "{'key1': 1, 'key2': '2', 'key3': [3, 3, 3], 'key4': (4, 4, 4), 'key5': 5}"
            ]
          },
          "metadata": {},
          "execution_count": 162
        }
      ]
    },
    {
      "cell_type": "code",
      "source": [
        "Dict={\"Thriller\":1982,\"Back in Black\":1980,\"The Dark Side of the Moon\": 1973, \"The Bodyguard\":1992,\"Bat Out of Hell\":1977,\"Their Greatest...\":\"1976\",\"Saturday Night Fever\":\"1977\",\"Rumours\":\"1977\"}"
      ],
      "metadata": {
        "id": "IIcFCzaTwJPK"
      },
      "execution_count": null,
      "outputs": []
    },
    {
      "cell_type": "code",
      "source": [
        "Dict[\"Thriller\"]"
      ],
      "metadata": {
        "id": "J-x9u9-Ewc-u",
        "outputId": "e7eb6b56-89af-47cf-9ea9-143c2c59ccc9",
        "colab": {
          "base_uri": "https://localhost:8080/"
        }
      },
      "execution_count": null,
      "outputs": [
        {
          "output_type": "execute_result",
          "data": {
            "text/plain": [
              "1982"
            ]
          },
          "metadata": {},
          "execution_count": 168
        }
      ]
    },
    {
      "cell_type": "code",
      "source": [
        "Dict[\"Back in Black\"]"
      ],
      "metadata": {
        "id": "bbiG7-rLwpo8",
        "outputId": "30b04f8d-878b-45ca-f2e3-f39fd2354f32",
        "colab": {
          "base_uri": "https://localhost:8080/"
        }
      },
      "execution_count": null,
      "outputs": [
        {
          "output_type": "execute_result",
          "data": {
            "text/plain": [
              "1980"
            ]
          },
          "metadata": {},
          "execution_count": 169
        }
      ]
    },
    {
      "cell_type": "code",
      "source": [
        "Dict[\"The Dark Side of the Moon\"]"
      ],
      "metadata": {
        "id": "q5qHe2wYwrSy",
        "outputId": "ac328f86-999c-4fe3-aa0a-e9402ad2462a",
        "colab": {
          "base_uri": "https://localhost:8080/"
        }
      },
      "execution_count": null,
      "outputs": [
        {
          "output_type": "execute_result",
          "data": {
            "text/plain": [
              "1973"
            ]
          },
          "metadata": {},
          "execution_count": 170
        }
      ]
    },
    {
      "cell_type": "code",
      "source": [
        "Dict[\"The Bodyguard\"]"
      ],
      "metadata": {
        "id": "CHXjy2GVxMjA",
        "outputId": "264b819e-7a68-4900-8974-281c5377054b",
        "colab": {
          "base_uri": "https://localhost:8080/"
        }
      },
      "execution_count": null,
      "outputs": [
        {
          "output_type": "execute_result",
          "data": {
            "text/plain": [
              "1992"
            ]
          },
          "metadata": {},
          "execution_count": 171
        }
      ]
    },
    {
      "cell_type": "code",
      "source": [
        "Dict[\"Bat Out of Hell\"]"
      ],
      "metadata": {
        "id": "BoXmL9urxOc3",
        "outputId": "cd2b552a-2529-4839-83fd-3406f85739ce",
        "colab": {
          "base_uri": "https://localhost:8080/"
        }
      },
      "execution_count": null,
      "outputs": [
        {
          "output_type": "execute_result",
          "data": {
            "text/plain": [
              "1977"
            ]
          },
          "metadata": {},
          "execution_count": 172
        }
      ]
    },
    {
      "cell_type": "code",
      "source": [
        "Dict[\"Graduation\"]=2007 #una forma de agregar más registros en el diccionario"
      ],
      "metadata": {
        "id": "6UK2AM-XxWdL"
      },
      "execution_count": null,
      "outputs": []
    },
    {
      "cell_type": "code",
      "source": [
        "Dict"
      ],
      "metadata": {
        "id": "fcbIpYh8xbHl",
        "outputId": "69c00b77-1bde-4da3-f348-d9a48c72a534",
        "colab": {
          "base_uri": "https://localhost:8080/"
        }
      },
      "execution_count": null,
      "outputs": [
        {
          "output_type": "execute_result",
          "data": {
            "text/plain": [
              "{'Back in Black': 1980,\n",
              " 'The Dark Side of the Moon': 1973,\n",
              " 'The Bodyguard': 1992,\n",
              " 'Bat Out of Hell': 1977,\n",
              " 'Their Greatest...': '1976',\n",
              " 'Saturday Night Fever': '1977',\n",
              " 'Rumours': '1977',\n",
              " 'Graduation': 2007}"
            ]
          },
          "metadata": {},
          "execution_count": 178
        }
      ]
    },
    {
      "cell_type": "markdown",
      "source": [
        "el método del() sirve para eliminar registros"
      ],
      "metadata": {
        "id": "1nUfJdA1xkD4"
      }
    },
    {
      "cell_type": "code",
      "source": [
        "del(Dict[\"Thriller\"])"
      ],
      "metadata": {
        "id": "12eUFAWXxcYq"
      },
      "execution_count": null,
      "outputs": []
    },
    {
      "cell_type": "markdown",
      "source": [
        "** in ** sirve para checar si un elemento está dentro de un diccionario"
      ],
      "metadata": {
        "id": "gK6QXIPux0PW"
      }
    },
    {
      "cell_type": "code",
      "source": [
        "\"The Bodyguard\" in Dict"
      ],
      "metadata": {
        "id": "1AnNTillxqno",
        "outputId": "9a04ac7f-5041-4a2b-bb95-21da851082e0",
        "colab": {
          "base_uri": "https://localhost:8080/"
        }
      },
      "execution_count": null,
      "outputs": [
        {
          "output_type": "execute_result",
          "data": {
            "text/plain": [
              "True"
            ]
          },
          "metadata": {},
          "execution_count": 181
        }
      ]
    },
    {
      "cell_type": "code",
      "source": [
        "\"Starboy\" in Dict"
      ],
      "metadata": {
        "id": "E-jPEKNeyAg4",
        "outputId": "730e66ac-f8fc-4061-9101-9a849f35f636",
        "colab": {
          "base_uri": "https://localhost:8080/"
        }
      },
      "execution_count": null,
      "outputs": [
        {
          "output_type": "execute_result",
          "data": {
            "text/plain": [
              "False"
            ]
          },
          "metadata": {},
          "execution_count": 182
        }
      ]
    },
    {
      "cell_type": "code",
      "source": [
        "release_year_dict={\"info\":\"none\"}\n",
        "\"Starboy\" in release_year_dict"
      ],
      "metadata": {
        "id": "nRzm9W4xyEqx",
        "outputId": "1ec70b85-0780-4675-aade-af01d99140b3",
        "colab": {
          "base_uri": "https://localhost:8080/"
        }
      },
      "execution_count": null,
      "outputs": [
        {
          "output_type": "execute_result",
          "data": {
            "text/plain": [
              "False"
            ]
          },
          "metadata": {},
          "execution_count": 184
        }
      ]
    },
    {
      "cell_type": "code",
      "source": [
        "Dict.keys() #El método keys nos muestra todas las llaves dentro del diccionario"
      ],
      "metadata": {
        "id": "GIaG7YxvyM9E",
        "outputId": "c7f630a2-5973-486e-f4d0-f6b76311caeb",
        "colab": {
          "base_uri": "https://localhost:8080/"
        }
      },
      "execution_count": null,
      "outputs": [
        {
          "output_type": "execute_result",
          "data": {
            "text/plain": [
              "dict_keys(['Back in Black', 'The Dark Side of the Moon', 'The Bodyguard', 'Bat Out of Hell', 'Their Greatest...', 'Saturday Night Fever', 'Rumours'])"
            ]
          },
          "metadata": {},
          "execution_count": 186
        }
      ]
    },
    {
      "cell_type": "code",
      "source": [
        "Dict.values() #El método values nos muestra los valores dentro del diccionario"
      ],
      "metadata": {
        "id": "ylWlQYNkyZWx",
        "outputId": "b2953dd8-a1d4-427a-ea88-f4c2e904fd72",
        "colab": {
          "base_uri": "https://localhost:8080/"
        }
      },
      "execution_count": null,
      "outputs": [
        {
          "output_type": "execute_result",
          "data": {
            "text/plain": [
              "dict_values([1980, 1973, 1992, 1977, '1976', '1977', '1977'])"
            ]
          },
          "metadata": {},
          "execution_count": 187
        }
      ]
    },
    {
      "cell_type": "code",
      "source": [
        "D = {'a':0,'b':1,'c':2}\n",
        "D.values()"
      ],
      "metadata": {
        "id": "hxMac5uMyqWS",
        "outputId": "1fb20e07-041a-47c1-c983-ee8e8896b183",
        "colab": {
          "base_uri": "https://localhost:8080/"
        }
      },
      "execution_count": null,
      "outputs": [
        {
          "output_type": "execute_result",
          "data": {
            "text/plain": [
              "dict_values([0, 1, 2])"
            ]
          },
          "metadata": {},
          "execution_count": 189
        }
      ]
    },
    {
      "cell_type": "code",
      "source": [
        "D = {'a':0,'b':1,'c':2}\n",
        "D['b']"
      ],
      "metadata": {
        "id": "EoDMSqggy0uC",
        "outputId": "00e9a289-01b5-42d2-fb6d-ea14d8d91e00",
        "colab": {
          "base_uri": "https://localhost:8080/"
        }
      },
      "execution_count": null,
      "outputs": [
        {
          "output_type": "execute_result",
          "data": {
            "text/plain": [
              "1"
            ]
          },
          "metadata": {},
          "execution_count": 190
        }
      ]
    },
    {
      "cell_type": "code",
      "source": [
        "A = ('a','b','c')\n",
        "A[0]"
      ],
      "metadata": {
        "id": "1l2sJRpAy7Xq",
        "outputId": "781bf005-f7b6-499a-acf0-f42ad5640ed3",
        "colab": {
          "base_uri": "https://localhost:8080/",
          "height": 36
        }
      },
      "execution_count": null,
      "outputs": [
        {
          "output_type": "execute_result",
          "data": {
            "text/plain": [
              "'a'"
            ],
            "application/vnd.google.colaboratory.intrinsic+json": {
              "type": "string"
            }
          },
          "metadata": {},
          "execution_count": 191
        }
      ]
    },
    {
      "cell_type": "code",
      "source": [
        "Dict={\"A\":1,\"B\":\"2\",\"C\":[3,3,3],\"D\":(4,4,4),'E':5,'F':6}\n",
        "Dict[\"D\"]"
      ],
      "metadata": {
        "id": "cKGTngAMzF78",
        "outputId": "79d114b0-2610-4af3-cb85-fd852a7f212e",
        "colab": {
          "base_uri": "https://localhost:8080/"
        }
      },
      "execution_count": null,
      "outputs": [
        {
          "output_type": "execute_result",
          "data": {
            "text/plain": [
              "(4, 4, 4)"
            ]
          },
          "metadata": {},
          "execution_count": 192
        }
      ]
    },
    {
      "cell_type": "markdown",
      "source": [
        "# Módulo 3"
      ],
      "metadata": {
        "id": "8PkWXGGxkAqe"
      }
    },
    {
      "cell_type": "markdown",
      "source": [
        "## Conditions and Branching"
      ],
      "metadata": {
        "id": "dykqLdJLkXXj"
      }
    },
    {
      "cell_type": "markdown",
      "source": [
        "### Comparison Operators"
      ],
      "metadata": {
        "id": "e9Amw2YGkeQe"
      }
    },
    {
      "cell_type": "code",
      "source": [
        "a=6 #asignamos un valor"
      ],
      "metadata": {
        "id": "cMgZuWTlzWiW"
      },
      "execution_count": null,
      "outputs": []
    },
    {
      "cell_type": "code",
      "source": [
        "a==7 #comparamos un valor"
      ],
      "metadata": {
        "id": "azpja9kUkiTi",
        "outputId": "aa1d46a7-b491-4bec-9bcd-241635935c4a",
        "colab": {
          "base_uri": "https://localhost:8080/"
        }
      },
      "execution_count": null,
      "outputs": [
        {
          "output_type": "execute_result",
          "data": {
            "text/plain": [
              "False"
            ]
          },
          "metadata": {},
          "execution_count": 3
        }
      ]
    },
    {
      "cell_type": "code",
      "source": [
        "a==6"
      ],
      "metadata": {
        "id": "oQaZRH88ksJs",
        "outputId": "7374221e-1226-4643-d889-19eb2a55d027",
        "colab": {
          "base_uri": "https://localhost:8080/"
        }
      },
      "execution_count": null,
      "outputs": [
        {
          "output_type": "execute_result",
          "data": {
            "text/plain": [
              "True"
            ]
          },
          "metadata": {},
          "execution_count": 4
        }
      ]
    },
    {
      "cell_type": "code",
      "source": [
        "i=6\n",
        "i > 5"
      ],
      "metadata": {
        "id": "ABUSnpuskx06",
        "outputId": "fb1ad9b5-1ffb-4e0e-faac-3baefdef8fa8",
        "colab": {
          "base_uri": "https://localhost:8080/"
        }
      },
      "execution_count": null,
      "outputs": [
        {
          "output_type": "execute_result",
          "data": {
            "text/plain": [
              "True"
            ]
          },
          "metadata": {},
          "execution_count": 6
        }
      ]
    },
    {
      "cell_type": "code",
      "source": [
        "i>=5"
      ],
      "metadata": {
        "id": "Mo_G_hDwlE6X",
        "outputId": "92475f55-3b91-4296-9e34-9c3641dfa3c7",
        "colab": {
          "base_uri": "https://localhost:8080/"
        }
      },
      "execution_count": null,
      "outputs": [
        {
          "output_type": "execute_result",
          "data": {
            "text/plain": [
              "True"
            ]
          },
          "metadata": {},
          "execution_count": 7
        }
      ]
    },
    {
      "cell_type": "code",
      "source": [
        "i=5\n",
        "i>=5"
      ],
      "metadata": {
        "id": "YN7Ff1N6lKqH",
        "outputId": "9ef62aa7-6369-47bd-8f32-6c924764d596",
        "colab": {
          "base_uri": "https://localhost:8080/"
        }
      },
      "execution_count": null,
      "outputs": [
        {
          "output_type": "execute_result",
          "data": {
            "text/plain": [
              "True"
            ]
          },
          "metadata": {},
          "execution_count": 8
        }
      ]
    },
    {
      "cell_type": "code",
      "source": [
        "i=2\n",
        "i>=5"
      ],
      "metadata": {
        "id": "LQDsU4uHlRAh",
        "outputId": "c3ce5451-c1bb-41d6-85ca-1d3067e595c1",
        "colab": {
          "base_uri": "https://localhost:8080/"
        }
      },
      "execution_count": null,
      "outputs": [
        {
          "output_type": "execute_result",
          "data": {
            "text/plain": [
              "False"
            ]
          },
          "metadata": {},
          "execution_count": 9
        }
      ]
    },
    {
      "cell_type": "code",
      "source": [
        "i<6"
      ],
      "metadata": {
        "id": "mKEe6H1MlSex",
        "outputId": "26c0201c-77d2-4656-b394-9fa58a60a77e",
        "colab": {
          "base_uri": "https://localhost:8080/"
        }
      },
      "execution_count": null,
      "outputs": [
        {
          "output_type": "execute_result",
          "data": {
            "text/plain": [
              "True"
            ]
          },
          "metadata": {},
          "execution_count": 10
        }
      ]
    },
    {
      "cell_type": "code",
      "source": [
        "i=2\n",
        "i<6"
      ],
      "metadata": {
        "id": "bO-oD1ZZlWYp",
        "outputId": "58d0090b-015b-4658-d70a-e398acf3869b",
        "colab": {
          "base_uri": "https://localhost:8080/"
        }
      },
      "execution_count": null,
      "outputs": [
        {
          "output_type": "execute_result",
          "data": {
            "text/plain": [
              "True"
            ]
          },
          "metadata": {},
          "execution_count": 11
        }
      ]
    },
    {
      "cell_type": "code",
      "source": [
        "i!=6"
      ],
      "metadata": {
        "id": "KIzCS7PJleE9",
        "outputId": "8c3df750-8c78-444e-ff90-7a0a3e85869b",
        "colab": {
          "base_uri": "https://localhost:8080/"
        }
      },
      "execution_count": null,
      "outputs": [
        {
          "output_type": "execute_result",
          "data": {
            "text/plain": [
              "True"
            ]
          },
          "metadata": {},
          "execution_count": 12
        }
      ]
    },
    {
      "cell_type": "markdown",
      "source": [
        "También se pueden comparar strings"
      ],
      "metadata": {
        "id": "C8y8Qy7yl3W0"
      }
    },
    {
      "cell_type": "code",
      "source": [
        "\"AC/DC\"==\"Michael Jackson\""
      ],
      "metadata": {
        "id": "EU4-ueiQlhKc",
        "outputId": "570f19ed-192b-4157-ea2f-d50ec83b0dc9",
        "colab": {
          "base_uri": "https://localhost:8080/"
        }
      },
      "execution_count": null,
      "outputs": [
        {
          "output_type": "execute_result",
          "data": {
            "text/plain": [
              "False"
            ]
          },
          "metadata": {},
          "execution_count": 13
        }
      ]
    },
    {
      "cell_type": "code",
      "source": [
        "\"AC/DC\"!=\"Michael Jackson\""
      ],
      "metadata": {
        "id": "aj_HltCCl6Jk",
        "outputId": "841da00c-3aee-4cf4-d623-666e211f2a27",
        "colab": {
          "base_uri": "https://localhost:8080/"
        }
      },
      "execution_count": null,
      "outputs": [
        {
          "output_type": "execute_result",
          "data": {
            "text/plain": [
              "True"
            ]
          },
          "metadata": {},
          "execution_count": 14
        }
      ]
    },
    {
      "cell_type": "markdown",
      "source": [
        "### The if statement"
      ],
      "metadata": {
        "id": "mPiokAfDmCoW"
      }
    },
    {
      "cell_type": "code",
      "source": [
        "age=17\n",
        "if(age>18):\n",
        "  print(\"You can enter\")\n",
        "print(\"Move on\")"
      ],
      "metadata": {
        "id": "U_aWXZ5El_jg",
        "outputId": "05ebf796-be69-47c9-c0e8-7e3a8cac10b8",
        "colab": {
          "base_uri": "https://localhost:8080/"
        }
      },
      "execution_count": null,
      "outputs": [
        {
          "output_type": "stream",
          "name": "stdout",
          "text": [
            "move on\n"
          ]
        }
      ]
    },
    {
      "cell_type": "code",
      "source": [
        "if(age>18):\n",
        "  print(\"You can enter\")\n",
        "else:\n",
        "  print(\"Go to see Meat Loaf\")\n",
        "print(\"Move on\")"
      ],
      "metadata": {
        "id": "K30PqaZnmja7",
        "outputId": "b4c4fbc6-6da6-467c-df6a-2736289c2e14",
        "colab": {
          "base_uri": "https://localhost:8080/"
        }
      },
      "execution_count": null,
      "outputs": [
        {
          "output_type": "stream",
          "name": "stdout",
          "text": [
            "Go to see Meat Loaf\n",
            "Move on\n"
          ]
        }
      ]
    },
    {
      "cell_type": "code",
      "source": [
        "age=19\n",
        "if(age>18):\n",
        "  print(\"You can enter\")\n",
        "else:\n",
        "  print(\"Go to see Meat Loaf\")\n",
        "print(\"Move on\")"
      ],
      "metadata": {
        "id": "ua-CP_yCnKrA",
        "outputId": "ed3e77aa-b9a3-405c-9e51-96229fb34e66",
        "colab": {
          "base_uri": "https://localhost:8080/"
        }
      },
      "execution_count": null,
      "outputs": [
        {
          "output_type": "stream",
          "name": "stdout",
          "text": [
            "You can enter\n",
            "Move on\n"
          ]
        }
      ]
    },
    {
      "cell_type": "markdown",
      "source": [
        "### The elif Statement"
      ],
      "metadata": {
        "id": "lAjJW7_zno2F"
      }
    },
    {
      "cell_type": "code",
      "source": [
        "age=18\n",
        "if(age>18):\n",
        "  print(\"you can enter\")\n",
        "elif(age==18):\n",
        "  print(\"go to see Pink Floyd\")\n",
        "else: \n",
        "  print(\"go to see Meat Loaf\")\n",
        "print(\"move on\")\n"
      ],
      "metadata": {
        "id": "kWPWS1p8nYNQ",
        "outputId": "cb198221-ebca-4d6b-a38e-ec807b3af48c",
        "colab": {
          "base_uri": "https://localhost:8080/"
        }
      },
      "execution_count": null,
      "outputs": [
        {
          "output_type": "stream",
          "name": "stdout",
          "text": [
            "go to see Pink Floyd\n",
            "move on\n"
          ]
        }
      ]
    },
    {
      "cell_type": "code",
      "source": [
        "age=7\n",
        "if(age>18):\n",
        "  print(\"you can enter\")\n",
        "elif(age==18):\n",
        "  print(\"go to see Pink Floyd\")\n",
        "else: \n",
        "  print(\"go to see Meat Loaf\")\n",
        "print(\"move on\")"
      ],
      "metadata": {
        "id": "VDpFh6XsoV-6",
        "outputId": "38caaaf5-265d-443e-8925-114a588bafdb",
        "colab": {
          "base_uri": "https://localhost:8080/"
        }
      },
      "execution_count": null,
      "outputs": [
        {
          "output_type": "stream",
          "name": "stdout",
          "text": [
            "go to see Meat Loaf\n",
            "move on\n"
          ]
        }
      ]
    },
    {
      "cell_type": "markdown",
      "source": [
        "### Logic Operators"
      ],
      "metadata": {
        "id": "ELbiL_1coeMs"
      }
    },
    {
      "cell_type": "code",
      "source": [
        "not(True)"
      ],
      "metadata": {
        "id": "omSLqXC8obHM",
        "outputId": "ec67558d-f200-42f4-8787-f22bf546b0a0",
        "colab": {
          "base_uri": "https://localhost:8080/"
        }
      },
      "execution_count": null,
      "outputs": [
        {
          "output_type": "execute_result",
          "data": {
            "text/plain": [
              "False"
            ]
          },
          "metadata": {},
          "execution_count": 23
        }
      ]
    },
    {
      "cell_type": "code",
      "source": [
        "not(False)"
      ],
      "metadata": {
        "id": "-jIKowOzojQp",
        "outputId": "9a9b4cbd-f5e4-4486-a360-d34d87ec5ea1",
        "colab": {
          "base_uri": "https://localhost:8080/"
        }
      },
      "execution_count": null,
      "outputs": [
        {
          "output_type": "execute_result",
          "data": {
            "text/plain": [
              "True"
            ]
          },
          "metadata": {},
          "execution_count": 24
        }
      ]
    },
    {
      "cell_type": "code",
      "source": [
        "album_year=1990\n",
        "if(album_year<1980) or (album_year>1989):\n",
        "  print(\"The album was made in the 70's or 90's\")\n",
        "else:\n",
        "  print(\"The Album was made in the 1980's\")"
      ],
      "metadata": {
        "id": "EP-B11zZomHk",
        "outputId": "c9b9a564-152f-480d-d117-9bdfdb8716d1",
        "colab": {
          "base_uri": "https://localhost:8080/"
        }
      },
      "execution_count": null,
      "outputs": [
        {
          "output_type": "stream",
          "name": "stdout",
          "text": [
            "The album was made in the 70's or 90's\n"
          ]
        }
      ]
    },
    {
      "cell_type": "code",
      "source": [
        "album_year=1983\n",
        "if(album_year>1979) and (album_year<1990):\n",
        "  print(\"This album was made in the 80's\")"
      ],
      "metadata": {
        "id": "2nQMrVvppDsx",
        "outputId": "20f20a6b-4655-4cb7-db62-9c23d8b14431",
        "colab": {
          "base_uri": "https://localhost:8080/"
        }
      },
      "execution_count": null,
      "outputs": [
        {
          "output_type": "stream",
          "name": "stdout",
          "text": [
            "This album was made in the 80's\n"
          ]
        }
      ]
    },
    {
      "cell_type": "markdown",
      "source": [
        "## Loops"
      ],
      "metadata": {
        "id": "13sa76F-qxYs"
      }
    },
    {
      "cell_type": "code",
      "source": [
        "range(3) #[0,1,2]\n"
      ],
      "metadata": {
        "id": "IW6bEJ4dqRUR",
        "outputId": "94c3518d-a27c-4b90-e7f0-863b23147015",
        "colab": {
          "base_uri": "https://localhost:8080/"
        }
      },
      "execution_count": null,
      "outputs": [
        {
          "output_type": "execute_result",
          "data": {
            "text/plain": [
              "range(0, 3)"
            ]
          },
          "metadata": {},
          "execution_count": 33
        }
      ]
    },
    {
      "cell_type": "code",
      "source": [
        "range(10,15) #[10,11,12,13,14]"
      ],
      "metadata": {
        "id": "9RVvXj39rVWX",
        "outputId": "81b63779-8575-4f56-f50a-f7617f9cffc6",
        "colab": {
          "base_uri": "https://localhost:8080/"
        }
      },
      "execution_count": null,
      "outputs": [
        {
          "output_type": "execute_result",
          "data": {
            "text/plain": [
              "range(10, 15)"
            ]
          },
          "metadata": {},
          "execution_count": 34
        }
      ]
    },
    {
      "cell_type": "markdown",
      "source": [
        "### for loops"
      ],
      "metadata": {
        "id": "qyIu6CJXr2pZ"
      }
    },
    {
      "cell_type": "code",
      "source": [
        "squares=[\"red\",\"yellow\",\"green\",\"purple\",\"blue\"]\n",
        "for i  in range(0,5): # o for i in range(0,len(squares)):\n",
        "  squares[i]=\"white\"\n",
        "print(squares)"
      ],
      "metadata": {
        "id": "xakkhlAEre1E",
        "outputId": "e5361327-c448-43d1-f4d6-b92f803306fa",
        "colab": {
          "base_uri": "https://localhost:8080/"
        }
      },
      "execution_count": null,
      "outputs": [
        {
          "output_type": "stream",
          "name": "stdout",
          "text": [
            "['white', 'white', 'white', 'white', 'white']\n"
          ]
        }
      ]
    },
    {
      "cell_type": "code",
      "source": [
        "squares=[\"red\",\"yellow\",\"green\"]"
      ],
      "metadata": {
        "id": "3zmpuUmeX6RI"
      },
      "execution_count": null,
      "outputs": []
    },
    {
      "cell_type": "code",
      "source": [
        "for square in squares:\n",
        "  print(square)"
      ],
      "metadata": {
        "id": "fcnjZIRjWm_l",
        "outputId": "e9912703-0fbc-4647-802e-4f7620af00a5",
        "colab": {
          "base_uri": "https://localhost:8080/"
        }
      },
      "execution_count": null,
      "outputs": [
        {
          "output_type": "stream",
          "name": "stdout",
          "text": [
            "red\n",
            "yellow\n",
            "green\n"
          ]
        }
      ]
    },
    {
      "cell_type": "code",
      "source": [
        "for i, square in enumerate(squares):\n",
        "  print(square,i)"
      ],
      "metadata": {
        "id": "vQzFnGDhXtX5",
        "outputId": "65afb7d4-95ef-4f39-b135-ae6f79471e41",
        "colab": {
          "base_uri": "https://localhost:8080/"
        }
      },
      "execution_count": null,
      "outputs": [
        {
          "output_type": "stream",
          "name": "stdout",
          "text": [
            "red 0\n",
            "yellow 1\n",
            "green 2\n"
          ]
        }
      ]
    },
    {
      "cell_type": "markdown",
      "source": [
        "### while loops"
      ],
      "metadata": {
        "id": "SluXZ4TTYgMJ"
      }
    },
    {
      "cell_type": "code",
      "source": [
        "squares=[\"orange\",\"orange\",\"purple\",\"blue\"]\n",
        "Newsquares=[] #creamos un array vacio donde pondremos el array squares\n",
        "i=0 #empezamos en cero\n",
        "while(squares[i]==\"orange\"):\n",
        "  Newsquares.append(squares[i]) #el append agrega un nuevo elemento en el array Newsquares\n",
        "  i=i+1 #esto se hace para que el ciclo siga avanzando\n",
        "print(Newsquares)"
      ],
      "metadata": {
        "id": "0E2JeS8xYA9B",
        "outputId": "c2744d89-cf61-4aba-be76-e6c3b6f913a4",
        "colab": {
          "base_uri": "https://localhost:8080/"
        }
      },
      "execution_count": null,
      "outputs": [
        {
          "output_type": "stream",
          "name": "stdout",
          "text": [
            "['orange', 'orange']\n"
          ]
        }
      ]
    },
    {
      "cell_type": "code",
      "source": [
        "A=[3,4,5]\n",
        "for a in A:\n",
        "  print(a)"
      ],
      "metadata": {
        "id": "KwVzpw2jY8XV",
        "outputId": "66a87495-6875-4bb8-9028-75fed672fee7",
        "colab": {
          "base_uri": "https://localhost:8080/"
        }
      },
      "execution_count": null,
      "outputs": [
        {
          "output_type": "stream",
          "name": "stdout",
          "text": [
            "3\n",
            "4\n",
            "5\n"
          ]
        }
      ]
    },
    {
      "cell_type": "code",
      "source": [
        "x=3\n",
        "y=1\n",
        "while(y!=x):\n",
        "  print(y)\n",
        "  y=y+1"
      ],
      "metadata": {
        "id": "KcW_cWB8ZmmN",
        "outputId": "03a83536-95ca-4281-8282-a5b7ab830f0c",
        "colab": {
          "base_uri": "https://localhost:8080/"
        }
      },
      "execution_count": null,
      "outputs": [
        {
          "output_type": "stream",
          "name": "stdout",
          "text": [
            "1\n",
            "2\n"
          ]
        }
      ]
    },
    {
      "cell_type": "markdown",
      "source": [
        "## functions"
      ],
      "metadata": {
        "id": "REOPi0ZFZ8MF"
      }
    },
    {
      "cell_type": "code",
      "source": [
        "def function(a):\n",
        "  b=a+1\n",
        "  print(a,\" + 1 =\",b)\n",
        "  return b\n",
        "function(2)"
      ],
      "metadata": {
        "id": "rPHXpGmAZvgZ",
        "outputId": "663f9620-2496-4f76-bebe-f258414d5946",
        "colab": {
          "base_uri": "https://localhost:8080/"
        }
      },
      "execution_count": null,
      "outputs": [
        {
          "output_type": "stream",
          "name": "stdout",
          "text": [
            "2  + 1 = 3\n"
          ]
        },
        {
          "output_type": "execute_result",
          "data": {
            "text/plain": [
              "3"
            ]
          },
          "metadata": {},
          "execution_count": 27
        }
      ]
    },
    {
      "cell_type": "code",
      "source": [
        "def f1(input):\n",
        "  output=input+1\n",
        "  return output\n",
        "f1(5)"
      ],
      "metadata": {
        "id": "hTKJlSxtaRD5",
        "outputId": "209ac11d-c50f-49aa-b144-0ffc0760207d",
        "colab": {
          "base_uri": "https://localhost:8080/"
        }
      },
      "execution_count": null,
      "outputs": [
        {
          "output_type": "execute_result",
          "data": {
            "text/plain": [
              "6"
            ]
          },
          "metadata": {},
          "execution_count": 28
        }
      ]
    },
    {
      "cell_type": "code",
      "source": [
        "def f2(input):\n",
        "  output=input*2\n",
        "  return output\n",
        "f2(5)"
      ],
      "metadata": {
        "id": "RzH4KoSfati5",
        "outputId": "a99f360f-ee75-4456-d828-d5e0e064a76a",
        "colab": {
          "base_uri": "https://localhost:8080/"
        }
      },
      "execution_count": null,
      "outputs": [
        {
          "output_type": "execute_result",
          "data": {
            "text/plain": [
              "10"
            ]
          },
          "metadata": {},
          "execution_count": 29
        }
      ]
    },
    {
      "cell_type": "markdown",
      "source": [
        "### len\n",
        "la función len() nos devuelve la logitud de un array"
      ],
      "metadata": {
        "id": "tKNqw8C6bNWj"
      }
    },
    {
      "cell_type": "code",
      "source": [
        "album_ratings=[10.0,8.5,9.5,7.0,7.0,9.5,9.0,9.5]\n",
        "L=len(album_ratings)\n",
        "L"
      ],
      "metadata": {
        "id": "4JDWfILYa4fq",
        "outputId": "dab61e17-09c2-40ef-c610-5a1514fcd36f",
        "colab": {
          "base_uri": "https://localhost:8080/"
        }
      },
      "execution_count": null,
      "outputs": [
        {
          "output_type": "execute_result",
          "data": {
            "text/plain": [
              "8"
            ]
          },
          "metadata": {},
          "execution_count": 31
        }
      ]
    },
    {
      "cell_type": "markdown",
      "source": [
        "### sum\n",
        "la función sum() suma todos los elementos en un array númerico"
      ],
      "metadata": {
        "id": "-TRTfsbSbuxk"
      }
    },
    {
      "cell_type": "code",
      "source": [
        "S=sum(album_ratings)\n",
        "round(S)"
      ],
      "metadata": {
        "id": "qy6SEWjDbYYy",
        "outputId": "0e3ed34a-53d1-44d6-ad4a-4c41ed2047e1",
        "colab": {
          "base_uri": "https://localhost:8080/"
        }
      },
      "execution_count": null,
      "outputs": [
        {
          "output_type": "execute_result",
          "data": {
            "text/plain": [
              "70"
            ]
          },
          "metadata": {},
          "execution_count": 34
        }
      ]
    },
    {
      "cell_type": "markdown",
      "source": [
        "### Función sorted\n",
        "sirve para acomodar los elementos "
      ],
      "metadata": {
        "id": "4v4W-7XJcG1n"
      }
    },
    {
      "cell_type": "code",
      "source": [
        "sorted_album_rating=sorted(album_ratings)\n",
        "sorted_album_rating"
      ],
      "metadata": {
        "id": "Z_lVsvpHb4je",
        "outputId": "e9bd0c7f-5a72-4862-e37c-48d55981cd7a",
        "colab": {
          "base_uri": "https://localhost:8080/"
        }
      },
      "execution_count": null,
      "outputs": [
        {
          "output_type": "execute_result",
          "data": {
            "text/plain": [
              "[7.0, 7.0, 8.5, 9.0, 9.5, 9.5, 9.5, 10.0]"
            ]
          },
          "metadata": {},
          "execution_count": 35
        }
      ]
    },
    {
      "cell_type": "code",
      "source": [
        "album_ratings"
      ],
      "metadata": {
        "id": "F6tZH7Y3cVm9",
        "outputId": "968243e2-9ef9-4de9-fe1d-1a85907d81d0",
        "colab": {
          "base_uri": "https://localhost:8080/"
        }
      },
      "execution_count": null,
      "outputs": [
        {
          "output_type": "execute_result",
          "data": {
            "text/plain": [
              "[10.0, 8.5, 9.5, 7.0, 7.0, 9.5, 9.0, 9.5]"
            ]
          },
          "metadata": {},
          "execution_count": 36
        }
      ]
    },
    {
      "cell_type": "markdown",
      "source": [
        "### Método sort\n",
        "Este método lo que hará es ordenar los elementos, pero modifica el array original"
      ],
      "metadata": {
        "id": "TYk_IwQbcemk"
      }
    },
    {
      "cell_type": "code",
      "source": [
        "album_ratings.sort()"
      ],
      "metadata": {
        "id": "btSHVuY3cbm8"
      },
      "execution_count": null,
      "outputs": []
    },
    {
      "cell_type": "code",
      "source": [
        "album_ratings"
      ],
      "metadata": {
        "id": "L1ieBk3tcw_W",
        "outputId": "6ed4312e-1229-47b9-fe2f-1191809edb01",
        "colab": {
          "base_uri": "https://localhost:8080/"
        }
      },
      "execution_count": null,
      "outputs": [
        {
          "output_type": "execute_result",
          "data": {
            "text/plain": [
              "[7.0, 7.0, 8.5, 9.0, 9.5, 9.5, 9.5, 10.0]"
            ]
          },
          "metadata": {},
          "execution_count": 39
        }
      ]
    },
    {
      "cell_type": "markdown",
      "source": [
        "\n",
        "### Making functions"
      ],
      "metadata": {
        "id": "J2ANRAlZc7Ru"
      }
    },
    {
      "cell_type": "code",
      "source": [
        "def add1(a):\n",
        "  b=a+1\n",
        "  return b"
      ],
      "metadata": {
        "id": "fstW8b79c9in"
      },
      "execution_count": null,
      "outputs": []
    },
    {
      "cell_type": "code",
      "source": [
        "add1(5)"
      ],
      "metadata": {
        "id": "nPUq-asXdA_6",
        "outputId": "8b900029-d163-4552-a784-ccc1e4727395",
        "colab": {
          "base_uri": "https://localhost:8080/"
        }
      },
      "execution_count": null,
      "outputs": [
        {
          "output_type": "execute_result",
          "data": {
            "text/plain": [
              "6"
            ]
          },
          "metadata": {},
          "execution_count": 41
        }
      ]
    },
    {
      "cell_type": "code",
      "source": [
        "c=add1(10)\n",
        "c"
      ],
      "metadata": {
        "id": "t5IcjSEWdKGh",
        "outputId": "f7bcf85b-f0ba-4585-a47a-a8770d61febf",
        "colab": {
          "base_uri": "https://localhost:8080/"
        }
      },
      "execution_count": null,
      "outputs": [
        {
          "output_type": "execute_result",
          "data": {
            "text/plain": [
              "11"
            ]
          },
          "metadata": {},
          "execution_count": 42
        }
      ]
    },
    {
      "cell_type": "code",
      "source": [
        "c=add1(5)\n",
        "c"
      ],
      "metadata": {
        "id": "ID86QySadSEj",
        "outputId": "b516aac8-bb56-419a-82ea-100d1c6d079b",
        "colab": {
          "base_uri": "https://localhost:8080/"
        }
      },
      "execution_count": null,
      "outputs": [
        {
          "output_type": "execute_result",
          "data": {
            "text/plain": [
              "6"
            ]
          },
          "metadata": {},
          "execution_count": 44
        }
      ]
    },
    {
      "cell_type": "code",
      "source": [
        "d=add1(8)\n",
        "d"
      ],
      "metadata": {
        "id": "6LZBRnYjdaqZ",
        "outputId": "cdb66599-7cb9-4863-d67c-a359af14ab30",
        "colab": {
          "base_uri": "https://localhost:8080/"
        }
      },
      "execution_count": null,
      "outputs": [
        {
          "output_type": "execute_result",
          "data": {
            "text/plain": [
              "9"
            ]
          },
          "metadata": {},
          "execution_count": 46
        }
      ]
    },
    {
      "cell_type": "code",
      "source": [
        "def add1(a):\n",
        "  \"\"\"\n",
        "  add 1 to a\n",
        "  \"\"\"\n",
        "  b=a+1;\n",
        "  return b\n",
        "  "
      ],
      "metadata": {
        "id": "vAFyVSnQdeOH"
      },
      "execution_count": null,
      "outputs": []
    },
    {
      "cell_type": "code",
      "source": [
        "help(add1)"
      ],
      "metadata": {
        "id": "fTO-aqaudoFP",
        "outputId": "bd46cd19-fa58-49a0-b849-94bdf8a439e9",
        "colab": {
          "base_uri": "https://localhost:8080/"
        }
      },
      "execution_count": null,
      "outputs": [
        {
          "output_type": "stream",
          "name": "stdout",
          "text": [
            "Help on function add1 in module __main__:\n",
            "\n",
            "add1(a)\n",
            "    add 1 to a\n",
            "\n"
          ]
        }
      ]
    },
    {
      "cell_type": "code",
      "source": [
        "def Mult(a,b):\n",
        "  c=a*b\n",
        "  return c"
      ],
      "metadata": {
        "id": "yR-nVDB5d7yu"
      },
      "execution_count": null,
      "outputs": []
    },
    {
      "cell_type": "code",
      "source": [
        "Mult(2,3)"
      ],
      "metadata": {
        "id": "QboEdOyueIxm",
        "outputId": "f8431cee-4b71-43b7-962d-a5e2dd884359",
        "colab": {
          "base_uri": "https://localhost:8080/"
        }
      },
      "execution_count": null,
      "outputs": [
        {
          "output_type": "execute_result",
          "data": {
            "text/plain": [
              "6"
            ]
          },
          "metadata": {},
          "execution_count": 54
        }
      ]
    },
    {
      "cell_type": "code",
      "source": [
        "round(Mult(10,3.14),1)"
      ],
      "metadata": {
        "id": "jmu1OT8qeLdm",
        "outputId": "51766b8f-b918-481b-d6f1-d923d5f4b4e7",
        "colab": {
          "base_uri": "https://localhost:8080/"
        }
      },
      "execution_count": null,
      "outputs": [
        {
          "output_type": "execute_result",
          "data": {
            "text/plain": [
              "31.4"
            ]
          },
          "metadata": {},
          "execution_count": 57
        }
      ]
    },
    {
      "cell_type": "code",
      "source": [
        "Mult(2,\"Michael Jackson \") #si metemos strings en esta función se multiplican, importante al menos un valor debe ser númerico"
      ],
      "metadata": {
        "id": "DM5Kdro7eQAt",
        "outputId": "f08a4419-3ce0-415d-8fff-0a5545a745d2",
        "colab": {
          "base_uri": "https://localhost:8080/",
          "height": 36
        }
      },
      "execution_count": null,
      "outputs": [
        {
          "output_type": "execute_result",
          "data": {
            "text/plain": [
              "'Michael Jackson Michael Jackson '"
            ],
            "application/vnd.google.colaboratory.intrinsic+json": {
              "type": "string"
            }
          },
          "metadata": {},
          "execution_count": 60
        }
      ]
    },
    {
      "cell_type": "code",
      "source": [
        "def MJ(): #también se puede usar una función sin paramétros\n",
        "  print(\"Michael Jackson\")"
      ],
      "metadata": {
        "id": "47g_NdI9ebyh"
      },
      "execution_count": null,
      "outputs": []
    },
    {
      "cell_type": "code",
      "source": [
        "MJ()"
      ],
      "metadata": {
        "id": "-1f7RsTye2K_",
        "outputId": "02202484-ec48-41b5-b4a6-fcc15e63e908",
        "colab": {
          "base_uri": "https://localhost:8080/"
        }
      },
      "execution_count": null,
      "outputs": [
        {
          "output_type": "stream",
          "name": "stdout",
          "text": [
            "Michael Jackson\n"
          ]
        }
      ]
    },
    {
      "cell_type": "code",
      "source": [
        "def NoWork():\n",
        "  pass\n",
        "  return None\n",
        "print(NoWork())"
      ],
      "metadata": {
        "id": "imT1ISzue3lP",
        "outputId": "bbe88e92-2799-471c-d0cd-020a6e95013f",
        "colab": {
          "base_uri": "https://localhost:8080/"
        }
      },
      "execution_count": null,
      "outputs": [
        {
          "output_type": "stream",
          "name": "stdout",
          "text": [
            "None\n"
          ]
        }
      ]
    },
    {
      "cell_type": "code",
      "source": [
        "def add1(a):\n",
        "  b=a+1\n",
        "  print(a,\"plus 1 equals \",b)\n",
        "  return b"
      ],
      "metadata": {
        "id": "HsILBg_hfUy3"
      },
      "execution_count": null,
      "outputs": []
    },
    {
      "cell_type": "code",
      "source": [
        "add1(2)"
      ],
      "metadata": {
        "id": "FU1ShmhpfiDF",
        "outputId": "05b3c076-fa4f-4ce2-dd29-6eb749233286",
        "colab": {
          "base_uri": "https://localhost:8080/"
        }
      },
      "execution_count": null,
      "outputs": [
        {
          "output_type": "stream",
          "name": "stdout",
          "text": [
            "2 plus 1 equals  3\n"
          ]
        },
        {
          "output_type": "execute_result",
          "data": {
            "text/plain": [
              "3"
            ]
          },
          "metadata": {},
          "execution_count": 67
        }
      ]
    },
    {
      "cell_type": "code",
      "source": [
        "def printStuff(Stuff):\n",
        "  for i,s in enumerate (Stuff):\n",
        "    print(\"Album\",i,\"Rating is \",s)"
      ],
      "metadata": {
        "id": "_Z9o1kA1fjVJ"
      },
      "execution_count": null,
      "outputs": []
    },
    {
      "cell_type": "code",
      "source": [
        "album_ratings=[10.0,8.5,9.5]\n",
        "printStuff(album_ratings)"
      ],
      "metadata": {
        "id": "6O4eAqhof6by",
        "outputId": "e5d7253e-57f9-4216-bec3-04f0d9e01f0d",
        "colab": {
          "base_uri": "https://localhost:8080/"
        }
      },
      "execution_count": null,
      "outputs": [
        {
          "output_type": "stream",
          "name": "stdout",
          "text": [
            "Album 0 Rating is  10.0\n",
            "Album 1 Rating is  8.5\n",
            "Album 2 Rating is  9.5\n"
          ]
        }
      ]
    },
    {
      "cell_type": "markdown",
      "source": [
        "### Collecting arguments"
      ],
      "metadata": {
        "id": "cX1EE-EngbdP"
      }
    },
    {
      "cell_type": "code",
      "source": [
        "def ArtistNames(*names): #el asterisco es para que no se tenga que definir el número de elementos\n",
        "  for name in names:\n",
        "    print(name)\n",
        "\n",
        "ArtistNames(\"Michael Jackson\",\"AC/DC\",\"Pink Floyd\")"
      ],
      "metadata": {
        "id": "8VcFS19-f9DP",
        "outputId": "62292d06-9a34-489a-f89d-628a674105bd",
        "colab": {
          "base_uri": "https://localhost:8080/"
        }
      },
      "execution_count": null,
      "outputs": [
        {
          "output_type": "stream",
          "name": "stdout",
          "text": [
            "Michael Jackson\n",
            "AC/DC\n",
            "Pink Floyd\n"
          ]
        }
      ]
    },
    {
      "cell_type": "code",
      "source": [
        "ArtistNames(\"Michael Jackson\",\"AC/DC\")"
      ],
      "metadata": {
        "id": "9WoMN-5Mg1a6",
        "outputId": "16250174-940a-48d7-b319-02c92a2f3cca",
        "colab": {
          "base_uri": "https://localhost:8080/"
        }
      },
      "execution_count": null,
      "outputs": [
        {
          "output_type": "stream",
          "name": "stdout",
          "text": [
            "Michael Jackson\n",
            "AC/DC\n"
          ]
        }
      ]
    },
    {
      "cell_type": "markdown",
      "source": [
        "### Scope\n",
        "Las funciones son accesibles desde cualquier parte del código, por lo que son globales"
      ],
      "metadata": {
        "id": "e16rRVtZhFZM"
      }
    },
    {
      "cell_type": "code",
      "source": [
        "def AddDC(y):\n",
        "  global x #importante ponerle el global para poder usar la variable fuera de la función\n",
        "  x=x+\"DC\"\n",
        "  print(x)\n",
        "  return(x)"
      ],
      "metadata": {
        "id": "EaAyn8GshB-h"
      },
      "execution_count": null,
      "outputs": []
    },
    {
      "cell_type": "code",
      "source": [
        "x=\"AC\"\n",
        "z=AddDC(x)"
      ],
      "metadata": {
        "id": "gKOfJOs_jXop",
        "outputId": "72a9b297-837d-4d15-fed2-4f5bd7f60b65",
        "colab": {
          "base_uri": "https://localhost:8080/"
        }
      },
      "execution_count": null,
      "outputs": [
        {
          "output_type": "stream",
          "name": "stdout",
          "text": [
            "ACDC\n"
          ]
        }
      ]
    },
    {
      "cell_type": "markdown",
      "source": [
        "#### Local Variables"
      ],
      "metadata": {
        "id": "FL2G30LXkIoB"
      }
    },
    {
      "cell_type": "code",
      "source": [
        "def Thriller():\n",
        "  Date=1982 #local\n",
        "  return Date"
      ],
      "metadata": {
        "id": "VznNj95Jjjj-"
      },
      "execution_count": null,
      "outputs": []
    },
    {
      "cell_type": "code",
      "source": [
        "Date=2017 #global"
      ],
      "metadata": {
        "id": "by7SgdnikEWz"
      },
      "execution_count": null,
      "outputs": []
    },
    {
      "cell_type": "code",
      "source": [
        "Thriller() #alcance local"
      ],
      "metadata": {
        "id": "cR4wdHy9kC58",
        "outputId": "16dbf5bb-e6c4-4361-fbbd-75b90e489fdd",
        "colab": {
          "base_uri": "https://localhost:8080/"
        }
      },
      "execution_count": null,
      "outputs": [
        {
          "output_type": "execute_result",
          "data": {
            "text/plain": [
              "1982"
            ]
          },
          "metadata": {},
          "execution_count": 102
        }
      ]
    },
    {
      "cell_type": "code",
      "source": [
        "print(Date) #alcance global"
      ],
      "metadata": {
        "id": "DrMrBiNAktEk",
        "outputId": "dc45fa76-a239-46ac-b20c-f7a91277ab5b",
        "colab": {
          "base_uri": "https://localhost:8080/"
        }
      },
      "execution_count": null,
      "outputs": [
        {
          "output_type": "stream",
          "name": "stdout",
          "text": [
            "2017\n"
          ]
        }
      ]
    },
    {
      "cell_type": "code",
      "source": [
        "def ACDC(y):\n",
        "  print(Rating) #aqui no definimos rating\n",
        "  return(Rating+y)\n",
        "\n",
        "Rating=9 #lo hicimos aquí\n",
        "\n",
        "Z=ACDC(1) #este valor será de 10\n",
        "\n",
        "print(Rating)"
      ],
      "metadata": {
        "id": "tipGYZeykut6",
        "outputId": "b567dccf-9930-415d-fb7f-464936dbd771",
        "colab": {
          "base_uri": "https://localhost:8080/"
        }
      },
      "execution_count": null,
      "outputs": [
        {
          "output_type": "stream",
          "name": "stdout",
          "text": [
            "9\n",
            "9\n"
          ]
        }
      ]
    },
    {
      "cell_type": "code",
      "source": [
        "def PinkFloyd():\n",
        "  global ClaimedSales #al poner que es una variable global se podrá usar en otras partes del código\n",
        "  ClaimedSales=\"45 million\"\n",
        "  return ClaimedSales\n",
        "PinkFloyd() #llamamos la función para poder imprimir la variable claimedsales fuera de la función\n",
        "print(ClaimedSales)"
      ],
      "metadata": {
        "id": "ZZxj5JXElWf5",
        "outputId": "4efb05d4-6d56-4c03-fca4-f2c4bf17365b",
        "colab": {
          "base_uri": "https://localhost:8080/"
        }
      },
      "execution_count": null,
      "outputs": [
        {
          "output_type": "stream",
          "name": "stdout",
          "text": [
            "45 million\n"
          ]
        }
      ]
    },
    {
      "cell_type": "code",
      "source": [
        "a=1\n",
        "def add(b):\n",
        "  return a+b\n",
        "c=add(10)\n",
        "c"
      ],
      "metadata": {
        "id": "l-8I0iu1l7gY",
        "outputId": "d3ed8dae-5ce0-4a15-e16f-0fb52f4368b2",
        "colab": {
          "base_uri": "https://localhost:8080/"
        }
      },
      "execution_count": null,
      "outputs": [
        {
          "output_type": "execute_result",
          "data": {
            "text/plain": [
              "11"
            ]
          },
          "metadata": {},
          "execution_count": 109
        }
      ]
    },
    {
      "cell_type": "code",
      "source": [
        "def f(*x):\n",
        "  return sum(x)\n",
        "f(1,2)"
      ],
      "metadata": {
        "id": "_rVM4awqmfly",
        "outputId": "db069494-2ccf-4afa-84c7-96b3873da324",
        "colab": {
          "base_uri": "https://localhost:8080/"
        }
      },
      "execution_count": null,
      "outputs": [
        {
          "output_type": "execute_result",
          "data": {
            "text/plain": [
              "3"
            ]
          },
          "metadata": {},
          "execution_count": 110
        }
      ]
    },
    {
      "cell_type": "markdown",
      "source": [
        "## Objetos y clases\n",
        "Cada objeto tiene:\n",
        "* un tipo\n",
        "* una representación interna de los datos\n",
        "* una lista de procedimientos para interactuar con el objeto (métodos)\n",
        "\n",
        "Un objeto es una instancia de un tipo particular"
      ],
      "metadata": {
        "id": "ADPFFQ3Tm5iq"
      }
    },
    {
      "cell_type": "markdown",
      "source": [
        "Instancia de tipo int"
      ],
      "metadata": {
        "id": "VzxoAsunn1tO"
      }
    },
    {
      "cell_type": "code",
      "source": [
        "1"
      ],
      "metadata": {
        "id": "WwC8h5BRm8Hl",
        "outputId": "8d9efcac-8e22-45ff-d83d-bcbd77c7c825",
        "colab": {
          "base_uri": "https://localhost:8080/"
        }
      },
      "execution_count": null,
      "outputs": [
        {
          "output_type": "execute_result",
          "data": {
            "text/plain": [
              "1"
            ]
          },
          "metadata": {},
          "execution_count": 111
        }
      ]
    },
    {
      "cell_type": "code",
      "source": [
        "12"
      ],
      "metadata": {
        "id": "jWnKuB5an5RX",
        "outputId": "99dd89fd-253a-488c-9694-8f47f43a50cb",
        "colab": {
          "base_uri": "https://localhost:8080/"
        }
      },
      "execution_count": null,
      "outputs": [
        {
          "output_type": "execute_result",
          "data": {
            "text/plain": [
              "12"
            ]
          },
          "metadata": {},
          "execution_count": 112
        }
      ]
    },
    {
      "cell_type": "code",
      "source": [
        "391"
      ],
      "metadata": {
        "id": "sYrudTEFn6X7",
        "outputId": "a5e5fe42-3e3a-4282-b329-1f066c3bfe3b",
        "colab": {
          "base_uri": "https://localhost:8080/"
        }
      },
      "execution_count": null,
      "outputs": [
        {
          "output_type": "execute_result",
          "data": {
            "text/plain": [
              "391"
            ]
          },
          "metadata": {},
          "execution_count": 113
        }
      ]
    },
    {
      "cell_type": "code",
      "source": [
        "78"
      ],
      "metadata": {
        "id": "f0w3Qx5en7UJ",
        "outputId": "7e7c37f6-0c27-42fc-f7d3-b0d0c24394a7",
        "colab": {
          "base_uri": "https://localhost:8080/"
        }
      },
      "execution_count": null,
      "outputs": [
        {
          "output_type": "execute_result",
          "data": {
            "text/plain": [
              "78"
            ]
          },
          "metadata": {},
          "execution_count": 114
        }
      ]
    },
    {
      "cell_type": "code",
      "source": [
        "32"
      ],
      "metadata": {
        "id": "bAOzMXX5n7v8",
        "outputId": "4ccacabd-56ca-4b01-8d36-1dcf595dde99",
        "colab": {
          "base_uri": "https://localhost:8080/"
        }
      },
      "execution_count": null,
      "outputs": [
        {
          "output_type": "execute_result",
          "data": {
            "text/plain": [
              "32"
            ]
          },
          "metadata": {},
          "execution_count": 115
        }
      ]
    },
    {
      "cell_type": "markdown",
      "source": [
        "Instancia de tipo lista o objeto de tipo lista"
      ],
      "metadata": {
        "id": "0dVXbYdtn9_K"
      }
    },
    {
      "cell_type": "code",
      "source": [
        "A=[1,34,3]\n",
        "B=[\"a\",\"abc\",\"rfd\"]\n",
        "C=[\"a\",34,9]\n",
        "E=[False,True,True]\n",
        "F=[]"
      ],
      "metadata": {
        "id": "kOPElulun8sH"
      },
      "execution_count": null,
      "outputs": []
    },
    {
      "cell_type": "code",
      "source": [
        "type([1,34,3])"
      ],
      "metadata": {
        "id": "ZIl2625JoO89",
        "outputId": "a949fdca-d38f-44d0-9ccc-f083abe854ae",
        "colab": {
          "base_uri": "https://localhost:8080/"
        }
      },
      "execution_count": null,
      "outputs": [
        {
          "output_type": "execute_result",
          "data": {
            "text/plain": [
              "list"
            ]
          },
          "metadata": {},
          "execution_count": 118
        }
      ]
    },
    {
      "cell_type": "code",
      "source": [
        "type(1)"
      ],
      "metadata": {
        "id": "FGtR5klKobNA",
        "outputId": "3f31cedf-e2fa-4942-e630-bb4214822548",
        "colab": {
          "base_uri": "https://localhost:8080/"
        }
      },
      "execution_count": null,
      "outputs": [
        {
          "output_type": "execute_result",
          "data": {
            "text/plain": [
              "int"
            ]
          },
          "metadata": {},
          "execution_count": 119
        }
      ]
    },
    {
      "cell_type": "code",
      "source": [
        "type(\"The Cat is yellow\")"
      ],
      "metadata": {
        "id": "-ImNpUvVoceC",
        "outputId": "2a3caa0d-126b-4846-df0e-de58aa1a4dac",
        "colab": {
          "base_uri": "https://localhost:8080/"
        }
      },
      "execution_count": null,
      "outputs": [
        {
          "output_type": "execute_result",
          "data": {
            "text/plain": [
              "str"
            ]
          },
          "metadata": {},
          "execution_count": 120
        }
      ]
    },
    {
      "cell_type": "code",
      "source": [
        "type({\"dog\":1,\"Cat\":2})"
      ],
      "metadata": {
        "id": "xdegW1B3ohNr",
        "outputId": "77b55455-0990-42d9-92c7-50c1e5cd03ae",
        "colab": {
          "base_uri": "https://localhost:8080/"
        }
      },
      "execution_count": null,
      "outputs": [
        {
          "output_type": "execute_result",
          "data": {
            "text/plain": [
              "dict"
            ]
          },
          "metadata": {},
          "execution_count": 121
        }
      ]
    },
    {
      "cell_type": "markdown",
      "source": [
        "### Métodos\n",
        "* Son tipos o clases de métodos son funciones que cada instancia de esa clase o tipo provee\n",
        "* Es como interactúan los datos con un objeto\n",
        "* Sorting es un ejemplo de un método que interactúa con los datos de un objeto"
      ],
      "metadata": {
        "id": "pyMYu-hcopdW"
      }
    },
    {
      "cell_type": "code",
      "source": [
        "Ratings=[10,9,6,5,10,8,9,6,2]\n",
        "Ratings.sort()\n",
        "Ratings"
      ],
      "metadata": {
        "id": "QFUehETIolUN",
        "outputId": "880e00a5-d1b6-4d11-a3f1-5f8cb82344ff",
        "colab": {
          "base_uri": "https://localhost:8080/"
        }
      },
      "execution_count": null,
      "outputs": [
        {
          "output_type": "execute_result",
          "data": {
            "text/plain": [
              "[2, 5, 6, 6, 8, 9, 9, 10, 10]"
            ]
          },
          "metadata": {},
          "execution_count": 123
        }
      ]
    },
    {
      "cell_type": "code",
      "source": [
        "Ratings.reverse() #invierte el orden al revés\n",
        "Ratings"
      ],
      "metadata": {
        "id": "2fVVHiGvpK0o",
        "outputId": "be77f2c0-8a76-4ff9-bf97-21b71d188e56",
        "colab": {
          "base_uri": "https://localhost:8080/"
        }
      },
      "execution_count": null,
      "outputs": [
        {
          "output_type": "execute_result",
          "data": {
            "text/plain": [
              "[10, 10, 9, 9, 8, 6, 6, 5, 2]"
            ]
          },
          "metadata": {},
          "execution_count": 132
        }
      ]
    },
    {
      "cell_type": "markdown",
      "source": [
        "### Create a class: Circle"
      ],
      "metadata": {
        "id": "WieQZiU9pynR"
      }
    },
    {
      "cell_type": "code",
      "source": [
        "class Circle(object):\n",
        "\n",
        "  def __init__(self,radius,color): #init le indica a python que estas creando una nueva clase, self se refiere a la nueva instancia del parámetro\n",
        "    self.radius=radius\n",
        "    self.color=color"
      ],
      "metadata": {
        "id": "nMUToo8dpaed"
      },
      "execution_count": null,
      "outputs": []
    },
    {
      "cell_type": "markdown",
      "source": [
        "### Create a class: Rectangle"
      ],
      "metadata": {
        "id": "IPXMtxP8rLKg"
      }
    },
    {
      "cell_type": "code",
      "source": [
        "class Rectangle(object):\n",
        "  def __init__(self,color,height,width):\n",
        "    self.height=height\n",
        "    self.width=width\n",
        "    self.color=color"
      ],
      "metadata": {
        "id": "pufRuze2qsHY"
      },
      "execution_count": null,
      "outputs": []
    },
    {
      "cell_type": "markdown",
      "source": [
        "### Create an Instance of a Class: Circle"
      ],
      "metadata": {
        "id": "WNfmma8mrcWy"
      }
    },
    {
      "cell_type": "code",
      "source": [
        "RedCircle=Circle(10,\"red\")"
      ],
      "metadata": {
        "id": "VEYf7JTSrZ-0"
      },
      "execution_count": null,
      "outputs": []
    },
    {
      "cell_type": "code",
      "source": [
        "C1=Circle(10,\"red\")"
      ],
      "metadata": {
        "id": "2zwoZVmKrmpy"
      },
      "execution_count": null,
      "outputs": []
    },
    {
      "cell_type": "code",
      "source": [
        "C1.radius"
      ],
      "metadata": {
        "id": "8RhFa-fxrqWu",
        "outputId": "5e2ead54-7d76-40a5-9c18-ea0714f0b826",
        "colab": {
          "base_uri": "https://localhost:8080/"
        }
      },
      "execution_count": null,
      "outputs": [
        {
          "output_type": "execute_result",
          "data": {
            "text/plain": [
              "10"
            ]
          },
          "metadata": {},
          "execution_count": 141
        }
      ]
    },
    {
      "cell_type": "code",
      "source": [
        "C1.color"
      ],
      "metadata": {
        "id": "GkckDvGjr9Ot",
        "outputId": "3bb0ff1f-22e1-46e4-e3d1-a8d51666f449",
        "colab": {
          "base_uri": "https://localhost:8080/",
          "height": 36
        }
      },
      "execution_count": null,
      "outputs": [
        {
          "output_type": "execute_result",
          "data": {
            "text/plain": [
              "'red'"
            ],
            "application/vnd.google.colaboratory.intrinsic+json": {
              "type": "string"
            }
          },
          "metadata": {},
          "execution_count": 142
        }
      ]
    },
    {
      "cell_type": "code",
      "source": [
        "C1.color=\"blue\" #podemos cambiar un atributo de una clase"
      ],
      "metadata": {
        "id": "T1U1GU6wr-b3"
      },
      "execution_count": null,
      "outputs": []
    },
    {
      "cell_type": "code",
      "source": [
        "C1.color"
      ],
      "metadata": {
        "id": "OAxxSX_ZsG-V",
        "outputId": "fd340436-d982-40d4-e16e-39b40f57e747",
        "colab": {
          "base_uri": "https://localhost:8080/",
          "height": 36
        }
      },
      "execution_count": null,
      "outputs": [
        {
          "output_type": "execute_result",
          "data": {
            "text/plain": [
              "'blue'"
            ],
            "application/vnd.google.colaboratory.intrinsic+json": {
              "type": "string"
            }
          },
          "metadata": {},
          "execution_count": 144
        }
      ]
    },
    {
      "cell_type": "markdown",
      "source": [
        "### Methods"
      ],
      "metadata": {
        "id": "577gW7dQsLbd"
      }
    },
    {
      "cell_type": "markdown",
      "source": [
        "#### Create a class: Circle"
      ],
      "metadata": {
        "id": "3z4vk3-6saGZ"
      }
    },
    {
      "cell_type": "code",
      "source": [
        "class Circle(object):\n",
        "\n",
        "  def __init__(self,radius,color): #init le indica a python que estas creando una nueva clase, self se refiere a la nueva instancia del parámetro\n",
        "    self.radius=radius\n",
        "    self.color=color\n",
        "\n",
        "  def add_radius(self,r): \n",
        "    self.radius=self.radius+r #método para agregar r al radio"
      ],
      "metadata": {
        "id": "I7OqctkqsJbc"
      },
      "execution_count": null,
      "outputs": []
    },
    {
      "cell_type": "code",
      "source": [
        "C1=Circle(2,\"red\")"
      ],
      "metadata": {
        "id": "5CTIIr9Zsjkm"
      },
      "execution_count": null,
      "outputs": []
    },
    {
      "cell_type": "code",
      "source": [
        "C1.add_radius(8)"
      ],
      "metadata": {
        "id": "5SoOxdOjsynM"
      },
      "execution_count": null,
      "outputs": []
    },
    {
      "cell_type": "code",
      "source": [
        "C1.radius"
      ],
      "metadata": {
        "id": "1w3M-qKRs9SQ",
        "outputId": "0552d991-92c1-4c01-acb1-a5adc0106b6e",
        "colab": {
          "base_uri": "https://localhost:8080/"
        }
      },
      "execution_count": null,
      "outputs": [
        {
          "output_type": "execute_result",
          "data": {
            "text/plain": [
              "10"
            ]
          },
          "metadata": {},
          "execution_count": 149
        }
      ]
    },
    {
      "cell_type": "code",
      "source": [
        "import matplotlib.pyplot as plt\n",
        "%matplotlib inline  \n",
        "class Circle(object):\n",
        "\n",
        "  def __init__(self,radius,color):  #se pueden agregar valores predeterminados a los parámetros\n",
        "    self.radius=radius\n",
        "    self.color=color\n",
        "\n",
        "  def add_radius(self,r): \n",
        "    self.radius=self.radius+r \n",
        "\n",
        "  def drawCircle(self):\n",
        "      plt.gca().add_patch(plt.Circle((0, 0), radius=self.radius, fc=self.color))\n",
        "      plt.axis('scaled')\n",
        "      plt.show()\n"
      ],
      "metadata": {
        "id": "gBJaX19RtH-P"
      },
      "execution_count": null,
      "outputs": []
    },
    {
      "cell_type": "code",
      "source": [
        "RedCircle=Circle(3,\"red\")"
      ],
      "metadata": {
        "id": "tD7t-dTGuBqr"
      },
      "execution_count": null,
      "outputs": []
    },
    {
      "cell_type": "code",
      "source": [
        "RedCircle.radius"
      ],
      "metadata": {
        "id": "zgkF3TfWuE9q",
        "outputId": "f93604e8-3528-4591-826e-e48533b89ad1",
        "colab": {
          "base_uri": "https://localhost:8080/"
        }
      },
      "execution_count": null,
      "outputs": [
        {
          "output_type": "execute_result",
          "data": {
            "text/plain": [
              "3"
            ]
          },
          "metadata": {},
          "execution_count": 157
        }
      ]
    },
    {
      "cell_type": "code",
      "source": [
        "RedCircle.color"
      ],
      "metadata": {
        "id": "GR9nN-R7uGwh",
        "outputId": "58244550-7f5a-46c4-a3f1-ce2aa7e8dd7c",
        "colab": {
          "base_uri": "https://localhost:8080/",
          "height": 36
        }
      },
      "execution_count": null,
      "outputs": [
        {
          "output_type": "execute_result",
          "data": {
            "text/plain": [
              "'red'"
            ],
            "application/vnd.google.colaboratory.intrinsic+json": {
              "type": "string"
            }
          },
          "metadata": {},
          "execution_count": 158
        }
      ]
    },
    {
      "cell_type": "code",
      "source": [
        "RedCircle.drawCircle()"
      ],
      "metadata": {
        "id": "WL0uhlfbuIcF",
        "outputId": "c3acf8d9-16c5-44f8-dad6-e90bd319eea8",
        "colab": {
          "base_uri": "https://localhost:8080/",
          "height": 265
        }
      },
      "execution_count": null,
      "outputs": [
        {
          "output_type": "display_data",
          "data": {
            "text/plain": [
              "<Figure size 432x288 with 1 Axes>"
            ],
            "image/png": "[encoded data removed]"
          },
          "metadata": {
            "needs_background": "light"
          }
        }
      ]
    },
    {
      "cell_type": "code",
      "source": [
        "BlueCircle=Circle(10,\"blue\")"
      ],
      "metadata": {
        "id": "QZYm8zT6uKuV"
      },
      "execution_count": null,
      "outputs": []
    },
    {
      "cell_type": "code",
      "source": [
        "BlueCircle.radius"
      ],
      "metadata": {
        "id": "lm6A0d-6ukUN",
        "outputId": "7ce15b90-e0e4-4dc7-abcd-c930665346b8",
        "colab": {
          "base_uri": "https://localhost:8080/"
        }
      },
      "execution_count": null,
      "outputs": [
        {
          "output_type": "execute_result",
          "data": {
            "text/plain": [
              "10"
            ]
          },
          "metadata": {},
          "execution_count": 163
        }
      ]
    },
    {
      "cell_type": "code",
      "source": [
        "BlueCircle.color"
      ],
      "metadata": {
        "id": "hDHXtoNquqrl",
        "outputId": "c31deca3-0253-4d29-e0d4-1a4c97e855c3",
        "colab": {
          "base_uri": "https://localhost:8080/",
          "height": 36
        }
      },
      "execution_count": null,
      "outputs": [
        {
          "output_type": "execute_result",
          "data": {
            "text/plain": [
              "'blue'"
            ],
            "application/vnd.google.colaboratory.intrinsic+json": {
              "type": "string"
            }
          },
          "metadata": {},
          "execution_count": 164
        }
      ]
    },
    {
      "cell_type": "code",
      "source": [
        "BlueCircle.drawCircle()"
      ],
      "metadata": {
        "id": "5FyqwnSNustv",
        "outputId": "e6a2e015-8b7a-4acf-a24d-865203ce0f0d",
        "colab": {
          "base_uri": "https://localhost:8080/",
          "height": 265
        }
      },
      "execution_count": null,
      "outputs": [
        {
          "output_type": "display_data",
          "data": {
            "text/plain": [
              "<Figure size 432x288 with 1 Axes>"
            ],
            "image/png": "[encoded data removed]"
          },
          "metadata": {
            "needs_background": "light"
          }
        }
      ]
    },
    {
      "cell_type": "markdown",
      "source": [
        "### Creating an Instance of the Class: Rectangle"
      ],
      "metadata": {
        "id": "dAQazuQdvBs7"
      }
    },
    {
      "cell_type": "code",
      "source": [
        "class Rectangle(object):\n",
        "\n",
        "    def __init__(self, width, height, color):\n",
        "        self.height = height \n",
        "        self.width = width\n",
        "        self.color = color\n",
        "\n",
        "    def drawRectangle(self):\n",
        "        plt.gca().add_patch(plt.Rectangle((0, 0), self.width, self.height ,fc=self.color))\n",
        "        plt.axis('scaled')\n",
        "        plt.show()"
      ],
      "metadata": {
        "id": "ENkADLNduweI"
      },
      "execution_count": null,
      "outputs": []
    },
    {
      "cell_type": "code",
      "source": [
        "FatYellowRectangle=Rectangle(20,5,\"yellow\")"
      ],
      "metadata": {
        "id": "ECY7UgnwvHtl"
      },
      "execution_count": null,
      "outputs": []
    },
    {
      "cell_type": "code",
      "source": [
        "FatYellowRectangle.height"
      ],
      "metadata": {
        "id": "Cw5Gy5aOvWDN",
        "outputId": "23b9944a-ebb2-4420-b1be-54d359de1d16",
        "colab": {
          "base_uri": "https://localhost:8080/"
        }
      },
      "execution_count": null,
      "outputs": [
        {
          "output_type": "execute_result",
          "data": {
            "text/plain": [
              "5"
            ]
          },
          "metadata": {},
          "execution_count": 171
        }
      ]
    },
    {
      "cell_type": "code",
      "source": [
        "FatYellowRectangle.width"
      ],
      "metadata": {
        "id": "JzjekNimvdnD",
        "outputId": "7cc3ea04-2454-486c-d8d0-fdc49d192489",
        "colab": {
          "base_uri": "https://localhost:8080/"
        }
      },
      "execution_count": null,
      "outputs": [
        {
          "output_type": "execute_result",
          "data": {
            "text/plain": [
              "20"
            ]
          },
          "metadata": {},
          "execution_count": 172
        }
      ]
    },
    {
      "cell_type": "code",
      "source": [
        "FatYellowRectangle.color"
      ],
      "metadata": {
        "id": "BO6ybs-ovfYj",
        "outputId": "8541505b-1c07-4d88-cdc7-6bac70dedc37",
        "colab": {
          "base_uri": "https://localhost:8080/",
          "height": 36
        }
      },
      "execution_count": null,
      "outputs": [
        {
          "output_type": "execute_result",
          "data": {
            "text/plain": [
              "'yellow'"
            ],
            "application/vnd.google.colaboratory.intrinsic+json": {
              "type": "string"
            }
          },
          "metadata": {},
          "execution_count": 173
        }
      ]
    },
    {
      "cell_type": "code",
      "source": [
        "FatYellowRectangle.drawRectangle()"
      ],
      "metadata": {
        "id": "_7yOAAsWvg7Z",
        "outputId": "7a8a8a0d-1aa3-4f0a-e6f2-c88779d6d48e",
        "colab": {
          "base_uri": "https://localhost:8080/",
          "height": 132
        }
      },
      "execution_count": null,
      "outputs": [
        {
          "output_type": "display_data",
          "data": {
            "text/plain": [
              "<Figure size 432x288 with 1 Axes>"
            ],
            "image/png": "[encoded data removed]"
          },
          "metadata": {
            "needs_background": "light"
          }
        }
      ]
    },
    {
      "cell_type": "markdown",
      "source": [
        "### Create a class: Circle"
      ],
      "metadata": {
        "id": "wxjKQmOavvD9"
      }
    },
    {
      "cell_type": "code",
      "source": [
        "dir(Rectangle)"
      ],
      "metadata": {
        "id": "CR2FN1cJvjKJ",
        "outputId": "97217a43-31af-44f5-86dc-82b576c4fa96",
        "colab": {
          "base_uri": "https://localhost:8080/"
        }
      },
      "execution_count": null,
      "outputs": [
        {
          "output_type": "execute_result",
          "data": {
            "text/plain": [
              "['__class__',\n",
              " '__delattr__',\n",
              " '__dict__',\n",
              " '__dir__',\n",
              " '__doc__',\n",
              " '__eq__',\n",
              " '__format__',\n",
              " '__ge__',\n",
              " '__getattribute__',\n",
              " '__gt__',\n",
              " '__hash__',\n",
              " '__init__',\n",
              " '__init_subclass__',\n",
              " '__le__',\n",
              " '__lt__',\n",
              " '__module__',\n",
              " '__ne__',\n",
              " '__new__',\n",
              " '__reduce__',\n",
              " '__reduce_ex__',\n",
              " '__repr__',\n",
              " '__setattr__',\n",
              " '__sizeof__',\n",
              " '__str__',\n",
              " '__subclasshook__',\n",
              " '__weakref__',\n",
              " 'drawRectangle']"
            ]
          },
          "metadata": {},
          "execution_count": 175
        }
      ]
    },
    {
      "cell_type": "code",
      "source": [
        "dir(Circle)"
      ],
      "metadata": {
        "id": "MfeR5vDEv0J_",
        "outputId": "d09f6a58-996f-41b5-8e7d-88a32bc28610",
        "colab": {
          "base_uri": "https://localhost:8080/"
        }
      },
      "execution_count": null,
      "outputs": [
        {
          "output_type": "execute_result",
          "data": {
            "text/plain": [
              "['__class__',\n",
              " '__delattr__',\n",
              " '__dict__',\n",
              " '__dir__',\n",
              " '__doc__',\n",
              " '__eq__',\n",
              " '__format__',\n",
              " '__ge__',\n",
              " '__getattribute__',\n",
              " '__gt__',\n",
              " '__hash__',\n",
              " '__init__',\n",
              " '__init_subclass__',\n",
              " '__le__',\n",
              " '__lt__',\n",
              " '__module__',\n",
              " '__ne__',\n",
              " '__new__',\n",
              " '__reduce__',\n",
              " '__reduce_ex__',\n",
              " '__repr__',\n",
              " '__setattr__',\n",
              " '__sizeof__',\n",
              " '__str__',\n",
              " '__subclasshook__',\n",
              " '__weakref__',\n",
              " 'add_radius',\n",
              " 'drawCircle']"
            ]
          },
          "metadata": {},
          "execution_count": 176
        }
      ]
    },
    {
      "cell_type": "code",
      "source": [
        "class Car(object):\n",
        "    def __init__(self,make,model,color):\n",
        "        self.make=make;\n",
        "        self.model=model;\n",
        "        self.color=color;\n",
        "        self.owner_number=0 \n",
        "    def car_info(self):\n",
        "        print(\"make: \",self.make)\n",
        "        print(\"model:\", self.model)\n",
        "        print(\"color:\",self.color)\n",
        "        print(\"number of owners:\",self.owner_number)\n",
        "    def sell(self):\n",
        "        self.owner_number=self.owner_number+1"
      ],
      "metadata": {
        "id": "W5_gpCzCv4Xc"
      },
      "execution_count": null,
      "outputs": []
    },
    {
      "cell_type": "code",
      "source": [
        "my_car=Car(\"Honda\",\"Accord\",\"blue\")"
      ],
      "metadata": {
        "id": "dv7MunoxxxHW"
      },
      "execution_count": null,
      "outputs": []
    },
    {
      "cell_type": "code",
      "source": [
        "my_car.model"
      ],
      "metadata": {
        "id": "NQm_gbmIx5Zi",
        "outputId": "4ce8e38e-ecc0-4820-df2b-244f13be3479",
        "colab": {
          "base_uri": "https://localhost:8080/",
          "height": 36
        }
      },
      "execution_count": null,
      "outputs": [
        {
          "output_type": "execute_result",
          "data": {
            "text/plain": [
              "'Accord'"
            ],
            "application/vnd.google.colaboratory.intrinsic+json": {
              "type": "string"
            }
          },
          "metadata": {},
          "execution_count": 185
        }
      ]
    },
    {
      "cell_type": "code",
      "source": [
        "my_car.make"
      ],
      "metadata": {
        "id": "aHYkcf_ozfOW",
        "outputId": "55d86efd-72e6-468d-a4b6-3896cff494c0",
        "colab": {
          "base_uri": "https://localhost:8080/",
          "height": 36
        }
      },
      "execution_count": null,
      "outputs": [
        {
          "output_type": "execute_result",
          "data": {
            "text/plain": [
              "'Honda'"
            ],
            "application/vnd.google.colaboratory.intrinsic+json": {
              "type": "string"
            }
          },
          "metadata": {},
          "execution_count": 186
        }
      ]
    },
    {
      "cell_type": "code",
      "source": [
        "my_car2=Car(make=\"Honda\",model=\"Accord\",color=\"blue\")"
      ],
      "metadata": {
        "id": "GDp1FEMZx8Mr"
      },
      "execution_count": null,
      "outputs": []
    },
    {
      "cell_type": "code",
      "source": [
        "my_car2.model"
      ],
      "metadata": {
        "id": "ykqG1P0TzVLB",
        "outputId": "397ff54f-8ede-420e-c93e-76693933b2c8",
        "colab": {
          "base_uri": "https://localhost:8080/",
          "height": 36
        }
      },
      "execution_count": null,
      "outputs": [
        {
          "output_type": "execute_result",
          "data": {
            "text/plain": [
              "'Accord'"
            ],
            "application/vnd.google.colaboratory.intrinsic+json": {
              "type": "string"
            }
          },
          "metadata": {},
          "execution_count": 183
        }
      ]
    },
    {
      "cell_type": "code",
      "source": [
        "my_car2.make"
      ],
      "metadata": {
        "id": "bJZQwZ6OzahW",
        "outputId": "531df81d-d638-41a1-f5c1-f75ab2227171",
        "colab": {
          "base_uri": "https://localhost:8080/",
          "height": 36
        }
      },
      "execution_count": null,
      "outputs": [
        {
          "output_type": "execute_result",
          "data": {
            "text/plain": [
              "'Honda'"
            ],
            "application/vnd.google.colaboratory.intrinsic+json": {
              "type": "string"
            }
          },
          "metadata": {},
          "execution_count": 184
        }
      ]
    },
    {
      "cell_type": "code",
      "source": [
        "my_car3=Car(model=\"Accord\",make=\"Honda\",color=\"blue\")"
      ],
      "metadata": {
        "id": "-kLSsJJvzd3e"
      },
      "execution_count": null,
      "outputs": []
    },
    {
      "cell_type": "code",
      "source": [
        "my_car3.model"
      ],
      "metadata": {
        "id": "QayfZ9Atzn9P",
        "outputId": "2c506a33-aa63-4191-e9e7-9279051ece59",
        "colab": {
          "base_uri": "https://localhost:8080/",
          "height": 36
        }
      },
      "execution_count": null,
      "outputs": [
        {
          "output_type": "execute_result",
          "data": {
            "text/plain": [
              "'Accord'"
            ],
            "application/vnd.google.colaboratory.intrinsic+json": {
              "type": "string"
            }
          },
          "metadata": {},
          "execution_count": 188
        }
      ]
    },
    {
      "cell_type": "code",
      "source": [
        "my_car3.make"
      ],
      "metadata": {
        "id": "-mBVmfLCzps7",
        "outputId": "8450c2f6-28e0-4443-ce0c-f898789f7171",
        "colab": {
          "base_uri": "https://localhost:8080/",
          "height": 36
        }
      },
      "execution_count": null,
      "outputs": [
        {
          "output_type": "execute_result",
          "data": {
            "text/plain": [
              "'Honda'"
            ],
            "application/vnd.google.colaboratory.intrinsic+json": {
              "type": "string"
            }
          },
          "metadata": {},
          "execution_count": 189
        }
      ]
    },
    {
      "cell_type": "code",
      "source": [
        "my_car4=Car(\"Accord\",\"Honda\",\"blue\")"
      ],
      "metadata": {
        "id": "cY1nrgcqzrq3"
      },
      "execution_count": null,
      "outputs": []
    },
    {
      "cell_type": "code",
      "source": [
        "my_car4.model"
      ],
      "metadata": {
        "id": "4NM4wwoez4Hb",
        "outputId": "e2aef2a7-e571-4236-b69c-998a1bdec521",
        "colab": {
          "base_uri": "https://localhost:8080/",
          "height": 36
        }
      },
      "execution_count": null,
      "outputs": [
        {
          "output_type": "execute_result",
          "data": {
            "text/plain": [
              "'Honda'"
            ],
            "application/vnd.google.colaboratory.intrinsic+json": {
              "type": "string"
            }
          },
          "metadata": {},
          "execution_count": 192
        }
      ]
    },
    {
      "cell_type": "code",
      "source": [
        "my_car4.make"
      ],
      "metadata": {
        "id": "Bc8TZGc_0ASE",
        "outputId": "e16a2ad7-b210-4a8b-d7cf-9cc2c2c7c648",
        "colab": {
          "base_uri": "https://localhost:8080/",
          "height": 36
        }
      },
      "execution_count": null,
      "outputs": [
        {
          "output_type": "execute_result",
          "data": {
            "text/plain": [
              "'Accord'"
            ],
            "application/vnd.google.colaboratory.intrinsic+json": {
              "type": "string"
            }
          },
          "metadata": {},
          "execution_count": 194
        }
      ]
    },
    {
      "cell_type": "code",
      "source": [
        "x=1\n",
        "if(x!=1):\n",
        "  print('Hello')\n",
        "else:\n",
        "  print('Hi')\n",
        "print('Mike')"
      ],
      "metadata": {
        "id": "83vdBq5m0Nt2",
        "outputId": "d0871d64-a121-4d3e-c2f9-f94f0587885a",
        "colab": {
          "base_uri": "https://localhost:8080/"
        }
      },
      "execution_count": null,
      "outputs": [
        {
          "output_type": "stream",
          "name": "stdout",
          "text": [
            "Hi\n",
            "Mike\n"
          ]
        }
      ]
    },
    {
      "cell_type": "code",
      "source": [
        "A = ['1','2','3']\n",
        "for a in A:\n",
        "  print(2*a)"
      ],
      "metadata": {
        "id": "fT7h0jOn0-c9",
        "outputId": "06d944df-483c-4c82-95bb-33320c3e2041",
        "colab": {
          "base_uri": "https://localhost:8080/"
        }
      },
      "execution_count": null,
      "outputs": [
        {
          "output_type": "stream",
          "name": "stdout",
          "text": [
            "11\n",
            "22\n",
            "33\n"
          ]
        }
      ]
    },
    {
      "cell_type": "code",
      "source": [
        "def Delta(x):\n",
        "\n",
        "  if x==0:\n",
        "    y=1;\n",
        "  else:\n",
        "    y=0;\n",
        "  return(y)"
      ],
      "metadata": {
        "id": "WHPTIALO1AqR"
      },
      "execution_count": null,
      "outputs": []
    },
    {
      "cell_type": "code",
      "source": [
        "Delta(0)"
      ],
      "metadata": {
        "id": "O_79rD4C1MTO",
        "outputId": "5a92c4b3-fc05-43d7-e46c-f0ffe7c7ead5",
        "colab": {
          "base_uri": "https://localhost:8080/"
        }
      },
      "execution_count": null,
      "outputs": [
        {
          "output_type": "execute_result",
          "data": {
            "text/plain": [
              "1"
            ]
          },
          "metadata": {},
          "execution_count": 199
        }
      ]
    },
    {
      "cell_type": "code",
      "source": [
        "dict={'a':1,'b':2}"
      ],
      "metadata": {
        "id": "HfypE7Qd1SWr"
      },
      "execution_count": null,
      "outputs": []
    },
    {
      "cell_type": "code",
      "source": [
        "dict.keys()"
      ],
      "metadata": {
        "id": "v47bjg0-1vJU",
        "outputId": "49149110-da84-4892-e386-c9148b8ce86f",
        "colab": {
          "base_uri": "https://localhost:8080/"
        }
      },
      "execution_count": null,
      "outputs": [
        {
          "output_type": "execute_result",
          "data": {
            "text/plain": [
              "dict_keys(['a', 'b'])"
            ]
          },
          "metadata": {},
          "execution_count": 202
        }
      ]
    },
    {
      "cell_type": "code",
      "source": [],
      "metadata": {
        "id": "FPRTmZGs1wOs"
      },
      "execution_count": null,
      "outputs": []
    }
  ]
}