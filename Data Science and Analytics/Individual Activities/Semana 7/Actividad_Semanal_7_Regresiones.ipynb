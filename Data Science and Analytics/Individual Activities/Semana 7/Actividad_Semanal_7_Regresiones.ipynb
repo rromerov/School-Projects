{
  "nbformat": 4,
  "nbformat_minor": 0,
  "metadata": {
    "kernelspec": {
      "display_name": "Python 3",
      "language": "python",
      "name": "python3"
    },
    "language_info": {
      "codemirror_mode": {
        "name": "ipython",
        "version": 3
      },
      "file_extension": ".py",
      "mimetype": "text/x-python",
      "name": "python",
      "nbconvert_exporter": "python",
      "pygments_lexer": "ipython3",
      "version": "3.7.7"
    },
    "colab": {
      "provenance": []
    },
    "gpuClass": "standard"
  },
  "cells": [
    {
      "cell_type": "markdown",
      "source": [
        "* Materia: Ciencia y Analítica de Datos.\n",
        "* Nombre de la entrega: Actividad Semanal -- 7 Regresiones\n",
        "* Fecha: 09/11/2022.\n",
        "* Roberto Romero Vielma - A00822314\n",
        "* Profesora titular: María de la Paz Rico Fernández\n",
        "* Profesor tutor: Roberto Antonio Guevara González."
      ],
      "metadata": {
        "id": "bfUXWocg8all"
      }
    },
    {
      "cell_type": "markdown",
      "metadata": {
        "id": "WUO-kdryVQwK"
      },
      "source": [
        "# Linear Models\n"
      ]
    },
    {
      "cell_type": "code",
      "source": [],
      "metadata": {
        "id": "Msm89naSzi21"
      },
      "execution_count": 211,
      "outputs": []
    },
    {
      "cell_type": "markdown",
      "metadata": {
        "id": "u3ytB4LpVQwM"
      },
      "source": [
        "- In supervised learning, the training data fed to the algorithm includes the desired solutions, called labels. \n",
        "- In **regression**, the labels are continuous quantities.\n",
        "- Linear models predict by computing a weighted sum of input features plus a bias term."
      ]
    },
    {
      "cell_type": "code",
      "metadata": {
        "id": "HMp_I4Y6VQwN"
      },
      "source": [
        "import numpy as np\n",
        "%matplotlib inline\n",
        "import matplotlib\n",
        "import matplotlib.pyplot as plt\n",
        "import pandas as pd\n",
        "import seaborn as sns\n",
        "# to make this notebook's output stable across runs\n",
        "np.random.seed(42)"
      ],
      "execution_count": 212,
      "outputs": []
    },
    {
      "cell_type": "code",
      "source": [
        "5-2"
      ],
      "metadata": {
        "colab": {
          "base_uri": "https://localhost:8080/"
        },
        "id": "exg6xSYf3F5D",
        "outputId": "27f0fedd-a734-4afe-a379-a9f64f3c8f5b"
      },
      "execution_count": 213,
      "outputs": [
        {
          "output_type": "execute_result",
          "data": {
            "text/plain": [
              "3"
            ]
          },
          "metadata": {},
          "execution_count": 213
        }
      ]
    },
    {
      "cell_type": "markdown",
      "metadata": {
        "id": "szpzFXgiVQwN"
      },
      "source": [
        "## Simple Linear Regression\n",
        "\n",
        "Simple linear regression equation:\n",
        "\n",
        "$y = ax + b$\n",
        "<br>\n",
        "$a$: slope\n",
        "<br>\n",
        "$b$: intercept\n",
        "\n",
        "Generate linear-looking data with the equation:\n",
        "\n",
        "$y = 3X + 4 + noise$"
      ]
    },
    {
      "cell_type": "code",
      "metadata": {
        "colab": {
          "base_uri": "https://localhost:8080/"
        },
        "id": "mitJFYeiMQqD",
        "outputId": "102a3764-f54d-4646-eceb-ffa5a655736f"
      },
      "source": [
        "np.random.rand(100, 1)"
      ],
      "execution_count": 214,
      "outputs": [
        {
          "output_type": "execute_result",
          "data": {
            "text/plain": [
              "array([[0.37454012],\n",
              "       [0.95071431],\n",
              "       [0.73199394],\n",
              "       [0.59865848],\n",
              "       [0.15601864],\n",
              "       [0.15599452],\n",
              "       [0.05808361],\n",
              "       [0.86617615],\n",
              "       [0.60111501],\n",
              "       [0.70807258],\n",
              "       [0.02058449],\n",
              "       [0.96990985],\n",
              "       [0.83244264],\n",
              "       [0.21233911],\n",
              "       [0.18182497],\n",
              "       [0.18340451],\n",
              "       [0.30424224],\n",
              "       [0.52475643],\n",
              "       [0.43194502],\n",
              "       [0.29122914],\n",
              "       [0.61185289],\n",
              "       [0.13949386],\n",
              "       [0.29214465],\n",
              "       [0.36636184],\n",
              "       [0.45606998],\n",
              "       [0.78517596],\n",
              "       [0.19967378],\n",
              "       [0.51423444],\n",
              "       [0.59241457],\n",
              "       [0.04645041],\n",
              "       [0.60754485],\n",
              "       [0.17052412],\n",
              "       [0.06505159],\n",
              "       [0.94888554],\n",
              "       [0.96563203],\n",
              "       [0.80839735],\n",
              "       [0.30461377],\n",
              "       [0.09767211],\n",
              "       [0.68423303],\n",
              "       [0.44015249],\n",
              "       [0.12203823],\n",
              "       [0.49517691],\n",
              "       [0.03438852],\n",
              "       [0.9093204 ],\n",
              "       [0.25877998],\n",
              "       [0.66252228],\n",
              "       [0.31171108],\n",
              "       [0.52006802],\n",
              "       [0.54671028],\n",
              "       [0.18485446],\n",
              "       [0.96958463],\n",
              "       [0.77513282],\n",
              "       [0.93949894],\n",
              "       [0.89482735],\n",
              "       [0.59789998],\n",
              "       [0.92187424],\n",
              "       [0.0884925 ],\n",
              "       [0.19598286],\n",
              "       [0.04522729],\n",
              "       [0.32533033],\n",
              "       [0.38867729],\n",
              "       [0.27134903],\n",
              "       [0.82873751],\n",
              "       [0.35675333],\n",
              "       [0.28093451],\n",
              "       [0.54269608],\n",
              "       [0.14092422],\n",
              "       [0.80219698],\n",
              "       [0.07455064],\n",
              "       [0.98688694],\n",
              "       [0.77224477],\n",
              "       [0.19871568],\n",
              "       [0.00552212],\n",
              "       [0.81546143],\n",
              "       [0.70685734],\n",
              "       [0.72900717],\n",
              "       [0.77127035],\n",
              "       [0.07404465],\n",
              "       [0.35846573],\n",
              "       [0.11586906],\n",
              "       [0.86310343],\n",
              "       [0.62329813],\n",
              "       [0.33089802],\n",
              "       [0.06355835],\n",
              "       [0.31098232],\n",
              "       [0.32518332],\n",
              "       [0.72960618],\n",
              "       [0.63755747],\n",
              "       [0.88721274],\n",
              "       [0.47221493],\n",
              "       [0.11959425],\n",
              "       [0.71324479],\n",
              "       [0.76078505],\n",
              "       [0.5612772 ],\n",
              "       [0.77096718],\n",
              "       [0.4937956 ],\n",
              "       [0.52273283],\n",
              "       [0.42754102],\n",
              "       [0.02541913],\n",
              "       [0.10789143]])"
            ]
          },
          "metadata": {},
          "execution_count": 214
        }
      ]
    },
    {
      "cell_type": "code",
      "metadata": {
        "colab": {
          "base_uri": "https://localhost:8080/",
          "height": 265
        },
        "id": "QyubE1VEVQwN",
        "outputId": "7081a32a-313b-48c3-f54b-c670841d7125"
      },
      "source": [
        "X = 2*np.random.rand(100, 1)\n",
        "y = 4 + 3 * X + np.random.randn(100, 1)\n",
        "plt.scatter(X, y);"
      ],
      "execution_count": 215,
      "outputs": [
        {
          "output_type": "display_data",
          "data": {
            "text/plain": [
              "<Figure size 432x288 with 1 Axes>"
            ],
            "image/png": "[encoded data removed]"
          },
          "metadata": {
            "needs_background": "light"
          }
        }
      ]
    },
    {
      "cell_type": "code",
      "source": [
        "import pandas as pd\n",
        "pd.DataFrame(y)"
      ],
      "metadata": {
        "colab": {
          "base_uri": "https://localhost:8080/",
          "height": 424
        },
        "id": "M5kaENJ4bZY5",
        "outputId": "45dd4f48-d47d-4f16-94c2-b9b4a9edb6e5"
      },
      "execution_count": 216,
      "outputs": [
        {
          "output_type": "execute_result",
          "data": {
            "text/plain": [
              "            0\n",
              "0    3.508550\n",
              "1    8.050716\n",
              "2    6.179208\n",
              "3    6.337073\n",
              "4   11.311173\n",
              "..        ...\n",
              "95   5.441928\n",
              "96  10.121188\n",
              "97   9.787643\n",
              "98   8.061635\n",
              "99   9.597115\n",
              "\n",
              "[100 rows x 1 columns]"
            ],
            "text/html": [
              "\n",
              "  <div id=\"df-a276b64c-071a-4e6f-8149-52636f1b877e\">\n",
              "    <div class=\"colab-df-container\">\n",
              "      <div>\n",
              "<style scoped>\n",
              "    .dataframe tbody tr th:only-of-type {\n",
              "        vertical-align: middle;\n",
              "    }\n",
              "\n",
              "    .dataframe tbody tr th {\n",
              "        vertical-align: top;\n",
              "    }\n",
              "\n",
              "    .dataframe thead th {\n",
              "        text-align: right;\n",
              "    }\n",
              "</style>\n",
              "<table border=\"1\" class=\"dataframe\">\n",
              "  <thead>\n",
              "    <tr style=\"text-align: right;\">\n",
              "      <th></th>\n",
              "      <th>0</th>\n",
              "    </tr>\n",
              "  </thead>\n",
              "  <tbody>\n",
              "    <tr>\n",
              "      <th>0</th>\n",
              "      <td>3.508550</td>\n",
              "    </tr>\n",
              "    <tr>\n",
              "      <th>1</th>\n",
              "      <td>8.050716</td>\n",
              "    </tr>\n",
              "    <tr>\n",
              "      <th>2</th>\n",
              "      <td>6.179208</td>\n",
              "    </tr>\n",
              "    <tr>\n",
              "      <th>3</th>\n",
              "      <td>6.337073</td>\n",
              "    </tr>\n",
              "    <tr>\n",
              "      <th>4</th>\n",
              "      <td>11.311173</td>\n",
              "    </tr>\n",
              "    <tr>\n",
              "      <th>...</th>\n",
              "      <td>...</td>\n",
              "    </tr>\n",
              "    <tr>\n",
              "      <th>95</th>\n",
              "      <td>5.441928</td>\n",
              "    </tr>\n",
              "    <tr>\n",
              "      <th>96</th>\n",
              "      <td>10.121188</td>\n",
              "    </tr>\n",
              "    <tr>\n",
              "      <th>97</th>\n",
              "      <td>9.787643</td>\n",
              "    </tr>\n",
              "    <tr>\n",
              "      <th>98</th>\n",
              "      <td>8.061635</td>\n",
              "    </tr>\n",
              "    <tr>\n",
              "      <th>99</th>\n",
              "      <td>9.597115</td>\n",
              "    </tr>\n",
              "  </tbody>\n",
              "</table>\n",
              "<p>100 rows × 1 columns</p>\n",
              "</div>\n",
              "      <button class=\"colab-df-convert\" onclick=\"convertToInteractive('df-a276b64c-071a-4e6f-8149-52636f1b877e')\"\n",
              "              title=\"Convert this dataframe to an interactive table.\"\n",
              "              style=\"display:none;\">\n",
              "        \n",
              "  <svg xmlns=\"http://www.w3.org/2000/svg\" height=\"24px\"viewBox=\"0 0 24 24\"\n",
              "       width=\"24px\">\n",
              "    <path d=\"M0 0h24v24H0V0z\" fill=\"none\"/>\n",
              "    <path d=\"M18.56 5.44l.94 2.06.94-2.06 2.06-.94-2.06-.94-.94-2.06-.94 2.06-2.06.94zm-11 1L8.5 8.5l.94-2.06 2.06-.94-2.06-.94L8.5 2.5l-.94 2.06-2.06.94zm10 10l.94 2.06.94-2.06 2.06-.94-2.06-.94-.94-2.06-.94 2.06-2.06.94z\"/><path d=\"M17.41 7.96l-1.37-1.37c-.4-.4-.92-.59-1.43-.59-.52 0-1.04.2-1.43.59L10.3 9.45l-7.72 7.72c-.78.78-.78 2.05 0 2.83L4 21.41c.39.39.9.59 1.41.59.51 0 1.02-.2 1.41-.59l7.78-7.78 2.81-2.81c.8-.78.8-2.07 0-2.86zM5.41 20L4 18.59l7.72-7.72 1.47 1.35L5.41 20z\"/>\n",
              "  </svg>\n",
              "      </button>\n",
              "      \n",
              "  <style>\n",
              "    .colab-df-container {\n",
              "      display:flex;\n",
              "      flex-wrap:wrap;\n",
              "      gap: 12px;\n",
              "    }\n",
              "\n",
              "    .colab-df-convert {\n",
              "      background-color: #E8F0FE;\n",
              "      border: none;\n",
              "      border-radius: 50%;\n",
              "      cursor: pointer;\n",
              "      display: none;\n",
              "      fill: #1967D2;\n",
              "      height: 32px;\n",
              "      padding: 0 0 0 0;\n",
              "      width: 32px;\n",
              "    }\n",
              "\n",
              "    .colab-df-convert:hover {\n",
              "      background-color: #E2EBFA;\n",
              "      box-shadow: 0px 1px 2px rgba(60, 64, 67, 0.3), 0px 1px 3px 1px rgba(60, 64, 67, 0.15);\n",
              "      fill: #174EA6;\n",
              "    }\n",
              "\n",
              "    [theme=dark] .colab-df-convert {\n",
              "      background-color: #3B4455;\n",
              "      fill: #D2E3FC;\n",
              "    }\n",
              "\n",
              "    [theme=dark] .colab-df-convert:hover {\n",
              "      background-color: #434B5C;\n",
              "      box-shadow: 0px 1px 3px 1px rgba(0, 0, 0, 0.15);\n",
              "      filter: drop-shadow(0px 1px 2px rgba(0, 0, 0, 0.3));\n",
              "      fill: #FFFFFF;\n",
              "    }\n",
              "  </style>\n",
              "\n",
              "      <script>\n",
              "        const buttonEl =\n",
              "          document.querySelector('#df-a276b64c-071a-4e6f-8149-52636f1b877e button.colab-df-convert');\n",
              "        buttonEl.style.display =\n",
              "          google.colab.kernel.accessAllowed ? 'block' : 'none';\n",
              "\n",
              "        async function convertToInteractive(key) {\n",
              "          const element = document.querySelector('#df-a276b64c-071a-4e6f-8149-52636f1b877e');\n",
              "          const dataTable =\n",
              "            await google.colab.kernel.invokeFunction('convertToInteractive',\n",
              "                                                     [key], {});\n",
              "          if (!dataTable) return;\n",
              "\n",
              "          const docLinkHtml = 'Like what you see? Visit the ' +\n",
              "            '<a target=\"_blank\" href=https://colab.research.google.com/notebooks/data_table.ipynb>data table notebook</a>'\n",
              "            + ' to learn more about interactive tables.';\n",
              "          element.innerHTML = '';\n",
              "          dataTable['output_type'] = 'display_data';\n",
              "          await google.colab.output.renderOutput(dataTable, element);\n",
              "          const docLink = document.createElement('div');\n",
              "          docLink.innerHTML = docLinkHtml;\n",
              "          element.appendChild(docLink);\n",
              "        }\n",
              "      </script>\n",
              "    </div>\n",
              "  </div>\n",
              "  "
            ]
          },
          "metadata": {},
          "execution_count": 216
        }
      ]
    },
    {
      "cell_type": "code",
      "metadata": {
        "colab": {
          "base_uri": "https://localhost:8080/"
        },
        "id": "x6XGt_iAVQwO",
        "outputId": "33b61cd0-ef62-4485-90a2-5d03b945686e"
      },
      "source": [
        "from sklearn.linear_model import LinearRegression\n",
        "\n",
        "linear_reg = LinearRegression(fit_intercept=True)\n",
        "linear_reg.fit(X, y)"
      ],
      "execution_count": 217,
      "outputs": [
        {
          "output_type": "execute_result",
          "data": {
            "text/plain": [
              "LinearRegression()"
            ]
          },
          "metadata": {},
          "execution_count": 217
        }
      ]
    },
    {
      "cell_type": "markdown",
      "metadata": {
        "id": "Hnm9YgjbVQwO"
      },
      "source": [
        "Plot the model's predictions:"
      ]
    },
    {
      "cell_type": "code",
      "source": [
        "import warnings\n",
        "warnings.filterwarnings(\"ignore\")"
      ],
      "metadata": {
        "id": "gprXKlQW52MB"
      },
      "execution_count": 218,
      "outputs": []
    },
    {
      "cell_type": "code",
      "metadata": {
        "id": "9NtrLfGGVQwP"
      },
      "source": [
        "#X_fit[]"
      ],
      "execution_count": 219,
      "outputs": []
    },
    {
      "cell_type": "code",
      "metadata": {
        "colab": {
          "base_uri": "https://localhost:8080/",
          "height": 287
        },
        "id": "1ZTT31igVQwP",
        "outputId": "ff16d2eb-90a9-4b35-d758-f3c46b25820d"
      },
      "source": [
        "# construct best fit line\n",
        "X_fit = np.linspace(0, 2, 100)\n",
        "y_fit = linear_reg.predict(X_fit[:, np.newaxis])\n",
        "\n",
        "plt.scatter(X, y)\n",
        "plt.plot(X_fit, y_fit, \"r-\", linewidth=2, label=\"Predictions\")\n",
        "plt.xlabel(\"$X$\", fontsize=18)\n",
        "plt.ylabel(\"$y$\", rotation=0, fontsize=18)\n",
        "plt.legend(loc=\"upper left\", fontsize=14);"
      ],
      "execution_count": 220,
      "outputs": [
        {
          "output_type": "display_data",
          "data": {
            "text/plain": [
              "<Figure size 432x288 with 1 Axes>"
            ],
            "image/png": "[encoded data removed]"
          },
          "metadata": {
            "needs_background": "light"
          }
        }
      ]
    },
    {
      "cell_type": "markdown",
      "metadata": {
        "id": "kIfOsEcWVQwP"
      },
      "source": [
        "Predictions are a good fit."
      ]
    },
    {
      "cell_type": "markdown",
      "metadata": {
        "id": "z2VYUeGrVQwQ"
      },
      "source": [
        "Generate new data to make predictions with the model:"
      ]
    },
    {
      "cell_type": "code",
      "metadata": {
        "colab": {
          "base_uri": "https://localhost:8080/"
        },
        "id": "FuEd0Wp0VQwQ",
        "outputId": "9f8662f3-bad9-438a-ca52-fef45dae3628"
      },
      "source": [
        "X_new = np.array([[0], [2]])\n",
        "X_new"
      ],
      "execution_count": 221,
      "outputs": [
        {
          "output_type": "execute_result",
          "data": {
            "text/plain": [
              "array([[0],\n",
              "       [2]])"
            ]
          },
          "metadata": {},
          "execution_count": 221
        }
      ]
    },
    {
      "cell_type": "code",
      "metadata": {
        "colab": {
          "base_uri": "https://localhost:8080/"
        },
        "id": "lLCnLm7_VQwQ",
        "outputId": "d06cd76e-cc52-416b-de3b-120c3f1cc936"
      },
      "source": [
        "X_new.shape"
      ],
      "execution_count": 222,
      "outputs": [
        {
          "output_type": "execute_result",
          "data": {
            "text/plain": [
              "(2, 1)"
            ]
          },
          "metadata": {},
          "execution_count": 222
        }
      ]
    },
    {
      "cell_type": "code",
      "metadata": {
        "colab": {
          "base_uri": "https://localhost:8080/"
        },
        "id": "zJIzUfZsVQwQ",
        "outputId": "00962abf-4f2e-40f6-cb53-d1b1bd64a168"
      },
      "source": [
        "y_new = linear_reg.predict(X_new)\n",
        "y_new"
      ],
      "execution_count": 223,
      "outputs": [
        {
          "output_type": "execute_result",
          "data": {
            "text/plain": [
              "array([[ 3.74406122],\n",
              "       [10.47517611]])"
            ]
          },
          "metadata": {},
          "execution_count": 223
        }
      ]
    },
    {
      "cell_type": "code",
      "metadata": {
        "colab": {
          "base_uri": "https://localhost:8080/"
        },
        "id": "ICiEnkbdVQwQ",
        "outputId": "029c698c-956a-4d4f-eb2a-316e4e8bcbee"
      },
      "source": [
        "linear_reg.coef_, linear_reg.intercept_"
      ],
      "execution_count": 224,
      "outputs": [
        {
          "output_type": "execute_result",
          "data": {
            "text/plain": [
              "(array([[3.36555744]]), array([3.74406122]))"
            ]
          },
          "metadata": {},
          "execution_count": 224
        }
      ]
    },
    {
      "cell_type": "markdown",
      "metadata": {
        "id": "iBXzOecgVQwR"
      },
      "source": [
        "The model estimates:\n",
        "\n",
        "$\\hat{y} = 3.36X + 3.74$"
      ]
    },
    {
      "cell_type": "code",
      "metadata": {
        "id": "ZNvipq0wQYfj"
      },
      "source": [
        "#|VENTAS|GANANCIAS|\n",
        "#COEF*VENTAS+B\n",
        "#|VENTAS|COMPRAS|GANANCIAS|\n",
        "#COEF1*X1+COEF2*X2+B=Y"
      ],
      "execution_count": 225,
      "outputs": []
    },
    {
      "cell_type": "markdown",
      "metadata": {
        "id": "_Rv-RJSnVQwR"
      },
      "source": [
        "## Polynomial Regression\n",
        "\n",
        "If data is more complex than a straight line, you can use a linear model ti fit non-linear data adding powers of each feature as new features and then train a linear model on the extended set of features. "
      ]
    },
    {
      "cell_type": "markdown",
      "metadata": {
        "id": "dPrpAVsZVQwR"
      },
      "source": [
        "$$y = a_0 + a_1x_1 + a_2x_2 + a_3x_3 + ...$$ to $$y = a_0 + a_1x + a_2x^2 + a_3x^3+ ...$$ "
      ]
    },
    {
      "cell_type": "markdown",
      "metadata": {
        "id": "9kjMWzEfVQwR"
      },
      "source": [
        "This is still a linear model, the linearity refers to the fact that the coefficients never multiply or divide each other."
      ]
    },
    {
      "cell_type": "markdown",
      "metadata": {
        "id": "2M3fp_CSVQwR"
      },
      "source": [
        "To generate polynomial data we use the function:\n",
        "\n",
        "$y = 0.50X^2 + X + 2 + noise$"
      ]
    },
    {
      "cell_type": "code",
      "metadata": {
        "id": "sSrueMnPVQwR"
      },
      "source": [
        "# generate non-linear data e.g. quadratic equation\n",
        "m = 100\n",
        "X = 6 * np.random.rand(m, 1) - 3\n",
        "y = 0.5 * X**2 + X + 2 + np.random.randn(m, 1)"
      ],
      "execution_count": 226,
      "outputs": []
    },
    {
      "cell_type": "code",
      "metadata": {
        "colab": {
          "base_uri": "https://localhost:8080/",
          "height": 291
        },
        "id": "GNQQoXkMVQwS",
        "outputId": "c846d1ff-ef92-4851-cb29-a97abb0fc0ab"
      },
      "source": [
        "plt.plot(X, y, \"b.\")\n",
        "plt.xlabel(\"$x_1$\", fontsize=18)\n",
        "plt.ylabel(\"$y$\", rotation=0, fontsize=18)\n",
        "plt.axis([-3, 3, 0, 10]);"
      ],
      "execution_count": 227,
      "outputs": [
        {
          "output_type": "display_data",
          "data": {
            "text/plain": [
              "<Figure size 432x288 with 1 Axes>"
            ],
            "image/png": "[encoded data removed]"
          },
          "metadata": {
            "needs_background": "light"
          }
        }
      ]
    },
    {
      "cell_type": "code",
      "source": [
        "import pandas as pd\n",
        "pd.DataFrame(y)"
      ],
      "metadata": {
        "id": "YtaK_dsidNcP",
        "outputId": "6f71d192-66db-49a3-b77a-bc2d713a66f2",
        "colab": {
          "base_uri": "https://localhost:8080/",
          "height": 424
        }
      },
      "execution_count": 228,
      "outputs": [
        {
          "output_type": "execute_result",
          "data": {
            "text/plain": [
              "           0\n",
              "0   8.529240\n",
              "1   3.768929\n",
              "2   3.354423\n",
              "3   2.747935\n",
              "4   0.808458\n",
              "..       ...\n",
              "95  5.346771\n",
              "96  6.338229\n",
              "97  3.488785\n",
              "98  1.372002\n",
              "99 -0.072150\n",
              "\n",
              "[100 rows x 1 columns]"
            ],
            "text/html": [
              "\n",
              "  <div id=\"df-c6d23f8a-5d25-4848-b587-5f27f6082abc\">\n",
              "    <div class=\"colab-df-container\">\n",
              "      <div>\n",
              "<style scoped>\n",
              "    .dataframe tbody tr th:only-of-type {\n",
              "        vertical-align: middle;\n",
              "    }\n",
              "\n",
              "    .dataframe tbody tr th {\n",
              "        vertical-align: top;\n",
              "    }\n",
              "\n",
              "    .dataframe thead th {\n",
              "        text-align: right;\n",
              "    }\n",
              "</style>\n",
              "<table border=\"1\" class=\"dataframe\">\n",
              "  <thead>\n",
              "    <tr style=\"text-align: right;\">\n",
              "      <th></th>\n",
              "      <th>0</th>\n",
              "    </tr>\n",
              "  </thead>\n",
              "  <tbody>\n",
              "    <tr>\n",
              "      <th>0</th>\n",
              "      <td>8.529240</td>\n",
              "    </tr>\n",
              "    <tr>\n",
              "      <th>1</th>\n",
              "      <td>3.768929</td>\n",
              "    </tr>\n",
              "    <tr>\n",
              "      <th>2</th>\n",
              "      <td>3.354423</td>\n",
              "    </tr>\n",
              "    <tr>\n",
              "      <th>3</th>\n",
              "      <td>2.747935</td>\n",
              "    </tr>\n",
              "    <tr>\n",
              "      <th>4</th>\n",
              "      <td>0.808458</td>\n",
              "    </tr>\n",
              "    <tr>\n",
              "      <th>...</th>\n",
              "      <td>...</td>\n",
              "    </tr>\n",
              "    <tr>\n",
              "      <th>95</th>\n",
              "      <td>5.346771</td>\n",
              "    </tr>\n",
              "    <tr>\n",
              "      <th>96</th>\n",
              "      <td>6.338229</td>\n",
              "    </tr>\n",
              "    <tr>\n",
              "      <th>97</th>\n",
              "      <td>3.488785</td>\n",
              "    </tr>\n",
              "    <tr>\n",
              "      <th>98</th>\n",
              "      <td>1.372002</td>\n",
              "    </tr>\n",
              "    <tr>\n",
              "      <th>99</th>\n",
              "      <td>-0.072150</td>\n",
              "    </tr>\n",
              "  </tbody>\n",
              "</table>\n",
              "<p>100 rows × 1 columns</p>\n",
              "</div>\n",
              "      <button class=\"colab-df-convert\" onclick=\"convertToInteractive('df-c6d23f8a-5d25-4848-b587-5f27f6082abc')\"\n",
              "              title=\"Convert this dataframe to an interactive table.\"\n",
              "              style=\"display:none;\">\n",
              "        \n",
              "  <svg xmlns=\"http://www.w3.org/2000/svg\" height=\"24px\"viewBox=\"0 0 24 24\"\n",
              "       width=\"24px\">\n",
              "    <path d=\"M0 0h24v24H0V0z\" fill=\"none\"/>\n",
              "    <path d=\"M18.56 5.44l.94 2.06.94-2.06 2.06-.94-2.06-.94-.94-2.06-.94 2.06-2.06.94zm-11 1L8.5 8.5l.94-2.06 2.06-.94-2.06-.94L8.5 2.5l-.94 2.06-2.06.94zm10 10l.94 2.06.94-2.06 2.06-.94-2.06-.94-.94-2.06-.94 2.06-2.06.94z\"/><path d=\"M17.41 7.96l-1.37-1.37c-.4-.4-.92-.59-1.43-.59-.52 0-1.04.2-1.43.59L10.3 9.45l-7.72 7.72c-.78.78-.78 2.05 0 2.83L4 21.41c.39.39.9.59 1.41.59.51 0 1.02-.2 1.41-.59l7.78-7.78 2.81-2.81c.8-.78.8-2.07 0-2.86zM5.41 20L4 18.59l7.72-7.72 1.47 1.35L5.41 20z\"/>\n",
              "  </svg>\n",
              "      </button>\n",
              "      \n",
              "  <style>\n",
              "    .colab-df-container {\n",
              "      display:flex;\n",
              "      flex-wrap:wrap;\n",
              "      gap: 12px;\n",
              "    }\n",
              "\n",
              "    .colab-df-convert {\n",
              "      background-color: #E8F0FE;\n",
              "      border: none;\n",
              "      border-radius: 50%;\n",
              "      cursor: pointer;\n",
              "      display: none;\n",
              "      fill: #1967D2;\n",
              "      height: 32px;\n",
              "      padding: 0 0 0 0;\n",
              "      width: 32px;\n",
              "    }\n",
              "\n",
              "    .colab-df-convert:hover {\n",
              "      background-color: #E2EBFA;\n",
              "      box-shadow: 0px 1px 2px rgba(60, 64, 67, 0.3), 0px 1px 3px 1px rgba(60, 64, 67, 0.15);\n",
              "      fill: #174EA6;\n",
              "    }\n",
              "\n",
              "    [theme=dark] .colab-df-convert {\n",
              "      background-color: #3B4455;\n",
              "      fill: #D2E3FC;\n",
              "    }\n",
              "\n",
              "    [theme=dark] .colab-df-convert:hover {\n",
              "      background-color: #434B5C;\n",
              "      box-shadow: 0px 1px 3px 1px rgba(0, 0, 0, 0.15);\n",
              "      filter: drop-shadow(0px 1px 2px rgba(0, 0, 0, 0.3));\n",
              "      fill: #FFFFFF;\n",
              "    }\n",
              "  </style>\n",
              "\n",
              "      <script>\n",
              "        const buttonEl =\n",
              "          document.querySelector('#df-c6d23f8a-5d25-4848-b587-5f27f6082abc button.colab-df-convert');\n",
              "        buttonEl.style.display =\n",
              "          google.colab.kernel.accessAllowed ? 'block' : 'none';\n",
              "\n",
              "        async function convertToInteractive(key) {\n",
              "          const element = document.querySelector('#df-c6d23f8a-5d25-4848-b587-5f27f6082abc');\n",
              "          const dataTable =\n",
              "            await google.colab.kernel.invokeFunction('convertToInteractive',\n",
              "                                                     [key], {});\n",
              "          if (!dataTable) return;\n",
              "\n",
              "          const docLinkHtml = 'Like what you see? Visit the ' +\n",
              "            '<a target=\"_blank\" href=https://colab.research.google.com/notebooks/data_table.ipynb>data table notebook</a>'\n",
              "            + ' to learn more about interactive tables.';\n",
              "          element.innerHTML = '';\n",
              "          dataTable['output_type'] = 'display_data';\n",
              "          await google.colab.output.renderOutput(dataTable, element);\n",
              "          const docLink = document.createElement('div');\n",
              "          docLink.innerHTML = docLinkHtml;\n",
              "          element.appendChild(docLink);\n",
              "        }\n",
              "      </script>\n",
              "    </div>\n",
              "  </div>\n",
              "  "
            ]
          },
          "metadata": {},
          "execution_count": 228
        }
      ]
    },
    {
      "cell_type": "markdown",
      "metadata": {
        "id": "vrZTRaLNVQwS"
      },
      "source": [
        "Now we can use `PolynomialFeatues` to transform training data adding the square of each feature as new features."
      ]
    },
    {
      "cell_type": "code",
      "metadata": {
        "id": "BXo0Hm56VQwS"
      },
      "source": [
        "from sklearn.preprocessing import PolynomialFeatures\n",
        "\n",
        "poly_features = PolynomialFeatures(degree=2, include_bias=False)\n",
        "X_poly = poly_features.fit_transform(X)"
      ],
      "execution_count": 229,
      "outputs": []
    },
    {
      "cell_type": "code",
      "metadata": {
        "colab": {
          "base_uri": "https://localhost:8080/"
        },
        "id": "1FqY9-I4VQwS",
        "outputId": "cd76c4ce-d2c2-4f9e-e431-d3f6e090f99b"
      },
      "source": [
        "X_poly"
      ],
      "execution_count": 230,
      "outputs": [
        {
          "output_type": "execute_result",
          "data": {
            "text/plain": [
              "array([[ 2.72919168e+00,  7.44848725e+00],\n",
              "       [ 1.42738150e+00,  2.03741795e+00],\n",
              "       [ 3.26124315e-01,  1.06357069e-01],\n",
              "       [ 6.70324477e-01,  4.49334905e-01],\n",
              "       [-4.82399625e-01,  2.32709399e-01],\n",
              "       [-1.51361406e+00,  2.29102753e+00],\n",
              "       [-8.64163928e-01,  7.46779295e-01],\n",
              "       [ 1.54707666e+00,  2.39344620e+00],\n",
              "       [-2.91363907e+00,  8.48929262e+00],\n",
              "       [-2.30356416e+00,  5.30640783e+00],\n",
              "       [-2.72398415e+00,  7.42008964e+00],\n",
              "       [-2.75562719e+00,  7.59348119e+00],\n",
              "       [ 2.13276350e+00,  4.54868016e+00],\n",
              "       [ 1.22194716e+00,  1.49315485e+00],\n",
              "       [-1.54957025e-01,  2.40116797e-02],\n",
              "       [-2.41299504e+00,  5.82254504e+00],\n",
              "       [-5.03047493e-02,  2.53056780e-03],\n",
              "       [-1.59169375e-01,  2.53348900e-02],\n",
              "       [-1.96078878e+00,  3.84469264e+00],\n",
              "       [-3.96890105e-01,  1.57521755e-01],\n",
              "       [-6.08971594e-01,  3.70846402e-01],\n",
              "       [ 6.95100588e-01,  4.83164828e-01],\n",
              "       [ 8.10561905e-01,  6.57010602e-01],\n",
              "       [-2.72817594e+00,  7.44294397e+00],\n",
              "       [-7.52324312e-01,  5.65991871e-01],\n",
              "       [ 7.55159494e-01,  5.70265862e-01],\n",
              "       [ 1.88175515e-02,  3.54100244e-04],\n",
              "       [ 2.13893905e+00,  4.57506025e+00],\n",
              "       [ 9.52161790e-01,  9.06612074e-01],\n",
              "       [-2.02239344e+00,  4.09007522e+00],\n",
              "       [-2.57658752e+00,  6.63880323e+00],\n",
              "       [ 8.54515669e-01,  7.30197029e-01],\n",
              "       [-2.84093214e+00,  8.07089541e+00],\n",
              "       [ 5.14653488e-01,  2.64868212e-01],\n",
              "       [ 2.64138145e+00,  6.97689596e+00],\n",
              "       [ 4.52845067e-01,  2.05068655e-01],\n",
              "       [-6.70980443e-01,  4.50214755e-01],\n",
              "       [ 8.59729311e-01,  7.39134488e-01],\n",
              "       [-2.50482657e-01,  6.27415615e-02],\n",
              "       [ 2.73700736e-01,  7.49120928e-02],\n",
              "       [ 2.64878885e+00,  7.01608239e+00],\n",
              "       [-6.83384173e-01,  4.67013928e-01],\n",
              "       [ 2.76714338e+00,  7.65708250e+00],\n",
              "       [ 2.43210385e+00,  5.91512915e+00],\n",
              "       [-1.82525319e+00,  3.33154921e+00],\n",
              "       [-2.58383219e+00,  6.67618881e+00],\n",
              "       [-2.39533199e+00,  5.73761535e+00],\n",
              "       [-2.89066905e+00,  8.35596753e+00],\n",
              "       [-2.43334224e+00,  5.92115443e+00],\n",
              "       [ 1.09804064e+00,  1.20569325e+00],\n",
              "       [-2.57286811e+00,  6.61965031e+00],\n",
              "       [-1.08614622e+00,  1.17971361e+00],\n",
              "       [ 2.06925187e+00,  4.28180328e+00],\n",
              "       [-2.86036839e+00,  8.18170730e+00],\n",
              "       [ 1.88681090e+00,  3.56005536e+00],\n",
              "       [-1.30887135e+00,  1.71314421e+00],\n",
              "       [-2.29101103e+00,  5.24873156e+00],\n",
              "       [ 1.18042299e+00,  1.39339844e+00],\n",
              "       [ 7.73657081e-01,  5.98545278e-01],\n",
              "       [ 2.26483208e+00,  5.12946436e+00],\n",
              "       [ 1.41042626e+00,  1.98930224e+00],\n",
              "       [ 1.82088558e+00,  3.31562430e+00],\n",
              "       [-1.30779256e+00,  1.71032139e+00],\n",
              "       [-1.93536274e+00,  3.74562893e+00],\n",
              "       [ 1.50368851e+00,  2.26107913e+00],\n",
              "       [ 1.84100844e+00,  3.38931206e+00],\n",
              "       [ 2.94303085e+00,  8.66143060e+00],\n",
              "       [-5.24293939e-01,  2.74884134e-01],\n",
              "       [-7.67891485e-01,  5.89657333e-01],\n",
              "       [ 1.65847776e+00,  2.75054850e+00],\n",
              "       [-9.55178758e-01,  9.12366461e-01],\n",
              "       [ 2.58454395e+00,  6.67986745e+00],\n",
              "       [ 2.15047651e+00,  4.62454922e+00],\n",
              "       [-4.26035836e-01,  1.81506533e-01],\n",
              "       [ 1.50522641e+00,  2.26570654e+00],\n",
              "       [ 1.52725724e+00,  2.33251469e+00],\n",
              "       [-2.38125679e+00,  5.67038389e+00],\n",
              "       [ 2.41531744e+00,  5.83375834e+00],\n",
              "       [ 3.15142347e-02,  9.93146988e-04],\n",
              "       [ 1.95874480e+00,  3.83668118e+00],\n",
              "       [-1.07970239e+00,  1.16575726e+00],\n",
              "       [ 2.37313937e+00,  5.63179047e+00],\n",
              "       [-6.64789928e-01,  4.41945648e-01],\n",
              "       [-2.93497409e+00,  8.61407292e+00],\n",
              "       [ 2.43229186e+00,  5.91604369e+00],\n",
              "       [-2.45227994e+00,  6.01367690e+00],\n",
              "       [-1.08411817e+00,  1.17531222e+00],\n",
              "       [ 2.70037180e+00,  7.29200787e+00],\n",
              "       [ 2.70364288e+00,  7.30968483e+00],\n",
              "       [ 4.40627329e-01,  1.94152443e-01],\n",
              "       [ 7.91023273e-01,  6.25717818e-01],\n",
              "       [-3.09326868e-01,  9.56831113e-02],\n",
              "       [-1.24073537e+00,  1.53942426e+00],\n",
              "       [-1.02801273e+00,  1.05681017e+00],\n",
              "       [ 1.03511074e+00,  1.07145424e+00],\n",
              "       [ 1.51424718e+00,  2.29294451e+00],\n",
              "       [ 1.74947426e+00,  3.06066019e+00],\n",
              "       [ 1.73770886e+00,  3.01963207e+00],\n",
              "       [-2.45276338e+00,  6.01604821e+00],\n",
              "       [-3.34781718e-02,  1.12078799e-03]])"
            ]
          },
          "metadata": {},
          "execution_count": 230
        }
      ]
    },
    {
      "cell_type": "markdown",
      "metadata": {
        "id": "GrFMRU_eVQwS"
      },
      "source": [
        "`X_poly` now contains the original feature of X plus the square of the feature:"
      ]
    },
    {
      "cell_type": "code",
      "metadata": {
        "colab": {
          "base_uri": "https://localhost:8080/"
        },
        "id": "M8FH1dY2UwgN",
        "outputId": "588baac7-5a76-4daa-eecf-0fab64bdfd77"
      },
      "source": [
        "print(X[0])\n",
        "print(X[0]*X[0])\n"
      ],
      "execution_count": 231,
      "outputs": [
        {
          "output_type": "stream",
          "name": "stdout",
          "text": [
            "[2.72919168]\n",
            "[7.44848725]\n"
          ]
        }
      ]
    },
    {
      "cell_type": "code",
      "metadata": {
        "colab": {
          "base_uri": "https://localhost:8080/"
        },
        "id": "PSflPniWVQwT",
        "outputId": "9116ab6a-8511-4516-b60e-9bcb5441b3f0"
      },
      "source": [
        "X_poly[0]"
      ],
      "execution_count": 232,
      "outputs": [
        {
          "output_type": "execute_result",
          "data": {
            "text/plain": [
              "array([2.72919168, 7.44848725])"
            ]
          },
          "metadata": {},
          "execution_count": 232
        }
      ]
    },
    {
      "cell_type": "markdown",
      "metadata": {
        "id": "HaXjXg7FVQwT"
      },
      "source": [
        "Fit the model to this extended training data:"
      ]
    },
    {
      "cell_type": "code",
      "metadata": {
        "colab": {
          "base_uri": "https://localhost:8080/"
        },
        "id": "c0Qu93dgVQwT",
        "outputId": "295f39a6-0652-43ce-b42b-f69ce9fa5d8c"
      },
      "source": [
        "lin_reg = LinearRegression(fit_intercept=True)\n",
        "lin_reg.fit(X_poly, y)\n",
        "lin_reg.coef_, lin_reg.intercept_"
      ],
      "execution_count": 233,
      "outputs": [
        {
          "output_type": "execute_result",
          "data": {
            "text/plain": [
              "(array([[1.04271531, 0.50866711]]), array([2.01873554]))"
            ]
          },
          "metadata": {},
          "execution_count": 233
        }
      ]
    },
    {
      "cell_type": "markdown",
      "metadata": {
        "id": "rKOSwvnmVQwT"
      },
      "source": [
        "The model estimates:\n",
        "\n",
        "$\\hat{y} =  0.89X +0.48X^2 + 2.09$"
      ]
    },
    {
      "cell_type": "markdown",
      "metadata": {
        "id": "_EtZEKz5VQwT"
      },
      "source": [
        "Plot the data and the predictions:"
      ]
    },
    {
      "cell_type": "code",
      "metadata": {
        "colab": {
          "base_uri": "https://localhost:8080/",
          "height": 291
        },
        "id": "6Q8dHRgdVQwT",
        "outputId": "a4107243-4f55-4d25-9ff1-915ddececaea"
      },
      "source": [
        "X_new=np.linspace(-3, 3, 100).reshape(100, 1)\n",
        "X_new_poly = poly_features.transform(X_new)\n",
        "y_new = lin_reg.predict(X_new_poly)\n",
        "plt.plot(X, y, \"b.\")\n",
        "plt.plot(X_new, y_new, \"r-\", linewidth=2, label=\"Predictions\")\n",
        "plt.xlabel(\"$x_1$\", fontsize=18)\n",
        "plt.ylabel(\"$y$\", rotation=0, fontsize=18)\n",
        "plt.legend(loc=\"upper left\", fontsize=14)\n",
        "plt.axis([-3, 3, 0, 10]);"
      ],
      "execution_count": 234,
      "outputs": [
        {
          "output_type": "display_data",
          "data": {
            "text/plain": [
              "<Figure size 432x288 with 1 Axes>"
            ],
            "image/png": "[encoded data removed]"
          },
          "metadata": {
            "needs_background": "light"
          }
        }
      ]
    },
    {
      "cell_type": "code",
      "source": [],
      "metadata": {
        "id": "vyq0o8f2pcqa"
      },
      "execution_count": 234,
      "outputs": []
    },
    {
      "cell_type": "markdown",
      "source": [
        "## R square\n",
        "\n",
        "R² es una medida estadística de qué tan cerca están los datos de la línea de regresión ajustada. También se conoce como el coeficiente de determinación o el coeficiente de determinación múltiple para la regresión múltiple. Para decirlo en un lenguaje más simple, R² es una medida de ajuste para los modelos de regresión lineal.\n",
        "\n",
        "\n",
        "\n",
        "R² no indica si un modelo de regresión se ajusta adecuadamente a sus datos. Un buen modelo puede tener un valor R² bajo. Por otro lado, un modelo sesgado puede tener un valor alto de R².\n",
        "\n",
        " SSres + SSreg = SStot, R² = Explained variation / Total Variation\n",
        " \n",
        " ![image.png](https://i.stack.imgur.com/xb1VY.png)\n",
        " \n",
        "![image.png](https://3.bp.blogspot.com/-MFqQLwbGwd4/WMO7tz39beI/AAAAAAAAF9I/Bjpfohgv_5E4lu7HzHJBQtXsBM--byqPwCLcB/s1600/rsquared.png)\n"
      ],
      "metadata": {
        "id": "TIFwAtW1pc6h"
      }
    },
    {
      "cell_type": "markdown",
      "metadata": {
        "id": "nTKFj4x9LMXm"
      },
      "source": [
        "# Ejercicio 1\n",
        "\n",
        "Utiliza la base de datos de \n",
        "https://www.kaggle.com/vinicius150987/manufacturing-cost\n",
        "\n",
        "Suponga que trabaja como consultor de una empresa de nueva creación que busca desarrollar un modelo para estimar el costo de los bienes vendidos a medida que varían el volumen de producción (número de unidades producidas). La startup recopiló datos y le pidió que desarrollara un modelo para predecir su costo frente a la cantidad de unidades vendidas."
      ]
    },
    {
      "cell_type": "code",
      "metadata": {
        "colab": {
          "base_uri": "https://localhost:8080/",
          "height": 363
        },
        "id": "oTnErQOkL3oa",
        "outputId": "c7326242-dc39-4518-e208-f6e09de267c5"
      },
      "source": [
        "import pandas as pd\n",
        "df = pd.read_csv('https://raw.githubusercontent.com/marypazrf/bdd/main/EconomiesOfScale.csv')\n",
        "df.sample(10)"
      ],
      "execution_count": 235,
      "outputs": [
        {
          "output_type": "execute_result",
          "data": {
            "text/plain": [
              "     Number of Units  Manufacturing Cost\n",
              "968         7.065653           27.804027\n",
              "212         3.372115           41.127212\n",
              "416         4.194513           43.832711\n",
              "677         5.068888           41.225741\n",
              "550         4.604122           37.569764\n",
              "764         5.389522           31.191501\n",
              "386         4.104190           42.988730\n",
              "339         3.942214           46.291435\n",
              "82          2.665856           48.578425\n",
              "487         4.399514           37.567914"
            ],
            "text/html": [
              "\n",
              "  <div id=\"df-adf92fe9-87a1-4c17-9c61-ea226e4188b9\">\n",
              "    <div class=\"colab-df-container\">\n",
              "      <div>\n",
              "<style scoped>\n",
              "    .dataframe tbody tr th:only-of-type {\n",
              "        vertical-align: middle;\n",
              "    }\n",
              "\n",
              "    .dataframe tbody tr th {\n",
              "        vertical-align: top;\n",
              "    }\n",
              "\n",
              "    .dataframe thead th {\n",
              "        text-align: right;\n",
              "    }\n",
              "</style>\n",
              "<table border=\"1\" class=\"dataframe\">\n",
              "  <thead>\n",
              "    <tr style=\"text-align: right;\">\n",
              "      <th></th>\n",
              "      <th>Number of Units</th>\n",
              "      <th>Manufacturing Cost</th>\n",
              "    </tr>\n",
              "  </thead>\n",
              "  <tbody>\n",
              "    <tr>\n",
              "      <th>968</th>\n",
              "      <td>7.065653</td>\n",
              "      <td>27.804027</td>\n",
              "    </tr>\n",
              "    <tr>\n",
              "      <th>212</th>\n",
              "      <td>3.372115</td>\n",
              "      <td>41.127212</td>\n",
              "    </tr>\n",
              "    <tr>\n",
              "      <th>416</th>\n",
              "      <td>4.194513</td>\n",
              "      <td>43.832711</td>\n",
              "    </tr>\n",
              "    <tr>\n",
              "      <th>677</th>\n",
              "      <td>5.068888</td>\n",
              "      <td>41.225741</td>\n",
              "    </tr>\n",
              "    <tr>\n",
              "      <th>550</th>\n",
              "      <td>4.604122</td>\n",
              "      <td>37.569764</td>\n",
              "    </tr>\n",
              "    <tr>\n",
              "      <th>764</th>\n",
              "      <td>5.389522</td>\n",
              "      <td>31.191501</td>\n",
              "    </tr>\n",
              "    <tr>\n",
              "      <th>386</th>\n",
              "      <td>4.104190</td>\n",
              "      <td>42.988730</td>\n",
              "    </tr>\n",
              "    <tr>\n",
              "      <th>339</th>\n",
              "      <td>3.942214</td>\n",
              "      <td>46.291435</td>\n",
              "    </tr>\n",
              "    <tr>\n",
              "      <th>82</th>\n",
              "      <td>2.665856</td>\n",
              "      <td>48.578425</td>\n",
              "    </tr>\n",
              "    <tr>\n",
              "      <th>487</th>\n",
              "      <td>4.399514</td>\n",
              "      <td>37.567914</td>\n",
              "    </tr>\n",
              "  </tbody>\n",
              "</table>\n",
              "</div>\n",
              "      <button class=\"colab-df-convert\" onclick=\"convertToInteractive('df-adf92fe9-87a1-4c17-9c61-ea226e4188b9')\"\n",
              "              title=\"Convert this dataframe to an interactive table.\"\n",
              "              style=\"display:none;\">\n",
              "        \n",
              "  <svg xmlns=\"http://www.w3.org/2000/svg\" height=\"24px\"viewBox=\"0 0 24 24\"\n",
              "       width=\"24px\">\n",
              "    <path d=\"M0 0h24v24H0V0z\" fill=\"none\"/>\n",
              "    <path d=\"M18.56 5.44l.94 2.06.94-2.06 2.06-.94-2.06-.94-.94-2.06-.94 2.06-2.06.94zm-11 1L8.5 8.5l.94-2.06 2.06-.94-2.06-.94L8.5 2.5l-.94 2.06-2.06.94zm10 10l.94 2.06.94-2.06 2.06-.94-2.06-.94-.94-2.06-.94 2.06-2.06.94z\"/><path d=\"M17.41 7.96l-1.37-1.37c-.4-.4-.92-.59-1.43-.59-.52 0-1.04.2-1.43.59L10.3 9.45l-7.72 7.72c-.78.78-.78 2.05 0 2.83L4 21.41c.39.39.9.59 1.41.59.51 0 1.02-.2 1.41-.59l7.78-7.78 2.81-2.81c.8-.78.8-2.07 0-2.86zM5.41 20L4 18.59l7.72-7.72 1.47 1.35L5.41 20z\"/>\n",
              "  </svg>\n",
              "      </button>\n",
              "      \n",
              "  <style>\n",
              "    .colab-df-container {\n",
              "      display:flex;\n",
              "      flex-wrap:wrap;\n",
              "      gap: 12px;\n",
              "    }\n",
              "\n",
              "    .colab-df-convert {\n",
              "      background-color: #E8F0FE;\n",
              "      border: none;\n",
              "      border-radius: 50%;\n",
              "      cursor: pointer;\n",
              "      display: none;\n",
              "      fill: #1967D2;\n",
              "      height: 32px;\n",
              "      padding: 0 0 0 0;\n",
              "      width: 32px;\n",
              "    }\n",
              "\n",
              "    .colab-df-convert:hover {\n",
              "      background-color: #E2EBFA;\n",
              "      box-shadow: 0px 1px 2px rgba(60, 64, 67, 0.3), 0px 1px 3px 1px rgba(60, 64, 67, 0.15);\n",
              "      fill: #174EA6;\n",
              "    }\n",
              "\n",
              "    [theme=dark] .colab-df-convert {\n",
              "      background-color: #3B4455;\n",
              "      fill: #D2E3FC;\n",
              "    }\n",
              "\n",
              "    [theme=dark] .colab-df-convert:hover {\n",
              "      background-color: #434B5C;\n",
              "      box-shadow: 0px 1px 3px 1px rgba(0, 0, 0, 0.15);\n",
              "      filter: drop-shadow(0px 1px 2px rgba(0, 0, 0, 0.3));\n",
              "      fill: #FFFFFF;\n",
              "    }\n",
              "  </style>\n",
              "\n",
              "      <script>\n",
              "        const buttonEl =\n",
              "          document.querySelector('#df-adf92fe9-87a1-4c17-9c61-ea226e4188b9 button.colab-df-convert');\n",
              "        buttonEl.style.display =\n",
              "          google.colab.kernel.accessAllowed ? 'block' : 'none';\n",
              "\n",
              "        async function convertToInteractive(key) {\n",
              "          const element = document.querySelector('#df-adf92fe9-87a1-4c17-9c61-ea226e4188b9');\n",
              "          const dataTable =\n",
              "            await google.colab.kernel.invokeFunction('convertToInteractive',\n",
              "                                                     [key], {});\n",
              "          if (!dataTable) return;\n",
              "\n",
              "          const docLinkHtml = 'Like what you see? Visit the ' +\n",
              "            '<a target=\"_blank\" href=https://colab.research.google.com/notebooks/data_table.ipynb>data table notebook</a>'\n",
              "            + ' to learn more about interactive tables.';\n",
              "          element.innerHTML = '';\n",
              "          dataTable['output_type'] = 'display_data';\n",
              "          await google.colab.output.renderOutput(dataTable, element);\n",
              "          const docLink = document.createElement('div');\n",
              "          docLink.innerHTML = docLinkHtml;\n",
              "          element.appendChild(docLink);\n",
              "        }\n",
              "      </script>\n",
              "    </div>\n",
              "  </div>\n",
              "  "
            ]
          },
          "metadata": {},
          "execution_count": 235
        }
      ]
    },
    {
      "cell_type": "code",
      "metadata": {
        "id": "14kGO5nkMGlV"
      },
      "source": [
        "X = df[['Number of Units']]\n",
        "y = df['Manufacturing Cost']"
      ],
      "execution_count": 236,
      "outputs": []
    },
    {
      "cell_type": "code",
      "source": [
        "len(X)"
      ],
      "metadata": {
        "id": "ksh_OrkjY3GW",
        "outputId": "ad8738b7-0ecc-4340-c5e5-f07f4fba7a2c",
        "colab": {
          "base_uri": "https://localhost:8080/"
        }
      },
      "execution_count": 237,
      "outputs": [
        {
          "output_type": "execute_result",
          "data": {
            "text/plain": [
              "1000"
            ]
          },
          "metadata": {},
          "execution_count": 237
        }
      ]
    },
    {
      "cell_type": "code",
      "source": [
        "y.describe"
      ],
      "metadata": {
        "colab": {
          "base_uri": "https://localhost:8080/"
        },
        "id": "bwR6SSqQDfC2",
        "outputId": "6c6b12f9-a902-45bf-adff-949b5bbf80e2"
      },
      "execution_count": 238,
      "outputs": [
        {
          "output_type": "execute_result",
          "data": {
            "text/plain": [
              "<bound method NDFrame.describe of 0      95.066056\n",
              "1      96.531750\n",
              "2      73.661311\n",
              "3      95.566843\n",
              "4      98.777013\n",
              "         ...    \n",
              "995    23.855067\n",
              "996    27.536542\n",
              "997    25.973787\n",
              "998    25.138311\n",
              "999    21.547777\n",
              "Name: Manufacturing Cost, Length: 1000, dtype: float64>"
            ]
          },
          "metadata": {},
          "execution_count": 238
        }
      ]
    },
    {
      "cell_type": "code",
      "metadata": {
        "colab": {
          "base_uri": "https://localhost:8080/",
          "height": 282
        },
        "id": "idoEjfEhMoxk",
        "outputId": "e1af0f10-ad68-438f-ac06-d26faa0320f6"
      },
      "source": [
        "plt.plot(X,y,'b.')"
      ],
      "execution_count": 239,
      "outputs": [
        {
          "output_type": "execute_result",
          "data": {
            "text/plain": [
              "[<matplotlib.lines.Line2D at 0x7f7e07592dd0>]"
            ]
          },
          "metadata": {},
          "execution_count": 239
        },
        {
          "output_type": "display_data",
          "data": {
            "text/plain": [
              "<Figure size 432x288 with 1 Axes>"
            ],
            "image/png": "[encoded data removed]"
          },
          "metadata": {
            "needs_background": "light"
          }
        }
      ]
    },
    {
      "cell_type": "code",
      "source": [
        "from sklearn.model_selection import train_test_split\n",
        "X_tv,X_test,y_tv,y_test=train_test_split(X,y,test_size=0.3,random_state=7)"
      ],
      "metadata": {
        "id": "8d723hNN4TtR"
      },
      "execution_count": 240,
      "outputs": []
    },
    {
      "cell_type": "markdown",
      "source": [
        "# Regresión lineal"
      ],
      "metadata": {
        "id": "a2jzGezlWeo-"
      }
    },
    {
      "cell_type": "code",
      "source": [
        "#lineal\n",
        "from sklearn.linear_model import LinearRegression #traemos el módulo de regresión lineal\n",
        "\n",
        "LR=LinearRegression() #creamos el objeto linear regression\n",
        "LR.fit(X_tv,y_tv) #entrenamos los datos\n",
        "y_pred_lin=LR.predict(X_test) #predecimos los valores con test\n",
        "\n",
        "plt.scatter(X_test, y_test) #graficamos los datos originales\n",
        "plt.plot(X_test, y_pred_lin, \"r-\", linewidth=2, label=\"Predictions\") #con las predicciones\n",
        "plt.xlabel(\"$X$\", fontsize=18)\n",
        "plt.ylabel(\"$y$\", rotation=0, fontsize=18)\n",
        "plt.legend(loc=\"upper left\", fontsize=14);"
      ],
      "metadata": {
        "id": "kMmOy97puOLE",
        "outputId": "dc64057e-082d-4d76-9eaa-9dce9e5edc23",
        "colab": {
          "base_uri": "https://localhost:8080/",
          "height": 287
        }
      },
      "execution_count": 241,
      "outputs": [
        {
          "output_type": "display_data",
          "data": {
            "text/plain": [
              "<Figure size 432x288 with 1 Axes>"
            ],
            "image/png": "[encoded data removed]"
          },
          "metadata": {
            "needs_background": "light"
          }
        }
      ]
    },
    {
      "cell_type": "markdown",
      "source": [
        "El modelo se ajusta a los datos, si observamos la tendencia, nos daremos cuenta que es negativa."
      ],
      "metadata": {
        "id": "eExFo_WaX89p"
      }
    },
    {
      "cell_type": "code",
      "source": [
        "from sklearn import metrics #importmos las metricas a utilizar\n",
        "from sklearn.metrics import r2_score\n",
        "\n",
        "list_MAE=[] #creamos una lista donde vamos a guardar los mae\n",
        "list_R2=[] #creamos otra lista para los R2\n",
        "\n",
        "mae=metrics.mean_absolute_error(y_test, y_pred_lin) #calculamos el mae con la y_real y y_pred\n",
        "r2=r2_score(y_test, y_pred_lin) #lo mismo con el r2\n",
        "\n",
        "list_MAE.append(mae) #agregamos el resultado a la lista de MAE\n",
        "list_R2.append(r2) #lo mismo con R2\n",
        "print('Error medio Absoluto (MAE):', metrics.mean_absolute_error(y_test, y_pred_lin))\n",
        "print('Root Mean Squared Error:', np.sqrt(metrics.mean_squared_error(y_test, y_pred_lin)))\n",
        "print('r2_score',r2_score(y_test, y_pred_lin))"
      ],
      "metadata": {
        "colab": {
          "base_uri": "https://localhost:8080/"
        },
        "id": "kVtGJ7Qk5Egb",
        "outputId": "79eb6884-9b83-4a06-d6f1-6c9923ce3317"
      },
      "execution_count": 242,
      "outputs": [
        {
          "output_type": "stream",
          "name": "stdout",
          "text": [
            "Error medio Absoluto (MAE): 4.954556166990074\n",
            "Root Mean Squared Error: 6.6928495737068285\n",
            "r2_score 0.5719063437471217\n"
          ]
        }
      ]
    },
    {
      "cell_type": "code",
      "source": [
        "LR.coef_, LR.intercept_ #Mostramos los coeficientes y el intercepto"
      ],
      "metadata": {
        "id": "plCd8eFh3xdL",
        "colab": {
          "base_uri": "https://localhost:8080/"
        },
        "outputId": "75348f2f-5270-4c12-adf0-08b8ee17f4b7"
      },
      "execution_count": 243,
      "outputs": [
        {
          "output_type": "execute_result",
          "data": {
            "text/plain": [
              "(array([-6.26917022]), 67.92270858830854)"
            ]
          },
          "metadata": {},
          "execution_count": 243
        }
      ]
    },
    {
      "cell_type": "markdown",
      "source": [
        "El modelo está dado por:"
      ],
      "metadata": {
        "id": "acRmTLS9Xkau"
      }
    },
    {
      "cell_type": "markdown",
      "source": [
        "${\\hat{y}=-6.26x+67.92}$"
      ],
      "metadata": {
        "id": "Di8TZl9b5se5"
      }
    },
    {
      "cell_type": "markdown",
      "source": [
        "# Regresión polinomial"
      ],
      "metadata": {
        "id": "3fRGdwi-XuEb"
      }
    },
    {
      "cell_type": "code",
      "source": [
        "#polinomial\n",
        "from sklearn.preprocessing import PolynomialFeatures #importamos el módulo para la regresión polinomial\n",
        "\n",
        "poly=PolynomialFeatures(2) #el grado de complejidad del modelo\n",
        "\n",
        "X_test.values.sort(axis=0) #acomodamos los valores para que la línea de la predicción no salga desacomodada\n",
        "X_poly=poly.fit_transform(X_tv) #entrenamos y transformamos x_tv\n",
        "X_poly_test=poly.fit_transform(X_test) # lo mismo con x_test\n",
        "\n",
        "\n",
        "LR=LinearRegression()\n",
        "LR.fit(X_poly,y_tv) #entrenamos el modelo con la x_tv hecha polinomial y y_tv\n",
        "\n",
        "\n",
        "y_pred_poly=LR.predict(X_poly_test) #predecimos con los datos de prueba\n",
        "\n",
        "plt.scatter(X_test, y_test) #graficamos los datos reales\n",
        "plt.plot(X_test, y_pred_poly, \"r-\", linewidth=2, label=\"Predictions\") #también las predicciones\n",
        "plt.xlabel(\"$X$\", fontsize=18)\n",
        "plt.ylabel(\"$y$\", rotation=0, fontsize=18)\n",
        "plt.legend(loc=\"upper left\", fontsize=14);"
      ],
      "metadata": {
        "colab": {
          "base_uri": "https://localhost:8080/",
          "height": 287
        },
        "id": "nWiDx-uKjzXS",
        "outputId": "afe6c9fd-813e-4031-904f-7e20593e5810"
      },
      "execution_count": 244,
      "outputs": [
        {
          "output_type": "display_data",
          "data": {
            "text/plain": [
              "<Figure size 432x288 with 1 Axes>"
            ],
            "image/png": "[encoded data removed]"
          },
          "metadata": {
            "needs_background": "light"
          }
        }
      ]
    },
    {
      "cell_type": "markdown",
      "source": [
        "La gráfica se ajusta bien a los datos"
      ],
      "metadata": {
        "id": "_NTK608iZsXy"
      }
    },
    {
      "cell_type": "code",
      "source": [
        "mae=metrics.mean_absolute_error(y_test, y_pred_poly) #obtenemos los errores\n",
        "r2=r2_score(y_test, y_pred_poly)\n",
        "\n",
        "list_MAE.append(mae)\n",
        "list_R2.append(r2)\n",
        "print('Error medio Absoluto (MAE):', mae) #mostramos los errores\n",
        "print('Root Mean Squared Error:', np.sqrt(metrics.mean_squared_error(y_test, y_pred_poly)))\n",
        "print('r2_score',r2)"
      ],
      "metadata": {
        "colab": {
          "base_uri": "https://localhost:8080/"
        },
        "id": "nAwlNxFed3E0",
        "outputId": "3c5f529e-f1fd-440c-e7c8-62eee2ef829b"
      },
      "execution_count": 245,
      "outputs": [
        {
          "output_type": "stream",
          "name": "stdout",
          "text": [
            "Error medio Absoluto (MAE): 9.865084858349377\n",
            "Root Mean Squared Error: 13.305376249622821\n",
            "r2_score -0.6918855617081276\n"
          ]
        }
      ]
    },
    {
      "cell_type": "code",
      "source": [
        "LR.coef_, LR.intercept_"
      ],
      "metadata": {
        "colab": {
          "base_uri": "https://localhost:8080/"
        },
        "id": "OSertyNpd-UX",
        "outputId": "7f5e27d2-4947-424b-d78d-17675b5fb550"
      },
      "execution_count": 246,
      "outputs": [
        {
          "output_type": "execute_result",
          "data": {
            "text/plain": [
              "(array([  0.        , -18.81578001,   1.40819027]), 93.47363822195226)"
            ]
          },
          "metadata": {},
          "execution_count": 246
        }
      ]
    },
    {
      "cell_type": "markdown",
      "source": [
        "El modelo estará dado por:"
      ],
      "metadata": {
        "id": "kE390ApEZpgp"
      }
    },
    {
      "cell_type": "markdown",
      "source": [
        "${\\hat{Y}=-18.81x+1.40x^2+93.47}$"
      ],
      "metadata": {
        "id": "tgpbL7EIeEiW"
      }
    },
    {
      "cell_type": "code",
      "source": [
        "#ridge\n",
        "from sklearn.linear_model import Ridge #importamos el modelo a usar\n",
        "from sklearn.preprocessing import StandardScaler #es importante estandarizar, antes de usar ridge\n",
        "from sklearn.pipeline import Pipeline #para evitar data leakage creamos un pipeline\n",
        "\n",
        "\n",
        "\n",
        "model_ridge = Pipeline([(\"poly_features\", PolynomialFeatures(degree=3, include_bias=False)),\n",
        "                  (\"scaler\", StandardScaler()),\n",
        "                  (\"ridge\", Ridge(alpha = 5, solver = 'cholesky', random_state = 42))]) #primero hacemos los valores de x polinomiales, seguido de escalarlos, al final aplicamos el modelo de ridge\n",
        "model_ridge.fit(X_tv, y_tv)\n",
        "\n",
        "\n",
        "y_pred_ridge = model_ridge.predict(X_test)\n",
        "\n",
        "plt.scatter(X_test, y_test)\n",
        "plt.plot(X_test, y_pred_ridge, \"r-\", linewidth=2, label=\"Predictions\")\n",
        "plt.xlabel(\"$X$\", fontsize=18)\n",
        "plt.ylabel(\"$y$\", rotation=0, fontsize=18)\n",
        "plt.legend(loc=\"upper left\", fontsize=14);"
      ],
      "metadata": {
        "id": "n9y4xRwTzhSD",
        "outputId": "e44596c2-10ed-4690-e229-b3ba0de16045",
        "colab": {
          "base_uri": "https://localhost:8080/",
          "height": 287
        }
      },
      "execution_count": 247,
      "outputs": [
        {
          "output_type": "display_data",
          "data": {
            "text/plain": [
              "<Figure size 432x288 with 1 Axes>"
            ],
            "image/png": "[encoded data removed]"
          },
          "metadata": {
            "needs_background": "light"
          }
        }
      ]
    },
    {
      "cell_type": "markdown",
      "source": [
        "Las predecciones se ajustan de manera similar a las vistas en la regresión polinomial"
      ],
      "metadata": {
        "id": "8dSTCzPGaUz7"
      }
    },
    {
      "cell_type": "code",
      "source": [
        "mae=metrics.mean_absolute_error(y_test, y_pred_ridge)\n",
        "r2=r2_score(y_test, y_pred_ridge)\n",
        "\n",
        "list_MAE.append(mae)\n",
        "list_R2.append(r2)\n",
        "print('Error medio Absoluto (MAE):', mae)\n",
        "print('Root Mean Squared Error:', np.sqrt(metrics.mean_squared_error(y_test, y_pred_ridge)))\n",
        "print('r2_score',r2)"
      ],
      "metadata": {
        "colab": {
          "base_uri": "https://localhost:8080/"
        },
        "outputId": "ac0ad350-7f7f-4e25-d0bd-4e8ecf5982a6",
        "id": "6VlJVxV8h_fm"
      },
      "execution_count": 248,
      "outputs": [
        {
          "output_type": "stream",
          "name": "stdout",
          "text": [
            "Error medio Absoluto (MAE): 9.863527373419483\n",
            "Root Mean Squared Error: 13.198928882649842\n",
            "r2_score -0.6649225742122671\n"
          ]
        }
      ]
    },
    {
      "cell_type": "code",
      "source": [
        "model_ridge.named_steps['ridge'].coef_, model_ridge.named_steps['ridge'].intercept_"
      ],
      "metadata": {
        "colab": {
          "base_uri": "https://localhost:8080/"
        },
        "outputId": "7e04b713-e6fe-4804-d91f-7b62b576fea4",
        "id": "GUgRhBcVh_fm"
      },
      "execution_count": 249,
      "outputs": [
        {
          "output_type": "execute_result",
          "data": {
            "text/plain": [
              "(array([-16.62141288,   3.77660404,   5.20539106]), 40.24691190134286)"
            ]
          },
          "metadata": {},
          "execution_count": 249
        }
      ]
    },
    {
      "cell_type": "markdown",
      "source": [
        "El modelo estará dado por:"
      ],
      "metadata": {
        "id": "UkNMP8tVauW6"
      }
    },
    {
      "cell_type": "markdown",
      "source": [
        "${\\hat{y}=-16.62x+3.77x^2+5.2x^3+40.24}$"
      ],
      "metadata": {
        "id": "z0QaRDH1iTJd"
      }
    },
    {
      "cell_type": "code",
      "source": [
        "#lasso\n",
        "from sklearn.linear_model import Lasso #importamos el modelo lasso\n",
        "\n",
        "\n",
        "\n",
        "\n",
        "model_lasso = Pipeline([(\"poly_features\", PolynomialFeatures(degree=3, include_bias=False)),\n",
        "                  (\"scaler\", StandardScaler()),\n",
        "                  (\"lasso\", Lasso(alpha = 3, random_state = 42))]) #dentro de nuestro pipeline ponemos al final el modelo lasso\n",
        "model_lasso.fit(X_tv, y_tv)\n",
        "\n",
        "\n",
        "y_pred_lasso = model_lasso.predict(X_test)\n",
        "\n",
        "plt.scatter(X_test, y_test)\n",
        "plt.plot(X_test, y_pred_lasso, \"r-\", linewidth=2, label=\"Predictions\")\n",
        "plt.xlabel(\"$X$\", fontsize=18)\n",
        "plt.ylabel(\"$y$\", rotation=0, fontsize=18)\n",
        "plt.legend(loc=\"upper left\", fontsize=14);"
      ],
      "metadata": {
        "outputId": "ce6748aa-b75e-4fb0-92c3-718bb1e68118",
        "colab": {
          "base_uri": "https://localhost:8080/",
          "height": 287
        },
        "id": "-lNXlTpBijzG"
      },
      "execution_count": 250,
      "outputs": [
        {
          "output_type": "display_data",
          "data": {
            "text/plain": [
              "<Figure size 432x288 with 1 Axes>"
            ],
            "image/png": "[encoded data removed]"
          },
          "metadata": {
            "needs_background": "light"
          }
        }
      ]
    },
    {
      "cell_type": "markdown",
      "source": [
        "En este caso en particular se puede observar, que el modelo es demasiado simple como para poder predecir los valores de y, lo que indica que se requiere buscar los mejores hiperparámetros con el scorer ${R_2}$"
      ],
      "metadata": {
        "id": "6wRofy3ua7xJ"
      }
    },
    {
      "cell_type": "code",
      "source": [
        "mae=metrics.mean_absolute_error(y_test, y_pred_lasso)\n",
        "r2=r2_score(y_test, y_pred_lasso)\n",
        "\n",
        "list_MAE.append(mae)\n",
        "list_R2.append(r2)\n",
        "print('Error medio Absoluto (MAE):', mae)\n",
        "print('Root Mean Squared Error:', np.sqrt(metrics.mean_squared_error(y_test, y_pred_lasso)))\n",
        "print('r2_score',r2)"
      ],
      "metadata": {
        "colab": {
          "base_uri": "https://localhost:8080/"
        },
        "outputId": "8387bddc-5c1e-4072-c8a9-46267ff9b46a",
        "id": "o1QwIGt4ijzG"
      },
      "execution_count": 251,
      "outputs": [
        {
          "output_type": "stream",
          "name": "stdout",
          "text": [
            "Error medio Absoluto (MAE): 8.895159300015763\n",
            "Root Mean Squared Error: 11.805983649445764\n",
            "r2_score -0.33205150934176686\n"
          ]
        }
      ]
    },
    {
      "cell_type": "code",
      "source": [
        "model_lasso.named_steps['lasso'].coef_, model_lasso.named_steps['lasso'].intercept_ #pasamos la parte del pipeline que tiene los coeficientes y el intercepto"
      ],
      "metadata": {
        "colab": {
          "base_uri": "https://localhost:8080/"
        },
        "outputId": "9e2a8f44-54a9-410d-c525-7e8f23d7ec49",
        "id": "4kS2QOhEijzH"
      },
      "execution_count": 252,
      "outputs": [
        {
          "output_type": "execute_result",
          "data": {
            "text/plain": [
              "(array([-5.17335058, -0.        , -0.        ]), 40.24691190134286)"
            ]
          },
          "metadata": {},
          "execution_count": 252
        }
      ]
    },
    {
      "cell_type": "markdown",
      "source": [
        "El modelo está dado por la ecuación:"
      ],
      "metadata": {
        "id": "-q2rHMSNcHbv"
      }
    },
    {
      "cell_type": "markdown",
      "source": [
        "${\\hat{y}=-5.17x+40.24}$"
      ],
      "metadata": {
        "id": "Z2QWl2kinAjt"
      }
    },
    {
      "cell_type": "markdown",
      "source": [
        "Visualizamos los errores MAE"
      ],
      "metadata": {
        "id": "6jk0esn0cZam"
      }
    },
    {
      "cell_type": "code",
      "source": [
        "import seaborn as sns\n",
        "list_names=[\"LR\",\"PR\",\"RI\",\"LA\"] #lista con los nombres de los errores\n",
        "sns.barplot(x=list_names,y=list_MAE)\n",
        "plt.title(\"MAE\")\n",
        "plt.show()"
      ],
      "metadata": {
        "colab": {
          "base_uri": "https://localhost:8080/",
          "height": 281
        },
        "id": "oZS09a8pIJbE",
        "outputId": "56f1b5a4-85b9-4322-8c57-aecf45f5c3ba"
      },
      "execution_count": 253,
      "outputs": [
        {
          "output_type": "display_data",
          "data": {
            "text/plain": [
              "<Figure size 432x288 with 1 Axes>"
            ],
            "image/png": "[encoded data removed]"
          },
          "metadata": {
            "needs_background": "light"
          }
        }
      ]
    },
    {
      "cell_type": "markdown",
      "source": [
        "Visualizamos ahora ${R_2}$"
      ],
      "metadata": {
        "id": "OjSycGhDc3oG"
      }
    },
    {
      "cell_type": "code",
      "source": [
        "sns.barplot(x=list_names,y=list_R2)\n",
        "plt.title(\"R2\")\n",
        "plt.show()"
      ],
      "metadata": {
        "colab": {
          "base_uri": "https://localhost:8080/",
          "height": 281
        },
        "id": "a17SLLaSI4DY",
        "outputId": "57d965d4-7438-4ceb-d07c-899615ba743b"
      },
      "execution_count": 254,
      "outputs": [
        {
          "output_type": "display_data",
          "data": {
            "text/plain": [
              "<Figure size 432x288 with 1 Axes>"
            ],
            "image/png": "[encoded data removed]"
          },
          "metadata": {
            "needs_background": "light"
          }
        }
      ]
    },
    {
      "cell_type": "markdown",
      "source": [
        "Por último la gráfica de residuos"
      ],
      "metadata": {
        "id": "SX7S4tapdl9t"
      }
    },
    {
      "cell_type": "code",
      "source": [
        "error_LR=y_pred_lin-y_test\n",
        "error_PR=y_pred_poly-y_test\n",
        "error_RI=y_pred_ridge-y_test\n",
        "error_LA=y_pred_lasso-y_test\n",
        "list_errors=[error_LR,error_PR,error_RI,error_LA]\n",
        "plt.boxplot(list_errors,labels=list_names,showmeans=True)\n",
        "plt.title(\"Gráfica de residuos\")\n",
        "plt.show()"
      ],
      "metadata": {
        "colab": {
          "base_uri": "https://localhost:8080/",
          "height": 281
        },
        "id": "YQl1tmYZLRtf",
        "outputId": "3259692f-2749-4c25-d34a-65d43273c646"
      },
      "execution_count": 255,
      "outputs": [
        {
          "output_type": "display_data",
          "data": {
            "text/plain": [
              "<Figure size 432x288 with 1 Axes>"
            ],
            "image/png": "[encoded data removed]"
          },
          "metadata": {
            "needs_background": "light"
          }
        }
      ]
    },
    {
      "cell_type": "markdown",
      "source": [
        "# Explica tus resultados, que método conviene más a la empresa, ¿por que?, ¿que porcentajes de entrenamiento y evaluación usaste?, ¿que error tienes?, ¿es bueno?, ¿cómo lo sabes?\n",
        "\n",
        "En base a los resultados, el modelo que conviene más es el de la regresión lineal, dado que si observamos las gráficas, nos podremos dar cuenta que el MAE es más bajo en el modelo de regresión lineal, mientras menor sea el MAE, se tendrá un mejor resultado, adicionalmente la gráfica de ${R_2}$ muestra que el score de la regresión lineal es el más alto, teniendo un score cercano a 0.6, mientras que los demás modelos, dan scores negativos, lo que da a entender que los modelos están sobreentrenados y cuando se presenten valores desconocidos en nuestro modelo, los resultados tendrán errores muy grandes en la predicción.\n",
        "\n",
        "La gráfica de residuos también nos confirma que el modelo de regresión lineal es el más adecuado, dado que su media está por encima de las demás, también presenta una menor dispersión, lo que indica que el modelo tiene un alto índice de predicciones correctas o cercanas.\n",
        "\n",
        "Los porcentajes que utilice para la partición de los datos fueron de 70 para entrenamiento y el resto para prueba, lo hice de esa manera porque es la partición más común de los datos.\n",
        "\n",
        "El error MAE más bajo que tengo es de 4.5 aproximadamente, en el modelo de regresión lineal y en los demás oscila entre 9 y 10. En ${R_2}$ solo el modelo de regresión lineal obtuvo un score positivo de 5.4, los demás tuvieron un score de -0.3 a -0.6. En el modelo de regresión lineal se obtuvo un MAE bueno, en comparación con los demás modelos, mientras menor sea el MAE, es mejor para el modelo, en tanto que con ${R_2}$ se obtuvo un resultado de 0.6 para el modelo lineal, lo que indica un buen desempeño, mientras más cercana sea ${R_2}$ a 1 mejor.\n"
      ],
      "metadata": {
        "id": "syjieVuXdtN1"
      }
    },
    {
      "cell_type": "markdown",
      "metadata": {
        "id": "CfqcmLmxLoe9"
      },
      "source": [
        "#Ejercicio 2\n",
        "Realiza la regresión polinomial de los siguientes datos:"
      ]
    },
    {
      "cell_type": "code",
      "source": [
        "df = pd.read_csv('https://raw.githubusercontent.com/marypazrf/bdd/main/kc_house_data.csv')\n",
        "df.sample(10)"
      ],
      "metadata": {
        "id": "57bn0j38qGrg",
        "colab": {
          "base_uri": "https://localhost:8080/",
          "height": 456
        },
        "outputId": "94b2db62-b50a-4f52-b1bd-178d0992c391"
      },
      "execution_count": 256,
      "outputs": [
        {
          "output_type": "execute_result",
          "data": {
            "text/plain": [
              "               id             date      price  bedrooms  bathrooms  \\\n",
              "5954   7852020250  20140602T000000   725995.0         4       2.50   \n",
              "8610   6392002020  20150324T000000   559000.0         3       1.75   \n",
              "7650    626049058  20150504T000000   275000.0         5       2.50   \n",
              "5683   2202500255  20150305T000000   335000.0         3       2.00   \n",
              "20772  1972200428  20140625T000000   563500.0         3       2.50   \n",
              "6959    723000114  20140505T000000  1395000.0         5       3.50   \n",
              "10784  4104900340  20150204T000000   710000.0         4       2.50   \n",
              "21528  3416600750  20150217T000000   585000.0         3       2.50   \n",
              "12319  2386000070  20141029T000000   795127.0         4       3.25   \n",
              "19947  1776460110  20141223T000000   395000.0         4       2.75   \n",
              "\n",
              "       sqft_living  sqft_lot  floors  waterfront  view  ...  grade  \\\n",
              "5954          3190      7869     2.0           0     2  ...      9   \n",
              "8610          1700      6500     1.0           0     0  ...      8   \n",
              "7650          2570     17234     1.0           0     0  ...      7   \n",
              "5683          1210      9926     1.0           0     0  ...      7   \n",
              "20772         1400      1312     3.5           0     0  ...      8   \n",
              "6959          4010      8510     2.0           0     1  ...      9   \n",
              "10784         3220     18618     2.0           0     1  ...     10   \n",
              "21528         1750      1381     3.0           0     0  ...      8   \n",
              "12319         4360     91158     1.0           0     0  ...     10   \n",
              "19947         2280      5013     2.0           0     0  ...      8   \n",
              "\n",
              "       sqft_above  sqft_basement  yr_built  yr_renovated  zipcode      lat  \\\n",
              "5954         3190              0      2001             0    98065  47.5317   \n",
              "8610         1700              0      1967             0    98115  47.6837   \n",
              "7650         1300           1270      1959             0    98133  47.7753   \n",
              "5683         1210              0      1954          2015    98006  47.5731   \n",
              "20772        1400              0      2007             0    98103  47.6534   \n",
              "6959         2850           1160      1971             0    98105  47.6578   \n",
              "10784        3220              0      1991             0    98056  47.5326   \n",
              "21528        1750              0      2008             0    98122  47.6021   \n",
              "12319        3360           1000      1993             0    98053  47.6398   \n",
              "19947        2280              0      2009             0    98019  47.7333   \n",
              "\n",
              "          long  sqft_living15  sqft_lot15  \n",
              "5954  -121.866           2630        6739  \n",
              "8610  -122.284           1880        6000  \n",
              "7650  -122.355           1760        7969  \n",
              "5683  -122.135           1690        9737  \n",
              "20772 -122.355           1350        1312  \n",
              "6959  -122.286           2610        6128  \n",
              "10784 -122.181           2650       11896  \n",
              "21528 -122.294           1940        4800  \n",
              "12319 -121.985           3540       90940  \n",
              "19947 -121.976           2130        5121  \n",
              "\n",
              "[10 rows x 21 columns]"
            ],
            "text/html": [
              "\n",
              "  <div id=\"df-e24e2716-9255-4ef3-827f-5842618ce6d6\">\n",
              "    <div class=\"colab-df-container\">\n",
              "      <div>\n",
              "<style scoped>\n",
              "    .dataframe tbody tr th:only-of-type {\n",
              "        vertical-align: middle;\n",
              "    }\n",
              "\n",
              "    .dataframe tbody tr th {\n",
              "        vertical-align: top;\n",
              "    }\n",
              "\n",
              "    .dataframe thead th {\n",
              "        text-align: right;\n",
              "    }\n",
              "</style>\n",
              "<table border=\"1\" class=\"dataframe\">\n",
              "  <thead>\n",
              "    <tr style=\"text-align: right;\">\n",
              "      <th></th>\n",
              "      <th>id</th>\n",
              "      <th>date</th>\n",
              "      <th>price</th>\n",
              "      <th>bedrooms</th>\n",
              "      <th>bathrooms</th>\n",
              "      <th>sqft_living</th>\n",
              "      <th>sqft_lot</th>\n",
              "      <th>floors</th>\n",
              "      <th>waterfront</th>\n",
              "      <th>view</th>\n",
              "      <th>...</th>\n",
              "      <th>grade</th>\n",
              "      <th>sqft_above</th>\n",
              "      <th>sqft_basement</th>\n",
              "      <th>yr_built</th>\n",
              "      <th>yr_renovated</th>\n",
              "      <th>zipcode</th>\n",
              "      <th>lat</th>\n",
              "      <th>long</th>\n",
              "      <th>sqft_living15</th>\n",
              "      <th>sqft_lot15</th>\n",
              "    </tr>\n",
              "  </thead>\n",
              "  <tbody>\n",
              "    <tr>\n",
              "      <th>5954</th>\n",
              "      <td>7852020250</td>\n",
              "      <td>20140602T000000</td>\n",
              "      <td>725995.0</td>\n",
              "      <td>4</td>\n",
              "      <td>2.50</td>\n",
              "      <td>3190</td>\n",
              "      <td>7869</td>\n",
              "      <td>2.0</td>\n",
              "      <td>0</td>\n",
              "      <td>2</td>\n",
              "      <td>...</td>\n",
              "      <td>9</td>\n",
              "      <td>3190</td>\n",
              "      <td>0</td>\n",
              "      <td>2001</td>\n",
              "      <td>0</td>\n",
              "      <td>98065</td>\n",
              "      <td>47.5317</td>\n",
              "      <td>-121.866</td>\n",
              "      <td>2630</td>\n",
              "      <td>6739</td>\n",
              "    </tr>\n",
              "    <tr>\n",
              "      <th>8610</th>\n",
              "      <td>6392002020</td>\n",
              "      <td>20150324T000000</td>\n",
              "      <td>559000.0</td>\n",
              "      <td>3</td>\n",
              "      <td>1.75</td>\n",
              "      <td>1700</td>\n",
              "      <td>6500</td>\n",
              "      <td>1.0</td>\n",
              "      <td>0</td>\n",
              "      <td>0</td>\n",
              "      <td>...</td>\n",
              "      <td>8</td>\n",
              "      <td>1700</td>\n",
              "      <td>0</td>\n",
              "      <td>1967</td>\n",
              "      <td>0</td>\n",
              "      <td>98115</td>\n",
              "      <td>47.6837</td>\n",
              "      <td>-122.284</td>\n",
              "      <td>1880</td>\n",
              "      <td>6000</td>\n",
              "    </tr>\n",
              "    <tr>\n",
              "      <th>7650</th>\n",
              "      <td>626049058</td>\n",
              "      <td>20150504T000000</td>\n",
              "      <td>275000.0</td>\n",
              "      <td>5</td>\n",
              "      <td>2.50</td>\n",
              "      <td>2570</td>\n",
              "      <td>17234</td>\n",
              "      <td>1.0</td>\n",
              "      <td>0</td>\n",
              "      <td>0</td>\n",
              "      <td>...</td>\n",
              "      <td>7</td>\n",
              "      <td>1300</td>\n",
              "      <td>1270</td>\n",
              "      <td>1959</td>\n",
              "      <td>0</td>\n",
              "      <td>98133</td>\n",
              "      <td>47.7753</td>\n",
              "      <td>-122.355</td>\n",
              "      <td>1760</td>\n",
              "      <td>7969</td>\n",
              "    </tr>\n",
              "    <tr>\n",
              "      <th>5683</th>\n",
              "      <td>2202500255</td>\n",
              "      <td>20150305T000000</td>\n",
              "      <td>335000.0</td>\n",
              "      <td>3</td>\n",
              "      <td>2.00</td>\n",
              "      <td>1210</td>\n",
              "      <td>9926</td>\n",
              "      <td>1.0</td>\n",
              "      <td>0</td>\n",
              "      <td>0</td>\n",
              "      <td>...</td>\n",
              "      <td>7</td>\n",
              "      <td>1210</td>\n",
              "      <td>0</td>\n",
              "      <td>1954</td>\n",
              "      <td>2015</td>\n",
              "      <td>98006</td>\n",
              "      <td>47.5731</td>\n",
              "      <td>-122.135</td>\n",
              "      <td>1690</td>\n",
              "      <td>9737</td>\n",
              "    </tr>\n",
              "    <tr>\n",
              "      <th>20772</th>\n",
              "      <td>1972200428</td>\n",
              "      <td>20140625T000000</td>\n",
              "      <td>563500.0</td>\n",
              "      <td>3</td>\n",
              "      <td>2.50</td>\n",
              "      <td>1400</td>\n",
              "      <td>1312</td>\n",
              "      <td>3.5</td>\n",
              "      <td>0</td>\n",
              "      <td>0</td>\n",
              "      <td>...</td>\n",
              "      <td>8</td>\n",
              "      <td>1400</td>\n",
              "      <td>0</td>\n",
              "      <td>2007</td>\n",
              "      <td>0</td>\n",
              "      <td>98103</td>\n",
              "      <td>47.6534</td>\n",
              "      <td>-122.355</td>\n",
              "      <td>1350</td>\n",
              "      <td>1312</td>\n",
              "    </tr>\n",
              "    <tr>\n",
              "      <th>6959</th>\n",
              "      <td>723000114</td>\n",
              "      <td>20140505T000000</td>\n",
              "      <td>1395000.0</td>\n",
              "      <td>5</td>\n",
              "      <td>3.50</td>\n",
              "      <td>4010</td>\n",
              "      <td>8510</td>\n",
              "      <td>2.0</td>\n",
              "      <td>0</td>\n",
              "      <td>1</td>\n",
              "      <td>...</td>\n",
              "      <td>9</td>\n",
              "      <td>2850</td>\n",
              "      <td>1160</td>\n",
              "      <td>1971</td>\n",
              "      <td>0</td>\n",
              "      <td>98105</td>\n",
              "      <td>47.6578</td>\n",
              "      <td>-122.286</td>\n",
              "      <td>2610</td>\n",
              "      <td>6128</td>\n",
              "    </tr>\n",
              "    <tr>\n",
              "      <th>10784</th>\n",
              "      <td>4104900340</td>\n",
              "      <td>20150204T000000</td>\n",
              "      <td>710000.0</td>\n",
              "      <td>4</td>\n",
              "      <td>2.50</td>\n",
              "      <td>3220</td>\n",
              "      <td>18618</td>\n",
              "      <td>2.0</td>\n",
              "      <td>0</td>\n",
              "      <td>1</td>\n",
              "      <td>...</td>\n",
              "      <td>10</td>\n",
              "      <td>3220</td>\n",
              "      <td>0</td>\n",
              "      <td>1991</td>\n",
              "      <td>0</td>\n",
              "      <td>98056</td>\n",
              "      <td>47.5326</td>\n",
              "      <td>-122.181</td>\n",
              "      <td>2650</td>\n",
              "      <td>11896</td>\n",
              "    </tr>\n",
              "    <tr>\n",
              "      <th>21528</th>\n",
              "      <td>3416600750</td>\n",
              "      <td>20150217T000000</td>\n",
              "      <td>585000.0</td>\n",
              "      <td>3</td>\n",
              "      <td>2.50</td>\n",
              "      <td>1750</td>\n",
              "      <td>1381</td>\n",
              "      <td>3.0</td>\n",
              "      <td>0</td>\n",
              "      <td>0</td>\n",
              "      <td>...</td>\n",
              "      <td>8</td>\n",
              "      <td>1750</td>\n",
              "      <td>0</td>\n",
              "      <td>2008</td>\n",
              "      <td>0</td>\n",
              "      <td>98122</td>\n",
              "      <td>47.6021</td>\n",
              "      <td>-122.294</td>\n",
              "      <td>1940</td>\n",
              "      <td>4800</td>\n",
              "    </tr>\n",
              "    <tr>\n",
              "      <th>12319</th>\n",
              "      <td>2386000070</td>\n",
              "      <td>20141029T000000</td>\n",
              "      <td>795127.0</td>\n",
              "      <td>4</td>\n",
              "      <td>3.25</td>\n",
              "      <td>4360</td>\n",
              "      <td>91158</td>\n",
              "      <td>1.0</td>\n",
              "      <td>0</td>\n",
              "      <td>0</td>\n",
              "      <td>...</td>\n",
              "      <td>10</td>\n",
              "      <td>3360</td>\n",
              "      <td>1000</td>\n",
              "      <td>1993</td>\n",
              "      <td>0</td>\n",
              "      <td>98053</td>\n",
              "      <td>47.6398</td>\n",
              "      <td>-121.985</td>\n",
              "      <td>3540</td>\n",
              "      <td>90940</td>\n",
              "    </tr>\n",
              "    <tr>\n",
              "      <th>19947</th>\n",
              "      <td>1776460110</td>\n",
              "      <td>20141223T000000</td>\n",
              "      <td>395000.0</td>\n",
              "      <td>4</td>\n",
              "      <td>2.75</td>\n",
              "      <td>2280</td>\n",
              "      <td>5013</td>\n",
              "      <td>2.0</td>\n",
              "      <td>0</td>\n",
              "      <td>0</td>\n",
              "      <td>...</td>\n",
              "      <td>8</td>\n",
              "      <td>2280</td>\n",
              "      <td>0</td>\n",
              "      <td>2009</td>\n",
              "      <td>0</td>\n",
              "      <td>98019</td>\n",
              "      <td>47.7333</td>\n",
              "      <td>-121.976</td>\n",
              "      <td>2130</td>\n",
              "      <td>5121</td>\n",
              "    </tr>\n",
              "  </tbody>\n",
              "</table>\n",
              "<p>10 rows × 21 columns</p>\n",
              "</div>\n",
              "      <button class=\"colab-df-convert\" onclick=\"convertToInteractive('df-e24e2716-9255-4ef3-827f-5842618ce6d6')\"\n",
              "              title=\"Convert this dataframe to an interactive table.\"\n",
              "              style=\"display:none;\">\n",
              "        \n",
              "  <svg xmlns=\"http://www.w3.org/2000/svg\" height=\"24px\"viewBox=\"0 0 24 24\"\n",
              "       width=\"24px\">\n",
              "    <path d=\"M0 0h24v24H0V0z\" fill=\"none\"/>\n",
              "    <path d=\"M18.56 5.44l.94 2.06.94-2.06 2.06-.94-2.06-.94-.94-2.06-.94 2.06-2.06.94zm-11 1L8.5 8.5l.94-2.06 2.06-.94-2.06-.94L8.5 2.5l-.94 2.06-2.06.94zm10 10l.94 2.06.94-2.06 2.06-.94-2.06-.94-.94-2.06-.94 2.06-2.06.94z\"/><path d=\"M17.41 7.96l-1.37-1.37c-.4-.4-.92-.59-1.43-.59-.52 0-1.04.2-1.43.59L10.3 9.45l-7.72 7.72c-.78.78-.78 2.05 0 2.83L4 21.41c.39.39.9.59 1.41.59.51 0 1.02-.2 1.41-.59l7.78-7.78 2.81-2.81c.8-.78.8-2.07 0-2.86zM5.41 20L4 18.59l7.72-7.72 1.47 1.35L5.41 20z\"/>\n",
              "  </svg>\n",
              "      </button>\n",
              "      \n",
              "  <style>\n",
              "    .colab-df-container {\n",
              "      display:flex;\n",
              "      flex-wrap:wrap;\n",
              "      gap: 12px;\n",
              "    }\n",
              "\n",
              "    .colab-df-convert {\n",
              "      background-color: #E8F0FE;\n",
              "      border: none;\n",
              "      border-radius: 50%;\n",
              "      cursor: pointer;\n",
              "      display: none;\n",
              "      fill: #1967D2;\n",
              "      height: 32px;\n",
              "      padding: 0 0 0 0;\n",
              "      width: 32px;\n",
              "    }\n",
              "\n",
              "    .colab-df-convert:hover {\n",
              "      background-color: #E2EBFA;\n",
              "      box-shadow: 0px 1px 2px rgba(60, 64, 67, 0.3), 0px 1px 3px 1px rgba(60, 64, 67, 0.15);\n",
              "      fill: #174EA6;\n",
              "    }\n",
              "\n",
              "    [theme=dark] .colab-df-convert {\n",
              "      background-color: #3B4455;\n",
              "      fill: #D2E3FC;\n",
              "    }\n",
              "\n",
              "    [theme=dark] .colab-df-convert:hover {\n",
              "      background-color: #434B5C;\n",
              "      box-shadow: 0px 1px 3px 1px rgba(0, 0, 0, 0.15);\n",
              "      filter: drop-shadow(0px 1px 2px rgba(0, 0, 0, 0.3));\n",
              "      fill: #FFFFFF;\n",
              "    }\n",
              "  </style>\n",
              "\n",
              "      <script>\n",
              "        const buttonEl =\n",
              "          document.querySelector('#df-e24e2716-9255-4ef3-827f-5842618ce6d6 button.colab-df-convert');\n",
              "        buttonEl.style.display =\n",
              "          google.colab.kernel.accessAllowed ? 'block' : 'none';\n",
              "\n",
              "        async function convertToInteractive(key) {\n",
              "          const element = document.querySelector('#df-e24e2716-9255-4ef3-827f-5842618ce6d6');\n",
              "          const dataTable =\n",
              "            await google.colab.kernel.invokeFunction('convertToInteractive',\n",
              "                                                     [key], {});\n",
              "          if (!dataTable) return;\n",
              "\n",
              "          const docLinkHtml = 'Like what you see? Visit the ' +\n",
              "            '<a target=\"_blank\" href=https://colab.research.google.com/notebooks/data_table.ipynb>data table notebook</a>'\n",
              "            + ' to learn more about interactive tables.';\n",
              "          element.innerHTML = '';\n",
              "          dataTable['output_type'] = 'display_data';\n",
              "          await google.colab.output.renderOutput(dataTable, element);\n",
              "          const docLink = document.createElement('div');\n",
              "          docLink.innerHTML = docLinkHtml;\n",
              "          element.appendChild(docLink);\n",
              "        }\n",
              "      </script>\n",
              "    </div>\n",
              "  </div>\n",
              "  "
            ]
          },
          "metadata": {},
          "execution_count": 256
        }
      ]
    },
    {
      "cell_type": "code",
      "source": [
        "df.info()"
      ],
      "metadata": {
        "id": "n0fs14KoqI3M",
        "colab": {
          "base_uri": "https://localhost:8080/"
        },
        "outputId": "abc20af3-8ac6-4bc4-e77f-7f9ae31c9b8c"
      },
      "execution_count": 257,
      "outputs": [
        {
          "output_type": "stream",
          "name": "stdout",
          "text": [
            "<class 'pandas.core.frame.DataFrame'>\n",
            "RangeIndex: 21613 entries, 0 to 21612\n",
            "Data columns (total 21 columns):\n",
            " #   Column         Non-Null Count  Dtype  \n",
            "---  ------         --------------  -----  \n",
            " 0   id             21613 non-null  int64  \n",
            " 1   date           21613 non-null  object \n",
            " 2   price          21613 non-null  float64\n",
            " 3   bedrooms       21613 non-null  int64  \n",
            " 4   bathrooms      21613 non-null  float64\n",
            " 5   sqft_living    21613 non-null  int64  \n",
            " 6   sqft_lot       21613 non-null  int64  \n",
            " 7   floors         21613 non-null  float64\n",
            " 8   waterfront     21613 non-null  int64  \n",
            " 9   view           21613 non-null  int64  \n",
            " 10  condition      21613 non-null  int64  \n",
            " 11  grade          21613 non-null  int64  \n",
            " 12  sqft_above     21613 non-null  int64  \n",
            " 13  sqft_basement  21613 non-null  int64  \n",
            " 14  yr_built       21613 non-null  int64  \n",
            " 15  yr_renovated   21613 non-null  int64  \n",
            " 16  zipcode        21613 non-null  int64  \n",
            " 17  lat            21613 non-null  float64\n",
            " 18  long           21613 non-null  float64\n",
            " 19  sqft_living15  21613 non-null  int64  \n",
            " 20  sqft_lot15     21613 non-null  int64  \n",
            "dtypes: float64(5), int64(15), object(1)\n",
            "memory usage: 3.5+ MB\n"
          ]
        }
      ]
    },
    {
      "cell_type": "code",
      "source": [
        "df.describe()"
      ],
      "metadata": {
        "id": "1PNzDJZeqKhe",
        "colab": {
          "base_uri": "https://localhost:8080/",
          "height": 364
        },
        "outputId": "eb0c06c9-0ed8-4a3b-bef3-770ff3215d3d"
      },
      "execution_count": 258,
      "outputs": [
        {
          "output_type": "execute_result",
          "data": {
            "text/plain": [
              "                 id         price      bedrooms     bathrooms   sqft_living  \\\n",
              "count  2.161300e+04  2.161300e+04  21613.000000  21613.000000  21613.000000   \n",
              "mean   4.580302e+09  5.400881e+05      3.370842      2.114757   2079.899736   \n",
              "std    2.876566e+09  3.671272e+05      0.930062      0.770163    918.440897   \n",
              "min    1.000102e+06  7.500000e+04      0.000000      0.000000    290.000000   \n",
              "25%    2.123049e+09  3.219500e+05      3.000000      1.750000   1427.000000   \n",
              "50%    3.904930e+09  4.500000e+05      3.000000      2.250000   1910.000000   \n",
              "75%    7.308900e+09  6.450000e+05      4.000000      2.500000   2550.000000   \n",
              "max    9.900000e+09  7.700000e+06     33.000000      8.000000  13540.000000   \n",
              "\n",
              "           sqft_lot        floors    waterfront          view     condition  \\\n",
              "count  2.161300e+04  21613.000000  21613.000000  21613.000000  21613.000000   \n",
              "mean   1.510697e+04      1.494309      0.007542      0.234303      3.409430   \n",
              "std    4.142051e+04      0.539989      0.086517      0.766318      0.650743   \n",
              "min    5.200000e+02      1.000000      0.000000      0.000000      1.000000   \n",
              "25%    5.040000e+03      1.000000      0.000000      0.000000      3.000000   \n",
              "50%    7.618000e+03      1.500000      0.000000      0.000000      3.000000   \n",
              "75%    1.068800e+04      2.000000      0.000000      0.000000      4.000000   \n",
              "max    1.651359e+06      3.500000      1.000000      4.000000      5.000000   \n",
              "\n",
              "              grade    sqft_above  sqft_basement      yr_built  yr_renovated  \\\n",
              "count  21613.000000  21613.000000   21613.000000  21613.000000  21613.000000   \n",
              "mean       7.656873   1788.390691     291.509045   1971.005136     84.402258   \n",
              "std        1.175459    828.090978     442.575043     29.373411    401.679240   \n",
              "min        1.000000    290.000000       0.000000   1900.000000      0.000000   \n",
              "25%        7.000000   1190.000000       0.000000   1951.000000      0.000000   \n",
              "50%        7.000000   1560.000000       0.000000   1975.000000      0.000000   \n",
              "75%        8.000000   2210.000000     560.000000   1997.000000      0.000000   \n",
              "max       13.000000   9410.000000    4820.000000   2015.000000   2015.000000   \n",
              "\n",
              "            zipcode           lat          long  sqft_living15     sqft_lot15  \n",
              "count  21613.000000  21613.000000  21613.000000   21613.000000   21613.000000  \n",
              "mean   98077.939805     47.560053   -122.213896    1986.552492   12768.455652  \n",
              "std       53.505026      0.138564      0.140828     685.391304   27304.179631  \n",
              "min    98001.000000     47.155900   -122.519000     399.000000     651.000000  \n",
              "25%    98033.000000     47.471000   -122.328000    1490.000000    5100.000000  \n",
              "50%    98065.000000     47.571800   -122.230000    1840.000000    7620.000000  \n",
              "75%    98118.000000     47.678000   -122.125000    2360.000000   10083.000000  \n",
              "max    98199.000000     47.777600   -121.315000    6210.000000  871200.000000  "
            ],
            "text/html": [
              "\n",
              "  <div id=\"df-a4f6744d-7aa6-4ebd-a876-9b676857aff8\">\n",
              "    <div class=\"colab-df-container\">\n",
              "      <div>\n",
              "<style scoped>\n",
              "    .dataframe tbody tr th:only-of-type {\n",
              "        vertical-align: middle;\n",
              "    }\n",
              "\n",
              "    .dataframe tbody tr th {\n",
              "        vertical-align: top;\n",
              "    }\n",
              "\n",
              "    .dataframe thead th {\n",
              "        text-align: right;\n",
              "    }\n",
              "</style>\n",
              "<table border=\"1\" class=\"dataframe\">\n",
              "  <thead>\n",
              "    <tr style=\"text-align: right;\">\n",
              "      <th></th>\n",
              "      <th>id</th>\n",
              "      <th>price</th>\n",
              "      <th>bedrooms</th>\n",
              "      <th>bathrooms</th>\n",
              "      <th>sqft_living</th>\n",
              "      <th>sqft_lot</th>\n",
              "      <th>floors</th>\n",
              "      <th>waterfront</th>\n",
              "      <th>view</th>\n",
              "      <th>condition</th>\n",
              "      <th>grade</th>\n",
              "      <th>sqft_above</th>\n",
              "      <th>sqft_basement</th>\n",
              "      <th>yr_built</th>\n",
              "      <th>yr_renovated</th>\n",
              "      <th>zipcode</th>\n",
              "      <th>lat</th>\n",
              "      <th>long</th>\n",
              "      <th>sqft_living15</th>\n",
              "      <th>sqft_lot15</th>\n",
              "    </tr>\n",
              "  </thead>\n",
              "  <tbody>\n",
              "    <tr>\n",
              "      <th>count</th>\n",
              "      <td>2.161300e+04</td>\n",
              "      <td>2.161300e+04</td>\n",
              "      <td>21613.000000</td>\n",
              "      <td>21613.000000</td>\n",
              "      <td>21613.000000</td>\n",
              "      <td>2.161300e+04</td>\n",
              "      <td>21613.000000</td>\n",
              "      <td>21613.000000</td>\n",
              "      <td>21613.000000</td>\n",
              "      <td>21613.000000</td>\n",
              "      <td>21613.000000</td>\n",
              "      <td>21613.000000</td>\n",
              "      <td>21613.000000</td>\n",
              "      <td>21613.000000</td>\n",
              "      <td>21613.000000</td>\n",
              "      <td>21613.000000</td>\n",
              "      <td>21613.000000</td>\n",
              "      <td>21613.000000</td>\n",
              "      <td>21613.000000</td>\n",
              "      <td>21613.000000</td>\n",
              "    </tr>\n",
              "    <tr>\n",
              "      <th>mean</th>\n",
              "      <td>4.580302e+09</td>\n",
              "      <td>5.400881e+05</td>\n",
              "      <td>3.370842</td>\n",
              "      <td>2.114757</td>\n",
              "      <td>2079.899736</td>\n",
              "      <td>1.510697e+04</td>\n",
              "      <td>1.494309</td>\n",
              "      <td>0.007542</td>\n",
              "      <td>0.234303</td>\n",
              "      <td>3.409430</td>\n",
              "      <td>7.656873</td>\n",
              "      <td>1788.390691</td>\n",
              "      <td>291.509045</td>\n",
              "      <td>1971.005136</td>\n",
              "      <td>84.402258</td>\n",
              "      <td>98077.939805</td>\n",
              "      <td>47.560053</td>\n",
              "      <td>-122.213896</td>\n",
              "      <td>1986.552492</td>\n",
              "      <td>12768.455652</td>\n",
              "    </tr>\n",
              "    <tr>\n",
              "      <th>std</th>\n",
              "      <td>2.876566e+09</td>\n",
              "      <td>3.671272e+05</td>\n",
              "      <td>0.930062</td>\n",
              "      <td>0.770163</td>\n",
              "      <td>918.440897</td>\n",
              "      <td>4.142051e+04</td>\n",
              "      <td>0.539989</td>\n",
              "      <td>0.086517</td>\n",
              "      <td>0.766318</td>\n",
              "      <td>0.650743</td>\n",
              "      <td>1.175459</td>\n",
              "      <td>828.090978</td>\n",
              "      <td>442.575043</td>\n",
              "      <td>29.373411</td>\n",
              "      <td>401.679240</td>\n",
              "      <td>53.505026</td>\n",
              "      <td>0.138564</td>\n",
              "      <td>0.140828</td>\n",
              "      <td>685.391304</td>\n",
              "      <td>27304.179631</td>\n",
              "    </tr>\n",
              "    <tr>\n",
              "      <th>min</th>\n",
              "      <td>1.000102e+06</td>\n",
              "      <td>7.500000e+04</td>\n",
              "      <td>0.000000</td>\n",
              "      <td>0.000000</td>\n",
              "      <td>290.000000</td>\n",
              "      <td>5.200000e+02</td>\n",
              "      <td>1.000000</td>\n",
              "      <td>0.000000</td>\n",
              "      <td>0.000000</td>\n",
              "      <td>1.000000</td>\n",
              "      <td>1.000000</td>\n",
              "      <td>290.000000</td>\n",
              "      <td>0.000000</td>\n",
              "      <td>1900.000000</td>\n",
              "      <td>0.000000</td>\n",
              "      <td>98001.000000</td>\n",
              "      <td>47.155900</td>\n",
              "      <td>-122.519000</td>\n",
              "      <td>399.000000</td>\n",
              "      <td>651.000000</td>\n",
              "    </tr>\n",
              "    <tr>\n",
              "      <th>25%</th>\n",
              "      <td>2.123049e+09</td>\n",
              "      <td>3.219500e+05</td>\n",
              "      <td>3.000000</td>\n",
              "      <td>1.750000</td>\n",
              "      <td>1427.000000</td>\n",
              "      <td>5.040000e+03</td>\n",
              "      <td>1.000000</td>\n",
              "      <td>0.000000</td>\n",
              "      <td>0.000000</td>\n",
              "      <td>3.000000</td>\n",
              "      <td>7.000000</td>\n",
              "      <td>1190.000000</td>\n",
              "      <td>0.000000</td>\n",
              "      <td>1951.000000</td>\n",
              "      <td>0.000000</td>\n",
              "      <td>98033.000000</td>\n",
              "      <td>47.471000</td>\n",
              "      <td>-122.328000</td>\n",
              "      <td>1490.000000</td>\n",
              "      <td>5100.000000</td>\n",
              "    </tr>\n",
              "    <tr>\n",
              "      <th>50%</th>\n",
              "      <td>3.904930e+09</td>\n",
              "      <td>4.500000e+05</td>\n",
              "      <td>3.000000</td>\n",
              "      <td>2.250000</td>\n",
              "      <td>1910.000000</td>\n",
              "      <td>7.618000e+03</td>\n",
              "      <td>1.500000</td>\n",
              "      <td>0.000000</td>\n",
              "      <td>0.000000</td>\n",
              "      <td>3.000000</td>\n",
              "      <td>7.000000</td>\n",
              "      <td>1560.000000</td>\n",
              "      <td>0.000000</td>\n",
              "      <td>1975.000000</td>\n",
              "      <td>0.000000</td>\n",
              "      <td>98065.000000</td>\n",
              "      <td>47.571800</td>\n",
              "      <td>-122.230000</td>\n",
              "      <td>1840.000000</td>\n",
              "      <td>7620.000000</td>\n",
              "    </tr>\n",
              "    <tr>\n",
              "      <th>75%</th>\n",
              "      <td>7.308900e+09</td>\n",
              "      <td>6.450000e+05</td>\n",
              "      <td>4.000000</td>\n",
              "      <td>2.500000</td>\n",
              "      <td>2550.000000</td>\n",
              "      <td>1.068800e+04</td>\n",
              "      <td>2.000000</td>\n",
              "      <td>0.000000</td>\n",
              "      <td>0.000000</td>\n",
              "      <td>4.000000</td>\n",
              "      <td>8.000000</td>\n",
              "      <td>2210.000000</td>\n",
              "      <td>560.000000</td>\n",
              "      <td>1997.000000</td>\n",
              "      <td>0.000000</td>\n",
              "      <td>98118.000000</td>\n",
              "      <td>47.678000</td>\n",
              "      <td>-122.125000</td>\n",
              "      <td>2360.000000</td>\n",
              "      <td>10083.000000</td>\n",
              "    </tr>\n",
              "    <tr>\n",
              "      <th>max</th>\n",
              "      <td>9.900000e+09</td>\n",
              "      <td>7.700000e+06</td>\n",
              "      <td>33.000000</td>\n",
              "      <td>8.000000</td>\n",
              "      <td>13540.000000</td>\n",
              "      <td>1.651359e+06</td>\n",
              "      <td>3.500000</td>\n",
              "      <td>1.000000</td>\n",
              "      <td>4.000000</td>\n",
              "      <td>5.000000</td>\n",
              "      <td>13.000000</td>\n",
              "      <td>9410.000000</td>\n",
              "      <td>4820.000000</td>\n",
              "      <td>2015.000000</td>\n",
              "      <td>2015.000000</td>\n",
              "      <td>98199.000000</td>\n",
              "      <td>47.777600</td>\n",
              "      <td>-121.315000</td>\n",
              "      <td>6210.000000</td>\n",
              "      <td>871200.000000</td>\n",
              "    </tr>\n",
              "  </tbody>\n",
              "</table>\n",
              "</div>\n",
              "      <button class=\"colab-df-convert\" onclick=\"convertToInteractive('df-a4f6744d-7aa6-4ebd-a876-9b676857aff8')\"\n",
              "              title=\"Convert this dataframe to an interactive table.\"\n",
              "              style=\"display:none;\">\n",
              "        \n",
              "  <svg xmlns=\"http://www.w3.org/2000/svg\" height=\"24px\"viewBox=\"0 0 24 24\"\n",
              "       width=\"24px\">\n",
              "    <path d=\"M0 0h24v24H0V0z\" fill=\"none\"/>\n",
              "    <path d=\"M18.56 5.44l.94 2.06.94-2.06 2.06-.94-2.06-.94-.94-2.06-.94 2.06-2.06.94zm-11 1L8.5 8.5l.94-2.06 2.06-.94-2.06-.94L8.5 2.5l-.94 2.06-2.06.94zm10 10l.94 2.06.94-2.06 2.06-.94-2.06-.94-.94-2.06-.94 2.06-2.06.94z\"/><path d=\"M17.41 7.96l-1.37-1.37c-.4-.4-.92-.59-1.43-.59-.52 0-1.04.2-1.43.59L10.3 9.45l-7.72 7.72c-.78.78-.78 2.05 0 2.83L4 21.41c.39.39.9.59 1.41.59.51 0 1.02-.2 1.41-.59l7.78-7.78 2.81-2.81c.8-.78.8-2.07 0-2.86zM5.41 20L4 18.59l7.72-7.72 1.47 1.35L5.41 20z\"/>\n",
              "  </svg>\n",
              "      </button>\n",
              "      \n",
              "  <style>\n",
              "    .colab-df-container {\n",
              "      display:flex;\n",
              "      flex-wrap:wrap;\n",
              "      gap: 12px;\n",
              "    }\n",
              "\n",
              "    .colab-df-convert {\n",
              "      background-color: #E8F0FE;\n",
              "      border: none;\n",
              "      border-radius: 50%;\n",
              "      cursor: pointer;\n",
              "      display: none;\n",
              "      fill: #1967D2;\n",
              "      height: 32px;\n",
              "      padding: 0 0 0 0;\n",
              "      width: 32px;\n",
              "    }\n",
              "\n",
              "    .colab-df-convert:hover {\n",
              "      background-color: #E2EBFA;\n",
              "      box-shadow: 0px 1px 2px rgba(60, 64, 67, 0.3), 0px 1px 3px 1px rgba(60, 64, 67, 0.15);\n",
              "      fill: #174EA6;\n",
              "    }\n",
              "\n",
              "    [theme=dark] .colab-df-convert {\n",
              "      background-color: #3B4455;\n",
              "      fill: #D2E3FC;\n",
              "    }\n",
              "\n",
              "    [theme=dark] .colab-df-convert:hover {\n",
              "      background-color: #434B5C;\n",
              "      box-shadow: 0px 1px 3px 1px rgba(0, 0, 0, 0.15);\n",
              "      filter: drop-shadow(0px 1px 2px rgba(0, 0, 0, 0.3));\n",
              "      fill: #FFFFFF;\n",
              "    }\n",
              "  </style>\n",
              "\n",
              "      <script>\n",
              "        const buttonEl =\n",
              "          document.querySelector('#df-a4f6744d-7aa6-4ebd-a876-9b676857aff8 button.colab-df-convert');\n",
              "        buttonEl.style.display =\n",
              "          google.colab.kernel.accessAllowed ? 'block' : 'none';\n",
              "\n",
              "        async function convertToInteractive(key) {\n",
              "          const element = document.querySelector('#df-a4f6744d-7aa6-4ebd-a876-9b676857aff8');\n",
              "          const dataTable =\n",
              "            await google.colab.kernel.invokeFunction('convertToInteractive',\n",
              "                                                     [key], {});\n",
              "          if (!dataTable) return;\n",
              "\n",
              "          const docLinkHtml = 'Like what you see? Visit the ' +\n",
              "            '<a target=\"_blank\" href=https://colab.research.google.com/notebooks/data_table.ipynb>data table notebook</a>'\n",
              "            + ' to learn more about interactive tables.';\n",
              "          element.innerHTML = '';\n",
              "          dataTable['output_type'] = 'display_data';\n",
              "          await google.colab.output.renderOutput(dataTable, element);\n",
              "          const docLink = document.createElement('div');\n",
              "          docLink.innerHTML = docLinkHtml;\n",
              "          element.appendChild(docLink);\n",
              "        }\n",
              "      </script>\n",
              "    </div>\n",
              "  </div>\n",
              "  "
            ]
          },
          "metadata": {},
          "execution_count": 258
        }
      ]
    },
    {
      "cell_type": "code",
      "source": [
        "df.drop('id', axis = 1, inplace = True)\n",
        "df.drop('date', axis = 1, inplace = True)\n",
        "df.drop('zipcode', axis = 1, inplace = True)\n",
        "df.drop('lat', axis = 1, inplace = True)\n",
        "df.drop('long', axis = 1, inplace = True)\n"
      ],
      "metadata": {
        "id": "0KUD8T08qMmq"
      },
      "execution_count": 259,
      "outputs": []
    },
    {
      "cell_type": "code",
      "source": [
        "plt.figure(figsize=(12,8)) \n",
        "sns.heatmap(df.corr(), annot=True, cmap='Dark2_r', linewidths = 2)\n",
        "plt.show()"
      ],
      "metadata": {
        "id": "r-jk_nHmqKpp",
        "colab": {
          "base_uri": "https://localhost:8080/",
          "height": 551
        },
        "outputId": "5270ea51-f2d0-4be0-bcfc-acca83a4b691"
      },
      "execution_count": 260,
      "outputs": [
        {
          "output_type": "display_data",
          "data": {
            "text/plain": [
              "<Figure size 864x576 with 2 Axes>"
            ],
            "image/png": "[encoded data removed]"
          },
          "metadata": {
            "needs_background": "light"
          }
        }
      ]
    },
    {
      "cell_type": "code",
      "source": [
        "columns = df.columns.drop('price')\n",
        "\n",
        "features = columns\n",
        "label = ['price']\n",
        "\n",
        "X = df[features]\n",
        "y = df[label]"
      ],
      "metadata": {
        "id": "p4zqCnFwq7Oc"
      },
      "execution_count": 261,
      "outputs": []
    },
    {
      "cell_type": "code",
      "source": [
        "from sklearn.model_selection import train_test_split\n",
        "X_train, X_test, y_train, y_test = train_test_split(X, y, test_size = 0.1, random_state = 101)\n",
        "\n",
        "print(f'Numero total de registros en la bdd: {len(X)}')\n",
        "print(\"*****\"*10)\n",
        "print(f'Numero total de registros en el training set: {len(X_train)}')\n",
        "print(f'Tamaño de X_train: {X_train.shape}')\n",
        "print(\"*****\"*10)\n",
        "print(f'Mumero total de registros en el test dataset: {len(X_test)}')\n",
        "print(f'Tamaño del X_test: {X_test.shape}')"
      ],
      "metadata": {
        "id": "p91PEVPLq93-",
        "colab": {
          "base_uri": "https://localhost:8080/"
        },
        "outputId": "626c0ca6-f395-442d-b831-890ecb47eacf"
      },
      "execution_count": 262,
      "outputs": [
        {
          "output_type": "stream",
          "name": "stdout",
          "text": [
            "Numero total de registros en la bdd: 21613\n",
            "**************************************************\n",
            "Numero total de registros en el training set: 19451\n",
            "Tamaño de X_train: (19451, 15)\n",
            "**************************************************\n",
            "Mumero total de registros en el test dataset: 2162\n",
            "Tamaño del X_test: (2162, 15)\n"
          ]
        }
      ]
    },
    {
      "cell_type": "markdown",
      "source": [
        "# Regresión lineal múltiple"
      ],
      "metadata": {
        "id": "pLa95XgPoKQB"
      }
    },
    {
      "cell_type": "code",
      "source": [
        "LR.fit(X_train,y_train)"
      ],
      "metadata": {
        "id": "0faHrN8-rv9V",
        "colab": {
          "base_uri": "https://localhost:8080/"
        },
        "outputId": "4751362d-6d22-4418-ecd7-4893a10c9bdf"
      },
      "execution_count": 263,
      "outputs": [
        {
          "output_type": "execute_result",
          "data": {
            "text/plain": [
              "LinearRegression()"
            ]
          },
          "metadata": {},
          "execution_count": 263
        }
      ]
    },
    {
      "cell_type": "code",
      "source": [
        "y_pred_mlr=LR.predict(X_test)"
      ],
      "metadata": {
        "id": "NUq5GNmHn8uT"
      },
      "execution_count": 264,
      "outputs": []
    },
    {
      "cell_type": "markdown",
      "source": [
        "Coeficientes e intercepto"
      ],
      "metadata": {
        "id": "7ACOjIfroYJp"
      }
    },
    {
      "cell_type": "code",
      "source": [
        "LR.coef_,LR.intercept_"
      ],
      "metadata": {
        "colab": {
          "base_uri": "https://localhost:8080/"
        },
        "id": "ZTl1vug0oFUs",
        "outputId": "079cb923-2ef1-4e44-8499-8881d3731dd2"
      },
      "execution_count": 265,
      "outputs": [
        {
          "output_type": "execute_result",
          "data": {
            "text/plain": [
              "(array([[-3.82008048e+04,  4.14661380e+04,  1.07992584e+02,\n",
              "          1.71356997e-02,  3.16916913e+04,  5.52691023e+05,\n",
              "          4.12493228e+04,  2.12221443e+04,  1.19493216e+05,\n",
              "          4.77750271e+01,  6.02175565e+01, -3.55090216e+03,\n",
              "          1.32602215e+01,  2.90059284e+01, -5.48132603e-01]]),\n",
              " array([6151359.2627409]))"
            ]
          },
          "metadata": {},
          "execution_count": 265
        }
      ]
    },
    {
      "cell_type": "markdown",
      "source": [
        "El modelo estará dado por:\n",
        "\n",
        "${\\hat{y}=-3.82\\times10^4x+...-5.48\\times10^{-1}x+6151359.26}$"
      ],
      "metadata": {
        "id": "8yhavmcV21rR"
      }
    },
    {
      "cell_type": "code",
      "source": [
        "list_MAE=[] #creamos una lista para guardar los valores de los MAE\n",
        "list_R2=[] #lo mismo con R2\n",
        "\n",
        "mae=metrics.mean_absolute_error(y_test, y_pred_mlr)\n",
        "r2=r2_score(y_test, y_pred_mlr)\n",
        "\n",
        "list_MAE.append(mae)\n",
        "list_R2.append(r2)\n",
        "print('Error medio Absoluto (MAE):', metrics.mean_absolute_error(y_test, y_pred_mlr))\n",
        "print('Root Mean Squared Error:', np.sqrt(metrics.mean_squared_error(y_test, y_pred_mlr)))\n",
        "print('r2_score',r2_score(y_test, y_pred_mlr))"
      ],
      "metadata": {
        "colab": {
          "base_uri": "https://localhost:8080/"
        },
        "id": "kRE80VG2OMaX",
        "outputId": "89a6adcc-90b6-4689-9b32-33740f03b51c"
      },
      "execution_count": 266,
      "outputs": [
        {
          "output_type": "stream",
          "name": "stdout",
          "text": [
            "Error medio Absoluto (MAE): 137480.1388273178\n",
            "Root Mean Squared Error: 232133.3676240749\n",
            "r2_score 0.6579723205007814\n"
          ]
        }
      ]
    },
    {
      "cell_type": "markdown",
      "source": [
        "#Regresión Múltiple Polinomial\n",
        "\n"
      ],
      "metadata": {
        "id": "t050D-c1yYhe"
      }
    },
    {
      "cell_type": "code",
      "source": [
        "poly=PolynomialFeatures(2) #grado 2\n",
        "\n",
        "X_poly=poly.fit_transform(X_train)\n",
        "X_poly_test=poly.fit_transform(X_test)\n",
        "\n",
        "LR.fit(X_poly,y_train)\n",
        "\n",
        "\n",
        "y_pred_poly=LR.predict(X_poly_test)\n"
      ],
      "metadata": {
        "id": "hOnYsWcSyj-2"
      },
      "execution_count": 267,
      "outputs": []
    },
    {
      "cell_type": "code",
      "source": [
        "LR.coef_,LR.intercept_"
      ],
      "metadata": {
        "colab": {
          "base_uri": "https://localhost:8080/"
        },
        "id": "WlQH1pIC0Thk",
        "outputId": "28114d8d-0e0a-40b1-b382-01266f577055"
      },
      "execution_count": 268,
      "outputs": [
        {
          "output_type": "execute_result",
          "data": {
            "text/plain": [
              "(array([[-3.36215067e+02,  9.33786601e+05, -1.09276012e+06,\n",
              "         -5.00000916e+02, -2.78655818e+01, -2.07431876e+06,\n",
              "         -3.95454208e+06, -2.88626046e+05,  5.58593032e+05,\n",
              "          1.09860635e+06, -1.76306376e+02, -3.38830099e+02,\n",
              "         -8.59690742e+04, -2.95364696e+03,  3.99966813e+03,\n",
              "         -3.40100969e+01,  9.57353093e+02,  7.49573773e+03,\n",
              "         -1.43129923e+01, -1.86055609e-02,  8.57765264e+03,\n",
              "         -1.15023978e+04, -3.07568695e+02, -5.24425041e+03,\n",
              "         -5.36756662e+03, -6.90375101e-01, -1.40883136e+01,\n",
              "         -4.67027049e+02, -9.12671559e+00,  1.72774587e+01,\n",
              "          2.15692510e-01, -9.63018996e+03,  1.55434606e+01,\n",
              "         -1.35758634e-01, -2.59069352e+04,  4.33710369e+04,\n",
              "          3.82965496e+03, -1.07945148e+03,  2.22974058e+04,\n",
              "          1.42714685e+01,  1.18111267e+00,  5.03113646e+02,\n",
              "         -1.70855006e+01, -1.72874822e+01, -5.57330742e-02,\n",
              "         -4.95300818e-01, -1.18373560e+00,  4.83455018e+00,\n",
              "          1.60300634e+02, -1.42701954e+01,  1.31157574e+01,\n",
              "          2.07362736e+01, -3.88265256e+00,  1.77534910e+00,\n",
              "          3.44718628e+00,  2.90907898e-02, -2.87308877e+00,\n",
              "         -1.69344406e+00,  3.07802111e-07,  4.40837356e-01,\n",
              "         -9.85055610e-02, -9.75854874e-02,  9.17187597e-02,\n",
              "          1.51947523e-01,  1.18304976e+00,  1.18327142e+00,\n",
              "          1.37632645e-02, -1.48338513e-04,  1.76599249e-04,\n",
              "          1.05295840e-06,  2.16102817e+04, -1.31323610e+05,\n",
              "          1.44414306e+04,  2.03014521e+04, -4.27952652e+03,\n",
              "         -2.82332706e+00,  7.66118047e+00,  1.03677935e+03,\n",
              "          2.59523171e+00, -3.20407426e+01, -5.28613747e-01,\n",
              "         -3.95454020e+06, -1.60508338e+04,  9.19949119e+03,\n",
              "         -1.61638717e+05,  1.83103162e+02, -2.28024874e+01,\n",
              "          4.42859231e+03, -2.99136532e+01,  1.70605216e+02,\n",
              "         -8.13464467e-01,  7.98449145e+03,  7.33972187e+03,\n",
              "          1.79555207e+04, -1.24969207e+01, -1.77410890e+00,\n",
              "          7.20654536e+01, -9.96849430e+00,  4.63360490e+00,\n",
              "         -5.24451789e-02, -5.41709875e+02, -6.03796704e+03,\n",
              "          1.16203356e+00,  1.19555877e+01, -3.07024246e+02,\n",
              "         -2.01989010e+01,  4.63200472e+01, -2.76899554e-01,\n",
              "          7.36628623e+03,  9.59804274e+00,  1.11367779e+01,\n",
              "         -5.71967028e+02, -1.01341115e+01, -2.27556433e+01,\n",
              "         -5.08583316e-01,  4.38328806e+00,  3.13326922e+00,\n",
              "         -3.20761510e+00,  9.08475019e-03,  2.87101198e+00,\n",
              "          1.69363433e+00, -1.34180280e+00, -3.10646687e+00,\n",
              "          1.57077571e-02,  2.87625348e+00,  1.69292778e+00,\n",
              "          2.30613315e+01,  4.07031251e-01, -2.04695680e+00,\n",
              "          1.88934866e-02,  1.11629250e+00,  4.71243854e-02,\n",
              "          2.54890379e-04,  3.31536956e-02,  1.11445785e-04,\n",
              "          2.35595508e-06]]), array([80233537.22738773]))"
            ]
          },
          "metadata": {},
          "execution_count": 268
        }
      ]
    },
    {
      "cell_type": "markdown",
      "source": [
        "El modelo estará dado por:\n",
        "\n",
        "${\\hat{y}=-3.36\\times10^2x_1+...+2.35\\times10^{-6}x^2_{15}+80233537.22}$"
      ],
      "metadata": {
        "id": "uM59UfaH4Gbq"
      }
    },
    {
      "cell_type": "code",
      "source": [
        "mae=metrics.mean_absolute_error(y_test, y_pred_poly)\n",
        "r2=r2_score(y_test, y_pred_poly)\n",
        "\n",
        "list_MAE.append(mae)\n",
        "list_R2.append(r2)\n",
        "print('Error medio Absoluto (MAE):', mae)\n",
        "print('Root Mean Squared Error:', np.sqrt(metrics.mean_squared_error(y_test, y_pred_poly)))\n",
        "print('r2_score',r2)"
      ],
      "metadata": {
        "colab": {
          "base_uri": "https://localhost:8080/"
        },
        "id": "HW4PR053OpF9",
        "outputId": "ce8167c2-33ae-4332-94b6-9f7f90920708"
      },
      "execution_count": 269,
      "outputs": [
        {
          "output_type": "stream",
          "name": "stdout",
          "text": [
            "Error medio Absoluto (MAE): 121313.19643053468\n",
            "Root Mean Squared Error: 186263.02675855052\n",
            "r2_score 0.7797887906321873\n"
          ]
        }
      ]
    },
    {
      "cell_type": "markdown",
      "source": [
        "# Ridge"
      ],
      "metadata": {
        "id": "NqGy7wdF3Xz1"
      }
    },
    {
      "cell_type": "code",
      "source": [
        "model_ridge = Pipeline([(\"poly_features\", PolynomialFeatures(degree=2, include_bias=False)),\n",
        "                  (\"scaler\", StandardScaler()),\n",
        "                  (\"ridge\", Ridge(alpha = 5, solver = 'cholesky', random_state = 42))])\n",
        "model_ridge.fit(X_train, y_train)\n",
        "\n",
        "\n",
        "y_pred_ridge = model_ridge.predict(X_test)"
      ],
      "metadata": {
        "id": "-hD3nsOc0Uab"
      },
      "execution_count": 270,
      "outputs": []
    },
    {
      "cell_type": "code",
      "source": [
        "model_ridge.named_steps['ridge'].coef_, model_ridge.named_steps['ridge'].intercept_"
      ],
      "metadata": {
        "colab": {
          "base_uri": "https://localhost:8080/"
        },
        "id": "6Fx95rZ23icX",
        "outputId": "4162c583-fe5b-4b1b-a5f2-1631759fc8f7"
      },
      "execution_count": 271,
      "outputs": [
        {
          "output_type": "execute_result",
          "data": {
            "text/plain": [
              "(array([[ 1.52987992e+05, -1.66507179e+04,  3.81408725e+04,\n",
              "         -1.61078273e+05, -3.38621301e+04, -5.02036856e+04,\n",
              "         -2.25935457e+04,  1.48318806e+05,  1.69552788e+05,\n",
              "          1.46622629e+04,  5.15517014e+04, -1.61064083e+05,\n",
              "         -9.33327037e+04,  2.74916549e+05, -9.04779793e+04,\n",
              "          1.03902685e+04, -4.04556045e+03, -2.90785769e+04,\n",
              "         -2.45971207e+04,  1.69484006e+04, -6.14885037e+03,\n",
              "          6.94864686e+02, -3.04207501e+03, -4.12873845e+04,\n",
              "         -2.10332884e+04, -2.89529432e+04, -1.52046664e+05,\n",
              "         -1.60045095e+03,  6.08464016e+04,  2.29402252e+04,\n",
              "         -5.29873832e+03,  5.40251460e+04, -1.16961854e+02,\n",
              "         -4.56416687e+04,  1.35417485e+04,  9.72341176e+03,\n",
              "         -4.49155470e+04,  1.36781410e+05,  6.40862002e+04,\n",
              "         -2.36464532e+03,  1.84342264e+04, -2.45759264e+04,\n",
              "         -8.27676641e+04,  6.19474783e+03,  1.04800311e+04,\n",
              "         -3.22762330e+04,  5.04856446e+02,  3.81611969e+04,\n",
              "         -2.75607011e+04,  2.80829361e+04,  1.59515016e+05,\n",
              "          1.28386451e+04, -7.31995047e+02, -1.56925203e+05,\n",
              "          1.35109856e+04,  6.83964364e+03, -3.36012907e+03,\n",
              "         -7.52381603e+02,  2.95240626e+04, -9.19237734e+02,\n",
              "         -6.27393544e+03,  7.18354437e+03,  6.86459071e+04,\n",
              "         -3.43517190e+04, -6.76838293e+03,  1.30865648e+05,\n",
              "         -6.12532029e+03,  7.09087946e+03,  2.07678184e+04,\n",
              "          5.04045424e+04, -1.56762983e+04,  1.51821591e+04,\n",
              "          1.36919214e+04,  1.83849010e+03, -4.67289719e+03,\n",
              "          1.74432570e+04,  4.74153523e+04, -1.90212950e+04,\n",
              "         -8.70314762e+04, -1.84535510e+04, -5.02036856e+04,\n",
              "         -6.57342664e+03, -4.54938960e+03, -9.29908843e+04,\n",
              "          4.81021481e+04,  2.85546079e+03,  1.47184819e+05,\n",
              "         -5.76097044e+03,  3.89043719e+04, -3.15887712e+03,\n",
              "          1.81226736e+04,  1.54345401e+04,  1.19302245e+05,\n",
              "         -3.27302906e+04, -8.00947932e+03, -8.56839033e+04,\n",
              "         -7.87963585e+03,  2.12960462e+04, -3.79474889e+03,\n",
              "          7.16660525e+03, -1.35039853e+04,  1.70548277e+04,\n",
              "          2.76917722e+04, -2.04065442e+05, -3.36484413e+04,\n",
              "          1.72744602e+05, -4.86021390e+04,  1.08341748e+05,\n",
              "          1.41629864e+05,  8.90492788e+04, -1.79872895e+05,\n",
              "          2.07316421e+03, -2.31446660e+05, -1.07962743e+05,\n",
              "          7.55805944e+03,  2.52527296e+04, -1.15272372e+05,\n",
              "          1.47151410e+04,  3.70974811e+03, -4.73836845e+02,\n",
              "         -4.32583695e+04, -1.10351915e+05,  6.09166004e+03,\n",
              "          1.13502088e+04, -1.32372630e+04,  1.34012342e+05,\n",
              "          1.96815262e+04, -2.89127331e+05,  1.87474048e+05,\n",
              "          7.04082037e+04,  6.83269642e+04,  7.50047137e+01,\n",
              "          9.93563658e+04,  1.75084505e+04,  2.08469808e+04]]),\n",
              " array([539150.73672305]))"
            ]
          },
          "metadata": {},
          "execution_count": 271
        }
      ]
    },
    {
      "cell_type": "markdown",
      "source": [
        "El modelo estará dado por:\n",
        "\n",
        "${\\hat{y}=1.52\\times10^5x_1+...+2.08\\times10^{4}x^2_{15}+539150.73}$"
      ],
      "metadata": {
        "id": "jR6io-kg5lqo"
      }
    },
    {
      "cell_type": "code",
      "source": [
        "mae=metrics.mean_absolute_error(y_test, y_pred_ridge)\n",
        "r2=r2_score(y_test, y_pred_ridge)\n",
        "\n",
        "list_MAE.append(mae)\n",
        "list_R2.append(r2)\n",
        "print('Error medio Absoluto (MAE):', mae)\n",
        "print('Root Mean Squared Error:', np.sqrt(metrics.mean_squared_error(y_test, y_pred_ridge)))\n",
        "print('r2_score',r2)"
      ],
      "metadata": {
        "colab": {
          "base_uri": "https://localhost:8080/"
        },
        "id": "XNDmeHfxPXRa",
        "outputId": "09f72219-70a3-4557-ce1b-c171d4981fa2"
      },
      "execution_count": 272,
      "outputs": [
        {
          "output_type": "stream",
          "name": "stdout",
          "text": [
            "Error medio Absoluto (MAE): 122250.06187113284\n",
            "Root Mean Squared Error: 187899.3792334001\n",
            "r2_score 0.7759026087978058\n"
          ]
        }
      ]
    },
    {
      "cell_type": "markdown",
      "source": [
        "# Lasso"
      ],
      "metadata": {
        "id": "m1spj1qq3pDw"
      }
    },
    {
      "cell_type": "code",
      "source": [
        "model_lasso = Pipeline([(\"poly_features\", PolynomialFeatures(degree=3, include_bias=False)),\n",
        "                  (\"scaler\", StandardScaler()),\n",
        "                  (\"lasso\", Lasso(alpha = 3, random_state = 42))])\n",
        "model_lasso.fit(X_train, y_train)\n",
        "\n",
        "\n",
        "y_pred_lasso = model_lasso.predict(X_test)"
      ],
      "metadata": {
        "id": "xcgMu2M83qQR"
      },
      "execution_count": 273,
      "outputs": []
    },
    {
      "cell_type": "code",
      "source": [
        "model_lasso.named_steps['lasso'].coef_, model_lasso.named_steps['lasso'].intercept_"
      ],
      "metadata": {
        "colab": {
          "base_uri": "https://localhost:8080/"
        },
        "id": "9AwhUVQw4oQo",
        "outputId": "c1157b60-dbf5-4006-b358-579a8c926ec7"
      },
      "execution_count": 274,
      "outputs": [
        {
          "output_type": "execute_result",
          "data": {
            "text/plain": [
              "(array([ 1.90911191e+05,  8.66722760e+04,  1.31899809e+05,  2.72391646e+04,\n",
              "        -1.07939619e+05,  4.42139671e+04,  1.28346035e+05,  1.42116172e+05,\n",
              "         1.61215891e+05, -7.24861542e+04, -1.05784411e+05, -1.62939988e+05,\n",
              "        -5.78684162e+04,  1.49838689e+05, -2.66580324e+04, -3.17218128e+04,\n",
              "        -6.98529016e+04, -5.95482074e+04,  2.44679174e+04,  8.66836198e+04,\n",
              "        -7.88081731e+04, -5.30681736e+04, -5.87893095e+04, -2.27021809e+04,\n",
              "         5.41732078e+02,  2.21117293e+04, -5.40585149e+04,  5.59961574e+04,\n",
              "         4.95371175e+04,  2.92203473e+04,  3.93974543e+04,  5.50738036e+04,\n",
              "         1.71811493e+04, -4.08744398e+04,  8.84246979e+03,  2.15466712e+04,\n",
              "         1.25253874e+04, -9.95382280e+03,  1.11833767e+04,  1.33519056e+04,\n",
              "        -4.06505625e+04, -7.21927472e+04,  2.37080470e+04,  5.74471382e+03,\n",
              "        -4.59344628e+04, -2.35899179e+03,  2.85325500e+04,  2.42685438e+04,\n",
              "        -4.30000948e+04, -2.33274197e+04,  6.41591070e+04, -4.80379640e+04,\n",
              "        -6.60940498e+02, -1.81414323e+03,  7.89933711e+04,  8.36503793e+02,\n",
              "         9.72504112e+03,  2.11118023e+04, -4.55366379e+04, -6.57596760e+04,\n",
              "         5.56738904e+04, -1.33189427e+04,  3.99327842e+03,  1.83286439e+03,\n",
              "        -1.76654815e+03, -1.01924248e+03,  3.18244373e+04, -2.91145094e+04,\n",
              "         6.69116892e+04, -2.96559306e+04,  4.46790450e+04, -1.85088148e+03,\n",
              "         4.03474195e+04,  4.94970986e+04, -5.41004401e+04,  5.05699232e+04,\n",
              "        -9.62791822e+02, -9.25854208e+03,  3.50688847e+04, -4.80708092e+04,\n",
              "        -1.88097619e+04, -3.74644230e+04,  6.63688403e+03, -3.51897831e+03,\n",
              "         1.66926904e+04,  5.81377110e+04,  1.59502336e+04,  3.88509323e+04,\n",
              "        -1.41104204e+04,  2.87418040e+03, -4.52917293e+04,  2.31833214e+04,\n",
              "        -1.70169264e+04, -1.68322696e+04, -5.26041978e+04,  6.73569630e+04,\n",
              "        -6.32890975e+03,  2.09795260e+04, -1.58530001e+04, -1.00303019e+04,\n",
              "        -9.26248831e+03, -4.37761216e+04, -1.15290145e+04, -1.58471721e+04,\n",
              "         1.10306934e+04, -2.05323799e+04,  1.91725325e+04,  9.47743754e+04,\n",
              "         1.11350666e+04, -6.24314246e+04, -5.89999456e+04, -2.52029653e+04,\n",
              "        -2.57211469e+04, -9.39105052e+03,  2.17972111e+04,  1.38833055e+04,\n",
              "        -7.24467141e+03, -1.25061710e+04,  1.00374379e+04,  1.88237416e+04,\n",
              "         2.10562306e+04,  1.40302143e+04,  4.72654879e+04,  6.37070147e+03,\n",
              "         7.09122105e+03, -1.01980208e+04, -3.21622903e+04, -7.49238201e+04,\n",
              "         1.17394634e+04, -3.39760744e+03, -1.25447410e+04, -1.64136260e+04,\n",
              "         9.11900848e+04,  2.10733484e+04,  3.10485269e+04,  3.70490662e+04,\n",
              "         1.43375719e+05, -7.33432271e+04,  4.09372405e+03, -5.67338307e+04,\n",
              "         1.59412629e+04,  4.01554627e+04, -9.19711970e+04,  5.54444184e+04,\n",
              "         2.94974572e+04,  5.43201426e+04, -2.59094066e+04, -2.92132295e+04,\n",
              "         1.21568608e+04, -4.64296554e+04, -1.07625644e+05,  2.14750526e+03,\n",
              "        -1.83881706e+04,  2.92932413e+04, -1.09628597e+04,  1.08648277e+04,\n",
              "        -5.68056275e+04,  5.44112322e+04, -8.35248023e+03, -3.71224757e+04,\n",
              "         1.61699477e+04,  3.23192912e+04, -3.03966571e+04,  6.43237199e+03,\n",
              "        -1.20645131e+05,  1.18523937e+04,  6.42121085e+04,  5.07158376e+02,\n",
              "        -6.00830583e+04, -1.71453502e+04,  2.53184307e+04,  4.69006707e+03,\n",
              "        -1.44948778e+05,  9.62200670e+04,  2.64359479e+04, -2.58052325e+04,\n",
              "         1.39236931e+04,  8.95160172e+02,  7.85277598e+03,  3.51770145e+03,\n",
              "        -4.49031530e+04, -2.01244460e+03, -1.01327218e+04,  9.75140099e+03,\n",
              "         3.33119864e+04,  4.89727473e+03,  5.02809130e+03, -2.62850023e+04,\n",
              "         3.55610797e+04, -1.91080981e+04, -2.36064385e+04,  6.99962947e+04,\n",
              "         9.92750240e+04, -5.90205945e+04, -8.91476738e+03, -5.63810474e+04,\n",
              "        -4.13950547e+03,  5.76778962e+04, -1.10911997e+05, -1.13680125e+04,\n",
              "        -2.35691992e+04,  0.00000000e+00,  5.47608620e+04, -1.60385917e+04,\n",
              "         4.82106931e+04, -3.29103488e+04, -2.55335771e+04,  3.81916396e+04,\n",
              "        -1.59692626e+04,  8.58073626e+04, -2.84567068e+04,  4.78102335e+04,\n",
              "        -1.73350175e+04,  1.10803129e+04,  2.21170506e+04, -5.14264122e+04,\n",
              "        -1.18663525e+03, -2.53623154e+04,  2.45184982e+04,  7.33016156e+04,\n",
              "         4.56000488e+03,  3.38517400e+04, -4.61748122e+04, -3.72203059e+04,\n",
              "        -4.71640877e+04,  5.91009738e+04, -8.69459897e+03,  2.72977370e+04,\n",
              "         2.31412835e+04,  1.70480291e+04, -8.26170666e+04,  1.69493032e+04,\n",
              "        -2.51072300e+04, -3.96486581e+04,  9.54421300e+04, -5.37028137e+04,\n",
              "        -6.97671913e+03, -3.28208373e+04, -1.75287214e+03,  1.18847725e+04,\n",
              "         5.29438016e+04,  1.40071765e+05,  1.03035868e+04, -9.35782329e+03,\n",
              "        -9.79440342e+03, -1.03396144e+05,  2.44498609e+04, -2.12543859e+04,\n",
              "         4.25762373e+04,  0.00000000e+00, -9.67019777e+04, -1.45957800e+04,\n",
              "         7.66326944e+04,  7.34092490e+03, -9.83976614e+03, -1.14484838e+05,\n",
              "         1.20947248e+05,  1.60110464e+04,  1.11886578e+05, -3.12938411e+04,\n",
              "        -1.15984351e+05, -1.02483819e+04,  1.06161640e+05, -7.77339921e+04,\n",
              "        -1.32884298e+05,  9.82421956e+04, -2.40447602e+03,  6.65441368e+04,\n",
              "        -5.00008104e+04,  2.06200969e+03,  2.21011066e+04, -2.06818616e+04,\n",
              "         3.24353227e+04,  8.79613140e+04, -6.00748552e+04,  5.86322035e+04,\n",
              "        -8.94173996e+04,  1.15741827e+05, -7.52674101e+03, -7.40426785e+04,\n",
              "         3.17286361e+04, -6.90863975e+03, -1.85675862e+04,  1.49140256e+04,\n",
              "         3.12903968e+04,  7.02474959e+04, -5.73490658e+04, -1.41429454e+04,\n",
              "        -3.80113177e+02, -1.28343783e+04,  4.39476100e+04,  2.39553765e+04,\n",
              "        -5.25133191e+04,  4.45280156e+04, -1.10131224e+05, -1.08964874e+05,\n",
              "        -2.02026993e+02, -9.07603429e+03,  6.25745456e+04, -0.00000000e+00,\n",
              "         6.09702884e+04, -4.02006602e+04, -1.66673385e+04, -6.92542838e+04,\n",
              "        -1.27585812e+04,  3.79108137e+03,  2.89398837e+04, -2.54373885e+04,\n",
              "         5.15353186e+04, -1.92291327e+04,  1.84285664e+03,  5.63150752e+03,\n",
              "         2.74554661e+04,  7.51942005e+04, -2.02559804e+04,  4.60944144e+04,\n",
              "        -7.01048022e+04,  3.72943381e+02, -1.30003553e+03, -2.89142946e+04,\n",
              "         4.68884436e+04, -1.18454668e+03,  1.08045198e+05, -5.28245183e+04,\n",
              "         5.80344120e+04, -1.12772982e+05,  2.63975824e+04,  3.94799271e+04,\n",
              "        -8.83031583e+02,  4.77308546e+04,  1.38282702e+04,  9.22783316e+03,\n",
              "         6.86638765e+04,  1.63659060e+04, -1.04111823e+05, -2.18349115e+04,\n",
              "        -5.79253631e+04, -4.64339336e+04,  1.44017921e+03,  1.25146559e+04,\n",
              "        -1.97538642e+04,  7.08394361e+04, -2.55184642e+04, -6.08735151e+03,\n",
              "         5.94600771e+03,  1.24713680e+05, -1.93136022e+04,  1.11777711e+04,\n",
              "         7.69652592e+04, -5.53970273e+04, -6.24763733e+04,  7.63177016e+04,\n",
              "        -1.00931921e+05,  4.51143415e+04,  4.11272839e+03,  2.77851629e+04,\n",
              "         2.43512343e+04, -7.64473273e+04,  1.25727218e+04,  2.83157693e+04,\n",
              "         2.49129412e+04, -4.17964218e+04,  3.41247886e+04, -1.26829316e+05,\n",
              "        -5.01083626e+04, -2.65068236e+04,  9.50355468e+04, -1.18880419e+04,\n",
              "         5.22945175e+04, -5.45613649e+04,  7.07901684e+04,  7.55466135e+04,\n",
              "         3.38382695e+03,  3.50404791e+04, -2.01406159e+04,  1.14528564e+04,\n",
              "        -3.94616809e+04, -5.55499610e+02, -1.16693084e+04, -1.72646898e+04,\n",
              "        -4.45426145e+04,  2.91551387e+04, -1.17525063e+04, -8.50765979e+03,\n",
              "         3.94411166e+04,  6.96806495e+03, -1.92412541e+04,  1.21384775e+04,\n",
              "        -2.23960311e+04,  1.18728388e+04, -3.16059478e+04, -4.10122942e+03,\n",
              "         4.96696723e+04, -1.72242937e+04, -1.14534740e+05,  3.66822579e+04,\n",
              "        -3.04089466e+04, -5.82851703e+03, -4.64545711e+03,  1.07328982e+04,\n",
              "         2.06709481e+04, -6.78236992e+03,  1.03890959e+04, -6.07173925e+04,\n",
              "         1.31393378e+04, -9.99299518e+03,  9.68989364e+03,  4.65335675e+04,\n",
              "        -4.85570119e+04, -1.11493120e+04, -2.99851659e+04, -3.79235944e+04,\n",
              "         2.61210052e+04,  2.41587325e+04,  3.13040676e+03, -2.09663508e+04,\n",
              "         2.80349838e+04, -5.05816613e+04,  5.03246019e+04, -2.71450201e+04,\n",
              "         3.27140812e+04,  7.70676961e+04, -5.69239465e+04,  1.20642117e+05,\n",
              "        -5.22906229e+04, -2.96283238e+04,  1.02673454e+04, -6.09615778e+04,\n",
              "        -1.45447174e+04,  8.85265637e+03,  4.27020042e+03,  6.72814128e+04,\n",
              "        -2.14880194e+04,  4.30502506e+04,  9.06574879e+04,  1.23774132e+04,\n",
              "        -9.43468622e+04, -9.75479298e+04,  4.17960169e+04,  1.32887805e+04,\n",
              "         4.97732742e+04, -4.71080077e+04, -1.46388486e+04, -5.21408977e+04,\n",
              "        -1.91272369e+04,  9.71337015e+03,  9.23458844e+04, -3.09648585e+04,\n",
              "        -8.60137694e+04,  2.73497639e+04,  2.83890774e+02,  2.77119306e+03,\n",
              "        -2.71178766e+04,  1.50814874e+04,  4.96439715e+04, -2.39210651e+04,\n",
              "         5.38149861e+04, -1.10739111e+03, -1.02848938e+04, -5.56087304e+04,\n",
              "        -6.88661619e+02,  3.45801347e+04, -3.03166288e+04, -7.39181670e+03,\n",
              "         2.53472291e+03, -1.93408740e+04,  5.08942871e+04,  2.13175487e+04,\n",
              "         2.39484061e+04,  5.25841051e+03, -5.14438750e+04,  1.62231906e+04,\n",
              "         4.64645545e+04, -9.70309546e+03, -9.11320690e+04,  7.30616350e+04,\n",
              "        -1.32300108e+04,  3.32949088e+04,  1.76521798e+04,  3.26020753e+04,\n",
              "        -1.28288918e+05, -1.27963334e+04,  5.17414473e+04,  4.88774030e+04,\n",
              "        -3.04655000e+04,  2.64062107e+04, -4.63289320e+04,  4.68805551e+04,\n",
              "         3.25154482e+04, -4.94377163e+04, -3.13664345e+03, -5.55698222e+02,\n",
              "        -2.49967750e+04,  1.33035316e+04, -3.49526902e+04,  2.63457816e+04,\n",
              "         3.99192577e+03, -0.00000000e+00, -1.55196732e+03,  1.52746730e+04,\n",
              "        -9.37569411e+00,  1.05940988e+04, -2.32338342e+04, -3.91987004e+04,\n",
              "         7.97681355e+03,  5.62325650e+03, -7.32853092e+03,  4.99871561e+04,\n",
              "        -3.25346736e+04, -6.84361646e+03, -6.73747976e+03, -2.66513577e+04,\n",
              "        -8.44778066e+02, -1.27096439e+04,  1.47785535e+04,  2.96892400e+04,\n",
              "        -5.95033163e+02, -1.28100708e+04,  4.71563873e+04,  1.34924187e+03,\n",
              "         4.93023954e+02, -2.51253626e+04, -4.81435824e+04, -1.23149539e+03,\n",
              "        -6.77754814e+04,  3.11951590e+04,  5.01947397e+04, -5.72744369e+03,\n",
              "        -1.14451893e+05,  1.54442839e+04,  9.72458225e+03,  1.42475325e+03,\n",
              "         4.73188316e+04,  3.59573540e+03,  6.24881298e+04, -7.93780913e+04,\n",
              "        -2.53406616e+04, -1.52374093e+04,  1.82598563e+05, -3.63295860e+04,\n",
              "        -3.32769709e+03, -1.67936832e+04, -2.47570513e+04,  2.49301518e+03,\n",
              "         5.55374390e+04, -2.15044714e+03,  2.52590534e+04,  7.16566786e+03,\n",
              "         5.92343605e+03,  2.75377167e+04, -4.57796463e+04, -7.54288125e+02,\n",
              "         4.24535202e+04,  3.43726718e+04,  1.12324465e+04, -9.36687880e+04,\n",
              "         1.37882154e+04,  9.22644755e+03,  1.16463177e+04, -9.91251570e+04,\n",
              "         1.35318798e+04, -4.70265143e+04,  2.81017642e+04, -2.02977162e+04,\n",
              "        -7.08041607e+04,  9.41898492e+04,  3.24730324e+04, -5.46607263e+04,\n",
              "        -7.79772720e+04,  1.67717806e+05,  2.39831475e+04,  6.74622418e+03,\n",
              "        -1.05958733e+05,  5.55084720e+04, -1.18237031e+02, -2.62463268e+04,\n",
              "         5.21196252e+04,  8.05389365e+02, -9.60072269e+04,  5.01394413e+04,\n",
              "        -1.69593369e+04,  3.15012249e+04, -1.66157454e+04, -8.97712709e+04,\n",
              "        -4.75787816e+03,  7.07285541e+04,  6.91599599e+04,  1.94394289e+04,\n",
              "        -5.03270096e+04,  3.42516873e-01, -2.99158458e+04,  2.31600968e+04,\n",
              "        -1.02052019e+05,  2.50403917e+04,  4.88454171e+04, -5.39224792e+04,\n",
              "        -3.24257855e+04,  2.62306033e+03, -1.89260721e+03,  1.56278566e+04,\n",
              "         6.71833829e+04,  9.09979909e+03, -1.14803603e+04,  5.00450119e+03,\n",
              "        -5.15807593e+04, -2.41979954e+04,  3.16079899e+04, -5.44883732e+04,\n",
              "         5.78626012e+04, -6.67176260e+04,  4.06190850e+04, -6.04998212e+04,\n",
              "         3.08990758e+04,  2.76526526e+04, -4.36880471e+04, -3.09302728e+04,\n",
              "         2.55517823e+04,  2.55429320e+04,  2.25182197e+04,  6.23063446e+03,\n",
              "        -3.11756695e+04,  6.93770920e+04, -3.97915022e+04,  2.24717043e+04,\n",
              "        -9.29816454e+04,  4.64417026e+04, -7.66894248e+04,  6.27936006e+04,\n",
              "        -4.63096010e+04, -5.74982556e+03,  8.09176499e+04, -2.92217446e+04,\n",
              "         3.53956225e+04, -2.69412056e+04, -2.97052089e+04,  1.88517946e+04,\n",
              "         5.98068375e+04,  6.94367715e+03, -6.51606289e+04,  6.98094769e+03,\n",
              "         8.01835500e+04,  3.66824554e+04, -9.76590914e+03, -5.90142769e+04,\n",
              "         3.44206645e+04, -1.77386945e+04, -2.59393066e+03, -2.01287279e+04,\n",
              "         8.38092956e+03, -2.06516932e+04,  1.38555276e+05, -4.96466827e+04,\n",
              "        -5.52087341e+04,  4.84805778e+04,  2.50156732e+04, -6.11339558e+04,\n",
              "        -9.05208774e+03, -2.54440458e+04,  1.38867127e+04, -2.82287167e+04,\n",
              "         5.96884140e+04,  1.00629249e+05,  9.81721156e+03, -7.24785688e+04,\n",
              "         3.04167461e+04, -4.18236981e+04,  1.96949038e+03,  8.85375520e+04,\n",
              "        -6.70655433e+04,  1.05445855e+04, -3.12529141e+04,  6.45906192e+03,\n",
              "         2.10175300e+04,  6.73261625e+03, -2.84208526e+04, -3.62317890e+04,\n",
              "        -1.35447522e+04, -5.05840247e+04,  2.35158972e+04,  1.38053771e+04,\n",
              "        -1.37059372e+04,  1.43746150e+04,  2.61591060e+03,  8.17688823e+04,\n",
              "        -1.76105603e+04, -1.52944232e+04, -6.42875711e+02,  5.01521989e+03,\n",
              "        -1.58292813e+04, -9.58204696e+03, -1.61817750e+04,  3.37536458e+03,\n",
              "        -7.67241076e+04,  4.98285536e+03,  2.36262969e+04,  5.13221889e+04,\n",
              "        -6.26086567e+03,  3.45298459e+04,  2.56893674e+04, -8.42083889e+04,\n",
              "        -1.29104025e+04, -1.85422985e+04, -2.58263208e+04,  5.10287431e+04,\n",
              "         4.70305359e+04, -2.24189844e+04, -5.27178156e+04,  2.55667824e+04,\n",
              "         2.09434205e+04, -7.08657961e+04, -6.16860128e+04,  8.48870124e+04,\n",
              "         2.85062863e+04,  3.79832207e+03,  8.77715343e+04, -9.51641409e+03,\n",
              "        -2.05630343e+04, -2.93359338e+04,  3.67459995e+03, -8.33091994e+03,\n",
              "        -1.40044706e+04, -1.57053005e+04,  4.62955663e+04, -9.44077741e+04,\n",
              "         6.55715398e+04,  0.00000000e+00, -6.83996450e+04,  4.88545653e+04,\n",
              "         1.63932205e+05, -2.56139372e+04,  5.96499973e+04,  2.80669855e+04,\n",
              "        -2.05261504e+04,  3.73095562e+03, -6.68516363e+04, -1.66200501e+04,\n",
              "        -6.80246167e+04, -7.60582906e+04,  4.69212269e+04,  2.78412065e+04,\n",
              "         4.67499944e+04, -5.21766361e+04, -3.23836768e+04,  2.11770463e+03,\n",
              "         3.37676187e+04, -7.00465041e+04, -2.29329858e+04,  5.05638567e+04,\n",
              "        -5.38690916e+04, -3.76306402e+04,  7.43304968e+04, -6.36552094e+04,\n",
              "         1.52708346e+04,  8.42011796e+01,  1.33400867e+05, -5.83141058e+04,\n",
              "        -1.77351683e+04,  3.13048256e+04,  6.68419519e+04, -2.27530216e+04,\n",
              "         6.22887024e+04,  4.05519636e+04, -8.13435966e+04,  1.26819626e+05,\n",
              "        -5.17576189e+04, -6.67842182e+04, -5.19557220e+04, -3.36677398e+04,\n",
              "         8.48396733e+04, -2.58571210e+04, -6.24917626e+04, -2.80077437e+04,\n",
              "        -2.92353176e+04, -2.45263347e+04,  4.91440052e+03,  1.30210681e+05,\n",
              "         2.23129426e+03, -8.39832268e+04,  1.29773866e+03,  1.21078037e+04,\n",
              "         2.88052805e+04, -2.58106866e+04, -1.15465861e+04, -7.56240530e+04,\n",
              "         6.26461876e+04,  6.29711090e+04, -7.90022063e+04,  1.83746574e+04,\n",
              "        -2.20124062e+03,  8.53551017e+01,  4.32817101e+03,  2.87935282e+03,\n",
              "        -2.83816607e+04,  2.45484541e+04,  1.96741925e+04,  1.50746219e+05,\n",
              "        -2.41404263e+04, -5.35950668e+04,  2.41347583e+03, -3.32233067e+03,\n",
              "        -1.31883480e+04, -3.74694373e+03,  8.49319375e+04,  1.09140752e+04,\n",
              "        -5.65451972e+04,  6.33582785e+03, -3.21088365e+03, -9.92941387e+03,\n",
              "        -1.96766180e+04,  2.52663839e+04, -1.29038828e+04,  8.30779918e+02,\n",
              "        -1.60664492e+04, -8.96978399e+04, -7.29057014e+04]),\n",
              " array([539150.73672305]))"
            ]
          },
          "metadata": {},
          "execution_count": 274
        }
      ]
    },
    {
      "cell_type": "markdown",
      "source": [
        "El modelo estará dado por:\n",
        "\n",
        "${\\hat{y}=1.90\\times10^5x_1+...-7.29\\times10^{4}x^3_{15}+539150.73}$"
      ],
      "metadata": {
        "id": "crsVV9DA6YaC"
      }
    },
    {
      "cell_type": "code",
      "source": [
        "mae=metrics.mean_absolute_error(y_test, y_pred_lasso)\n",
        "r2=r2_score(y_test, y_pred_lasso)\n",
        "\n",
        "list_MAE.append(mae)\n",
        "list_R2.append(r2)\n",
        "print('Error medio Absoluto (MAE):', mae)\n",
        "print('Root Mean Squared Error:', np.sqrt(metrics.mean_squared_error(y_test, y_pred_lasso)))\n",
        "print('r2_score',r2)"
      ],
      "metadata": {
        "colab": {
          "base_uri": "https://localhost:8080/"
        },
        "id": "OwlQfjH0PsIu",
        "outputId": "fd5d2e1d-3edd-489d-f33c-999fc5914ebe"
      },
      "execution_count": 275,
      "outputs": [
        {
          "output_type": "stream",
          "name": "stdout",
          "text": [
            "Error medio Absoluto (MAE): 121540.01378912927\n",
            "Root Mean Squared Error: 189171.8518971228\n",
            "r2_score 0.7728571132403553\n"
          ]
        }
      ]
    },
    {
      "cell_type": "code",
      "source": [
        "list_names=[\"MLR\",\"MPR\",\"RI\",\"LA\"]\n",
        "sns.barplot(x=list_names,y=list_MAE)\n",
        "plt.title(\"MAE\")\n",
        "plt.show()"
      ],
      "metadata": {
        "colab": {
          "base_uri": "https://localhost:8080/",
          "height": 281
        },
        "id": "KqEOrrhOQneq",
        "outputId": "89228753-87f0-4de7-b5fa-2036a15850c3"
      },
      "execution_count": 276,
      "outputs": [
        {
          "output_type": "display_data",
          "data": {
            "text/plain": [
              "<Figure size 432x288 with 1 Axes>"
            ],
            "image/png": "[encoded data removed]"
          },
          "metadata": {
            "needs_background": "light"
          }
        }
      ]
    },
    {
      "cell_type": "code",
      "source": [
        "sns.barplot(x=list_names,y=list_R2)\n",
        "plt.title(\"R2\")\n",
        "plt.show()"
      ],
      "metadata": {
        "colab": {
          "base_uri": "https://localhost:8080/",
          "height": 281
        },
        "id": "fKqi5EIIQ1WI",
        "outputId": "2934b1d8-95a6-4e33-e0bd-d7cea2c3e8e0"
      },
      "execution_count": 277,
      "outputs": [
        {
          "output_type": "display_data",
          "data": {
            "text/plain": [
              "<Figure size 432x288 with 1 Axes>"
            ],
            "image/png": "[encoded data removed]"
          },
          "metadata": {
            "needs_background": "light"
          }
        }
      ]
    },
    {
      "cell_type": "code",
      "source": [
        "error_MLR=y_pred_mlr-y_test\n",
        "error_PR=y_pred_poly-y_test\n",
        "error_RI=y_pred_ridge-y_test\n",
        "error_LA=y_pred_lasso.reshape(len(y_test),1)-y_test\n",
        "list_errors=[error_LR,error_PR,error_RI,error_LA]\n",
        "plt.boxplot(list_errors,labels=list_names,showmeans=True)\n",
        "plt.title(\"Gráfica de residuos\")\n",
        "plt.show()"
      ],
      "metadata": {
        "colab": {
          "base_uri": "https://localhost:8080/",
          "height": 281
        },
        "id": "eEvsPy61Rg9U",
        "outputId": "f0442d23-c3ee-4c65-b7f6-321233352425"
      },
      "execution_count": 278,
      "outputs": [
        {
          "output_type": "display_data",
          "data": {
            "text/plain": [
              "<Figure size 432x288 with 1 Axes>"
            ],
            "image/png": "[encoded data removed]"
          },
          "metadata": {
            "needs_background": "light"
          }
        }
      ]
    },
    {
      "cell_type": "markdown",
      "source": [
        "# Explica tus resultados, que método se aproxima mejor, ¿por qué?, ¿qué porcentajes de entrenamiento y evaluación usaste? ¿Que error tienes?, ¿es bueno?, ¿Cómo lo sabes? \n",
        "\n",
        "El modelo que se aproxima mejor en mi opinión es el de la regresión polinomial múltiple, si observamos las métricas de MAE y ${R_2}$, podemos darnos cuenta que el MAE es el más bajo, mientras que el score de ${R_2}$ es el más alto, mientras menor sea el MAE mejor y el ${R_2}$ que más se acerque a 1 es el ideal.\n",
        "\n",
        "El test size usado es el que venía por defecto en el notebook (del 10%) y el resto de los datos conforman el 90%, el error que se tiene en el MAE de los modelos está en el rango de 120 mil a 140 mil, en tanto que el ${R_2}$ score está entre 0.6 y 0.8, ninguno de los modelos está sobreentrenado en base a las métricas usadas. Los errores que se tienen son buenos, solo en el modelo de la regresión lineal múltiple se tiene un MAE malo, la forma en la que se que los resultados son buenos, se basa en que el MAE mientras más cercano sea a 0 mejor y en la métrica de ${R_2}$ mientras más cercana sea a 1 mejor.\n",
        "# Conclusiones\n",
        "Mientras el MAE sea más cercano a 0, el modelo lineal es mejor, en tanto que la ${R_2}$ indicará un mejor modelo mientras más se acerque a 1, y en caso de dar resultados negativos se considerará que el modelo está sobreentrenado, los modelos desarrollados a lo largo de los 2 ejercicios dejan en claro que los datos usados no requieren de funciones como Ridge y Lasso para obtener buenos modelos lineales, también es importante mencionar que las ecuaciones se volverán más complejas a medida que se aumente el grado y el número de variables dentro del modelo.\n",
        "\n",
        "#Referencias bibligráficas\n",
        "Wesner, J. (2021). MAE and RMSE — Which Metric is Better? - Human in a Machine World. Medium. https://medium.com/human-in-a-machine-world/mae-and-rmse-which-metric-is-better-e60ac3bde13d"
      ],
      "metadata": {
        "id": "YfxWR37ctzbR"
      }
    }
  ]
}