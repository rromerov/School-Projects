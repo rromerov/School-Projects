{
  "nbformat": 4,
  "nbformat_minor": 0,
  "metadata": {
    "colab": {
      "provenance": [],
      "collapsed_sections": [
        "7ql_r2G-DB_m"
      ],
      "include_colab_link": true
    },
    "kernelspec": {
      "display_name": "Python 3",
      "name": "python3"
    }
  },
  "cells": [
    {
      "cell_type": "markdown",
      "metadata": {
        "id": "view-in-github",
        "colab_type": "text"
      },
      "source": [
        "<a href=\"https://colab.research.google.com/github/Tecnologico-de-Monterrey-MNA/iayaa-Equipo-29/blob/main/SVD_Equipo29.ipynb\" target=\"_parent\"><img src=\"https://colab.research.google.com/assets/colab-badge.svg\" alt=\"Open In Colab\"/></a>"
      ]
    },
    {
      "cell_type": "markdown",
      "source": [
        "#**Maestría en Inteligencia Artificial Aplicada**\n",
        "##**Curso: Inteligencia Artificial y Aprendizaje Automático**\n",
        "###Tecnológico de Monterrey\n",
        "###Prof Luis Eduardo Falcón Morales\n",
        "\n",
        "## **Adtividad de la Semana 10**\n",
        "###**Reducción de Dimensionalidad - Descomposición en Valores Singulares (SVD) y Sistemas de Recomendación**\n"
      ],
      "metadata": {
        "id": "VFj0sSM06dYa"
      }
    },
    {
      "cell_type": "markdown",
      "source": [
        "**Nombres y matrículas de los integrantes del equipo:**\n",
        "\n",
        "*   Eduardo Gabriel Arévalo Aguilar - A01793897\n",
        "*   José Javier Granados Hernández - A00566717\n",
        "*   Ernesto Enriquez Rubio - A01228409\n",
        "*   Roberto Romero Vielma - A00822314  \n",
        "\n"
      ],
      "metadata": {
        "id": "Qgrvy0RGB9XI"
      }
    },
    {
      "cell_type": "markdown",
      "source": [
        "En cada sección deberás incluir todas las líneas de código necesarias para responder a cada uno de los ejercicios."
      ],
      "metadata": {
        "id": "FrJ2ahMODVj1"
      }
    },
    {
      "cell_type": "code",
      "source": [
        "# Incluye aquí todos módulos, librerías y paquetes que requieras.\n",
        "import numpy as np\n",
        "import pandas as pd\n",
        "import matplotlib.pyplot as plt\n",
        "\n",
        "from sklearn.decomposition import TruncatedSVD"
      ],
      "metadata": {
        "id": "exXsscs-Dh-2"
      },
      "execution_count": 2013,
      "outputs": []
    },
    {
      "cell_type": "markdown",
      "metadata": {
        "id": "X25brD-gQdZM"
      },
      "source": [
        "#**Ejercicio-1.** \n",
        "Descarga los archivos y genera la matriz de utilidad en la cual los renglones son los usuarios (user_ID), las columnas los nombres de los restaurantes (name) y las entradas la evaluaciones generales dadas por los usuarios (rating). En particular indica el tamaño de dicha matriz y despliega \n",
        "sus primeros 10 renglones. "
      ]
    },
    {
      "cell_type": "markdown",
      "source": [
        "Importamos los datasets"
      ],
      "metadata": {
        "id": "xnCauHZ007gX"
      }
    },
    {
      "cell_type": "code",
      "source": [
        "rating=pd.read_csv(\"https://raw.githubusercontent.com/rromerov/Machine-Learning-Projects/main/Datasets/rating_final.csv\",encoding = \"ISO-8859-1\")\n",
        "location=pd.read_csv(\"https://raw.githubusercontent.com/rromerov/Machine-Learning-Projects/main/Datasets/geoplaces2.csv\",encoding = \"ISO-8859-1\")"
      ],
      "metadata": {
        "id": "3nU2GuWYCy6C"
      },
      "execution_count": 2014,
      "outputs": []
    },
    {
      "cell_type": "markdown",
      "source": [
        "Visualizamos las columnas del dataframe rating"
      ],
      "metadata": {
        "id": "32RVSSwK0-ix"
      }
    },
    {
      "cell_type": "code",
      "source": [
        "rating.columns"
      ],
      "metadata": {
        "id": "0ulkqXVGCy97",
        "colab": {
          "base_uri": "https://localhost:8080/"
        },
        "outputId": "2f76baf1-3567-475b-b8f3-2fdf6ef7bf7d"
      },
      "execution_count": 2015,
      "outputs": [
        {
          "output_type": "execute_result",
          "data": {
            "text/plain": [
              "Index(['userID', 'placeID', 'rating', 'food_rating', 'service_rating'], dtype='object')"
            ]
          },
          "metadata": {},
          "execution_count": 2015
        }
      ]
    },
    {
      "cell_type": "markdown",
      "source": [
        "Guardamos en una lista, las columnas que nos interesan"
      ],
      "metadata": {
        "id": "CJ_aL0vO1C1R"
      }
    },
    {
      "cell_type": "code",
      "source": [
        "rating_columns=[\"userID\",\"rating\",\"placeID\"]"
      ],
      "metadata": {
        "id": "DEDtbUIZO6ps"
      },
      "execution_count": 2016,
      "outputs": []
    },
    {
      "cell_type": "markdown",
      "source": [
        "Obtenemos ahora las columnas del dataset location"
      ],
      "metadata": {
        "id": "Iof9ojLx1HkL"
      }
    },
    {
      "cell_type": "code",
      "source": [
        "location.columns"
      ],
      "metadata": {
        "colab": {
          "base_uri": "https://localhost:8080/"
        },
        "id": "AjIT1AzwMyeU",
        "outputId": "141849ea-d9cc-4edf-d371-d62363fb4089"
      },
      "execution_count": 2017,
      "outputs": [
        {
          "output_type": "execute_result",
          "data": {
            "text/plain": [
              "Index(['placeID', 'latitude', 'longitude', 'the_geom_meter', 'name', 'address',\n",
              "       'city', 'state', 'country', 'fax', 'zip', 'alcohol', 'smoking_area',\n",
              "       'dress_code', 'accessibility', 'price', 'url', 'Rambience', 'franchise',\n",
              "       'area', 'other_services'],\n",
              "      dtype='object')"
            ]
          },
          "metadata": {},
          "execution_count": 2017
        }
      ]
    },
    {
      "cell_type": "markdown",
      "source": [
        "Creamos otra lista con las columnas que nos interesan del dataset columns"
      ],
      "metadata": {
        "id": "KgD4y7n61use"
      }
    },
    {
      "cell_type": "code",
      "source": [
        "location_columns=[\"placeID\",\"name\"]"
      ],
      "metadata": {
        "id": "0VZcyaW1PD6y"
      },
      "execution_count": 2018,
      "outputs": []
    },
    {
      "cell_type": "markdown",
      "source": [
        "Unimos los 2 datasets"
      ],
      "metadata": {
        "id": "BOxm3lgr21hl"
      }
    },
    {
      "cell_type": "code",
      "source": [
        "df=pd.merge(rating[rating_columns],location[location_columns],on=\"placeID\")\n",
        "df.head()"
      ],
      "metadata": {
        "colab": {
          "base_uri": "https://localhost:8080/",
          "height": 206
        },
        "id": "MTmZFMN6M67l",
        "outputId": "828b4581-1140-4f5c-d79b-bdcf6c5a675d"
      },
      "execution_count": 2019,
      "outputs": [
        {
          "output_type": "execute_result",
          "data": {
            "text/plain": [
              "  userID  rating  placeID                    name\n",
              "0  U1077       2   135085  Tortas Locas Hipocampo\n",
              "1  U1108       1   135085  Tortas Locas Hipocampo\n",
              "2  U1081       1   135085  Tortas Locas Hipocampo\n",
              "3  U1056       2   135085  Tortas Locas Hipocampo\n",
              "4  U1134       2   135085  Tortas Locas Hipocampo"
            ],
            "text/html": [
              "\n",
              "  <div id=\"df-b2c9bcc4-4fe0-4310-be2c-5c03732a31be\">\n",
              "    <div class=\"colab-df-container\">\n",
              "      <div>\n",
              "<style scoped>\n",
              "    .dataframe tbody tr th:only-of-type {\n",
              "        vertical-align: middle;\n",
              "    }\n",
              "\n",
              "    .dataframe tbody tr th {\n",
              "        vertical-align: top;\n",
              "    }\n",
              "\n",
              "    .dataframe thead th {\n",
              "        text-align: right;\n",
              "    }\n",
              "</style>\n",
              "<table border=\"1\" class=\"dataframe\">\n",
              "  <thead>\n",
              "    <tr style=\"text-align: right;\">\n",
              "      <th></th>\n",
              "      <th>userID</th>\n",
              "      <th>rating</th>\n",
              "      <th>placeID</th>\n",
              "      <th>name</th>\n",
              "    </tr>\n",
              "  </thead>\n",
              "  <tbody>\n",
              "    <tr>\n",
              "      <th>0</th>\n",
              "      <td>U1077</td>\n",
              "      <td>2</td>\n",
              "      <td>135085</td>\n",
              "      <td>Tortas Locas Hipocampo</td>\n",
              "    </tr>\n",
              "    <tr>\n",
              "      <th>1</th>\n",
              "      <td>U1108</td>\n",
              "      <td>1</td>\n",
              "      <td>135085</td>\n",
              "      <td>Tortas Locas Hipocampo</td>\n",
              "    </tr>\n",
              "    <tr>\n",
              "      <th>2</th>\n",
              "      <td>U1081</td>\n",
              "      <td>1</td>\n",
              "      <td>135085</td>\n",
              "      <td>Tortas Locas Hipocampo</td>\n",
              "    </tr>\n",
              "    <tr>\n",
              "      <th>3</th>\n",
              "      <td>U1056</td>\n",
              "      <td>2</td>\n",
              "      <td>135085</td>\n",
              "      <td>Tortas Locas Hipocampo</td>\n",
              "    </tr>\n",
              "    <tr>\n",
              "      <th>4</th>\n",
              "      <td>U1134</td>\n",
              "      <td>2</td>\n",
              "      <td>135085</td>\n",
              "      <td>Tortas Locas Hipocampo</td>\n",
              "    </tr>\n",
              "  </tbody>\n",
              "</table>\n",
              "</div>\n",
              "      <button class=\"colab-df-convert\" onclick=\"convertToInteractive('df-b2c9bcc4-4fe0-4310-be2c-5c03732a31be')\"\n",
              "              title=\"Convert this dataframe to an interactive table.\"\n",
              "              style=\"display:none;\">\n",
              "        \n",
              "  <svg xmlns=\"http://www.w3.org/2000/svg\" height=\"24px\"viewBox=\"0 0 24 24\"\n",
              "       width=\"24px\">\n",
              "    <path d=\"M0 0h24v24H0V0z\" fill=\"none\"/>\n",
              "    <path d=\"M18.56 5.44l.94 2.06.94-2.06 2.06-.94-2.06-.94-.94-2.06-.94 2.06-2.06.94zm-11 1L8.5 8.5l.94-2.06 2.06-.94-2.06-.94L8.5 2.5l-.94 2.06-2.06.94zm10 10l.94 2.06.94-2.06 2.06-.94-2.06-.94-.94-2.06-.94 2.06-2.06.94z\"/><path d=\"M17.41 7.96l-1.37-1.37c-.4-.4-.92-.59-1.43-.59-.52 0-1.04.2-1.43.59L10.3 9.45l-7.72 7.72c-.78.78-.78 2.05 0 2.83L4 21.41c.39.39.9.59 1.41.59.51 0 1.02-.2 1.41-.59l7.78-7.78 2.81-2.81c.8-.78.8-2.07 0-2.86zM5.41 20L4 18.59l7.72-7.72 1.47 1.35L5.41 20z\"/>\n",
              "  </svg>\n",
              "      </button>\n",
              "      \n",
              "  <style>\n",
              "    .colab-df-container {\n",
              "      display:flex;\n",
              "      flex-wrap:wrap;\n",
              "      gap: 12px;\n",
              "    }\n",
              "\n",
              "    .colab-df-convert {\n",
              "      background-color: #E8F0FE;\n",
              "      border: none;\n",
              "      border-radius: 50%;\n",
              "      cursor: pointer;\n",
              "      display: none;\n",
              "      fill: #1967D2;\n",
              "      height: 32px;\n",
              "      padding: 0 0 0 0;\n",
              "      width: 32px;\n",
              "    }\n",
              "\n",
              "    .colab-df-convert:hover {\n",
              "      background-color: #E2EBFA;\n",
              "      box-shadow: 0px 1px 2px rgba(60, 64, 67, 0.3), 0px 1px 3px 1px rgba(60, 64, 67, 0.15);\n",
              "      fill: #174EA6;\n",
              "    }\n",
              "\n",
              "    [theme=dark] .colab-df-convert {\n",
              "      background-color: #3B4455;\n",
              "      fill: #D2E3FC;\n",
              "    }\n",
              "\n",
              "    [theme=dark] .colab-df-convert:hover {\n",
              "      background-color: #434B5C;\n",
              "      box-shadow: 0px 1px 3px 1px rgba(0, 0, 0, 0.15);\n",
              "      filter: drop-shadow(0px 1px 2px rgba(0, 0, 0, 0.3));\n",
              "      fill: #FFFFFF;\n",
              "    }\n",
              "  </style>\n",
              "\n",
              "      <script>\n",
              "        const buttonEl =\n",
              "          document.querySelector('#df-b2c9bcc4-4fe0-4310-be2c-5c03732a31be button.colab-df-convert');\n",
              "        buttonEl.style.display =\n",
              "          google.colab.kernel.accessAllowed ? 'block' : 'none';\n",
              "\n",
              "        async function convertToInteractive(key) {\n",
              "          const element = document.querySelector('#df-b2c9bcc4-4fe0-4310-be2c-5c03732a31be');\n",
              "          const dataTable =\n",
              "            await google.colab.kernel.invokeFunction('convertToInteractive',\n",
              "                                                     [key], {});\n",
              "          if (!dataTable) return;\n",
              "\n",
              "          const docLinkHtml = 'Like what you see? Visit the ' +\n",
              "            '<a target=\"_blank\" href=https://colab.research.google.com/notebooks/data_table.ipynb>data table notebook</a>'\n",
              "            + ' to learn more about interactive tables.';\n",
              "          element.innerHTML = '';\n",
              "          dataTable['output_type'] = 'display_data';\n",
              "          await google.colab.output.renderOutput(dataTable, element);\n",
              "          const docLink = document.createElement('div');\n",
              "          docLink.innerHTML = docLinkHtml;\n",
              "          element.appendChild(docLink);\n",
              "        }\n",
              "      </script>\n",
              "    </div>\n",
              "  </div>\n",
              "  "
            ]
          },
          "metadata": {},
          "execution_count": 2019
        }
      ]
    },
    {
      "cell_type": "markdown",
      "source": [
        "Eliminamos la U dentro de la columna **userID**"
      ],
      "metadata": {
        "id": "G0PMTICUTWNg"
      }
    },
    {
      "cell_type": "code",
      "source": [
        "df[\"userID\"] = df[\"userID\"].apply(lambda x:int(str(x)[1::]))\n",
        "df.head()"
      ],
      "metadata": {
        "colab": {
          "base_uri": "https://localhost:8080/",
          "height": 206
        },
        "id": "QaX_JaO8TaQ4",
        "outputId": "513c3bb9-049e-4e55-87e4-e921a1474adc"
      },
      "execution_count": 2020,
      "outputs": [
        {
          "output_type": "execute_result",
          "data": {
            "text/plain": [
              "   userID  rating  placeID                    name\n",
              "0    1077       2   135085  Tortas Locas Hipocampo\n",
              "1    1108       1   135085  Tortas Locas Hipocampo\n",
              "2    1081       1   135085  Tortas Locas Hipocampo\n",
              "3    1056       2   135085  Tortas Locas Hipocampo\n",
              "4    1134       2   135085  Tortas Locas Hipocampo"
            ],
            "text/html": [
              "\n",
              "  <div id=\"df-f78de6eb-4f33-4f72-b16c-0afb3c9692c1\">\n",
              "    <div class=\"colab-df-container\">\n",
              "      <div>\n",
              "<style scoped>\n",
              "    .dataframe tbody tr th:only-of-type {\n",
              "        vertical-align: middle;\n",
              "    }\n",
              "\n",
              "    .dataframe tbody tr th {\n",
              "        vertical-align: top;\n",
              "    }\n",
              "\n",
              "    .dataframe thead th {\n",
              "        text-align: right;\n",
              "    }\n",
              "</style>\n",
              "<table border=\"1\" class=\"dataframe\">\n",
              "  <thead>\n",
              "    <tr style=\"text-align: right;\">\n",
              "      <th></th>\n",
              "      <th>userID</th>\n",
              "      <th>rating</th>\n",
              "      <th>placeID</th>\n",
              "      <th>name</th>\n",
              "    </tr>\n",
              "  </thead>\n",
              "  <tbody>\n",
              "    <tr>\n",
              "      <th>0</th>\n",
              "      <td>1077</td>\n",
              "      <td>2</td>\n",
              "      <td>135085</td>\n",
              "      <td>Tortas Locas Hipocampo</td>\n",
              "    </tr>\n",
              "    <tr>\n",
              "      <th>1</th>\n",
              "      <td>1108</td>\n",
              "      <td>1</td>\n",
              "      <td>135085</td>\n",
              "      <td>Tortas Locas Hipocampo</td>\n",
              "    </tr>\n",
              "    <tr>\n",
              "      <th>2</th>\n",
              "      <td>1081</td>\n",
              "      <td>1</td>\n",
              "      <td>135085</td>\n",
              "      <td>Tortas Locas Hipocampo</td>\n",
              "    </tr>\n",
              "    <tr>\n",
              "      <th>3</th>\n",
              "      <td>1056</td>\n",
              "      <td>2</td>\n",
              "      <td>135085</td>\n",
              "      <td>Tortas Locas Hipocampo</td>\n",
              "    </tr>\n",
              "    <tr>\n",
              "      <th>4</th>\n",
              "      <td>1134</td>\n",
              "      <td>2</td>\n",
              "      <td>135085</td>\n",
              "      <td>Tortas Locas Hipocampo</td>\n",
              "    </tr>\n",
              "  </tbody>\n",
              "</table>\n",
              "</div>\n",
              "      <button class=\"colab-df-convert\" onclick=\"convertToInteractive('df-f78de6eb-4f33-4f72-b16c-0afb3c9692c1')\"\n",
              "              title=\"Convert this dataframe to an interactive table.\"\n",
              "              style=\"display:none;\">\n",
              "        \n",
              "  <svg xmlns=\"http://www.w3.org/2000/svg\" height=\"24px\"viewBox=\"0 0 24 24\"\n",
              "       width=\"24px\">\n",
              "    <path d=\"M0 0h24v24H0V0z\" fill=\"none\"/>\n",
              "    <path d=\"M18.56 5.44l.94 2.06.94-2.06 2.06-.94-2.06-.94-.94-2.06-.94 2.06-2.06.94zm-11 1L8.5 8.5l.94-2.06 2.06-.94-2.06-.94L8.5 2.5l-.94 2.06-2.06.94zm10 10l.94 2.06.94-2.06 2.06-.94-2.06-.94-.94-2.06-.94 2.06-2.06.94z\"/><path d=\"M17.41 7.96l-1.37-1.37c-.4-.4-.92-.59-1.43-.59-.52 0-1.04.2-1.43.59L10.3 9.45l-7.72 7.72c-.78.78-.78 2.05 0 2.83L4 21.41c.39.39.9.59 1.41.59.51 0 1.02-.2 1.41-.59l7.78-7.78 2.81-2.81c.8-.78.8-2.07 0-2.86zM5.41 20L4 18.59l7.72-7.72 1.47 1.35L5.41 20z\"/>\n",
              "  </svg>\n",
              "      </button>\n",
              "      \n",
              "  <style>\n",
              "    .colab-df-container {\n",
              "      display:flex;\n",
              "      flex-wrap:wrap;\n",
              "      gap: 12px;\n",
              "    }\n",
              "\n",
              "    .colab-df-convert {\n",
              "      background-color: #E8F0FE;\n",
              "      border: none;\n",
              "      border-radius: 50%;\n",
              "      cursor: pointer;\n",
              "      display: none;\n",
              "      fill: #1967D2;\n",
              "      height: 32px;\n",
              "      padding: 0 0 0 0;\n",
              "      width: 32px;\n",
              "    }\n",
              "\n",
              "    .colab-df-convert:hover {\n",
              "      background-color: #E2EBFA;\n",
              "      box-shadow: 0px 1px 2px rgba(60, 64, 67, 0.3), 0px 1px 3px 1px rgba(60, 64, 67, 0.15);\n",
              "      fill: #174EA6;\n",
              "    }\n",
              "\n",
              "    [theme=dark] .colab-df-convert {\n",
              "      background-color: #3B4455;\n",
              "      fill: #D2E3FC;\n",
              "    }\n",
              "\n",
              "    [theme=dark] .colab-df-convert:hover {\n",
              "      background-color: #434B5C;\n",
              "      box-shadow: 0px 1px 3px 1px rgba(0, 0, 0, 0.15);\n",
              "      filter: drop-shadow(0px 1px 2px rgba(0, 0, 0, 0.3));\n",
              "      fill: #FFFFFF;\n",
              "    }\n",
              "  </style>\n",
              "\n",
              "      <script>\n",
              "        const buttonEl =\n",
              "          document.querySelector('#df-f78de6eb-4f33-4f72-b16c-0afb3c9692c1 button.colab-df-convert');\n",
              "        buttonEl.style.display =\n",
              "          google.colab.kernel.accessAllowed ? 'block' : 'none';\n",
              "\n",
              "        async function convertToInteractive(key) {\n",
              "          const element = document.querySelector('#df-f78de6eb-4f33-4f72-b16c-0afb3c9692c1');\n",
              "          const dataTable =\n",
              "            await google.colab.kernel.invokeFunction('convertToInteractive',\n",
              "                                                     [key], {});\n",
              "          if (!dataTable) return;\n",
              "\n",
              "          const docLinkHtml = 'Like what you see? Visit the ' +\n",
              "            '<a target=\"_blank\" href=https://colab.research.google.com/notebooks/data_table.ipynb>data table notebook</a>'\n",
              "            + ' to learn more about interactive tables.';\n",
              "          element.innerHTML = '';\n",
              "          dataTable['output_type'] = 'display_data';\n",
              "          await google.colab.output.renderOutput(dataTable, element);\n",
              "          const docLink = document.createElement('div');\n",
              "          docLink.innerHTML = docLinkHtml;\n",
              "          element.appendChild(docLink);\n",
              "        }\n",
              "      </script>\n",
              "    </div>\n",
              "  </div>\n",
              "  "
            ]
          },
          "metadata": {},
          "execution_count": 2020
        }
      ]
    },
    {
      "cell_type": "markdown",
      "source": [
        "Agrupamos los restaurantes por el rating"
      ],
      "metadata": {
        "id": "1AsluEVm3nN7"
      }
    },
    {
      "cell_type": "code",
      "source": [
        "df.groupby('name').count().sort_values(by='rating', ascending=False)"
      ],
      "metadata": {
        "colab": {
          "base_uri": "https://localhost:8080/",
          "height": 455
        },
        "id": "y0mp9WhNvd6D",
        "outputId": "d995ee9b-ae8c-450b-dfd4-8780173caf7f"
      },
      "execution_count": 2021,
      "outputs": [
        {
          "output_type": "execute_result",
          "data": {
            "text/plain": [
              "                                    userID  rating  placeID\n",
              "name                                                       \n",
              "Tortas Locas Hipocampo                  36      36       36\n",
              "puesto de tacos                         32      32       32\n",
              "Cafeteria y Restaurant El Pacifico      28      28       28\n",
              "La Cantina Restaurante                  25      25       25\n",
              "Gorditas Doa Gloria                     25      25       25\n",
              "...                                    ...     ...      ...\n",
              "Los Vikingos                             3       3        3\n",
              "Mikasa                                   3       3        3\n",
              "Rincon del Bife                          3       3        3\n",
              "TACOS EL GUERO                           3       3        3\n",
              "Arrachela Grill                          3       3        3\n",
              "\n",
              "[129 rows x 3 columns]"
            ],
            "text/html": [
              "\n",
              "  <div id=\"df-11b031ee-78a3-4712-ab29-d80d2445f2f5\">\n",
              "    <div class=\"colab-df-container\">\n",
              "      <div>\n",
              "<style scoped>\n",
              "    .dataframe tbody tr th:only-of-type {\n",
              "        vertical-align: middle;\n",
              "    }\n",
              "\n",
              "    .dataframe tbody tr th {\n",
              "        vertical-align: top;\n",
              "    }\n",
              "\n",
              "    .dataframe thead th {\n",
              "        text-align: right;\n",
              "    }\n",
              "</style>\n",
              "<table border=\"1\" class=\"dataframe\">\n",
              "  <thead>\n",
              "    <tr style=\"text-align: right;\">\n",
              "      <th></th>\n",
              "      <th>userID</th>\n",
              "      <th>rating</th>\n",
              "      <th>placeID</th>\n",
              "    </tr>\n",
              "    <tr>\n",
              "      <th>name</th>\n",
              "      <th></th>\n",
              "      <th></th>\n",
              "      <th></th>\n",
              "    </tr>\n",
              "  </thead>\n",
              "  <tbody>\n",
              "    <tr>\n",
              "      <th>Tortas Locas Hipocampo</th>\n",
              "      <td>36</td>\n",
              "      <td>36</td>\n",
              "      <td>36</td>\n",
              "    </tr>\n",
              "    <tr>\n",
              "      <th>puesto de tacos</th>\n",
              "      <td>32</td>\n",
              "      <td>32</td>\n",
              "      <td>32</td>\n",
              "    </tr>\n",
              "    <tr>\n",
              "      <th>Cafeteria y Restaurant El Pacifico</th>\n",
              "      <td>28</td>\n",
              "      <td>28</td>\n",
              "      <td>28</td>\n",
              "    </tr>\n",
              "    <tr>\n",
              "      <th>La Cantina Restaurante</th>\n",
              "      <td>25</td>\n",
              "      <td>25</td>\n",
              "      <td>25</td>\n",
              "    </tr>\n",
              "    <tr>\n",
              "      <th>Gorditas Doa Gloria</th>\n",
              "      <td>25</td>\n",
              "      <td>25</td>\n",
              "      <td>25</td>\n",
              "    </tr>\n",
              "    <tr>\n",
              "      <th>...</th>\n",
              "      <td>...</td>\n",
              "      <td>...</td>\n",
              "      <td>...</td>\n",
              "    </tr>\n",
              "    <tr>\n",
              "      <th>Los Vikingos</th>\n",
              "      <td>3</td>\n",
              "      <td>3</td>\n",
              "      <td>3</td>\n",
              "    </tr>\n",
              "    <tr>\n",
              "      <th>Mikasa</th>\n",
              "      <td>3</td>\n",
              "      <td>3</td>\n",
              "      <td>3</td>\n",
              "    </tr>\n",
              "    <tr>\n",
              "      <th>Rincon del Bife</th>\n",
              "      <td>3</td>\n",
              "      <td>3</td>\n",
              "      <td>3</td>\n",
              "    </tr>\n",
              "    <tr>\n",
              "      <th>TACOS EL GUERO</th>\n",
              "      <td>3</td>\n",
              "      <td>3</td>\n",
              "      <td>3</td>\n",
              "    </tr>\n",
              "    <tr>\n",
              "      <th>Arrachela Grill</th>\n",
              "      <td>3</td>\n",
              "      <td>3</td>\n",
              "      <td>3</td>\n",
              "    </tr>\n",
              "  </tbody>\n",
              "</table>\n",
              "<p>129 rows × 3 columns</p>\n",
              "</div>\n",
              "      <button class=\"colab-df-convert\" onclick=\"convertToInteractive('df-11b031ee-78a3-4712-ab29-d80d2445f2f5')\"\n",
              "              title=\"Convert this dataframe to an interactive table.\"\n",
              "              style=\"display:none;\">\n",
              "        \n",
              "  <svg xmlns=\"http://www.w3.org/2000/svg\" height=\"24px\"viewBox=\"0 0 24 24\"\n",
              "       width=\"24px\">\n",
              "    <path d=\"M0 0h24v24H0V0z\" fill=\"none\"/>\n",
              "    <path d=\"M18.56 5.44l.94 2.06.94-2.06 2.06-.94-2.06-.94-.94-2.06-.94 2.06-2.06.94zm-11 1L8.5 8.5l.94-2.06 2.06-.94-2.06-.94L8.5 2.5l-.94 2.06-2.06.94zm10 10l.94 2.06.94-2.06 2.06-.94-2.06-.94-.94-2.06-.94 2.06-2.06.94z\"/><path d=\"M17.41 7.96l-1.37-1.37c-.4-.4-.92-.59-1.43-.59-.52 0-1.04.2-1.43.59L10.3 9.45l-7.72 7.72c-.78.78-.78 2.05 0 2.83L4 21.41c.39.39.9.59 1.41.59.51 0 1.02-.2 1.41-.59l7.78-7.78 2.81-2.81c.8-.78.8-2.07 0-2.86zM5.41 20L4 18.59l7.72-7.72 1.47 1.35L5.41 20z\"/>\n",
              "  </svg>\n",
              "      </button>\n",
              "      \n",
              "  <style>\n",
              "    .colab-df-container {\n",
              "      display:flex;\n",
              "      flex-wrap:wrap;\n",
              "      gap: 12px;\n",
              "    }\n",
              "\n",
              "    .colab-df-convert {\n",
              "      background-color: #E8F0FE;\n",
              "      border: none;\n",
              "      border-radius: 50%;\n",
              "      cursor: pointer;\n",
              "      display: none;\n",
              "      fill: #1967D2;\n",
              "      height: 32px;\n",
              "      padding: 0 0 0 0;\n",
              "      width: 32px;\n",
              "    }\n",
              "\n",
              "    .colab-df-convert:hover {\n",
              "      background-color: #E2EBFA;\n",
              "      box-shadow: 0px 1px 2px rgba(60, 64, 67, 0.3), 0px 1px 3px 1px rgba(60, 64, 67, 0.15);\n",
              "      fill: #174EA6;\n",
              "    }\n",
              "\n",
              "    [theme=dark] .colab-df-convert {\n",
              "      background-color: #3B4455;\n",
              "      fill: #D2E3FC;\n",
              "    }\n",
              "\n",
              "    [theme=dark] .colab-df-convert:hover {\n",
              "      background-color: #434B5C;\n",
              "      box-shadow: 0px 1px 3px 1px rgba(0, 0, 0, 0.15);\n",
              "      filter: drop-shadow(0px 1px 2px rgba(0, 0, 0, 0.3));\n",
              "      fill: #FFFFFF;\n",
              "    }\n",
              "  </style>\n",
              "\n",
              "      <script>\n",
              "        const buttonEl =\n",
              "          document.querySelector('#df-11b031ee-78a3-4712-ab29-d80d2445f2f5 button.colab-df-convert');\n",
              "        buttonEl.style.display =\n",
              "          google.colab.kernel.accessAllowed ? 'block' : 'none';\n",
              "\n",
              "        async function convertToInteractive(key) {\n",
              "          const element = document.querySelector('#df-11b031ee-78a3-4712-ab29-d80d2445f2f5');\n",
              "          const dataTable =\n",
              "            await google.colab.kernel.invokeFunction('convertToInteractive',\n",
              "                                                     [key], {});\n",
              "          if (!dataTable) return;\n",
              "\n",
              "          const docLinkHtml = 'Like what you see? Visit the ' +\n",
              "            '<a target=\"_blank\" href=https://colab.research.google.com/notebooks/data_table.ipynb>data table notebook</a>'\n",
              "            + ' to learn more about interactive tables.';\n",
              "          element.innerHTML = '';\n",
              "          dataTable['output_type'] = 'display_data';\n",
              "          await google.colab.output.renderOutput(dataTable, element);\n",
              "          const docLink = document.createElement('div');\n",
              "          docLink.innerHTML = docLinkHtml;\n",
              "          element.appendChild(docLink);\n",
              "        }\n",
              "      </script>\n",
              "    </div>\n",
              "  </div>\n",
              "  "
            ]
          },
          "metadata": {},
          "execution_count": 2021
        }
      ]
    },
    {
      "cell_type": "markdown",
      "source": [
        "Mostramos los datos de Subway en base al rating"
      ],
      "metadata": {
        "id": "d-kupgj24eIx"
      }
    },
    {
      "cell_type": "code",
      "source": [
        "_ = df.groupby('name').count().sort_values(by='rating').copy()\n",
        "_[_.index == 'Subway']"
      ],
      "metadata": {
        "colab": {
          "base_uri": "https://localhost:8080/",
          "height": 112
        },
        "id": "NObkWOAvuWYq",
        "outputId": "98c661b9-e1aa-4d11-9c0e-e8967435995f"
      },
      "execution_count": 2022,
      "outputs": [
        {
          "output_type": "execute_result",
          "data": {
            "text/plain": [
              "        userID  rating  placeID\n",
              "name                           \n",
              "Subway       9       9        9"
            ],
            "text/html": [
              "\n",
              "  <div id=\"df-a504a84c-dbdb-4f45-b5fd-30380fe40804\">\n",
              "    <div class=\"colab-df-container\">\n",
              "      <div>\n",
              "<style scoped>\n",
              "    .dataframe tbody tr th:only-of-type {\n",
              "        vertical-align: middle;\n",
              "    }\n",
              "\n",
              "    .dataframe tbody tr th {\n",
              "        vertical-align: top;\n",
              "    }\n",
              "\n",
              "    .dataframe thead th {\n",
              "        text-align: right;\n",
              "    }\n",
              "</style>\n",
              "<table border=\"1\" class=\"dataframe\">\n",
              "  <thead>\n",
              "    <tr style=\"text-align: right;\">\n",
              "      <th></th>\n",
              "      <th>userID</th>\n",
              "      <th>rating</th>\n",
              "      <th>placeID</th>\n",
              "    </tr>\n",
              "    <tr>\n",
              "      <th>name</th>\n",
              "      <th></th>\n",
              "      <th></th>\n",
              "      <th></th>\n",
              "    </tr>\n",
              "  </thead>\n",
              "  <tbody>\n",
              "    <tr>\n",
              "      <th>Subway</th>\n",
              "      <td>9</td>\n",
              "      <td>9</td>\n",
              "      <td>9</td>\n",
              "    </tr>\n",
              "  </tbody>\n",
              "</table>\n",
              "</div>\n",
              "      <button class=\"colab-df-convert\" onclick=\"convertToInteractive('df-a504a84c-dbdb-4f45-b5fd-30380fe40804')\"\n",
              "              title=\"Convert this dataframe to an interactive table.\"\n",
              "              style=\"display:none;\">\n",
              "        \n",
              "  <svg xmlns=\"http://www.w3.org/2000/svg\" height=\"24px\"viewBox=\"0 0 24 24\"\n",
              "       width=\"24px\">\n",
              "    <path d=\"M0 0h24v24H0V0z\" fill=\"none\"/>\n",
              "    <path d=\"M18.56 5.44l.94 2.06.94-2.06 2.06-.94-2.06-.94-.94-2.06-.94 2.06-2.06.94zm-11 1L8.5 8.5l.94-2.06 2.06-.94-2.06-.94L8.5 2.5l-.94 2.06-2.06.94zm10 10l.94 2.06.94-2.06 2.06-.94-2.06-.94-.94-2.06-.94 2.06-2.06.94z\"/><path d=\"M17.41 7.96l-1.37-1.37c-.4-.4-.92-.59-1.43-.59-.52 0-1.04.2-1.43.59L10.3 9.45l-7.72 7.72c-.78.78-.78 2.05 0 2.83L4 21.41c.39.39.9.59 1.41.59.51 0 1.02-.2 1.41-.59l7.78-7.78 2.81-2.81c.8-.78.8-2.07 0-2.86zM5.41 20L4 18.59l7.72-7.72 1.47 1.35L5.41 20z\"/>\n",
              "  </svg>\n",
              "      </button>\n",
              "      \n",
              "  <style>\n",
              "    .colab-df-container {\n",
              "      display:flex;\n",
              "      flex-wrap:wrap;\n",
              "      gap: 12px;\n",
              "    }\n",
              "\n",
              "    .colab-df-convert {\n",
              "      background-color: #E8F0FE;\n",
              "      border: none;\n",
              "      border-radius: 50%;\n",
              "      cursor: pointer;\n",
              "      display: none;\n",
              "      fill: #1967D2;\n",
              "      height: 32px;\n",
              "      padding: 0 0 0 0;\n",
              "      width: 32px;\n",
              "    }\n",
              "\n",
              "    .colab-df-convert:hover {\n",
              "      background-color: #E2EBFA;\n",
              "      box-shadow: 0px 1px 2px rgba(60, 64, 67, 0.3), 0px 1px 3px 1px rgba(60, 64, 67, 0.15);\n",
              "      fill: #174EA6;\n",
              "    }\n",
              "\n",
              "    [theme=dark] .colab-df-convert {\n",
              "      background-color: #3B4455;\n",
              "      fill: #D2E3FC;\n",
              "    }\n",
              "\n",
              "    [theme=dark] .colab-df-convert:hover {\n",
              "      background-color: #434B5C;\n",
              "      box-shadow: 0px 1px 3px 1px rgba(0, 0, 0, 0.15);\n",
              "      filter: drop-shadow(0px 1px 2px rgba(0, 0, 0, 0.3));\n",
              "      fill: #FFFFFF;\n",
              "    }\n",
              "  </style>\n",
              "\n",
              "      <script>\n",
              "        const buttonEl =\n",
              "          document.querySelector('#df-a504a84c-dbdb-4f45-b5fd-30380fe40804 button.colab-df-convert');\n",
              "        buttonEl.style.display =\n",
              "          google.colab.kernel.accessAllowed ? 'block' : 'none';\n",
              "\n",
              "        async function convertToInteractive(key) {\n",
              "          const element = document.querySelector('#df-a504a84c-dbdb-4f45-b5fd-30380fe40804');\n",
              "          const dataTable =\n",
              "            await google.colab.kernel.invokeFunction('convertToInteractive',\n",
              "                                                     [key], {});\n",
              "          if (!dataTable) return;\n",
              "\n",
              "          const docLinkHtml = 'Like what you see? Visit the ' +\n",
              "            '<a target=\"_blank\" href=https://colab.research.google.com/notebooks/data_table.ipynb>data table notebook</a>'\n",
              "            + ' to learn more about interactive tables.';\n",
              "          element.innerHTML = '';\n",
              "          dataTable['output_type'] = 'display_data';\n",
              "          await google.colab.output.renderOutput(dataTable, element);\n",
              "          const docLink = document.createElement('div');\n",
              "          docLink.innerHTML = docLinkHtml;\n",
              "          element.appendChild(docLink);\n",
              "        }\n",
              "      </script>\n",
              "    </div>\n",
              "  </div>\n",
              "  "
            ]
          },
          "metadata": {},
          "execution_count": 2022
        }
      ]
    },
    {
      "cell_type": "markdown",
      "source": [
        "Mostramos la gráfica"
      ],
      "metadata": {
        "id": "uucGVqfX4is6"
      }
    },
    {
      "cell_type": "code",
      "source": [
        "plt.scatter(_.index, _.rating)"
      ],
      "metadata": {
        "colab": {
          "base_uri": "https://localhost:8080/",
          "height": 284
        },
        "id": "bKdcdz3DvpUw",
        "outputId": "2f36ba02-f514-41dd-90dd-a756a1702a29"
      },
      "execution_count": 2023,
      "outputs": [
        {
          "output_type": "execute_result",
          "data": {
            "text/plain": [
              "<matplotlib.collections.PathCollection at 0x7ff4b74eb550>"
            ]
          },
          "metadata": {},
          "execution_count": 2023
        },
        {
          "output_type": "display_data",
          "data": {
            "text/plain": [
              "<Figure size 432x288 with 1 Axes>"
            ],
            "image/png": "[encoded data removed]"
          },
          "metadata": {
            "needs_background": "light"
          }
        }
      ]
    },
    {
      "cell_type": "markdown",
      "source": [
        "Creamos la matriz de utilidad"
      ],
      "metadata": {
        "id": "MgFgDQLP4mU8"
      }
    },
    {
      "cell_type": "code",
      "source": [
        "UtMx = df.pivot_table(values='rating', index='userID', columns='name', fill_value=0)"
      ],
      "metadata": {
        "id": "7qkJqz5hNmWb"
      },
      "execution_count": 2024,
      "outputs": []
    },
    {
      "cell_type": "markdown",
      "source": [
        "Mostramos el tamaño de la matriz de utilidad"
      ],
      "metadata": {
        "id": "i1SkJYpiT4vh"
      }
    },
    {
      "cell_type": "code",
      "source": [
        "UtMx.shape"
      ],
      "metadata": {
        "colab": {
          "base_uri": "https://localhost:8080/"
        },
        "id": "IJaerWsjT4Ef",
        "outputId": "33ec2c5c-0c1d-429b-f35f-5c7c60363aa6"
      },
      "execution_count": 2025,
      "outputs": [
        {
          "output_type": "execute_result",
          "data": {
            "text/plain": [
              "(138, 129)"
            ]
          },
          "metadata": {},
          "execution_count": 2025
        }
      ]
    },
    {
      "cell_type": "markdown",
      "source": [
        "138 filas y 129 columnas"
      ],
      "metadata": {
        "id": "SR97RqZ6UMbt"
      }
    },
    {
      "cell_type": "markdown",
      "source": [
        "Desplegamos los primeros 10 renglones"
      ],
      "metadata": {
        "id": "9O5W5zKoT_wp"
      }
    },
    {
      "cell_type": "code",
      "source": [
        "UtMx.head(10)"
      ],
      "metadata": {
        "colab": {
          "base_uri": "https://localhost:8080/",
          "height": 557
        },
        "id": "2mScprzEUD3V",
        "outputId": "6478cabf-fddb-41ec-904f-b4e0457b8e60"
      },
      "execution_count": 2026,
      "outputs": [
        {
          "output_type": "execute_result",
          "data": {
            "text/plain": [
              "name    Abondance Restaurante Bar  Arrachela Grill  Cabana Huasteca  \\\n",
              "userID                                                                \n",
              "1001                            0                0                0   \n",
              "1002                            0                0                0   \n",
              "1003                            0                0                2   \n",
              "1004                            0                0                0   \n",
              "1005                            0                0                0   \n",
              "1006                            0                0                0   \n",
              "1007                            0                0                0   \n",
              "1008                            1                0                0   \n",
              "1009                            0                0                1   \n",
              "1010                            0                0                0   \n",
              "\n",
              "name    Cafe Chaires  Cafeteria cenidet  Cafeteria y Restaurant El Pacifico  \\\n",
              "userID                                                                        \n",
              "1001               0                  0                                   0   \n",
              "1002               0                  0                                   0   \n",
              "1003               0                  0                                   0   \n",
              "1004               0                  0                                   2   \n",
              "1005               0                  0                                   2   \n",
              "1006               1                  0                                   0   \n",
              "1007               1                  0                                   1   \n",
              "1008               0                  0                                   0   \n",
              "1009               0                  0                                   0   \n",
              "1010               0                  0                                   0   \n",
              "\n",
              "name    Carls Jr  Carnitas Mata  Calle 16 de Septiembre  \\\n",
              "userID                                                    \n",
              "1001           0                                      0   \n",
              "1002           0                                      0   \n",
              "1003           0                                      0   \n",
              "1004           0                                      0   \n",
              "1005           0                                      0   \n",
              "1006           0                                      0   \n",
              "1007           0                                      0   \n",
              "1008           0                                      0   \n",
              "1009           0                                      0   \n",
              "1010           0                                      0   \n",
              "\n",
              "name    Carreton de Flautas y Migadas  Cenaduria El RincÃ³n de Tlaquepaque  \\\n",
              "userID                                                                       \n",
              "1001                                0                                    0   \n",
              "1002                                0                                    0   \n",
              "1003                                0                                    0   \n",
              "1004                                0                                    0   \n",
              "1005                                0                                    0   \n",
              "1006                                0                                    0   \n",
              "1007                                0                                    0   \n",
              "1008                                0                                    0   \n",
              "1009                                0                                    0   \n",
              "1010                                0                                    0   \n",
              "\n",
              "name    ...  puesto de tacos  rockabilly   shi ro ie  sirloin stockade  \\\n",
              "userID  ...                                                              \n",
              "1001    ...                2            0          0                 0   \n",
              "1002    ...                2            0          0                 0   \n",
              "1003    ...                2            2          0                 0   \n",
              "1004    ...                0            0          0                 0   \n",
              "1005    ...                0            0          0                 0   \n",
              "1006    ...                1            0          2                 0   \n",
              "1007    ...                0            0          0                 0   \n",
              "1008    ...                0            0          0                 0   \n",
              "1009    ...                1            0          0                 0   \n",
              "1010    ...                0            0          0                 0   \n",
              "\n",
              "name    tacos abi  tacos de barbacoa enfrente del Tec  tacos de la estacion  \\\n",
              "userID                                                                        \n",
              "1001            0                                   0                     0   \n",
              "1002            0                                   0                     0   \n",
              "1003            0                                   0                     0   \n",
              "1004            0                                   0                     0   \n",
              "1005            0                                   0                     0   \n",
              "1006            0                                   0                     0   \n",
              "1007            0                                   0                     0   \n",
              "1008            0                                   0                     0   \n",
              "1009            0                                   0                     0   \n",
              "1010            0                                   0                     0   \n",
              "\n",
              "name    tacos los volcanes  tortas hawai  vips  \n",
              "userID                                          \n",
              "1001                     0             0     0  \n",
              "1002                     0             0     0  \n",
              "1003                     0             0     0  \n",
              "1004                     2             0     0  \n",
              "1005                     0             0     0  \n",
              "1006                     0             0     0  \n",
              "1007                     0             0     0  \n",
              "1008                     0             0     0  \n",
              "1009                     0             0     0  \n",
              "1010                     0             0     0  \n",
              "\n",
              "[10 rows x 129 columns]"
            ],
            "text/html": [
              "\n",
              "  <div id=\"df-8984caa9-6121-46e6-8e33-4da44700cca7\">\n",
              "    <div class=\"colab-df-container\">\n",
              "      <div>\n",
              "<style scoped>\n",
              "    .dataframe tbody tr th:only-of-type {\n",
              "        vertical-align: middle;\n",
              "    }\n",
              "\n",
              "    .dataframe tbody tr th {\n",
              "        vertical-align: top;\n",
              "    }\n",
              "\n",
              "    .dataframe thead th {\n",
              "        text-align: right;\n",
              "    }\n",
              "</style>\n",
              "<table border=\"1\" class=\"dataframe\">\n",
              "  <thead>\n",
              "    <tr style=\"text-align: right;\">\n",
              "      <th>name</th>\n",
              "      <th>Abondance Restaurante Bar</th>\n",
              "      <th>Arrachela Grill</th>\n",
              "      <th>Cabana Huasteca</th>\n",
              "      <th>Cafe Chaires</th>\n",
              "      <th>Cafeteria cenidet</th>\n",
              "      <th>Cafeteria y Restaurant El Pacifico</th>\n",
              "      <th>Carls Jr</th>\n",
              "      <th>Carnitas Mata  Calle 16 de Septiembre</th>\n",
              "      <th>Carreton de Flautas y Migadas</th>\n",
              "      <th>Cenaduria El RincÃ³n de Tlaquepaque</th>\n",
              "      <th>...</th>\n",
              "      <th>puesto de tacos</th>\n",
              "      <th>rockabilly</th>\n",
              "      <th>shi ro ie</th>\n",
              "      <th>sirloin stockade</th>\n",
              "      <th>tacos abi</th>\n",
              "      <th>tacos de barbacoa enfrente del Tec</th>\n",
              "      <th>tacos de la estacion</th>\n",
              "      <th>tacos los volcanes</th>\n",
              "      <th>tortas hawai</th>\n",
              "      <th>vips</th>\n",
              "    </tr>\n",
              "    <tr>\n",
              "      <th>userID</th>\n",
              "      <th></th>\n",
              "      <th></th>\n",
              "      <th></th>\n",
              "      <th></th>\n",
              "      <th></th>\n",
              "      <th></th>\n",
              "      <th></th>\n",
              "      <th></th>\n",
              "      <th></th>\n",
              "      <th></th>\n",
              "      <th></th>\n",
              "      <th></th>\n",
              "      <th></th>\n",
              "      <th></th>\n",
              "      <th></th>\n",
              "      <th></th>\n",
              "      <th></th>\n",
              "      <th></th>\n",
              "      <th></th>\n",
              "      <th></th>\n",
              "      <th></th>\n",
              "    </tr>\n",
              "  </thead>\n",
              "  <tbody>\n",
              "    <tr>\n",
              "      <th>1001</th>\n",
              "      <td>0</td>\n",
              "      <td>0</td>\n",
              "      <td>0</td>\n",
              "      <td>0</td>\n",
              "      <td>0</td>\n",
              "      <td>0</td>\n",
              "      <td>0</td>\n",
              "      <td>0</td>\n",
              "      <td>0</td>\n",
              "      <td>0</td>\n",
              "      <td>...</td>\n",
              "      <td>2</td>\n",
              "      <td>0</td>\n",
              "      <td>0</td>\n",
              "      <td>0</td>\n",
              "      <td>0</td>\n",
              "      <td>0</td>\n",
              "      <td>0</td>\n",
              "      <td>0</td>\n",
              "      <td>0</td>\n",
              "      <td>0</td>\n",
              "    </tr>\n",
              "    <tr>\n",
              "      <th>1002</th>\n",
              "      <td>0</td>\n",
              "      <td>0</td>\n",
              "      <td>0</td>\n",
              "      <td>0</td>\n",
              "      <td>0</td>\n",
              "      <td>0</td>\n",
              "      <td>0</td>\n",
              "      <td>0</td>\n",
              "      <td>0</td>\n",
              "      <td>0</td>\n",
              "      <td>...</td>\n",
              "      <td>2</td>\n",
              "      <td>0</td>\n",
              "      <td>0</td>\n",
              "      <td>0</td>\n",
              "      <td>0</td>\n",
              "      <td>0</td>\n",
              "      <td>0</td>\n",
              "      <td>0</td>\n",
              "      <td>0</td>\n",
              "      <td>0</td>\n",
              "    </tr>\n",
              "    <tr>\n",
              "      <th>1003</th>\n",
              "      <td>0</td>\n",
              "      <td>0</td>\n",
              "      <td>2</td>\n",
              "      <td>0</td>\n",
              "      <td>0</td>\n",
              "      <td>0</td>\n",
              "      <td>0</td>\n",
              "      <td>0</td>\n",
              "      <td>0</td>\n",
              "      <td>0</td>\n",
              "      <td>...</td>\n",
              "      <td>2</td>\n",
              "      <td>2</td>\n",
              "      <td>0</td>\n",
              "      <td>0</td>\n",
              "      <td>0</td>\n",
              "      <td>0</td>\n",
              "      <td>0</td>\n",
              "      <td>0</td>\n",
              "      <td>0</td>\n",
              "      <td>0</td>\n",
              "    </tr>\n",
              "    <tr>\n",
              "      <th>1004</th>\n",
              "      <td>0</td>\n",
              "      <td>0</td>\n",
              "      <td>0</td>\n",
              "      <td>0</td>\n",
              "      <td>0</td>\n",
              "      <td>2</td>\n",
              "      <td>0</td>\n",
              "      <td>0</td>\n",
              "      <td>0</td>\n",
              "      <td>0</td>\n",
              "      <td>...</td>\n",
              "      <td>0</td>\n",
              "      <td>0</td>\n",
              "      <td>0</td>\n",
              "      <td>0</td>\n",
              "      <td>0</td>\n",
              "      <td>0</td>\n",
              "      <td>0</td>\n",
              "      <td>2</td>\n",
              "      <td>0</td>\n",
              "      <td>0</td>\n",
              "    </tr>\n",
              "    <tr>\n",
              "      <th>1005</th>\n",
              "      <td>0</td>\n",
              "      <td>0</td>\n",
              "      <td>0</td>\n",
              "      <td>0</td>\n",
              "      <td>0</td>\n",
              "      <td>2</td>\n",
              "      <td>0</td>\n",
              "      <td>0</td>\n",
              "      <td>0</td>\n",
              "      <td>0</td>\n",
              "      <td>...</td>\n",
              "      <td>0</td>\n",
              "      <td>0</td>\n",
              "      <td>0</td>\n",
              "      <td>0</td>\n",
              "      <td>0</td>\n",
              "      <td>0</td>\n",
              "      <td>0</td>\n",
              "      <td>0</td>\n",
              "      <td>0</td>\n",
              "      <td>0</td>\n",
              "    </tr>\n",
              "    <tr>\n",
              "      <th>1006</th>\n",
              "      <td>0</td>\n",
              "      <td>0</td>\n",
              "      <td>0</td>\n",
              "      <td>1</td>\n",
              "      <td>0</td>\n",
              "      <td>0</td>\n",
              "      <td>0</td>\n",
              "      <td>0</td>\n",
              "      <td>0</td>\n",
              "      <td>0</td>\n",
              "      <td>...</td>\n",
              "      <td>1</td>\n",
              "      <td>0</td>\n",
              "      <td>2</td>\n",
              "      <td>0</td>\n",
              "      <td>0</td>\n",
              "      <td>0</td>\n",
              "      <td>0</td>\n",
              "      <td>0</td>\n",
              "      <td>0</td>\n",
              "      <td>0</td>\n",
              "    </tr>\n",
              "    <tr>\n",
              "      <th>1007</th>\n",
              "      <td>0</td>\n",
              "      <td>0</td>\n",
              "      <td>0</td>\n",
              "      <td>1</td>\n",
              "      <td>0</td>\n",
              "      <td>1</td>\n",
              "      <td>0</td>\n",
              "      <td>0</td>\n",
              "      <td>0</td>\n",
              "      <td>0</td>\n",
              "      <td>...</td>\n",
              "      <td>0</td>\n",
              "      <td>0</td>\n",
              "      <td>0</td>\n",
              "      <td>0</td>\n",
              "      <td>0</td>\n",
              "      <td>0</td>\n",
              "      <td>0</td>\n",
              "      <td>0</td>\n",
              "      <td>0</td>\n",
              "      <td>0</td>\n",
              "    </tr>\n",
              "    <tr>\n",
              "      <th>1008</th>\n",
              "      <td>1</td>\n",
              "      <td>0</td>\n",
              "      <td>0</td>\n",
              "      <td>0</td>\n",
              "      <td>0</td>\n",
              "      <td>0</td>\n",
              "      <td>0</td>\n",
              "      <td>0</td>\n",
              "      <td>0</td>\n",
              "      <td>0</td>\n",
              "      <td>...</td>\n",
              "      <td>0</td>\n",
              "      <td>0</td>\n",
              "      <td>0</td>\n",
              "      <td>0</td>\n",
              "      <td>0</td>\n",
              "      <td>0</td>\n",
              "      <td>0</td>\n",
              "      <td>0</td>\n",
              "      <td>0</td>\n",
              "      <td>0</td>\n",
              "    </tr>\n",
              "    <tr>\n",
              "      <th>1009</th>\n",
              "      <td>0</td>\n",
              "      <td>0</td>\n",
              "      <td>1</td>\n",
              "      <td>0</td>\n",
              "      <td>0</td>\n",
              "      <td>0</td>\n",
              "      <td>0</td>\n",
              "      <td>0</td>\n",
              "      <td>0</td>\n",
              "      <td>0</td>\n",
              "      <td>...</td>\n",
              "      <td>1</td>\n",
              "      <td>0</td>\n",
              "      <td>0</td>\n",
              "      <td>0</td>\n",
              "      <td>0</td>\n",
              "      <td>0</td>\n",
              "      <td>0</td>\n",
              "      <td>0</td>\n",
              "      <td>0</td>\n",
              "      <td>0</td>\n",
              "    </tr>\n",
              "    <tr>\n",
              "      <th>1010</th>\n",
              "      <td>0</td>\n",
              "      <td>0</td>\n",
              "      <td>0</td>\n",
              "      <td>0</td>\n",
              "      <td>0</td>\n",
              "      <td>0</td>\n",
              "      <td>0</td>\n",
              "      <td>0</td>\n",
              "      <td>0</td>\n",
              "      <td>0</td>\n",
              "      <td>...</td>\n",
              "      <td>0</td>\n",
              "      <td>0</td>\n",
              "      <td>0</td>\n",
              "      <td>0</td>\n",
              "      <td>0</td>\n",
              "      <td>0</td>\n",
              "      <td>0</td>\n",
              "      <td>0</td>\n",
              "      <td>0</td>\n",
              "      <td>0</td>\n",
              "    </tr>\n",
              "  </tbody>\n",
              "</table>\n",
              "<p>10 rows × 129 columns</p>\n",
              "</div>\n",
              "      <button class=\"colab-df-convert\" onclick=\"convertToInteractive('df-8984caa9-6121-46e6-8e33-4da44700cca7')\"\n",
              "              title=\"Convert this dataframe to an interactive table.\"\n",
              "              style=\"display:none;\">\n",
              "        \n",
              "  <svg xmlns=\"http://www.w3.org/2000/svg\" height=\"24px\"viewBox=\"0 0 24 24\"\n",
              "       width=\"24px\">\n",
              "    <path d=\"M0 0h24v24H0V0z\" fill=\"none\"/>\n",
              "    <path d=\"M18.56 5.44l.94 2.06.94-2.06 2.06-.94-2.06-.94-.94-2.06-.94 2.06-2.06.94zm-11 1L8.5 8.5l.94-2.06 2.06-.94-2.06-.94L8.5 2.5l-.94 2.06-2.06.94zm10 10l.94 2.06.94-2.06 2.06-.94-2.06-.94-.94-2.06-.94 2.06-2.06.94z\"/><path d=\"M17.41 7.96l-1.37-1.37c-.4-.4-.92-.59-1.43-.59-.52 0-1.04.2-1.43.59L10.3 9.45l-7.72 7.72c-.78.78-.78 2.05 0 2.83L4 21.41c.39.39.9.59 1.41.59.51 0 1.02-.2 1.41-.59l7.78-7.78 2.81-2.81c.8-.78.8-2.07 0-2.86zM5.41 20L4 18.59l7.72-7.72 1.47 1.35L5.41 20z\"/>\n",
              "  </svg>\n",
              "      </button>\n",
              "      \n",
              "  <style>\n",
              "    .colab-df-container {\n",
              "      display:flex;\n",
              "      flex-wrap:wrap;\n",
              "      gap: 12px;\n",
              "    }\n",
              "\n",
              "    .colab-df-convert {\n",
              "      background-color: #E8F0FE;\n",
              "      border: none;\n",
              "      border-radius: 50%;\n",
              "      cursor: pointer;\n",
              "      display: none;\n",
              "      fill: #1967D2;\n",
              "      height: 32px;\n",
              "      padding: 0 0 0 0;\n",
              "      width: 32px;\n",
              "    }\n",
              "\n",
              "    .colab-df-convert:hover {\n",
              "      background-color: #E2EBFA;\n",
              "      box-shadow: 0px 1px 2px rgba(60, 64, 67, 0.3), 0px 1px 3px 1px rgba(60, 64, 67, 0.15);\n",
              "      fill: #174EA6;\n",
              "    }\n",
              "\n",
              "    [theme=dark] .colab-df-convert {\n",
              "      background-color: #3B4455;\n",
              "      fill: #D2E3FC;\n",
              "    }\n",
              "\n",
              "    [theme=dark] .colab-df-convert:hover {\n",
              "      background-color: #434B5C;\n",
              "      box-shadow: 0px 1px 3px 1px rgba(0, 0, 0, 0.15);\n",
              "      filter: drop-shadow(0px 1px 2px rgba(0, 0, 0, 0.3));\n",
              "      fill: #FFFFFF;\n",
              "    }\n",
              "  </style>\n",
              "\n",
              "      <script>\n",
              "        const buttonEl =\n",
              "          document.querySelector('#df-8984caa9-6121-46e6-8e33-4da44700cca7 button.colab-df-convert');\n",
              "        buttonEl.style.display =\n",
              "          google.colab.kernel.accessAllowed ? 'block' : 'none';\n",
              "\n",
              "        async function convertToInteractive(key) {\n",
              "          const element = document.querySelector('#df-8984caa9-6121-46e6-8e33-4da44700cca7');\n",
              "          const dataTable =\n",
              "            await google.colab.kernel.invokeFunction('convertToInteractive',\n",
              "                                                     [key], {});\n",
              "          if (!dataTable) return;\n",
              "\n",
              "          const docLinkHtml = 'Like what you see? Visit the ' +\n",
              "            '<a target=\"_blank\" href=https://colab.research.google.com/notebooks/data_table.ipynb>data table notebook</a>'\n",
              "            + ' to learn more about interactive tables.';\n",
              "          element.innerHTML = '';\n",
              "          dataTable['output_type'] = 'display_data';\n",
              "          await google.colab.output.renderOutput(dataTable, element);\n",
              "          const docLink = document.createElement('div');\n",
              "          docLink.innerHTML = docLinkHtml;\n",
              "          element.appendChild(docLink);\n",
              "        }\n",
              "      </script>\n",
              "    </div>\n",
              "  </div>\n",
              "  "
            ]
          },
          "metadata": {},
          "execution_count": 2026
        }
      ]
    },
    {
      "cell_type": "markdown",
      "source": [
        "Obtenemos la correlación"
      ],
      "metadata": {
        "id": "lL4zIvCC4z7j"
      }
    },
    {
      "cell_type": "code",
      "source": [
        "corr = UtMx.corr()"
      ],
      "metadata": {
        "id": "_4IPegUHwDdp"
      },
      "execution_count": 2027,
      "outputs": []
    },
    {
      "cell_type": "markdown",
      "source": [
        "Visualizamos la información de la matriz de la utilidad"
      ],
      "metadata": {
        "id": "kYE1re8q45bt"
      }
    },
    {
      "cell_type": "code",
      "source": [
        "print('Total de elementos de la matriz de utilidad: %d' % (UtMx.size))\n",
        "print('Total de elementos diferentes de cero: %d' % (np.count_nonzero(UtMx)))\n",
        "print('Porcentaje de elementos diferentes de cero: %.1f%%' % (100 * np.count_nonzero(UtMx) / UtMx.size))"
      ],
      "metadata": {
        "colab": {
          "base_uri": "https://localhost:8080/"
        },
        "id": "5LCiS7v0UlEO",
        "outputId": "8e8b8892-b082-42c6-c883-99fe24565b67"
      },
      "execution_count": 2028,
      "outputs": [
        {
          "output_type": "stream",
          "name": "stdout",
          "text": [
            "Total de elementos de la matriz de utilidad: 17802\n",
            "Total de elementos diferentes de cero: 907\n",
            "Porcentaje de elementos diferentes de cero: 5.1%\n"
          ]
        }
      ]
    },
    {
      "cell_type": "markdown",
      "source": [
        "Mostramos el tamaño de la matriz de utilidad"
      ],
      "metadata": {
        "id": "nTWAfAPd5ujN"
      }
    },
    {
      "cell_type": "code",
      "source": [
        "UtMx.shape"
      ],
      "metadata": {
        "colab": {
          "base_uri": "https://localhost:8080/"
        },
        "id": "Vlc7yB4eyvtY",
        "outputId": "622cef14-5e96-4d7e-c869-4ce4582074fa"
      },
      "execution_count": 2029,
      "outputs": [
        {
          "output_type": "execute_result",
          "data": {
            "text/plain": [
              "(138, 129)"
            ]
          },
          "metadata": {},
          "execution_count": 2029
        }
      ]
    },
    {
      "cell_type": "markdown",
      "source": [
        "Obtenemos las correlaciones de los restaurantes con Subway"
      ],
      "metadata": {
        "id": "Sfpbjk8u54V-"
      }
    },
    {
      "cell_type": "code",
      "source": [
        "corr_x = corr[corr.index== 'Subway'].T.sort_values(by='Subway', ascending=False)['Subway']\n",
        "plt.scatter(range(len(corr_x)), corr_x)"
      ],
      "metadata": {
        "colab": {
          "base_uri": "https://localhost:8080/",
          "height": 282
        },
        "id": "h8QepC8fzA53",
        "outputId": "3007f1b6-44bb-4366-8edf-9322e513fbcc"
      },
      "execution_count": 2030,
      "outputs": [
        {
          "output_type": "execute_result",
          "data": {
            "text/plain": [
              "<matplotlib.collections.PathCollection at 0x7ff4b65befd0>"
            ]
          },
          "metadata": {},
          "execution_count": 2030
        },
        {
          "output_type": "display_data",
          "data": {
            "text/plain": [
              "<Figure size 432x288 with 1 Axes>"
            ],
            "image/png": "[encoded data removed]"
          },
          "metadata": {
            "needs_background": "light"
          }
        }
      ]
    },
    {
      "cell_type": "markdown",
      "source": [
        "#**Ejercicio-2.**\n",
        "Con el objetivo de obtener la información con respecto a los vectores latentes de los restaurantes, \n",
        "obtener dicha factorización SVD utilizando todas las componentes posibles, es decir, usando todos \n",
        "sus valores singulares. En particular indica la cantidad de valores singulares obtenidos. "
      ],
      "metadata": {
        "id": "xZhr2hkECzVv"
      }
    },
    {
      "cell_type": "code",
      "source": [
        "X = UtMx.T \n",
        "X.shape"
      ],
      "metadata": {
        "id": "kGfAoOPkC1PP",
        "colab": {
          "base_uri": "https://localhost:8080/"
        },
        "outputId": "321bf412-ddae-4e44-f064-01ddc3057124"
      },
      "execution_count": 2031,
      "outputs": [
        {
          "output_type": "execute_result",
          "data": {
            "text/plain": [
              "(129, 138)"
            ]
          },
          "metadata": {},
          "execution_count": 2031
        }
      ]
    },
    {
      "cell_type": "markdown",
      "source": [
        "Para determinar la cantidad de vectores singulares necesarios para obtener el 90% de la información."
      ],
      "metadata": {
        "id": "mRoNZD2-bOZW"
      }
    },
    {
      "cell_type": "code",
      "source": [
        "import matplotlib.pyplot as plt\n",
        "SVD = TruncatedSVD(n_components=137, random_state=1)  \n",
        "SVD.fit(X)\n",
        "cantidadList = []\n",
        "for i in range(136):\n",
        "  num_sv = i  \n",
        "  cantidad = (100 * (1- (SVD.singular_values_[0:num_sv]).sum() / (SVD.singular_values_).sum()))\n",
        "  cantidadList.append(cantidad)\n",
        "plt.scatter(range(136), cantidadList)\n",
        "plt.show()\n",
        "roll1 = np.cumsum(SVD.singular_values_)\n",
        "plt.scatter(range(len(SVD.singular_values_)), SVD.singular_values_)\n",
        "plt.show()\n",
        "plt.scatter(range(len(roll1)), roll1)\n",
        "plt.show()\n",
        "roll2 = np.cumsum(SVD.explained_variance_)\n",
        "plt.scatter(range(len(SVD.explained_variance_)), SVD.explained_variance_)\n",
        "plt.show()\n",
        "plt.scatter(range(len(roll2)), roll2)\n",
        "plt.show()\n",
        "roll3 = np.cumsum(SVD.explained_variance_ratio_)\n",
        "plt.scatter(range(len(SVD.explained_variance_ratio_)), SVD.explained_variance_ratio_)\n",
        "plt.show()\n",
        "plt.scatter(range(len(roll3)), roll3)\n",
        "plt.show()"
      ],
      "metadata": {
        "colab": {
          "base_uri": "https://localhost:8080/",
          "height": 1000
        },
        "id": "0-ZkxdMfZdH2",
        "outputId": "25779b51-d9be-4c00-9a42-6b4fa01479c7"
      },
      "execution_count": 2032,
      "outputs": [
        {
          "output_type": "display_data",
          "data": {
            "text/plain": [
              "<Figure size 432x288 with 1 Axes>"
            ],
            "image/png": "[encoded data removed]"
          },
          "metadata": {
            "needs_background": "light"
          }
        },
        {
          "output_type": "display_data",
          "data": {
            "text/plain": [
              "<Figure size 432x288 with 1 Axes>"
            ],
            "image/png": "[encoded data removed]"
          },
          "metadata": {
            "needs_background": "light"
          }
        },
        {
          "output_type": "display_data",
          "data": {
            "text/plain": [
              "<Figure size 432x288 with 1 Axes>"
            ],
            "image/png": "[encoded data removed]"
          },
          "metadata": {
            "needs_background": "light"
          }
        },
        {
          "output_type": "display_data",
          "data": {
            "text/plain": [
              "<Figure size 432x288 with 1 Axes>"
            ],
            "image/png": "[encoded data removed]"
          },
          "metadata": {
            "needs_background": "light"
          }
        },
        {
          "output_type": "display_data",
          "data": {
            "text/plain": [
              "<Figure size 432x288 with 1 Axes>"
            ],
            "image/png": "[encoded data removed]"
          },
          "metadata": {
            "needs_background": "light"
          }
        },
        {
          "output_type": "display_data",
          "data": {
            "text/plain": [
              "<Figure size 432x288 with 1 Axes>"
            ],
            "image/png": "[encoded data removed]"
          },
          "metadata": {
            "needs_background": "light"
          }
        },
        {
          "output_type": "display_data",
          "data": {
            "text/plain": [
              "<Figure size 432x288 with 1 Axes>"
            ],
            "image/png": "[encoded data removed]"
          },
          "metadata": {
            "needs_background": "light"
          }
        }
      ]
    },
    {
      "cell_type": "code",
      "source": [
        "SVD.singular_values_.ravel()"
      ],
      "metadata": {
        "colab": {
          "base_uri": "https://localhost:8080/"
        },
        "id": "qc0xPg438QZS",
        "outputId": "2cadee80-06c8-4ef9-a97e-36447155779d"
      },
      "execution_count": 2033,
      "outputs": [
        {
          "output_type": "execute_result",
          "data": {
            "text/plain": [
              "array([1.89824556e+01, 1.23895348e+01, 9.71004954e+00, 9.21987252e+00,\n",
              "       9.19166417e+00, 8.83562133e+00, 8.35490731e+00, 8.16269046e+00,\n",
              "       7.67589308e+00, 7.53252900e+00, 7.24693828e+00, 7.03772875e+00,\n",
              "       6.96568920e+00, 6.94921261e+00, 6.72377310e+00, 6.62729356e+00,\n",
              "       6.42888935e+00, 6.23122752e+00, 5.98488156e+00, 5.84593442e+00,\n",
              "       5.52931996e+00, 5.45741148e+00, 5.43575015e+00, 5.30313453e+00,\n",
              "       5.23195921e+00, 5.07778209e+00, 4.92772427e+00, 4.80719927e+00,\n",
              "       4.77806009e+00, 4.72042746e+00, 4.68168774e+00, 4.48126959e+00,\n",
              "       4.47285668e+00, 4.41292142e+00, 4.38371497e+00, 4.36866765e+00,\n",
              "       4.34607925e+00, 4.19914184e+00, 4.07007621e+00, 4.04670751e+00,\n",
              "       3.91390069e+00, 3.90244894e+00, 3.86052461e+00, 3.85945223e+00,\n",
              "       3.79499753e+00, 3.62195823e+00, 3.62016459e+00, 3.50096878e+00,\n",
              "       3.41779782e+00, 3.34322000e+00, 3.30294415e+00, 3.16880603e+00,\n",
              "       3.14312670e+00, 3.11631317e+00, 3.07616268e+00, 2.95816128e+00,\n",
              "       2.83155644e+00, 2.76974920e+00, 2.74300351e+00, 2.70959884e+00,\n",
              "       2.59171337e+00, 2.56263145e+00, 2.55242056e+00, 2.50442720e+00,\n",
              "       2.50191907e+00, 2.43619262e+00, 2.40338224e+00, 2.32149781e+00,\n",
              "       2.25734354e+00, 2.21809980e+00, 2.10361396e+00, 2.07790236e+00,\n",
              "       2.07448181e+00, 2.00835727e+00, 1.97006378e+00, 1.92428502e+00,\n",
              "       1.91531017e+00, 1.84218629e+00, 1.78297090e+00, 1.75701659e+00,\n",
              "       1.71375083e+00, 1.63990918e+00, 1.63708850e+00, 1.58336018e+00,\n",
              "       1.50727643e+00, 1.45336196e+00, 1.44873433e+00, 1.44374596e+00,\n",
              "       1.41963238e+00, 1.33802333e+00, 1.24499344e+00, 1.18976895e+00,\n",
              "       1.18672731e+00, 1.15061159e+00, 1.15055508e+00, 1.10119199e+00,\n",
              "       1.09437760e+00, 1.08029444e+00, 9.72279242e-01, 9.49012892e-01,\n",
              "       9.12803224e-01, 8.70696040e-01, 8.43480498e-01, 8.40012173e-01,\n",
              "       8.24515244e-01, 7.94675649e-01, 7.34287876e-01, 6.40601413e-01,\n",
              "       5.87560546e-01, 5.78125827e-01, 5.41892143e-01, 5.12355285e-01,\n",
              "       4.41652580e-01, 4.18715102e-01, 4.01724602e-01, 3.87465536e-01,\n",
              "       3.46381708e-01, 2.92323249e-01, 2.83383715e-01, 2.43782916e-01,\n",
              "       2.19138524e-01, 2.04026827e-01, 1.77884038e-01, 1.10970661e-01,\n",
              "       1.10430147e-01, 5.42899755e-02, 4.39325645e-02, 7.97683201e-15,\n",
              "       1.36126920e-15])"
            ]
          },
          "metadata": {},
          "execution_count": 2033
        }
      ]
    },
    {
      "cell_type": "markdown",
      "source": [
        "Cantidad de valores singulares"
      ],
      "metadata": {
        "id": "GwSToU2_67xT"
      }
    },
    {
      "cell_type": "code",
      "source": [
        "len(SVD.singular_values_.ravel())"
      ],
      "metadata": {
        "colab": {
          "base_uri": "https://localhost:8080/"
        },
        "id": "MjZGLwL_Rq2x",
        "outputId": "f4d9e860-b12e-4797-e5a1-54819e15051e"
      },
      "execution_count": 2034,
      "outputs": [
        {
          "output_type": "execute_result",
          "data": {
            "text/plain": [
              "129"
            ]
          },
          "metadata": {},
          "execution_count": 2034
        }
      ]
    },
    {
      "cell_type": "markdown",
      "source": [
        "#**Ejercicio-3.**\n",
        "Usando la métrica de correlación de Pearson, obtener las 10 mejores recomendaciones de este modelo no supervisado con base a la información de alguien que evaluó bien de manera general al “Subway”. Despliega también el valor numérico de la correlación de Pearson de cada una de estas 10  recomendaciones. NOTA: No debe estar incluido “Subway” dentro de las recomendaciones. "
      ],
      "metadata": {
        "id": "NCunuooTC2W3"
      }
    },
    {
      "cell_type": "markdown",
      "source": [
        "Visualizamos con cuanta información nos quedamos con 50 componentes"
      ],
      "metadata": {
        "id": "s8ENt47j8Y3Q"
      }
    },
    {
      "cell_type": "code",
      "source": [
        "num_sv = 50\n",
        "list(map((float), SVD.explained_variance_ratio_))\n",
        "totalComp = sum(SVD.explained_variance_ratio_)\n",
        "partialcom = SVD.explained_variance_ratio_[0:num_sv].sum()\n",
        "percent = partialcom/totalComp\n",
        "percent * 100"
      ],
      "metadata": {
        "colab": {
          "base_uri": "https://localhost:8080/"
        },
        "id": "gJHEgCIgNs8p",
        "outputId": "92df8e2a-c4e2-41b7-d69d-2e7148f9b642"
      },
      "execution_count": 2035,
      "outputs": [
        {
          "output_type": "execute_result",
          "data": {
            "text/plain": [
              "89.60955947640585"
            ]
          },
          "metadata": {},
          "execution_count": 2035
        }
      ]
    },
    {
      "cell_type": "markdown",
      "source": [
        "Con ese valor generamos nuestra nueva matriz de tamaño ${m*n}$\n",
        "\n",
        "Donde:\n",
        "\n",
        "* ${m}$ es el número de filas\n",
        "\n",
        "* ${n}$ es el número de columnas\n"
      ],
      "metadata": {
        "id": "elb0syy-8eAk"
      }
    },
    {
      "cell_type": "code",
      "source": [
        "SVD = TruncatedSVD(n_components=num_sv, random_state=1)\n",
        "\n",
        "resultant_matrix = SVD.fit_transform(X)\n",
        "resultant_matrix.shape"
      ],
      "metadata": {
        "id": "YXlcSWA-C4Dj",
        "colab": {
          "base_uri": "https://localhost:8080/"
        },
        "outputId": "c142f0bd-f190-404f-b15f-adcc717df7f0"
      },
      "execution_count": 2036,
      "outputs": [
        {
          "output_type": "execute_result",
          "data": {
            "text/plain": [
              "(129, 50)"
            ]
          },
          "metadata": {},
          "execution_count": 2036
        }
      ]
    },
    {
      "cell_type": "markdown",
      "source": [
        "Obtenemos las correlaciones"
      ],
      "metadata": {
        "id": "8h3oNQVx97lD"
      }
    },
    {
      "cell_type": "code",
      "source": [
        "corrMx = np.corrcoef(resultant_matrix)\n",
        "corrMx.shape"
      ],
      "metadata": {
        "id": "BKI80-YdC4HN",
        "colab": {
          "base_uri": "https://localhost:8080/"
        },
        "outputId": "efccb249-e057-4f1a-9788-89935bb6fe1d"
      },
      "execution_count": 2037,
      "outputs": [
        {
          "output_type": "execute_result",
          "data": {
            "text/plain": [
              "(129, 129)"
            ]
          },
          "metadata": {},
          "execution_count": 2037
        }
      ]
    },
    {
      "cell_type": "markdown",
      "source": [
        "Ponemos el restaurante del que queremos obtener las recomendaciones"
      ],
      "metadata": {
        "id": "AwuvnxBG992M"
      }
    },
    {
      "cell_type": "code",
      "source": [
        "me_gusta = \"Subway\"\n",
        "\n",
        "names = UtMx.columns\n",
        "names_list = list(names)\n",
        "id_megusta = names_list.index(me_gusta)\n",
        "\n",
        "id_megusta"
      ],
      "metadata": {
        "colab": {
          "base_uri": "https://localhost:8080/"
        },
        "id": "3h-IZBVnedYj",
        "outputId": "4233b5b0-bd56-4162-b95f-fc63b1c41723"
      },
      "execution_count": 2038,
      "outputs": [
        {
          "output_type": "execute_result",
          "data": {
            "text/plain": [
              "88"
            ]
          },
          "metadata": {},
          "execution_count": 2038
        }
      ]
    },
    {
      "cell_type": "markdown",
      "source": [
        "Obtenemos las correlaciones"
      ],
      "metadata": {
        "id": "w1fjOa-x-MJm"
      }
    },
    {
      "cell_type": "code",
      "source": [
        "corr_recomienda = corrMx[id_megusta]\n",
        "print(corr_recomienda.shape)\n",
        "print(corr_recomienda)"
      ],
      "metadata": {
        "colab": {
          "base_uri": "https://localhost:8080/"
        },
        "id": "gk4D1kdCejLH",
        "outputId": "5c578a51-2c0c-4ad2-fa61-504f35d4fb6d"
      },
      "execution_count": 2039,
      "outputs": [
        {
          "output_type": "stream",
          "name": "stdout",
          "text": [
            "(129,)\n",
            "[ 2.04275924e-03  5.04138285e-02 -2.44059099e-02 -7.06637356e-03\n",
            " -6.77076138e-02 -6.12890394e-03 -1.34826627e-02 -1.03075860e-02\n",
            " -1.33641782e-04 -1.28468026e-02 -1.34283399e-02  3.50720890e-01\n",
            " -4.59089984e-03 -3.88519909e-03 -9.73212349e-03 -9.29493342e-03\n",
            " -1.72593947e-02  4.58528137e-03  3.54867356e-04 -1.72064600e-02\n",
            "  5.71455912e-02  1.26878969e-01  8.99149407e-03  7.39674552e-03\n",
            " -1.74396001e-02 -8.75688348e-03  2.30199206e-02 -2.66113172e-02\n",
            " -3.67754201e-03  1.02177684e-01 -6.96835491e-03  2.81887510e-03\n",
            "  1.13079201e-02 -7.63928251e-03  6.14079135e-03 -8.16950234e-03\n",
            " -5.47851868e-03  2.27471589e-01 -1.59445357e-02 -1.11846462e-03\n",
            " -3.05089822e-03  4.22484953e-01  1.52768582e-02  1.50028506e-02\n",
            "  9.59741976e-04  4.92959198e-01  2.84344551e-01 -1.81653975e-02\n",
            " -1.49115153e-02 -5.09473540e-04 -7.95399300e-03  1.66952963e-01\n",
            " -1.26658074e-02 -1.47181620e-02  1.04315498e-01  2.18189461e-01\n",
            " -1.15910684e-03 -1.01977314e-02  8.20601259e-01 -4.22562862e-02\n",
            "  6.08927954e-01 -1.01166817e-02  3.33601891e-03 -1.07990075e-02\n",
            "  2.93029983e-01 -2.79902113e-03  4.83743874e-03 -2.11320709e-02\n",
            " -7.72335595e-04 -3.94748848e-03 -2.89602717e-02 -5.39162912e-03\n",
            " -9.86875079e-04  1.24940965e-02  1.41248836e-03 -1.80520487e-02\n",
            " -1.87381657e-02 -2.35491155e-03  2.18770190e-02 -1.52493673e-02\n",
            " -3.18238512e-03 -4.52283080e-03 -7.51163058e-04 -9.24875666e-03\n",
            " -6.44037298e-03  7.01393930e-01  4.81011175e-01  1.91240329e-02\n",
            "  1.00000000e+00 -1.25408659e-02  4.72879389e-03 -1.23375731e-02\n",
            " -2.60964157e-05 -4.48362920e-03  2.22590655e-02  1.46162810e-02\n",
            " -8.85472673e-04  5.92246778e-01  4.62565657e-04  8.53904056e-03\n",
            " -1.73296641e-02  6.06519261e-04 -3.38057516e-03 -9.54288088e-03\n",
            "  1.72212086e-02 -1.24666084e-02 -7.96762841e-03 -1.43762459e-02\n",
            " -4.90136609e-03 -9.29790162e-03 -1.31542794e-02 -6.89276702e-04\n",
            " -1.33211193e-02  5.50956590e-03  5.94379994e-03 -1.57033889e-02\n",
            " -3.15922099e-03 -1.90495037e-02 -2.45527669e-03 -1.55357526e-02\n",
            "  1.48888508e-02 -8.91145697e-04 -1.69884399e-02  1.34806774e-02\n",
            "  1.44546254e-02 -1.22327008e-02  4.37794920e-03 -2.49419409e-03\n",
            "  8.01599332e-03]\n"
          ]
        }
      ]
    },
    {
      "cell_type": "code",
      "source": [
        "corr_recomienda[id_megusta]"
      ],
      "metadata": {
        "colab": {
          "base_uri": "https://localhost:8080/"
        },
        "id": "kZHwhUp7eqPd",
        "outputId": "e4fb9204-2279-4dd1-ef3b-6d1545499ba6"
      },
      "execution_count": 2040,
      "outputs": [
        {
          "output_type": "execute_result",
          "data": {
            "text/plain": [
              "0.9999999999999998"
            ]
          },
          "metadata": {},
          "execution_count": 2040
        }
      ]
    },
    {
      "cell_type": "markdown",
      "source": [
        "Obtenemos los primeros 10 lugares que nos recomienda el modelo SVD"
      ],
      "metadata": {
        "id": "H2i4Ynqy-RUX"
      }
    },
    {
      "cell_type": "code",
      "source": [
        "restaurant_recomendations=pd.concat([pd.DataFrame(corr_recomienda),pd.DataFrame(names)],axis=1).sort_values(by=0,ascending=False).iloc[1:11:,:]\n",
        "restaurant_recomendations"
      ],
      "metadata": {
        "colab": {
          "base_uri": "https://localhost:8080/",
          "height": 363
        },
        "id": "amvfILYqetuH",
        "outputId": "b9eea069-1ee2-4cc1-e01a-088363a32283"
      },
      "execution_count": 2041,
      "outputs": [
        {
          "output_type": "execute_result",
          "data": {
            "text/plain": [
              "           0                                               name\n",
              "58  0.820601                                   Restaurant Teely\n",
              "85  0.701394                                    Rincon del Bife\n",
              "60  0.608928  Restaurant and Bar and Clothesline Carlos N Ch...\n",
              "97  0.592247                                               Vips\n",
              "45  0.492959                                             Mikasa\n",
              "86  0.481011                               Sanborns Casa Piedra\n",
              "41  0.422485                                 Mariscos Tia Licha\n",
              "11  0.350721                                  Chilis Cuernavaca\n",
              "64  0.293030                               Restaurant los Pinos\n",
              "46  0.284345                                          Paniroles"
            ],
            "text/html": [
              "\n",
              "  <div id=\"df-f9117f4f-902a-437b-acb1-5867bbd7e884\">\n",
              "    <div class=\"colab-df-container\">\n",
              "      <div>\n",
              "<style scoped>\n",
              "    .dataframe tbody tr th:only-of-type {\n",
              "        vertical-align: middle;\n",
              "    }\n",
              "\n",
              "    .dataframe tbody tr th {\n",
              "        vertical-align: top;\n",
              "    }\n",
              "\n",
              "    .dataframe thead th {\n",
              "        text-align: right;\n",
              "    }\n",
              "</style>\n",
              "<table border=\"1\" class=\"dataframe\">\n",
              "  <thead>\n",
              "    <tr style=\"text-align: right;\">\n",
              "      <th></th>\n",
              "      <th>0</th>\n",
              "      <th>name</th>\n",
              "    </tr>\n",
              "  </thead>\n",
              "  <tbody>\n",
              "    <tr>\n",
              "      <th>58</th>\n",
              "      <td>0.820601</td>\n",
              "      <td>Restaurant Teely</td>\n",
              "    </tr>\n",
              "    <tr>\n",
              "      <th>85</th>\n",
              "      <td>0.701394</td>\n",
              "      <td>Rincon del Bife</td>\n",
              "    </tr>\n",
              "    <tr>\n",
              "      <th>60</th>\n",
              "      <td>0.608928</td>\n",
              "      <td>Restaurant and Bar and Clothesline Carlos N Ch...</td>\n",
              "    </tr>\n",
              "    <tr>\n",
              "      <th>97</th>\n",
              "      <td>0.592247</td>\n",
              "      <td>Vips</td>\n",
              "    </tr>\n",
              "    <tr>\n",
              "      <th>45</th>\n",
              "      <td>0.492959</td>\n",
              "      <td>Mikasa</td>\n",
              "    </tr>\n",
              "    <tr>\n",
              "      <th>86</th>\n",
              "      <td>0.481011</td>\n",
              "      <td>Sanborns Casa Piedra</td>\n",
              "    </tr>\n",
              "    <tr>\n",
              "      <th>41</th>\n",
              "      <td>0.422485</td>\n",
              "      <td>Mariscos Tia Licha</td>\n",
              "    </tr>\n",
              "    <tr>\n",
              "      <th>11</th>\n",
              "      <td>0.350721</td>\n",
              "      <td>Chilis Cuernavaca</td>\n",
              "    </tr>\n",
              "    <tr>\n",
              "      <th>64</th>\n",
              "      <td>0.293030</td>\n",
              "      <td>Restaurant los Pinos</td>\n",
              "    </tr>\n",
              "    <tr>\n",
              "      <th>46</th>\n",
              "      <td>0.284345</td>\n",
              "      <td>Paniroles</td>\n",
              "    </tr>\n",
              "  </tbody>\n",
              "</table>\n",
              "</div>\n",
              "      <button class=\"colab-df-convert\" onclick=\"convertToInteractive('df-f9117f4f-902a-437b-acb1-5867bbd7e884')\"\n",
              "              title=\"Convert this dataframe to an interactive table.\"\n",
              "              style=\"display:none;\">\n",
              "        \n",
              "  <svg xmlns=\"http://www.w3.org/2000/svg\" height=\"24px\"viewBox=\"0 0 24 24\"\n",
              "       width=\"24px\">\n",
              "    <path d=\"M0 0h24v24H0V0z\" fill=\"none\"/>\n",
              "    <path d=\"M18.56 5.44l.94 2.06.94-2.06 2.06-.94-2.06-.94-.94-2.06-.94 2.06-2.06.94zm-11 1L8.5 8.5l.94-2.06 2.06-.94-2.06-.94L8.5 2.5l-.94 2.06-2.06.94zm10 10l.94 2.06.94-2.06 2.06-.94-2.06-.94-.94-2.06-.94 2.06-2.06.94z\"/><path d=\"M17.41 7.96l-1.37-1.37c-.4-.4-.92-.59-1.43-.59-.52 0-1.04.2-1.43.59L10.3 9.45l-7.72 7.72c-.78.78-.78 2.05 0 2.83L4 21.41c.39.39.9.59 1.41.59.51 0 1.02-.2 1.41-.59l7.78-7.78 2.81-2.81c.8-.78.8-2.07 0-2.86zM5.41 20L4 18.59l7.72-7.72 1.47 1.35L5.41 20z\"/>\n",
              "  </svg>\n",
              "      </button>\n",
              "      \n",
              "  <style>\n",
              "    .colab-df-container {\n",
              "      display:flex;\n",
              "      flex-wrap:wrap;\n",
              "      gap: 12px;\n",
              "    }\n",
              "\n",
              "    .colab-df-convert {\n",
              "      background-color: #E8F0FE;\n",
              "      border: none;\n",
              "      border-radius: 50%;\n",
              "      cursor: pointer;\n",
              "      display: none;\n",
              "      fill: #1967D2;\n",
              "      height: 32px;\n",
              "      padding: 0 0 0 0;\n",
              "      width: 32px;\n",
              "    }\n",
              "\n",
              "    .colab-df-convert:hover {\n",
              "      background-color: #E2EBFA;\n",
              "      box-shadow: 0px 1px 2px rgba(60, 64, 67, 0.3), 0px 1px 3px 1px rgba(60, 64, 67, 0.15);\n",
              "      fill: #174EA6;\n",
              "    }\n",
              "\n",
              "    [theme=dark] .colab-df-convert {\n",
              "      background-color: #3B4455;\n",
              "      fill: #D2E3FC;\n",
              "    }\n",
              "\n",
              "    [theme=dark] .colab-df-convert:hover {\n",
              "      background-color: #434B5C;\n",
              "      box-shadow: 0px 1px 3px 1px rgba(0, 0, 0, 0.15);\n",
              "      filter: drop-shadow(0px 1px 2px rgba(0, 0, 0, 0.3));\n",
              "      fill: #FFFFFF;\n",
              "    }\n",
              "  </style>\n",
              "\n",
              "      <script>\n",
              "        const buttonEl =\n",
              "          document.querySelector('#df-f9117f4f-902a-437b-acb1-5867bbd7e884 button.colab-df-convert');\n",
              "        buttonEl.style.display =\n",
              "          google.colab.kernel.accessAllowed ? 'block' : 'none';\n",
              "\n",
              "        async function convertToInteractive(key) {\n",
              "          const element = document.querySelector('#df-f9117f4f-902a-437b-acb1-5867bbd7e884');\n",
              "          const dataTable =\n",
              "            await google.colab.kernel.invokeFunction('convertToInteractive',\n",
              "                                                     [key], {});\n",
              "          if (!dataTable) return;\n",
              "\n",
              "          const docLinkHtml = 'Like what you see? Visit the ' +\n",
              "            '<a target=\"_blank\" href=https://colab.research.google.com/notebooks/data_table.ipynb>data table notebook</a>'\n",
              "            + ' to learn more about interactive tables.';\n",
              "          element.innerHTML = '';\n",
              "          dataTable['output_type'] = 'display_data';\n",
              "          await google.colab.output.renderOutput(dataTable, element);\n",
              "          const docLink = document.createElement('div');\n",
              "          docLink.innerHTML = docLinkHtml;\n",
              "          element.appendChild(docLink);\n",
              "        }\n",
              "      </script>\n",
              "    </div>\n",
              "  </div>\n",
              "  "
            ]
          },
          "metadata": {},
          "execution_count": 2041
        }
      ]
    },
    {
      "cell_type": "markdown",
      "source": [
        "Visualizamos en la gráfica el índice del restaurante y la correlación que tiene con Subway"
      ],
      "metadata": {
        "id": "O7PGGE1T-Yge"
      }
    },
    {
      "cell_type": "code",
      "source": [
        "plt.scatter(range(len(corr_recomienda)), corr_recomienda)"
      ],
      "metadata": {
        "colab": {
          "base_uri": "https://localhost:8080/",
          "height": 282
        },
        "id": "yavVL_Kizv5l",
        "outputId": "00558aeb-7869-40cf-978d-44ecdec017e4"
      },
      "execution_count": 2042,
      "outputs": [
        {
          "output_type": "execute_result",
          "data": {
            "text/plain": [
              "<matplotlib.collections.PathCollection at 0x7ff4b6316c50>"
            ]
          },
          "metadata": {},
          "execution_count": 2042
        },
        {
          "output_type": "display_data",
          "data": {
            "text/plain": [
              "<Figure size 432x288 with 1 Axes>"
            ],
            "image/png": "[encoded data removed]"
          },
          "metadata": {
            "needs_background": "light"
          }
        }
      ]
    },
    {
      "cell_type": "markdown",
      "source": [
        "#**Ejercicio-4.**\n",
        "Disminuye ahora la dimensión de la factorización con un número de componentes tal, que las recomendaciones con esta menor cantidad de información coincidan en al menos 9 de las 10 recomendaciones dadas con todos los valores singulares. Indica la cantidad de valores singulares encontrado y la cantidad de información que contienen. "
      ],
      "metadata": {
        "id": "chqk9jIDC5Pq"
      }
    },
    {
      "cell_type": "markdown",
      "source": [
        "Creamos una función para obtener de manera más rápida las recomendaciones hechas por el modelo SVD, tomando como parámetros la cantidad de singular values (n), restaurantes, los nombres de las columnas de la matriz de utilidad"
      ],
      "metadata": {
        "id": "81RaHdNRAJJA"
      }
    },
    {
      "cell_type": "code",
      "source": [
        "def recomendation(n,restaurant,utility_Matrix_columns):\n",
        "  SVD = TruncatedSVD(n_components=n, random_state=1)\n",
        "  resultant_matrix = SVD.fit_transform(X)\n",
        "\n",
        "  corrMx = np.corrcoef(resultant_matrix)\n",
        "  me_gusta = restaurant\n",
        "\n",
        "  names = utility_Matrix_columns\n",
        "  names_list = list(names)\n",
        "  id_megusta = names_list.index(me_gusta)\n",
        "  corr_recomienda = corrMx[id_megusta]\n",
        "  restaurant_recomendations=pd.concat([pd.DataFrame(corr_recomienda),pd.DataFrame(names)],axis=1).sort_values(by=0,ascending=False).iloc[1:11:,:]\n",
        "  return restaurant_recomendations"
      ],
      "metadata": {
        "id": "RBVSFwK4C6g9"
      },
      "execution_count": 2043,
      "outputs": []
    },
    {
      "cell_type": "markdown",
      "source": [
        "Hacemos uso de la función para obtener las recomendaciones"
      ],
      "metadata": {
        "id": "5E3YNPyVBpTF"
      }
    },
    {
      "cell_type": "code",
      "source": [
        "recomendation(30,\"Subway\",UtMx.columns)"
      ],
      "metadata": {
        "id": "7KXnlNzAC69Y",
        "colab": {
          "base_uri": "https://localhost:8080/",
          "height": 363
        },
        "outputId": "9cc6dadf-2a94-40c8-95ec-19122541d938"
      },
      "execution_count": 2044,
      "outputs": [
        {
          "output_type": "execute_result",
          "data": {
            "text/plain": [
              "           0                                               name\n",
              "85  0.923897                                    Rincon del Bife\n",
              "60  0.844907  Restaurant and Bar and Clothesline Carlos N Ch...\n",
              "58  0.841589                                   Restaurant Teely\n",
              "97  0.798651                                               Vips\n",
              "37  0.748227                                            Log Yin\n",
              "11  0.738333                                  Chilis Cuernavaca\n",
              "86  0.695558                               Sanborns Casa Piedra\n",
              "45  0.585522                                             Mikasa\n",
              "46  0.582720                                          Paniroles\n",
              "41  0.561961                                 Mariscos Tia Licha"
            ],
            "text/html": [
              "\n",
              "  <div id=\"df-77b284dd-19a2-4e27-a269-e6c49aaaf8ef\">\n",
              "    <div class=\"colab-df-container\">\n",
              "      <div>\n",
              "<style scoped>\n",
              "    .dataframe tbody tr th:only-of-type {\n",
              "        vertical-align: middle;\n",
              "    }\n",
              "\n",
              "    .dataframe tbody tr th {\n",
              "        vertical-align: top;\n",
              "    }\n",
              "\n",
              "    .dataframe thead th {\n",
              "        text-align: right;\n",
              "    }\n",
              "</style>\n",
              "<table border=\"1\" class=\"dataframe\">\n",
              "  <thead>\n",
              "    <tr style=\"text-align: right;\">\n",
              "      <th></th>\n",
              "      <th>0</th>\n",
              "      <th>name</th>\n",
              "    </tr>\n",
              "  </thead>\n",
              "  <tbody>\n",
              "    <tr>\n",
              "      <th>85</th>\n",
              "      <td>0.923897</td>\n",
              "      <td>Rincon del Bife</td>\n",
              "    </tr>\n",
              "    <tr>\n",
              "      <th>60</th>\n",
              "      <td>0.844907</td>\n",
              "      <td>Restaurant and Bar and Clothesline Carlos N Ch...</td>\n",
              "    </tr>\n",
              "    <tr>\n",
              "      <th>58</th>\n",
              "      <td>0.841589</td>\n",
              "      <td>Restaurant Teely</td>\n",
              "    </tr>\n",
              "    <tr>\n",
              "      <th>97</th>\n",
              "      <td>0.798651</td>\n",
              "      <td>Vips</td>\n",
              "    </tr>\n",
              "    <tr>\n",
              "      <th>37</th>\n",
              "      <td>0.748227</td>\n",
              "      <td>Log Yin</td>\n",
              "    </tr>\n",
              "    <tr>\n",
              "      <th>11</th>\n",
              "      <td>0.738333</td>\n",
              "      <td>Chilis Cuernavaca</td>\n",
              "    </tr>\n",
              "    <tr>\n",
              "      <th>86</th>\n",
              "      <td>0.695558</td>\n",
              "      <td>Sanborns Casa Piedra</td>\n",
              "    </tr>\n",
              "    <tr>\n",
              "      <th>45</th>\n",
              "      <td>0.585522</td>\n",
              "      <td>Mikasa</td>\n",
              "    </tr>\n",
              "    <tr>\n",
              "      <th>46</th>\n",
              "      <td>0.582720</td>\n",
              "      <td>Paniroles</td>\n",
              "    </tr>\n",
              "    <tr>\n",
              "      <th>41</th>\n",
              "      <td>0.561961</td>\n",
              "      <td>Mariscos Tia Licha</td>\n",
              "    </tr>\n",
              "  </tbody>\n",
              "</table>\n",
              "</div>\n",
              "      <button class=\"colab-df-convert\" onclick=\"convertToInteractive('df-77b284dd-19a2-4e27-a269-e6c49aaaf8ef')\"\n",
              "              title=\"Convert this dataframe to an interactive table.\"\n",
              "              style=\"display:none;\">\n",
              "        \n",
              "  <svg xmlns=\"http://www.w3.org/2000/svg\" height=\"24px\"viewBox=\"0 0 24 24\"\n",
              "       width=\"24px\">\n",
              "    <path d=\"M0 0h24v24H0V0z\" fill=\"none\"/>\n",
              "    <path d=\"M18.56 5.44l.94 2.06.94-2.06 2.06-.94-2.06-.94-.94-2.06-.94 2.06-2.06.94zm-11 1L8.5 8.5l.94-2.06 2.06-.94-2.06-.94L8.5 2.5l-.94 2.06-2.06.94zm10 10l.94 2.06.94-2.06 2.06-.94-2.06-.94-.94-2.06-.94 2.06-2.06.94z\"/><path d=\"M17.41 7.96l-1.37-1.37c-.4-.4-.92-.59-1.43-.59-.52 0-1.04.2-1.43.59L10.3 9.45l-7.72 7.72c-.78.78-.78 2.05 0 2.83L4 21.41c.39.39.9.59 1.41.59.51 0 1.02-.2 1.41-.59l7.78-7.78 2.81-2.81c.8-.78.8-2.07 0-2.86zM5.41 20L4 18.59l7.72-7.72 1.47 1.35L5.41 20z\"/>\n",
              "  </svg>\n",
              "      </button>\n",
              "      \n",
              "  <style>\n",
              "    .colab-df-container {\n",
              "      display:flex;\n",
              "      flex-wrap:wrap;\n",
              "      gap: 12px;\n",
              "    }\n",
              "\n",
              "    .colab-df-convert {\n",
              "      background-color: #E8F0FE;\n",
              "      border: none;\n",
              "      border-radius: 50%;\n",
              "      cursor: pointer;\n",
              "      display: none;\n",
              "      fill: #1967D2;\n",
              "      height: 32px;\n",
              "      padding: 0 0 0 0;\n",
              "      width: 32px;\n",
              "    }\n",
              "\n",
              "    .colab-df-convert:hover {\n",
              "      background-color: #E2EBFA;\n",
              "      box-shadow: 0px 1px 2px rgba(60, 64, 67, 0.3), 0px 1px 3px 1px rgba(60, 64, 67, 0.15);\n",
              "      fill: #174EA6;\n",
              "    }\n",
              "\n",
              "    [theme=dark] .colab-df-convert {\n",
              "      background-color: #3B4455;\n",
              "      fill: #D2E3FC;\n",
              "    }\n",
              "\n",
              "    [theme=dark] .colab-df-convert:hover {\n",
              "      background-color: #434B5C;\n",
              "      box-shadow: 0px 1px 3px 1px rgba(0, 0, 0, 0.15);\n",
              "      filter: drop-shadow(0px 1px 2px rgba(0, 0, 0, 0.3));\n",
              "      fill: #FFFFFF;\n",
              "    }\n",
              "  </style>\n",
              "\n",
              "      <script>\n",
              "        const buttonEl =\n",
              "          document.querySelector('#df-77b284dd-19a2-4e27-a269-e6c49aaaf8ef button.colab-df-convert');\n",
              "        buttonEl.style.display =\n",
              "          google.colab.kernel.accessAllowed ? 'block' : 'none';\n",
              "\n",
              "        async function convertToInteractive(key) {\n",
              "          const element = document.querySelector('#df-77b284dd-19a2-4e27-a269-e6c49aaaf8ef');\n",
              "          const dataTable =\n",
              "            await google.colab.kernel.invokeFunction('convertToInteractive',\n",
              "                                                     [key], {});\n",
              "          if (!dataTable) return;\n",
              "\n",
              "          const docLinkHtml = 'Like what you see? Visit the ' +\n",
              "            '<a target=\"_blank\" href=https://colab.research.google.com/notebooks/data_table.ipynb>data table notebook</a>'\n",
              "            + ' to learn more about interactive tables.';\n",
              "          element.innerHTML = '';\n",
              "          dataTable['output_type'] = 'display_data';\n",
              "          await google.colab.output.renderOutput(dataTable, element);\n",
              "          const docLink = document.createElement('div');\n",
              "          docLink.innerHTML = docLinkHtml;\n",
              "          element.appendChild(docLink);\n",
              "        }\n",
              "      </script>\n",
              "    </div>\n",
              "  </div>\n",
              "  "
            ]
          },
          "metadata": {},
          "execution_count": 2044
        }
      ]
    },
    {
      "cell_type": "markdown",
      "source": [
        "Definimos una función para obtener el porcentaje de información que queda, después de utilizar cierto n_component"
      ],
      "metadata": {
        "id": "RpwrZtfcBKUd"
      }
    },
    {
      "cell_type": "code",
      "source": [
        "def information_quantity(n):\n",
        "  num_sv = n\n",
        "  list(map((float), SVD.explained_variance_ratio_))\n",
        "  totalComp = sum(SVD.explained_variance_ratio_)\n",
        "  partialcom = SVD.explained_variance_ratio_[0:num_sv].sum()\n",
        "  percent = partialcom/totalComp\n",
        "  return percent * 100"
      ],
      "metadata": {
        "id": "szUGe5iFnKxg"
      },
      "execution_count": 2045,
      "outputs": []
    },
    {
      "cell_type": "code",
      "source": [
        "information_quantity(30)"
      ],
      "metadata": {
        "colab": {
          "base_uri": "https://localhost:8080/"
        },
        "id": "wRoBWR6g_kZO",
        "outputId": "cda3fd90-1374-4246-92da-e519839bed16"
      },
      "execution_count": 2046,
      "outputs": [
        {
          "output_type": "execute_result",
          "data": {
            "text/plain": [
              "83.63321120970782"
            ]
          },
          "metadata": {},
          "execution_count": 2046
        }
      ]
    },
    {
      "cell_type": "markdown",
      "source": [
        "Con 30 singular values se obtienen 9 de 10 recomendaciones, con un 83% de la información original"
      ],
      "metadata": {
        "id": "ZMGoXCsd_YGu"
      }
    },
    {
      "cell_type": "markdown",
      "source": [
        "#**Ejercicio-5.**\n",
        "Repite el ejercicio con el restaurante “\"tacos de barbacoa enfrente del Tec\". Incluye tus conclusiones. "
      ],
      "metadata": {
        "id": "Rv7KFq-mC7PS"
      }
    },
    {
      "cell_type": "markdown",
      "source": [
        "Usamos 50 en la cantidad de n_components, dado que representa el 90% de la información"
      ],
      "metadata": {
        "id": "df-HUFKJA_U4"
      }
    },
    {
      "cell_type": "code",
      "source": [
        "recomendation(50,\"tacos de barbacoa enfrente del Tec\",UtMx.columns)"
      ],
      "metadata": {
        "id": "jaDj3kawC9B6",
        "colab": {
          "base_uri": "https://localhost:8080/",
          "height": 363
        },
        "outputId": "6c0dbf05-6358-4508-8531-fefb858b0ddf"
      },
      "execution_count": 2047,
      "outputs": [
        {
          "output_type": "execute_result",
          "data": {
            "text/plain": [
              "            0                                   name\n",
              "114  0.966728         little pizza Emilio Portes Gil\n",
              "92   0.949178                     Taqueria EL amigo \n",
              "118  0.944408                     puesto de gorditas\n",
              "123  0.941422                              tacos abi\n",
              "128  0.937332                                   vips\n",
              "8    0.748121          Carreton de Flautas y Migadas\n",
              "116  0.397310                             palomo tec\n",
              "101  0.387094                          carnitas_mata\n",
              "24   0.321694                     Gorditas Dona Tota\n",
              "100  0.306786  carnitas mata calle Emilio Portes Gil"
            ],
            "text/html": [
              "\n",
              "  <div id=\"df-8bd1c27b-1ea1-4538-9a77-5b96de6fadfe\">\n",
              "    <div class=\"colab-df-container\">\n",
              "      <div>\n",
              "<style scoped>\n",
              "    .dataframe tbody tr th:only-of-type {\n",
              "        vertical-align: middle;\n",
              "    }\n",
              "\n",
              "    .dataframe tbody tr th {\n",
              "        vertical-align: top;\n",
              "    }\n",
              "\n",
              "    .dataframe thead th {\n",
              "        text-align: right;\n",
              "    }\n",
              "</style>\n",
              "<table border=\"1\" class=\"dataframe\">\n",
              "  <thead>\n",
              "    <tr style=\"text-align: right;\">\n",
              "      <th></th>\n",
              "      <th>0</th>\n",
              "      <th>name</th>\n",
              "    </tr>\n",
              "  </thead>\n",
              "  <tbody>\n",
              "    <tr>\n",
              "      <th>114</th>\n",
              "      <td>0.966728</td>\n",
              "      <td>little pizza Emilio Portes Gil</td>\n",
              "    </tr>\n",
              "    <tr>\n",
              "      <th>92</th>\n",
              "      <td>0.949178</td>\n",
              "      <td>Taqueria EL amigo</td>\n",
              "    </tr>\n",
              "    <tr>\n",
              "      <th>118</th>\n",
              "      <td>0.944408</td>\n",
              "      <td>puesto de gorditas</td>\n",
              "    </tr>\n",
              "    <tr>\n",
              "      <th>123</th>\n",
              "      <td>0.941422</td>\n",
              "      <td>tacos abi</td>\n",
              "    </tr>\n",
              "    <tr>\n",
              "      <th>128</th>\n",
              "      <td>0.937332</td>\n",
              "      <td>vips</td>\n",
              "    </tr>\n",
              "    <tr>\n",
              "      <th>8</th>\n",
              "      <td>0.748121</td>\n",
              "      <td>Carreton de Flautas y Migadas</td>\n",
              "    </tr>\n",
              "    <tr>\n",
              "      <th>116</th>\n",
              "      <td>0.397310</td>\n",
              "      <td>palomo tec</td>\n",
              "    </tr>\n",
              "    <tr>\n",
              "      <th>101</th>\n",
              "      <td>0.387094</td>\n",
              "      <td>carnitas_mata</td>\n",
              "    </tr>\n",
              "    <tr>\n",
              "      <th>24</th>\n",
              "      <td>0.321694</td>\n",
              "      <td>Gorditas Dona Tota</td>\n",
              "    </tr>\n",
              "    <tr>\n",
              "      <th>100</th>\n",
              "      <td>0.306786</td>\n",
              "      <td>carnitas mata calle Emilio Portes Gil</td>\n",
              "    </tr>\n",
              "  </tbody>\n",
              "</table>\n",
              "</div>\n",
              "      <button class=\"colab-df-convert\" onclick=\"convertToInteractive('df-8bd1c27b-1ea1-4538-9a77-5b96de6fadfe')\"\n",
              "              title=\"Convert this dataframe to an interactive table.\"\n",
              "              style=\"display:none;\">\n",
              "        \n",
              "  <svg xmlns=\"http://www.w3.org/2000/svg\" height=\"24px\"viewBox=\"0 0 24 24\"\n",
              "       width=\"24px\">\n",
              "    <path d=\"M0 0h24v24H0V0z\" fill=\"none\"/>\n",
              "    <path d=\"M18.56 5.44l.94 2.06.94-2.06 2.06-.94-2.06-.94-.94-2.06-.94 2.06-2.06.94zm-11 1L8.5 8.5l.94-2.06 2.06-.94-2.06-.94L8.5 2.5l-.94 2.06-2.06.94zm10 10l.94 2.06.94-2.06 2.06-.94-2.06-.94-.94-2.06-.94 2.06-2.06.94z\"/><path d=\"M17.41 7.96l-1.37-1.37c-.4-.4-.92-.59-1.43-.59-.52 0-1.04.2-1.43.59L10.3 9.45l-7.72 7.72c-.78.78-.78 2.05 0 2.83L4 21.41c.39.39.9.59 1.41.59.51 0 1.02-.2 1.41-.59l7.78-7.78 2.81-2.81c.8-.78.8-2.07 0-2.86zM5.41 20L4 18.59l7.72-7.72 1.47 1.35L5.41 20z\"/>\n",
              "  </svg>\n",
              "      </button>\n",
              "      \n",
              "  <style>\n",
              "    .colab-df-container {\n",
              "      display:flex;\n",
              "      flex-wrap:wrap;\n",
              "      gap: 12px;\n",
              "    }\n",
              "\n",
              "    .colab-df-convert {\n",
              "      background-color: #E8F0FE;\n",
              "      border: none;\n",
              "      border-radius: 50%;\n",
              "      cursor: pointer;\n",
              "      display: none;\n",
              "      fill: #1967D2;\n",
              "      height: 32px;\n",
              "      padding: 0 0 0 0;\n",
              "      width: 32px;\n",
              "    }\n",
              "\n",
              "    .colab-df-convert:hover {\n",
              "      background-color: #E2EBFA;\n",
              "      box-shadow: 0px 1px 2px rgba(60, 64, 67, 0.3), 0px 1px 3px 1px rgba(60, 64, 67, 0.15);\n",
              "      fill: #174EA6;\n",
              "    }\n",
              "\n",
              "    [theme=dark] .colab-df-convert {\n",
              "      background-color: #3B4455;\n",
              "      fill: #D2E3FC;\n",
              "    }\n",
              "\n",
              "    [theme=dark] .colab-df-convert:hover {\n",
              "      background-color: #434B5C;\n",
              "      box-shadow: 0px 1px 3px 1px rgba(0, 0, 0, 0.15);\n",
              "      filter: drop-shadow(0px 1px 2px rgba(0, 0, 0, 0.3));\n",
              "      fill: #FFFFFF;\n",
              "    }\n",
              "  </style>\n",
              "\n",
              "      <script>\n",
              "        const buttonEl =\n",
              "          document.querySelector('#df-8bd1c27b-1ea1-4538-9a77-5b96de6fadfe button.colab-df-convert');\n",
              "        buttonEl.style.display =\n",
              "          google.colab.kernel.accessAllowed ? 'block' : 'none';\n",
              "\n",
              "        async function convertToInteractive(key) {\n",
              "          const element = document.querySelector('#df-8bd1c27b-1ea1-4538-9a77-5b96de6fadfe');\n",
              "          const dataTable =\n",
              "            await google.colab.kernel.invokeFunction('convertToInteractive',\n",
              "                                                     [key], {});\n",
              "          if (!dataTable) return;\n",
              "\n",
              "          const docLinkHtml = 'Like what you see? Visit the ' +\n",
              "            '<a target=\"_blank\" href=https://colab.research.google.com/notebooks/data_table.ipynb>data table notebook</a>'\n",
              "            + ' to learn more about interactive tables.';\n",
              "          element.innerHTML = '';\n",
              "          dataTable['output_type'] = 'display_data';\n",
              "          await google.colab.output.renderOutput(dataTable, element);\n",
              "          const docLink = document.createElement('div');\n",
              "          docLink.innerHTML = docLinkHtml;\n",
              "          element.appendChild(docLink);\n",
              "        }\n",
              "      </script>\n",
              "    </div>\n",
              "  </div>\n",
              "  "
            ]
          },
          "metadata": {},
          "execution_count": 2047
        }
      ]
    },
    {
      "cell_type": "markdown",
      "source": [
        "Ahora con n_component de 30 (representa el 83% de la información)"
      ],
      "metadata": {
        "id": "BIazZziuB77g"
      }
    },
    {
      "cell_type": "code",
      "source": [
        "recomendation(30,\"tacos de barbacoa enfrente del Tec\",UtMx.columns)"
      ],
      "metadata": {
        "colab": {
          "base_uri": "https://localhost:8080/",
          "height": 363
        },
        "id": "HZ4PYFcioMPA",
        "outputId": "952bb084-057e-451a-8807-1653612acaf5"
      },
      "execution_count": 2048,
      "outputs": [
        {
          "output_type": "execute_result",
          "data": {
            "text/plain": [
              "            0                                   name\n",
              "92   0.999765                     Taqueria EL amigo \n",
              "123  0.999685                              tacos abi\n",
              "128  0.999421                                   vips\n",
              "114  0.999350         little pizza Emilio Portes Gil\n",
              "118  0.999060                     puesto de gorditas\n",
              "101  0.998702                          carnitas_mata\n",
              "116  0.998508                             palomo tec\n",
              "36   0.998453                          Little Cesarz\n",
              "100  0.996499  carnitas mata calle Emilio Portes Gil\n",
              "24   0.994331                     Gorditas Dona Tota"
            ],
            "text/html": [
              "\n",
              "  <div id=\"df-e1cf9b75-72b9-4caa-8f57-45c828ebde60\">\n",
              "    <div class=\"colab-df-container\">\n",
              "      <div>\n",
              "<style scoped>\n",
              "    .dataframe tbody tr th:only-of-type {\n",
              "        vertical-align: middle;\n",
              "    }\n",
              "\n",
              "    .dataframe tbody tr th {\n",
              "        vertical-align: top;\n",
              "    }\n",
              "\n",
              "    .dataframe thead th {\n",
              "        text-align: right;\n",
              "    }\n",
              "</style>\n",
              "<table border=\"1\" class=\"dataframe\">\n",
              "  <thead>\n",
              "    <tr style=\"text-align: right;\">\n",
              "      <th></th>\n",
              "      <th>0</th>\n",
              "      <th>name</th>\n",
              "    </tr>\n",
              "  </thead>\n",
              "  <tbody>\n",
              "    <tr>\n",
              "      <th>92</th>\n",
              "      <td>0.999765</td>\n",
              "      <td>Taqueria EL amigo</td>\n",
              "    </tr>\n",
              "    <tr>\n",
              "      <th>123</th>\n",
              "      <td>0.999685</td>\n",
              "      <td>tacos abi</td>\n",
              "    </tr>\n",
              "    <tr>\n",
              "      <th>128</th>\n",
              "      <td>0.999421</td>\n",
              "      <td>vips</td>\n",
              "    </tr>\n",
              "    <tr>\n",
              "      <th>114</th>\n",
              "      <td>0.999350</td>\n",
              "      <td>little pizza Emilio Portes Gil</td>\n",
              "    </tr>\n",
              "    <tr>\n",
              "      <th>118</th>\n",
              "      <td>0.999060</td>\n",
              "      <td>puesto de gorditas</td>\n",
              "    </tr>\n",
              "    <tr>\n",
              "      <th>101</th>\n",
              "      <td>0.998702</td>\n",
              "      <td>carnitas_mata</td>\n",
              "    </tr>\n",
              "    <tr>\n",
              "      <th>116</th>\n",
              "      <td>0.998508</td>\n",
              "      <td>palomo tec</td>\n",
              "    </tr>\n",
              "    <tr>\n",
              "      <th>36</th>\n",
              "      <td>0.998453</td>\n",
              "      <td>Little Cesarz</td>\n",
              "    </tr>\n",
              "    <tr>\n",
              "      <th>100</th>\n",
              "      <td>0.996499</td>\n",
              "      <td>carnitas mata calle Emilio Portes Gil</td>\n",
              "    </tr>\n",
              "    <tr>\n",
              "      <th>24</th>\n",
              "      <td>0.994331</td>\n",
              "      <td>Gorditas Dona Tota</td>\n",
              "    </tr>\n",
              "  </tbody>\n",
              "</table>\n",
              "</div>\n",
              "      <button class=\"colab-df-convert\" onclick=\"convertToInteractive('df-e1cf9b75-72b9-4caa-8f57-45c828ebde60')\"\n",
              "              title=\"Convert this dataframe to an interactive table.\"\n",
              "              style=\"display:none;\">\n",
              "        \n",
              "  <svg xmlns=\"http://www.w3.org/2000/svg\" height=\"24px\"viewBox=\"0 0 24 24\"\n",
              "       width=\"24px\">\n",
              "    <path d=\"M0 0h24v24H0V0z\" fill=\"none\"/>\n",
              "    <path d=\"M18.56 5.44l.94 2.06.94-2.06 2.06-.94-2.06-.94-.94-2.06-.94 2.06-2.06.94zm-11 1L8.5 8.5l.94-2.06 2.06-.94-2.06-.94L8.5 2.5l-.94 2.06-2.06.94zm10 10l.94 2.06.94-2.06 2.06-.94-2.06-.94-.94-2.06-.94 2.06-2.06.94z\"/><path d=\"M17.41 7.96l-1.37-1.37c-.4-.4-.92-.59-1.43-.59-.52 0-1.04.2-1.43.59L10.3 9.45l-7.72 7.72c-.78.78-.78 2.05 0 2.83L4 21.41c.39.39.9.59 1.41.59.51 0 1.02-.2 1.41-.59l7.78-7.78 2.81-2.81c.8-.78.8-2.07 0-2.86zM5.41 20L4 18.59l7.72-7.72 1.47 1.35L5.41 20z\"/>\n",
              "  </svg>\n",
              "      </button>\n",
              "      \n",
              "  <style>\n",
              "    .colab-df-container {\n",
              "      display:flex;\n",
              "      flex-wrap:wrap;\n",
              "      gap: 12px;\n",
              "    }\n",
              "\n",
              "    .colab-df-convert {\n",
              "      background-color: #E8F0FE;\n",
              "      border: none;\n",
              "      border-radius: 50%;\n",
              "      cursor: pointer;\n",
              "      display: none;\n",
              "      fill: #1967D2;\n",
              "      height: 32px;\n",
              "      padding: 0 0 0 0;\n",
              "      width: 32px;\n",
              "    }\n",
              "\n",
              "    .colab-df-convert:hover {\n",
              "      background-color: #E2EBFA;\n",
              "      box-shadow: 0px 1px 2px rgba(60, 64, 67, 0.3), 0px 1px 3px 1px rgba(60, 64, 67, 0.15);\n",
              "      fill: #174EA6;\n",
              "    }\n",
              "\n",
              "    [theme=dark] .colab-df-convert {\n",
              "      background-color: #3B4455;\n",
              "      fill: #D2E3FC;\n",
              "    }\n",
              "\n",
              "    [theme=dark] .colab-df-convert:hover {\n",
              "      background-color: #434B5C;\n",
              "      box-shadow: 0px 1px 3px 1px rgba(0, 0, 0, 0.15);\n",
              "      filter: drop-shadow(0px 1px 2px rgba(0, 0, 0, 0.3));\n",
              "      fill: #FFFFFF;\n",
              "    }\n",
              "  </style>\n",
              "\n",
              "      <script>\n",
              "        const buttonEl =\n",
              "          document.querySelector('#df-e1cf9b75-72b9-4caa-8f57-45c828ebde60 button.colab-df-convert');\n",
              "        buttonEl.style.display =\n",
              "          google.colab.kernel.accessAllowed ? 'block' : 'none';\n",
              "\n",
              "        async function convertToInteractive(key) {\n",
              "          const element = document.querySelector('#df-e1cf9b75-72b9-4caa-8f57-45c828ebde60');\n",
              "          const dataTable =\n",
              "            await google.colab.kernel.invokeFunction('convertToInteractive',\n",
              "                                                     [key], {});\n",
              "          if (!dataTable) return;\n",
              "\n",
              "          const docLinkHtml = 'Like what you see? Visit the ' +\n",
              "            '<a target=\"_blank\" href=https://colab.research.google.com/notebooks/data_table.ipynb>data table notebook</a>'\n",
              "            + ' to learn more about interactive tables.';\n",
              "          element.innerHTML = '';\n",
              "          dataTable['output_type'] = 'display_data';\n",
              "          await google.colab.output.renderOutput(dataTable, element);\n",
              "          const docLink = document.createElement('div');\n",
              "          docLink.innerHTML = docLinkHtml;\n",
              "          element.appendChild(docLink);\n",
              "        }\n",
              "      </script>\n",
              "    </div>\n",
              "  </div>\n",
              "  "
            ]
          },
          "metadata": {},
          "execution_count": 2048
        }
      ]
    },
    {
      "cell_type": "markdown",
      "source": [
        "<font color=\"royalblue\">**Conclusiones:** \n",
        "En base a la diferencia de información que se cubre con 30 y 50 componentes; es esperado que reduciendo en 20 componentes el entrenamiento, las recomendaciones cambien aproximadamente un 10%, siendo así, que se mantienen 9 de las 10 predicciones. Teniendo que Carreton de Flautas y Migadas ya no aparece, con n_components igual a 30, siendo sustituido por Little Cesarz.\n",
        " </font>"
      ],
      "metadata": {
        "id": "KBdPwyWgCX7I"
      }
    },
    {
      "cell_type": "markdown",
      "source": [
        "#**Ejercicio-6.**\n",
        "Repite los ejercicios 1 a 4 generando ahora la matriz de utilidad en la cual los renglones son los \n",
        "usuarios (user_ID), las columnas los nombres de los restaurantes (name) y las entradas la \n",
        "evaluación dada a la comida (food_rating). Incluye tus conclusiones. "
      ],
      "metadata": {
        "id": "W2S7LI0NC9wE"
      }
    },
    {
      "cell_type": "markdown",
      "source": [
        "Usamos ahora las columnas que nos interesan de la columna rating"
      ],
      "metadata": {
        "id": "Pcxo3xerGKyy"
      }
    },
    {
      "cell_type": "code",
      "source": [
        "rating_columns=[\"userID\",\"food_rating\",\"placeID\"]"
      ],
      "metadata": {
        "id": "OqVVyS4VpuDe"
      },
      "execution_count": 2049,
      "outputs": []
    },
    {
      "cell_type": "markdown",
      "source": [
        "Hacemos lo mismo con location"
      ],
      "metadata": {
        "id": "b5GhB4V-GcTH"
      }
    },
    {
      "cell_type": "code",
      "source": [
        "location_columns=[\"placeID\",\"name\"]"
      ],
      "metadata": {
        "id": "GC6_SKmipuDg"
      },
      "execution_count": 2050,
      "outputs": []
    },
    {
      "cell_type": "markdown",
      "source": [
        "Unimos los 2 dataframes"
      ],
      "metadata": {
        "id": "7HrQI8jgGhMZ"
      }
    },
    {
      "cell_type": "code",
      "source": [
        "df2=pd.merge(rating[rating_columns],location[location_columns],on=\"placeID\")"
      ],
      "metadata": {
        "id": "mWq8Ei6epuDg"
      },
      "execution_count": 2051,
      "outputs": []
    },
    {
      "cell_type": "markdown",
      "source": [
        "Elimamos la U dentro de la columna userID"
      ],
      "metadata": {
        "id": "78-f6DrikAfP"
      }
    },
    {
      "cell_type": "code",
      "source": [
        "df2[\"userID\"] = df2[\"userID\"].apply(lambda x:int(str(x)[1::]))\n",
        "df2.head()"
      ],
      "metadata": {
        "colab": {
          "base_uri": "https://localhost:8080/",
          "height": 206
        },
        "id": "zK-ynk6gkFKT",
        "outputId": "21ff9232-650e-4140-df5d-0bb82ae3d5ca"
      },
      "execution_count": 2052,
      "outputs": [
        {
          "output_type": "execute_result",
          "data": {
            "text/plain": [
              "   userID  food_rating  placeID                    name\n",
              "0    1077            2   135085  Tortas Locas Hipocampo\n",
              "1    1108            2   135085  Tortas Locas Hipocampo\n",
              "2    1081            2   135085  Tortas Locas Hipocampo\n",
              "3    1056            2   135085  Tortas Locas Hipocampo\n",
              "4    1134            1   135085  Tortas Locas Hipocampo"
            ],
            "text/html": [
              "\n",
              "  <div id=\"df-47b46054-ed2c-49f6-a5dd-3d3b32639099\">\n",
              "    <div class=\"colab-df-container\">\n",
              "      <div>\n",
              "<style scoped>\n",
              "    .dataframe tbody tr th:only-of-type {\n",
              "        vertical-align: middle;\n",
              "    }\n",
              "\n",
              "    .dataframe tbody tr th {\n",
              "        vertical-align: top;\n",
              "    }\n",
              "\n",
              "    .dataframe thead th {\n",
              "        text-align: right;\n",
              "    }\n",
              "</style>\n",
              "<table border=\"1\" class=\"dataframe\">\n",
              "  <thead>\n",
              "    <tr style=\"text-align: right;\">\n",
              "      <th></th>\n",
              "      <th>userID</th>\n",
              "      <th>food_rating</th>\n",
              "      <th>placeID</th>\n",
              "      <th>name</th>\n",
              "    </tr>\n",
              "  </thead>\n",
              "  <tbody>\n",
              "    <tr>\n",
              "      <th>0</th>\n",
              "      <td>1077</td>\n",
              "      <td>2</td>\n",
              "      <td>135085</td>\n",
              "      <td>Tortas Locas Hipocampo</td>\n",
              "    </tr>\n",
              "    <tr>\n",
              "      <th>1</th>\n",
              "      <td>1108</td>\n",
              "      <td>2</td>\n",
              "      <td>135085</td>\n",
              "      <td>Tortas Locas Hipocampo</td>\n",
              "    </tr>\n",
              "    <tr>\n",
              "      <th>2</th>\n",
              "      <td>1081</td>\n",
              "      <td>2</td>\n",
              "      <td>135085</td>\n",
              "      <td>Tortas Locas Hipocampo</td>\n",
              "    </tr>\n",
              "    <tr>\n",
              "      <th>3</th>\n",
              "      <td>1056</td>\n",
              "      <td>2</td>\n",
              "      <td>135085</td>\n",
              "      <td>Tortas Locas Hipocampo</td>\n",
              "    </tr>\n",
              "    <tr>\n",
              "      <th>4</th>\n",
              "      <td>1134</td>\n",
              "      <td>1</td>\n",
              "      <td>135085</td>\n",
              "      <td>Tortas Locas Hipocampo</td>\n",
              "    </tr>\n",
              "  </tbody>\n",
              "</table>\n",
              "</div>\n",
              "      <button class=\"colab-df-convert\" onclick=\"convertToInteractive('df-47b46054-ed2c-49f6-a5dd-3d3b32639099')\"\n",
              "              title=\"Convert this dataframe to an interactive table.\"\n",
              "              style=\"display:none;\">\n",
              "        \n",
              "  <svg xmlns=\"http://www.w3.org/2000/svg\" height=\"24px\"viewBox=\"0 0 24 24\"\n",
              "       width=\"24px\">\n",
              "    <path d=\"M0 0h24v24H0V0z\" fill=\"none\"/>\n",
              "    <path d=\"M18.56 5.44l.94 2.06.94-2.06 2.06-.94-2.06-.94-.94-2.06-.94 2.06-2.06.94zm-11 1L8.5 8.5l.94-2.06 2.06-.94-2.06-.94L8.5 2.5l-.94 2.06-2.06.94zm10 10l.94 2.06.94-2.06 2.06-.94-2.06-.94-.94-2.06-.94 2.06-2.06.94z\"/><path d=\"M17.41 7.96l-1.37-1.37c-.4-.4-.92-.59-1.43-.59-.52 0-1.04.2-1.43.59L10.3 9.45l-7.72 7.72c-.78.78-.78 2.05 0 2.83L4 21.41c.39.39.9.59 1.41.59.51 0 1.02-.2 1.41-.59l7.78-7.78 2.81-2.81c.8-.78.8-2.07 0-2.86zM5.41 20L4 18.59l7.72-7.72 1.47 1.35L5.41 20z\"/>\n",
              "  </svg>\n",
              "      </button>\n",
              "      \n",
              "  <style>\n",
              "    .colab-df-container {\n",
              "      display:flex;\n",
              "      flex-wrap:wrap;\n",
              "      gap: 12px;\n",
              "    }\n",
              "\n",
              "    .colab-df-convert {\n",
              "      background-color: #E8F0FE;\n",
              "      border: none;\n",
              "      border-radius: 50%;\n",
              "      cursor: pointer;\n",
              "      display: none;\n",
              "      fill: #1967D2;\n",
              "      height: 32px;\n",
              "      padding: 0 0 0 0;\n",
              "      width: 32px;\n",
              "    }\n",
              "\n",
              "    .colab-df-convert:hover {\n",
              "      background-color: #E2EBFA;\n",
              "      box-shadow: 0px 1px 2px rgba(60, 64, 67, 0.3), 0px 1px 3px 1px rgba(60, 64, 67, 0.15);\n",
              "      fill: #174EA6;\n",
              "    }\n",
              "\n",
              "    [theme=dark] .colab-df-convert {\n",
              "      background-color: #3B4455;\n",
              "      fill: #D2E3FC;\n",
              "    }\n",
              "\n",
              "    [theme=dark] .colab-df-convert:hover {\n",
              "      background-color: #434B5C;\n",
              "      box-shadow: 0px 1px 3px 1px rgba(0, 0, 0, 0.15);\n",
              "      filter: drop-shadow(0px 1px 2px rgba(0, 0, 0, 0.3));\n",
              "      fill: #FFFFFF;\n",
              "    }\n",
              "  </style>\n",
              "\n",
              "      <script>\n",
              "        const buttonEl =\n",
              "          document.querySelector('#df-47b46054-ed2c-49f6-a5dd-3d3b32639099 button.colab-df-convert');\n",
              "        buttonEl.style.display =\n",
              "          google.colab.kernel.accessAllowed ? 'block' : 'none';\n",
              "\n",
              "        async function convertToInteractive(key) {\n",
              "          const element = document.querySelector('#df-47b46054-ed2c-49f6-a5dd-3d3b32639099');\n",
              "          const dataTable =\n",
              "            await google.colab.kernel.invokeFunction('convertToInteractive',\n",
              "                                                     [key], {});\n",
              "          if (!dataTable) return;\n",
              "\n",
              "          const docLinkHtml = 'Like what you see? Visit the ' +\n",
              "            '<a target=\"_blank\" href=https://colab.research.google.com/notebooks/data_table.ipynb>data table notebook</a>'\n",
              "            + ' to learn more about interactive tables.';\n",
              "          element.innerHTML = '';\n",
              "          dataTable['output_type'] = 'display_data';\n",
              "          await google.colab.output.renderOutput(dataTable, element);\n",
              "          const docLink = document.createElement('div');\n",
              "          docLink.innerHTML = docLinkHtml;\n",
              "          element.appendChild(docLink);\n",
              "        }\n",
              "      </script>\n",
              "    </div>\n",
              "  </div>\n",
              "  "
            ]
          },
          "metadata": {},
          "execution_count": 2052
        }
      ]
    },
    {
      "cell_type": "markdown",
      "source": [
        "Creamos la matriz de utilidad"
      ],
      "metadata": {
        "id": "tRHcewhgGnsr"
      }
    },
    {
      "cell_type": "code",
      "source": [
        "UtMx2 = df2.pivot_table(values='food_rating', index='userID', columns='name', fill_value=0)"
      ],
      "metadata": {
        "id": "x6uBleJUC_AU"
      },
      "execution_count": 2053,
      "outputs": []
    },
    {
      "cell_type": "markdown",
      "source": [
        "Mostramos el tamaño de la matriz de utilidad"
      ],
      "metadata": {
        "id": "7rCTkJWHWFbR"
      }
    },
    {
      "cell_type": "code",
      "source": [
        "UtMx2.shape"
      ],
      "metadata": {
        "colab": {
          "base_uri": "https://localhost:8080/"
        },
        "id": "6MnrzvOBWl1-",
        "outputId": "aab9c698-25af-4f00-ac98-3b69d3b71c9d"
      },
      "execution_count": 2054,
      "outputs": [
        {
          "output_type": "execute_result",
          "data": {
            "text/plain": [
              "(138, 129)"
            ]
          },
          "metadata": {},
          "execution_count": 2054
        }
      ]
    },
    {
      "cell_type": "markdown",
      "source": [
        "Desplegamos las primeras 10 filas"
      ],
      "metadata": {
        "id": "by_I2ZA3WQF4"
      }
    },
    {
      "cell_type": "code",
      "source": [
        "UtMx2.head()"
      ],
      "metadata": {
        "colab": {
          "base_uri": "https://localhost:8080/",
          "height": 400
        },
        "id": "vEIGrAQxYRoX",
        "outputId": "b8ecd7c0-8e60-43e1-b581-1e8c15710d61"
      },
      "execution_count": 2055,
      "outputs": [
        {
          "output_type": "execute_result",
          "data": {
            "text/plain": [
              "name    Abondance Restaurante Bar  Arrachela Grill  Cabana Huasteca  \\\n",
              "userID                                                                \n",
              "1001                            0                0                0   \n",
              "1002                            0                0                0   \n",
              "1003                            0                0                2   \n",
              "1004                            0                0                0   \n",
              "1005                            0                0                0   \n",
              "\n",
              "name    Cafe Chaires  Cafeteria cenidet  Cafeteria y Restaurant El Pacifico  \\\n",
              "userID                                                                        \n",
              "1001               0                  0                                   0   \n",
              "1002               0                  0                                   0   \n",
              "1003               0                  0                                   0   \n",
              "1004               0                  0                                   2   \n",
              "1005               0                  0                                   1   \n",
              "\n",
              "name    Carls Jr  Carnitas Mata  Calle 16 de Septiembre  \\\n",
              "userID                                                    \n",
              "1001           0                                      0   \n",
              "1002           0                                      0   \n",
              "1003           0                                      0   \n",
              "1004           0                                      0   \n",
              "1005           0                                      0   \n",
              "\n",
              "name    Carreton de Flautas y Migadas  Cenaduria El RincÃ³n de Tlaquepaque  \\\n",
              "userID                                                                       \n",
              "1001                                0                                    0   \n",
              "1002                                0                                    0   \n",
              "1003                                0                                    0   \n",
              "1004                                0                                    0   \n",
              "1005                                0                                    0   \n",
              "\n",
              "name    ...  puesto de tacos  rockabilly   shi ro ie  sirloin stockade  \\\n",
              "userID  ...                                                              \n",
              "1001    ...                2            0          0                 0   \n",
              "1002    ...                2            0          0                 0   \n",
              "1003    ...                2            2          0                 0   \n",
              "1004    ...                0            0          0                 0   \n",
              "1005    ...                0            0          0                 0   \n",
              "\n",
              "name    tacos abi  tacos de barbacoa enfrente del Tec  tacos de la estacion  \\\n",
              "userID                                                                        \n",
              "1001            0                                   0                     0   \n",
              "1002            0                                   0                     0   \n",
              "1003            0                                   0                     0   \n",
              "1004            0                                   0                     0   \n",
              "1005            0                                   0                     0   \n",
              "\n",
              "name    tacos los volcanes  tortas hawai  vips  \n",
              "userID                                          \n",
              "1001                     0             0     0  \n",
              "1002                     0             0     0  \n",
              "1003                     0             0     0  \n",
              "1004                     2             0     0  \n",
              "1005                     0             0     0  \n",
              "\n",
              "[5 rows x 129 columns]"
            ],
            "text/html": [
              "\n",
              "  <div id=\"df-2b94778a-8d5c-490a-b346-84f51917591f\">\n",
              "    <div class=\"colab-df-container\">\n",
              "      <div>\n",
              "<style scoped>\n",
              "    .dataframe tbody tr th:only-of-type {\n",
              "        vertical-align: middle;\n",
              "    }\n",
              "\n",
              "    .dataframe tbody tr th {\n",
              "        vertical-align: top;\n",
              "    }\n",
              "\n",
              "    .dataframe thead th {\n",
              "        text-align: right;\n",
              "    }\n",
              "</style>\n",
              "<table border=\"1\" class=\"dataframe\">\n",
              "  <thead>\n",
              "    <tr style=\"text-align: right;\">\n",
              "      <th>name</th>\n",
              "      <th>Abondance Restaurante Bar</th>\n",
              "      <th>Arrachela Grill</th>\n",
              "      <th>Cabana Huasteca</th>\n",
              "      <th>Cafe Chaires</th>\n",
              "      <th>Cafeteria cenidet</th>\n",
              "      <th>Cafeteria y Restaurant El Pacifico</th>\n",
              "      <th>Carls Jr</th>\n",
              "      <th>Carnitas Mata  Calle 16 de Septiembre</th>\n",
              "      <th>Carreton de Flautas y Migadas</th>\n",
              "      <th>Cenaduria El RincÃ³n de Tlaquepaque</th>\n",
              "      <th>...</th>\n",
              "      <th>puesto de tacos</th>\n",
              "      <th>rockabilly</th>\n",
              "      <th>shi ro ie</th>\n",
              "      <th>sirloin stockade</th>\n",
              "      <th>tacos abi</th>\n",
              "      <th>tacos de barbacoa enfrente del Tec</th>\n",
              "      <th>tacos de la estacion</th>\n",
              "      <th>tacos los volcanes</th>\n",
              "      <th>tortas hawai</th>\n",
              "      <th>vips</th>\n",
              "    </tr>\n",
              "    <tr>\n",
              "      <th>userID</th>\n",
              "      <th></th>\n",
              "      <th></th>\n",
              "      <th></th>\n",
              "      <th></th>\n",
              "      <th></th>\n",
              "      <th></th>\n",
              "      <th></th>\n",
              "      <th></th>\n",
              "      <th></th>\n",
              "      <th></th>\n",
              "      <th></th>\n",
              "      <th></th>\n",
              "      <th></th>\n",
              "      <th></th>\n",
              "      <th></th>\n",
              "      <th></th>\n",
              "      <th></th>\n",
              "      <th></th>\n",
              "      <th></th>\n",
              "      <th></th>\n",
              "      <th></th>\n",
              "    </tr>\n",
              "  </thead>\n",
              "  <tbody>\n",
              "    <tr>\n",
              "      <th>1001</th>\n",
              "      <td>0</td>\n",
              "      <td>0</td>\n",
              "      <td>0</td>\n",
              "      <td>0</td>\n",
              "      <td>0</td>\n",
              "      <td>0</td>\n",
              "      <td>0</td>\n",
              "      <td>0</td>\n",
              "      <td>0</td>\n",
              "      <td>0</td>\n",
              "      <td>...</td>\n",
              "      <td>2</td>\n",
              "      <td>0</td>\n",
              "      <td>0</td>\n",
              "      <td>0</td>\n",
              "      <td>0</td>\n",
              "      <td>0</td>\n",
              "      <td>0</td>\n",
              "      <td>0</td>\n",
              "      <td>0</td>\n",
              "      <td>0</td>\n",
              "    </tr>\n",
              "    <tr>\n",
              "      <th>1002</th>\n",
              "      <td>0</td>\n",
              "      <td>0</td>\n",
              "      <td>0</td>\n",
              "      <td>0</td>\n",
              "      <td>0</td>\n",
              "      <td>0</td>\n",
              "      <td>0</td>\n",
              "      <td>0</td>\n",
              "      <td>0</td>\n",
              "      <td>0</td>\n",
              "      <td>...</td>\n",
              "      <td>2</td>\n",
              "      <td>0</td>\n",
              "      <td>0</td>\n",
              "      <td>0</td>\n",
              "      <td>0</td>\n",
              "      <td>0</td>\n",
              "      <td>0</td>\n",
              "      <td>0</td>\n",
              "      <td>0</td>\n",
              "      <td>0</td>\n",
              "    </tr>\n",
              "    <tr>\n",
              "      <th>1003</th>\n",
              "      <td>0</td>\n",
              "      <td>0</td>\n",
              "      <td>2</td>\n",
              "      <td>0</td>\n",
              "      <td>0</td>\n",
              "      <td>0</td>\n",
              "      <td>0</td>\n",
              "      <td>0</td>\n",
              "      <td>0</td>\n",
              "      <td>0</td>\n",
              "      <td>...</td>\n",
              "      <td>2</td>\n",
              "      <td>2</td>\n",
              "      <td>0</td>\n",
              "      <td>0</td>\n",
              "      <td>0</td>\n",
              "      <td>0</td>\n",
              "      <td>0</td>\n",
              "      <td>0</td>\n",
              "      <td>0</td>\n",
              "      <td>0</td>\n",
              "    </tr>\n",
              "    <tr>\n",
              "      <th>1004</th>\n",
              "      <td>0</td>\n",
              "      <td>0</td>\n",
              "      <td>0</td>\n",
              "      <td>0</td>\n",
              "      <td>0</td>\n",
              "      <td>2</td>\n",
              "      <td>0</td>\n",
              "      <td>0</td>\n",
              "      <td>0</td>\n",
              "      <td>0</td>\n",
              "      <td>...</td>\n",
              "      <td>0</td>\n",
              "      <td>0</td>\n",
              "      <td>0</td>\n",
              "      <td>0</td>\n",
              "      <td>0</td>\n",
              "      <td>0</td>\n",
              "      <td>0</td>\n",
              "      <td>2</td>\n",
              "      <td>0</td>\n",
              "      <td>0</td>\n",
              "    </tr>\n",
              "    <tr>\n",
              "      <th>1005</th>\n",
              "      <td>0</td>\n",
              "      <td>0</td>\n",
              "      <td>0</td>\n",
              "      <td>0</td>\n",
              "      <td>0</td>\n",
              "      <td>1</td>\n",
              "      <td>0</td>\n",
              "      <td>0</td>\n",
              "      <td>0</td>\n",
              "      <td>0</td>\n",
              "      <td>...</td>\n",
              "      <td>0</td>\n",
              "      <td>0</td>\n",
              "      <td>0</td>\n",
              "      <td>0</td>\n",
              "      <td>0</td>\n",
              "      <td>0</td>\n",
              "      <td>0</td>\n",
              "      <td>0</td>\n",
              "      <td>0</td>\n",
              "      <td>0</td>\n",
              "    </tr>\n",
              "  </tbody>\n",
              "</table>\n",
              "<p>5 rows × 129 columns</p>\n",
              "</div>\n",
              "      <button class=\"colab-df-convert\" onclick=\"convertToInteractive('df-2b94778a-8d5c-490a-b346-84f51917591f')\"\n",
              "              title=\"Convert this dataframe to an interactive table.\"\n",
              "              style=\"display:none;\">\n",
              "        \n",
              "  <svg xmlns=\"http://www.w3.org/2000/svg\" height=\"24px\"viewBox=\"0 0 24 24\"\n",
              "       width=\"24px\">\n",
              "    <path d=\"M0 0h24v24H0V0z\" fill=\"none\"/>\n",
              "    <path d=\"M18.56 5.44l.94 2.06.94-2.06 2.06-.94-2.06-.94-.94-2.06-.94 2.06-2.06.94zm-11 1L8.5 8.5l.94-2.06 2.06-.94-2.06-.94L8.5 2.5l-.94 2.06-2.06.94zm10 10l.94 2.06.94-2.06 2.06-.94-2.06-.94-.94-2.06-.94 2.06-2.06.94z\"/><path d=\"M17.41 7.96l-1.37-1.37c-.4-.4-.92-.59-1.43-.59-.52 0-1.04.2-1.43.59L10.3 9.45l-7.72 7.72c-.78.78-.78 2.05 0 2.83L4 21.41c.39.39.9.59 1.41.59.51 0 1.02-.2 1.41-.59l7.78-7.78 2.81-2.81c.8-.78.8-2.07 0-2.86zM5.41 20L4 18.59l7.72-7.72 1.47 1.35L5.41 20z\"/>\n",
              "  </svg>\n",
              "      </button>\n",
              "      \n",
              "  <style>\n",
              "    .colab-df-container {\n",
              "      display:flex;\n",
              "      flex-wrap:wrap;\n",
              "      gap: 12px;\n",
              "    }\n",
              "\n",
              "    .colab-df-convert {\n",
              "      background-color: #E8F0FE;\n",
              "      border: none;\n",
              "      border-radius: 50%;\n",
              "      cursor: pointer;\n",
              "      display: none;\n",
              "      fill: #1967D2;\n",
              "      height: 32px;\n",
              "      padding: 0 0 0 0;\n",
              "      width: 32px;\n",
              "    }\n",
              "\n",
              "    .colab-df-convert:hover {\n",
              "      background-color: #E2EBFA;\n",
              "      box-shadow: 0px 1px 2px rgba(60, 64, 67, 0.3), 0px 1px 3px 1px rgba(60, 64, 67, 0.15);\n",
              "      fill: #174EA6;\n",
              "    }\n",
              "\n",
              "    [theme=dark] .colab-df-convert {\n",
              "      background-color: #3B4455;\n",
              "      fill: #D2E3FC;\n",
              "    }\n",
              "\n",
              "    [theme=dark] .colab-df-convert:hover {\n",
              "      background-color: #434B5C;\n",
              "      box-shadow: 0px 1px 3px 1px rgba(0, 0, 0, 0.15);\n",
              "      filter: drop-shadow(0px 1px 2px rgba(0, 0, 0, 0.3));\n",
              "      fill: #FFFFFF;\n",
              "    }\n",
              "  </style>\n",
              "\n",
              "      <script>\n",
              "        const buttonEl =\n",
              "          document.querySelector('#df-2b94778a-8d5c-490a-b346-84f51917591f button.colab-df-convert');\n",
              "        buttonEl.style.display =\n",
              "          google.colab.kernel.accessAllowed ? 'block' : 'none';\n",
              "\n",
              "        async function convertToInteractive(key) {\n",
              "          const element = document.querySelector('#df-2b94778a-8d5c-490a-b346-84f51917591f');\n",
              "          const dataTable =\n",
              "            await google.colab.kernel.invokeFunction('convertToInteractive',\n",
              "                                                     [key], {});\n",
              "          if (!dataTable) return;\n",
              "\n",
              "          const docLinkHtml = 'Like what you see? Visit the ' +\n",
              "            '<a target=\"_blank\" href=https://colab.research.google.com/notebooks/data_table.ipynb>data table notebook</a>'\n",
              "            + ' to learn more about interactive tables.';\n",
              "          element.innerHTML = '';\n",
              "          dataTable['output_type'] = 'display_data';\n",
              "          await google.colab.output.renderOutput(dataTable, element);\n",
              "          const docLink = document.createElement('div');\n",
              "          docLink.innerHTML = docLinkHtml;\n",
              "          element.appendChild(docLink);\n",
              "        }\n",
              "      </script>\n",
              "    </div>\n",
              "  </div>\n",
              "  "
            ]
          },
          "metadata": {},
          "execution_count": 2055
        }
      ]
    },
    {
      "cell_type": "markdown",
      "source": [
        "Invertimos la matriz de utilidad"
      ],
      "metadata": {
        "id": "inbxwsZ7G4iX"
      }
    },
    {
      "cell_type": "code",
      "source": [
        "X = UtMx2.T \n",
        "X.shape"
      ],
      "metadata": {
        "id": "nEJOxMahqvDO",
        "colab": {
          "base_uri": "https://localhost:8080/"
        },
        "outputId": "e4b720fe-ad58-4193-aa83-c6a48311c2a5"
      },
      "execution_count": 2056,
      "outputs": [
        {
          "output_type": "execute_result",
          "data": {
            "text/plain": [
              "(129, 138)"
            ]
          },
          "metadata": {},
          "execution_count": 2056
        }
      ]
    },
    {
      "cell_type": "code",
      "source": [
        "import matplotlib.pyplot as plt\n",
        "SVD = TruncatedSVD(n_components=128, random_state=1)  \n",
        "SVD.fit(X)\n",
        "cantidadList = []\n",
        "for i in range(136):\n",
        "  num_sv = i  \n",
        "  cantidad = (100 * (1- (SVD.singular_values_[0:num_sv]).sum() / (SVD.singular_values_).sum()))\n",
        "  cantidadList.append(cantidad)\n",
        "roll3 = np.cumsum(SVD.explained_variance_ratio_)\n",
        "plt.scatter(range(len(SVD.explained_variance_ratio_)), SVD.explained_variance_ratio_)\n",
        "plt.show()\n",
        "plt.scatter(range(len(roll3)), roll3)\n",
        "plt.show()"
      ],
      "metadata": {
        "id": "556x4Jisq6pD",
        "colab": {
          "base_uri": "https://localhost:8080/",
          "height": 513
        },
        "outputId": "ed49d76f-b8a4-46d5-e1a1-0c561e28d980"
      },
      "execution_count": 2057,
      "outputs": [
        {
          "output_type": "display_data",
          "data": {
            "text/plain": [
              "<Figure size 432x288 with 1 Axes>"
            ],
            "image/png": "[encoded data removed]"
          },
          "metadata": {
            "needs_background": "light"
          }
        },
        {
          "output_type": "display_data",
          "data": {
            "text/plain": [
              "<Figure size 432x288 with 1 Axes>"
            ],
            "image/png": "[encoded data removed]"
          },
          "metadata": {
            "needs_background": "light"
          }
        }
      ]
    },
    {
      "cell_type": "code",
      "source": [
        "SVD.singular_values_.ravel()"
      ],
      "metadata": {
        "colab": {
          "base_uri": "https://localhost:8080/"
        },
        "outputId": "49d28b32-7fcf-4099-c251-870a45871705",
        "id": "LXeIbuWqHNTK"
      },
      "execution_count": 2058,
      "outputs": [
        {
          "output_type": "execute_result",
          "data": {
            "text/plain": [
              "array([18.85436345, 12.05456493, 10.07319722,  9.27934973,  8.95988034,\n",
              "        8.83007545,  8.81945555,  8.58240932,  8.01193952,  7.84658041,\n",
              "        7.36115248,  7.35619144,  7.09998786,  6.87249421,  6.76721627,\n",
              "        6.51902415,  6.35901328,  6.28707527,  5.9079457 ,  5.84547536,\n",
              "        5.77794593,  5.5658697 ,  5.52116339,  5.42698527,  5.39480801,\n",
              "        5.2574587 ,  5.12234786,  5.02365378,  5.02231066,  4.89248649,\n",
              "        4.70140189,  4.68438246,  4.63438747,  4.55349022,  4.52469699,\n",
              "        4.4618643 ,  4.3452676 ,  4.34187458,  4.32638885,  4.24769259,\n",
              "        4.1261896 ,  4.04231891,  4.02634927,  3.84124555,  3.77844237,\n",
              "        3.69410306,  3.65058383,  3.64874525,  3.50456642,  3.38710024,\n",
              "        3.34267731,  3.27670767,  3.20254017,  3.17842606,  3.17113124,\n",
              "        3.08308895,  3.03969744,  2.87373133,  2.848623  ,  2.82600856,\n",
              "        2.81710935,  2.72051244,  2.61566036,  2.58656806,  2.5697406 ,\n",
              "        2.51517817,  2.51172355,  2.39543556,  2.35645366,  2.2931277 ,\n",
              "        2.23020508,  2.21331568,  2.16675259,  2.08047092,  2.07086859,\n",
              "        2.06115632,  1.99557564,  1.95182267,  1.89446604,  1.8292905 ,\n",
              "        1.82711967,  1.79525584,  1.77861739,  1.64582817,  1.6318421 ,\n",
              "        1.59403872,  1.55941277,  1.48864714,  1.44856995,  1.3920089 ,\n",
              "        1.33964869,  1.31155473,  1.23297472,  1.22460975,  1.20013245,\n",
              "        1.11888683,  1.06282839,  1.06214336,  1.00399479,  0.99393583,\n",
              "        0.98692876,  0.97276301,  0.9436092 ,  0.88317411,  0.80870751,\n",
              "        0.75252251,  0.74783561,  0.68145162,  0.61668981,  0.58938591,\n",
              "        0.57695849,  0.52799621,  0.45980564,  0.40219775,  0.3971483 ,\n",
              "        0.36421156,  0.35185243,  0.33719712,  0.26805517,  0.25526402,\n",
              "        0.2310839 ,  0.20588267,  0.17401801,  0.1482529 ,  0.10387479,\n",
              "        0.09654635,  0.084743  ,  0.06507207])"
            ]
          },
          "metadata": {},
          "execution_count": 2058
        }
      ]
    },
    {
      "cell_type": "markdown",
      "source": [
        "Cantidad de valores singulares"
      ],
      "metadata": {
        "id": "5BU4NGAlHNTL"
      }
    },
    {
      "cell_type": "code",
      "source": [
        "len(SVD.singular_values_.ravel())"
      ],
      "metadata": {
        "colab": {
          "base_uri": "https://localhost:8080/"
        },
        "outputId": "ae3119f9-c6ca-48ee-eefe-4acd2f9cfc9e",
        "id": "85hBWahwHNTL"
      },
      "execution_count": 2059,
      "outputs": [
        {
          "output_type": "execute_result",
          "data": {
            "text/plain": [
              "128"
            ]
          },
          "metadata": {},
          "execution_count": 2059
        }
      ]
    },
    {
      "cell_type": "markdown",
      "source": [
        "Obtenemos la cantidad de información que se tiene con 53 componentes"
      ],
      "metadata": {
        "id": "A9HMvRyLHR1p"
      }
    },
    {
      "cell_type": "code",
      "source": [
        "information_quantity(53)"
      ],
      "metadata": {
        "id": "dCLVY11Era73",
        "colab": {
          "base_uri": "https://localhost:8080/"
        },
        "outputId": "7ae826ab-e0bc-400b-c84f-c1746de56855"
      },
      "execution_count": 2060,
      "outputs": [
        {
          "output_type": "execute_result",
          "data": {
            "text/plain": [
              "90.47366813817212"
            ]
          },
          "metadata": {},
          "execution_count": 2060
        }
      ]
    },
    {
      "cell_type": "markdown",
      "source": [
        "Mostramos las recomendaciones con n_components = 53"
      ],
      "metadata": {
        "id": "FLuO5clHIBga"
      }
    },
    {
      "cell_type": "code",
      "source": [
        "recomendation(53,\"Subway\",UtMx2.columns)"
      ],
      "metadata": {
        "id": "pcJV39Dkx6-j",
        "colab": {
          "base_uri": "https://localhost:8080/",
          "height": 363
        },
        "outputId": "e1ce56d0-50aa-4652-fcec-f0ffaf9ee416"
      },
      "execution_count": 2061,
      "outputs": [
        {
          "output_type": "execute_result",
          "data": {
            "text/plain": [
              "           0                                               name\n",
              "58  0.955178                                   Restaurant Teely\n",
              "60  0.888398  Restaurant and Bar and Clothesline Carlos N Ch...\n",
              "85  0.854356                                    Rincon del Bife\n",
              "46  0.588410                                          Paniroles\n",
              "97  0.585900                                               Vips\n",
              "41  0.471538                                 Mariscos Tia Licha\n",
              "86  0.433630                               Sanborns Casa Piedra\n",
              "45  0.432079                                             Mikasa\n",
              "51  0.424337                        Restaurant Bar Coty y Pablo\n",
              "55  0.341181                           Restaurant Las Mananitas"
            ],
            "text/html": [
              "\n",
              "  <div id=\"df-926da422-c3d9-45b3-8cee-f65679ac9563\">\n",
              "    <div class=\"colab-df-container\">\n",
              "      <div>\n",
              "<style scoped>\n",
              "    .dataframe tbody tr th:only-of-type {\n",
              "        vertical-align: middle;\n",
              "    }\n",
              "\n",
              "    .dataframe tbody tr th {\n",
              "        vertical-align: top;\n",
              "    }\n",
              "\n",
              "    .dataframe thead th {\n",
              "        text-align: right;\n",
              "    }\n",
              "</style>\n",
              "<table border=\"1\" class=\"dataframe\">\n",
              "  <thead>\n",
              "    <tr style=\"text-align: right;\">\n",
              "      <th></th>\n",
              "      <th>0</th>\n",
              "      <th>name</th>\n",
              "    </tr>\n",
              "  </thead>\n",
              "  <tbody>\n",
              "    <tr>\n",
              "      <th>58</th>\n",
              "      <td>0.955178</td>\n",
              "      <td>Restaurant Teely</td>\n",
              "    </tr>\n",
              "    <tr>\n",
              "      <th>60</th>\n",
              "      <td>0.888398</td>\n",
              "      <td>Restaurant and Bar and Clothesline Carlos N Ch...</td>\n",
              "    </tr>\n",
              "    <tr>\n",
              "      <th>85</th>\n",
              "      <td>0.854356</td>\n",
              "      <td>Rincon del Bife</td>\n",
              "    </tr>\n",
              "    <tr>\n",
              "      <th>46</th>\n",
              "      <td>0.588410</td>\n",
              "      <td>Paniroles</td>\n",
              "    </tr>\n",
              "    <tr>\n",
              "      <th>97</th>\n",
              "      <td>0.585900</td>\n",
              "      <td>Vips</td>\n",
              "    </tr>\n",
              "    <tr>\n",
              "      <th>41</th>\n",
              "      <td>0.471538</td>\n",
              "      <td>Mariscos Tia Licha</td>\n",
              "    </tr>\n",
              "    <tr>\n",
              "      <th>86</th>\n",
              "      <td>0.433630</td>\n",
              "      <td>Sanborns Casa Piedra</td>\n",
              "    </tr>\n",
              "    <tr>\n",
              "      <th>45</th>\n",
              "      <td>0.432079</td>\n",
              "      <td>Mikasa</td>\n",
              "    </tr>\n",
              "    <tr>\n",
              "      <th>51</th>\n",
              "      <td>0.424337</td>\n",
              "      <td>Restaurant Bar Coty y Pablo</td>\n",
              "    </tr>\n",
              "    <tr>\n",
              "      <th>55</th>\n",
              "      <td>0.341181</td>\n",
              "      <td>Restaurant Las Mananitas</td>\n",
              "    </tr>\n",
              "  </tbody>\n",
              "</table>\n",
              "</div>\n",
              "      <button class=\"colab-df-convert\" onclick=\"convertToInteractive('df-926da422-c3d9-45b3-8cee-f65679ac9563')\"\n",
              "              title=\"Convert this dataframe to an interactive table.\"\n",
              "              style=\"display:none;\">\n",
              "        \n",
              "  <svg xmlns=\"http://www.w3.org/2000/svg\" height=\"24px\"viewBox=\"0 0 24 24\"\n",
              "       width=\"24px\">\n",
              "    <path d=\"M0 0h24v24H0V0z\" fill=\"none\"/>\n",
              "    <path d=\"M18.56 5.44l.94 2.06.94-2.06 2.06-.94-2.06-.94-.94-2.06-.94 2.06-2.06.94zm-11 1L8.5 8.5l.94-2.06 2.06-.94-2.06-.94L8.5 2.5l-.94 2.06-2.06.94zm10 10l.94 2.06.94-2.06 2.06-.94-2.06-.94-.94-2.06-.94 2.06-2.06.94z\"/><path d=\"M17.41 7.96l-1.37-1.37c-.4-.4-.92-.59-1.43-.59-.52 0-1.04.2-1.43.59L10.3 9.45l-7.72 7.72c-.78.78-.78 2.05 0 2.83L4 21.41c.39.39.9.59 1.41.59.51 0 1.02-.2 1.41-.59l7.78-7.78 2.81-2.81c.8-.78.8-2.07 0-2.86zM5.41 20L4 18.59l7.72-7.72 1.47 1.35L5.41 20z\"/>\n",
              "  </svg>\n",
              "      </button>\n",
              "      \n",
              "  <style>\n",
              "    .colab-df-container {\n",
              "      display:flex;\n",
              "      flex-wrap:wrap;\n",
              "      gap: 12px;\n",
              "    }\n",
              "\n",
              "    .colab-df-convert {\n",
              "      background-color: #E8F0FE;\n",
              "      border: none;\n",
              "      border-radius: 50%;\n",
              "      cursor: pointer;\n",
              "      display: none;\n",
              "      fill: #1967D2;\n",
              "      height: 32px;\n",
              "      padding: 0 0 0 0;\n",
              "      width: 32px;\n",
              "    }\n",
              "\n",
              "    .colab-df-convert:hover {\n",
              "      background-color: #E2EBFA;\n",
              "      box-shadow: 0px 1px 2px rgba(60, 64, 67, 0.3), 0px 1px 3px 1px rgba(60, 64, 67, 0.15);\n",
              "      fill: #174EA6;\n",
              "    }\n",
              "\n",
              "    [theme=dark] .colab-df-convert {\n",
              "      background-color: #3B4455;\n",
              "      fill: #D2E3FC;\n",
              "    }\n",
              "\n",
              "    [theme=dark] .colab-df-convert:hover {\n",
              "      background-color: #434B5C;\n",
              "      box-shadow: 0px 1px 3px 1px rgba(0, 0, 0, 0.15);\n",
              "      filter: drop-shadow(0px 1px 2px rgba(0, 0, 0, 0.3));\n",
              "      fill: #FFFFFF;\n",
              "    }\n",
              "  </style>\n",
              "\n",
              "      <script>\n",
              "        const buttonEl =\n",
              "          document.querySelector('#df-926da422-c3d9-45b3-8cee-f65679ac9563 button.colab-df-convert');\n",
              "        buttonEl.style.display =\n",
              "          google.colab.kernel.accessAllowed ? 'block' : 'none';\n",
              "\n",
              "        async function convertToInteractive(key) {\n",
              "          const element = document.querySelector('#df-926da422-c3d9-45b3-8cee-f65679ac9563');\n",
              "          const dataTable =\n",
              "            await google.colab.kernel.invokeFunction('convertToInteractive',\n",
              "                                                     [key], {});\n",
              "          if (!dataTable) return;\n",
              "\n",
              "          const docLinkHtml = 'Like what you see? Visit the ' +\n",
              "            '<a target=\"_blank\" href=https://colab.research.google.com/notebooks/data_table.ipynb>data table notebook</a>'\n",
              "            + ' to learn more about interactive tables.';\n",
              "          element.innerHTML = '';\n",
              "          dataTable['output_type'] = 'display_data';\n",
              "          await google.colab.output.renderOutput(dataTable, element);\n",
              "          const docLink = document.createElement('div');\n",
              "          docLink.innerHTML = docLinkHtml;\n",
              "          element.appendChild(docLink);\n",
              "        }\n",
              "      </script>\n",
              "    </div>\n",
              "  </div>\n",
              "  "
            ]
          },
          "metadata": {},
          "execution_count": 2061
        }
      ]
    },
    {
      "cell_type": "markdown",
      "source": [
        "Ahora con n_components = 30"
      ],
      "metadata": {
        "id": "nMk1NzPzISbj"
      }
    },
    {
      "cell_type": "code",
      "source": [
        "recomendation(30,\"Subway\",UtMx2.columns)"
      ],
      "metadata": {
        "colab": {
          "base_uri": "https://localhost:8080/",
          "height": 363
        },
        "id": "-Sjb0RaAakai",
        "outputId": "a512cfa7-a81d-4c7c-b4bf-79033e91d1cb"
      },
      "execution_count": 2062,
      "outputs": [
        {
          "output_type": "execute_result",
          "data": {
            "text/plain": [
              "           0                                               name\n",
              "58  0.969712                                   Restaurant Teely\n",
              "85  0.933236                                    Rincon del Bife\n",
              "60  0.895270  Restaurant and Bar and Clothesline Carlos N Ch...\n",
              "97  0.891727                                               Vips\n",
              "45  0.800512                                             Mikasa\n",
              "86  0.675261                               Sanborns Casa Piedra\n",
              "46  0.545977                                          Paniroles\n",
              "51  0.518094                        Restaurant Bar Coty y Pablo\n",
              "41  0.510241                                 Mariscos Tia Licha\n",
              "37  0.461867                                            Log Yin"
            ],
            "text/html": [
              "\n",
              "  <div id=\"df-9d0ecb1b-3ecc-41ad-b5e9-66def35704cc\">\n",
              "    <div class=\"colab-df-container\">\n",
              "      <div>\n",
              "<style scoped>\n",
              "    .dataframe tbody tr th:only-of-type {\n",
              "        vertical-align: middle;\n",
              "    }\n",
              "\n",
              "    .dataframe tbody tr th {\n",
              "        vertical-align: top;\n",
              "    }\n",
              "\n",
              "    .dataframe thead th {\n",
              "        text-align: right;\n",
              "    }\n",
              "</style>\n",
              "<table border=\"1\" class=\"dataframe\">\n",
              "  <thead>\n",
              "    <tr style=\"text-align: right;\">\n",
              "      <th></th>\n",
              "      <th>0</th>\n",
              "      <th>name</th>\n",
              "    </tr>\n",
              "  </thead>\n",
              "  <tbody>\n",
              "    <tr>\n",
              "      <th>58</th>\n",
              "      <td>0.969712</td>\n",
              "      <td>Restaurant Teely</td>\n",
              "    </tr>\n",
              "    <tr>\n",
              "      <th>85</th>\n",
              "      <td>0.933236</td>\n",
              "      <td>Rincon del Bife</td>\n",
              "    </tr>\n",
              "    <tr>\n",
              "      <th>60</th>\n",
              "      <td>0.895270</td>\n",
              "      <td>Restaurant and Bar and Clothesline Carlos N Ch...</td>\n",
              "    </tr>\n",
              "    <tr>\n",
              "      <th>97</th>\n",
              "      <td>0.891727</td>\n",
              "      <td>Vips</td>\n",
              "    </tr>\n",
              "    <tr>\n",
              "      <th>45</th>\n",
              "      <td>0.800512</td>\n",
              "      <td>Mikasa</td>\n",
              "    </tr>\n",
              "    <tr>\n",
              "      <th>86</th>\n",
              "      <td>0.675261</td>\n",
              "      <td>Sanborns Casa Piedra</td>\n",
              "    </tr>\n",
              "    <tr>\n",
              "      <th>46</th>\n",
              "      <td>0.545977</td>\n",
              "      <td>Paniroles</td>\n",
              "    </tr>\n",
              "    <tr>\n",
              "      <th>51</th>\n",
              "      <td>0.518094</td>\n",
              "      <td>Restaurant Bar Coty y Pablo</td>\n",
              "    </tr>\n",
              "    <tr>\n",
              "      <th>41</th>\n",
              "      <td>0.510241</td>\n",
              "      <td>Mariscos Tia Licha</td>\n",
              "    </tr>\n",
              "    <tr>\n",
              "      <th>37</th>\n",
              "      <td>0.461867</td>\n",
              "      <td>Log Yin</td>\n",
              "    </tr>\n",
              "  </tbody>\n",
              "</table>\n",
              "</div>\n",
              "      <button class=\"colab-df-convert\" onclick=\"convertToInteractive('df-9d0ecb1b-3ecc-41ad-b5e9-66def35704cc')\"\n",
              "              title=\"Convert this dataframe to an interactive table.\"\n",
              "              style=\"display:none;\">\n",
              "        \n",
              "  <svg xmlns=\"http://www.w3.org/2000/svg\" height=\"24px\"viewBox=\"0 0 24 24\"\n",
              "       width=\"24px\">\n",
              "    <path d=\"M0 0h24v24H0V0z\" fill=\"none\"/>\n",
              "    <path d=\"M18.56 5.44l.94 2.06.94-2.06 2.06-.94-2.06-.94-.94-2.06-.94 2.06-2.06.94zm-11 1L8.5 8.5l.94-2.06 2.06-.94-2.06-.94L8.5 2.5l-.94 2.06-2.06.94zm10 10l.94 2.06.94-2.06 2.06-.94-2.06-.94-.94-2.06-.94 2.06-2.06.94z\"/><path d=\"M17.41 7.96l-1.37-1.37c-.4-.4-.92-.59-1.43-.59-.52 0-1.04.2-1.43.59L10.3 9.45l-7.72 7.72c-.78.78-.78 2.05 0 2.83L4 21.41c.39.39.9.59 1.41.59.51 0 1.02-.2 1.41-.59l7.78-7.78 2.81-2.81c.8-.78.8-2.07 0-2.86zM5.41 20L4 18.59l7.72-7.72 1.47 1.35L5.41 20z\"/>\n",
              "  </svg>\n",
              "      </button>\n",
              "      \n",
              "  <style>\n",
              "    .colab-df-container {\n",
              "      display:flex;\n",
              "      flex-wrap:wrap;\n",
              "      gap: 12px;\n",
              "    }\n",
              "\n",
              "    .colab-df-convert {\n",
              "      background-color: #E8F0FE;\n",
              "      border: none;\n",
              "      border-radius: 50%;\n",
              "      cursor: pointer;\n",
              "      display: none;\n",
              "      fill: #1967D2;\n",
              "      height: 32px;\n",
              "      padding: 0 0 0 0;\n",
              "      width: 32px;\n",
              "    }\n",
              "\n",
              "    .colab-df-convert:hover {\n",
              "      background-color: #E2EBFA;\n",
              "      box-shadow: 0px 1px 2px rgba(60, 64, 67, 0.3), 0px 1px 3px 1px rgba(60, 64, 67, 0.15);\n",
              "      fill: #174EA6;\n",
              "    }\n",
              "\n",
              "    [theme=dark] .colab-df-convert {\n",
              "      background-color: #3B4455;\n",
              "      fill: #D2E3FC;\n",
              "    }\n",
              "\n",
              "    [theme=dark] .colab-df-convert:hover {\n",
              "      background-color: #434B5C;\n",
              "      box-shadow: 0px 1px 3px 1px rgba(0, 0, 0, 0.15);\n",
              "      filter: drop-shadow(0px 1px 2px rgba(0, 0, 0, 0.3));\n",
              "      fill: #FFFFFF;\n",
              "    }\n",
              "  </style>\n",
              "\n",
              "      <script>\n",
              "        const buttonEl =\n",
              "          document.querySelector('#df-9d0ecb1b-3ecc-41ad-b5e9-66def35704cc button.colab-df-convert');\n",
              "        buttonEl.style.display =\n",
              "          google.colab.kernel.accessAllowed ? 'block' : 'none';\n",
              "\n",
              "        async function convertToInteractive(key) {\n",
              "          const element = document.querySelector('#df-9d0ecb1b-3ecc-41ad-b5e9-66def35704cc');\n",
              "          const dataTable =\n",
              "            await google.colab.kernel.invokeFunction('convertToInteractive',\n",
              "                                                     [key], {});\n",
              "          if (!dataTable) return;\n",
              "\n",
              "          const docLinkHtml = 'Like what you see? Visit the ' +\n",
              "            '<a target=\"_blank\" href=https://colab.research.google.com/notebooks/data_table.ipynb>data table notebook</a>'\n",
              "            + ' to learn more about interactive tables.';\n",
              "          element.innerHTML = '';\n",
              "          dataTable['output_type'] = 'display_data';\n",
              "          await google.colab.output.renderOutput(dataTable, element);\n",
              "          const docLink = document.createElement('div');\n",
              "          docLink.innerHTML = docLinkHtml;\n",
              "          element.appendChild(docLink);\n",
              "        }\n",
              "      </script>\n",
              "    </div>\n",
              "  </div>\n",
              "  "
            ]
          },
          "metadata": {},
          "execution_count": 2062
        }
      ]
    },
    {
      "cell_type": "markdown",
      "source": [
        "Con 30 n_components, se tiene el 74% de la información original"
      ],
      "metadata": {
        "id": "1_ijBjvSIor1"
      }
    },
    {
      "cell_type": "code",
      "source": [
        "information_quantity(30)"
      ],
      "metadata": {
        "colab": {
          "base_uri": "https://localhost:8080/"
        },
        "id": "HewCPX3IIaRh",
        "outputId": "bac4c4d3-2938-42c8-98dc-19f396627bff"
      },
      "execution_count": 2063,
      "outputs": [
        {
          "output_type": "execute_result",
          "data": {
            "text/plain": [
              "74.10352587847179"
            ]
          },
          "metadata": {},
          "execution_count": 2063
        }
      ]
    },
    {
      "cell_type": "markdown",
      "source": [
        "<font color=\"royalblue\"> **Conclusiones:** \n",
        "</font>\n",
        "\n",
        "<font color=\"royalblue\"> \n",
        "Al bajar de 53 componentes a 30, se obtuvo que el restaurante Log Yin fue reemplazado por el Restaurant Las Mananitas, la cantidad de información pérdida fue de aproximadamente el 16%. Conservando 9 de 10 recomendaciones con el modelo SVD.\n",
        "\n",
        "</font>"
      ],
      "metadata": {
        "id": "ixeWDi9TIwgq"
      }
    },
    {
      "cell_type": "markdown",
      "source": [
        "#**Ejercicio-7.**\n",
        "Repite los ejercicios 1 a 4 generando ahora la matriz de utilidad en la cual los renglones son los \n",
        "usuarios (user_ID), las columnas los nombres de los restaurantes (name) y las entradas la \n",
        "evaluación dada al servicio (service_rating). Incluye tus conclusiones. "
      ],
      "metadata": {
        "id": "lUvqUSV5cd-Z"
      }
    },
    {
      "cell_type": "markdown",
      "source": [
        "Ponemos las columnas de interés del dataframe rating"
      ],
      "metadata": {
        "id": "mDkvRrQGJ947"
      }
    },
    {
      "cell_type": "code",
      "source": [
        "rating_columns=[\"userID\",\"service_rating\",\"placeID\"]"
      ],
      "metadata": {
        "id": "ZQTtKzQ02osH"
      },
      "execution_count": 2064,
      "outputs": []
    },
    {
      "cell_type": "markdown",
      "source": [
        "Hacemos lo mismo con location"
      ],
      "metadata": {
        "id": "LH1_vxOPKBzu"
      }
    },
    {
      "cell_type": "code",
      "source": [
        "location_columns=[\"placeID\",\"name\"]"
      ],
      "metadata": {
        "id": "TqIKNq9u2osJ"
      },
      "execution_count": 2065,
      "outputs": []
    },
    {
      "cell_type": "markdown",
      "source": [
        "Unimos los dataframes"
      ],
      "metadata": {
        "id": "8vm3fioLK6Pp"
      }
    },
    {
      "cell_type": "code",
      "source": [
        "df3=pd.merge(rating[rating_columns],location[location_columns],on=\"placeID\")"
      ],
      "metadata": {
        "id": "H1AYrISV2osJ"
      },
      "execution_count": 2066,
      "outputs": []
    },
    {
      "cell_type": "markdown",
      "source": [
        "Elimamos la U dentro de la columna userID"
      ],
      "metadata": {
        "id": "aRCNTd8BkWNL"
      }
    },
    {
      "cell_type": "code",
      "source": [
        "df3[\"userID\"] = df3[\"userID\"].apply(lambda x:int(str(x)[1::]))\n",
        "df3.head()"
      ],
      "metadata": {
        "colab": {
          "base_uri": "https://localhost:8080/",
          "height": 206
        },
        "outputId": "c5513d8a-df14-4460-b660-f0c1843faa16",
        "id": "4lJLpaPrkWNM"
      },
      "execution_count": 2067,
      "outputs": [
        {
          "output_type": "execute_result",
          "data": {
            "text/plain": [
              "   userID  service_rating  placeID                    name\n",
              "0    1077               2   135085  Tortas Locas Hipocampo\n",
              "1    1108               1   135085  Tortas Locas Hipocampo\n",
              "2    1081               1   135085  Tortas Locas Hipocampo\n",
              "3    1056               2   135085  Tortas Locas Hipocampo\n",
              "4    1134               2   135085  Tortas Locas Hipocampo"
            ],
            "text/html": [
              "\n",
              "  <div id=\"df-ca3cac88-2c23-4b20-9988-869031e17ae2\">\n",
              "    <div class=\"colab-df-container\">\n",
              "      <div>\n",
              "<style scoped>\n",
              "    .dataframe tbody tr th:only-of-type {\n",
              "        vertical-align: middle;\n",
              "    }\n",
              "\n",
              "    .dataframe tbody tr th {\n",
              "        vertical-align: top;\n",
              "    }\n",
              "\n",
              "    .dataframe thead th {\n",
              "        text-align: right;\n",
              "    }\n",
              "</style>\n",
              "<table border=\"1\" class=\"dataframe\">\n",
              "  <thead>\n",
              "    <tr style=\"text-align: right;\">\n",
              "      <th></th>\n",
              "      <th>userID</th>\n",
              "      <th>service_rating</th>\n",
              "      <th>placeID</th>\n",
              "      <th>name</th>\n",
              "    </tr>\n",
              "  </thead>\n",
              "  <tbody>\n",
              "    <tr>\n",
              "      <th>0</th>\n",
              "      <td>1077</td>\n",
              "      <td>2</td>\n",
              "      <td>135085</td>\n",
              "      <td>Tortas Locas Hipocampo</td>\n",
              "    </tr>\n",
              "    <tr>\n",
              "      <th>1</th>\n",
              "      <td>1108</td>\n",
              "      <td>1</td>\n",
              "      <td>135085</td>\n",
              "      <td>Tortas Locas Hipocampo</td>\n",
              "    </tr>\n",
              "    <tr>\n",
              "      <th>2</th>\n",
              "      <td>1081</td>\n",
              "      <td>1</td>\n",
              "      <td>135085</td>\n",
              "      <td>Tortas Locas Hipocampo</td>\n",
              "    </tr>\n",
              "    <tr>\n",
              "      <th>3</th>\n",
              "      <td>1056</td>\n",
              "      <td>2</td>\n",
              "      <td>135085</td>\n",
              "      <td>Tortas Locas Hipocampo</td>\n",
              "    </tr>\n",
              "    <tr>\n",
              "      <th>4</th>\n",
              "      <td>1134</td>\n",
              "      <td>2</td>\n",
              "      <td>135085</td>\n",
              "      <td>Tortas Locas Hipocampo</td>\n",
              "    </tr>\n",
              "  </tbody>\n",
              "</table>\n",
              "</div>\n",
              "      <button class=\"colab-df-convert\" onclick=\"convertToInteractive('df-ca3cac88-2c23-4b20-9988-869031e17ae2')\"\n",
              "              title=\"Convert this dataframe to an interactive table.\"\n",
              "              style=\"display:none;\">\n",
              "        \n",
              "  <svg xmlns=\"http://www.w3.org/2000/svg\" height=\"24px\"viewBox=\"0 0 24 24\"\n",
              "       width=\"24px\">\n",
              "    <path d=\"M0 0h24v24H0V0z\" fill=\"none\"/>\n",
              "    <path d=\"M18.56 5.44l.94 2.06.94-2.06 2.06-.94-2.06-.94-.94-2.06-.94 2.06-2.06.94zm-11 1L8.5 8.5l.94-2.06 2.06-.94-2.06-.94L8.5 2.5l-.94 2.06-2.06.94zm10 10l.94 2.06.94-2.06 2.06-.94-2.06-.94-.94-2.06-.94 2.06-2.06.94z\"/><path d=\"M17.41 7.96l-1.37-1.37c-.4-.4-.92-.59-1.43-.59-.52 0-1.04.2-1.43.59L10.3 9.45l-7.72 7.72c-.78.78-.78 2.05 0 2.83L4 21.41c.39.39.9.59 1.41.59.51 0 1.02-.2 1.41-.59l7.78-7.78 2.81-2.81c.8-.78.8-2.07 0-2.86zM5.41 20L4 18.59l7.72-7.72 1.47 1.35L5.41 20z\"/>\n",
              "  </svg>\n",
              "      </button>\n",
              "      \n",
              "  <style>\n",
              "    .colab-df-container {\n",
              "      display:flex;\n",
              "      flex-wrap:wrap;\n",
              "      gap: 12px;\n",
              "    }\n",
              "\n",
              "    .colab-df-convert {\n",
              "      background-color: #E8F0FE;\n",
              "      border: none;\n",
              "      border-radius: 50%;\n",
              "      cursor: pointer;\n",
              "      display: none;\n",
              "      fill: #1967D2;\n",
              "      height: 32px;\n",
              "      padding: 0 0 0 0;\n",
              "      width: 32px;\n",
              "    }\n",
              "\n",
              "    .colab-df-convert:hover {\n",
              "      background-color: #E2EBFA;\n",
              "      box-shadow: 0px 1px 2px rgba(60, 64, 67, 0.3), 0px 1px 3px 1px rgba(60, 64, 67, 0.15);\n",
              "      fill: #174EA6;\n",
              "    }\n",
              "\n",
              "    [theme=dark] .colab-df-convert {\n",
              "      background-color: #3B4455;\n",
              "      fill: #D2E3FC;\n",
              "    }\n",
              "\n",
              "    [theme=dark] .colab-df-convert:hover {\n",
              "      background-color: #434B5C;\n",
              "      box-shadow: 0px 1px 3px 1px rgba(0, 0, 0, 0.15);\n",
              "      filter: drop-shadow(0px 1px 2px rgba(0, 0, 0, 0.3));\n",
              "      fill: #FFFFFF;\n",
              "    }\n",
              "  </style>\n",
              "\n",
              "      <script>\n",
              "        const buttonEl =\n",
              "          document.querySelector('#df-ca3cac88-2c23-4b20-9988-869031e17ae2 button.colab-df-convert');\n",
              "        buttonEl.style.display =\n",
              "          google.colab.kernel.accessAllowed ? 'block' : 'none';\n",
              "\n",
              "        async function convertToInteractive(key) {\n",
              "          const element = document.querySelector('#df-ca3cac88-2c23-4b20-9988-869031e17ae2');\n",
              "          const dataTable =\n",
              "            await google.colab.kernel.invokeFunction('convertToInteractive',\n",
              "                                                     [key], {});\n",
              "          if (!dataTable) return;\n",
              "\n",
              "          const docLinkHtml = 'Like what you see? Visit the ' +\n",
              "            '<a target=\"_blank\" href=https://colab.research.google.com/notebooks/data_table.ipynb>data table notebook</a>'\n",
              "            + ' to learn more about interactive tables.';\n",
              "          element.innerHTML = '';\n",
              "          dataTable['output_type'] = 'display_data';\n",
              "          await google.colab.output.renderOutput(dataTable, element);\n",
              "          const docLink = document.createElement('div');\n",
              "          docLink.innerHTML = docLinkHtml;\n",
              "          element.appendChild(docLink);\n",
              "        }\n",
              "      </script>\n",
              "    </div>\n",
              "  </div>\n",
              "  "
            ]
          },
          "metadata": {},
          "execution_count": 2067
        }
      ]
    },
    {
      "cell_type": "markdown",
      "source": [
        "Creamos la matriz de utilidad"
      ],
      "metadata": {
        "id": "0JMYDJZ6K-wQ"
      }
    },
    {
      "cell_type": "code",
      "source": [
        "UtMx3 = df3.pivot_table(values='service_rating', index='userID', columns='name', fill_value=0)"
      ],
      "metadata": {
        "id": "MNWOQsxk2osK"
      },
      "execution_count": 2068,
      "outputs": []
    },
    {
      "cell_type": "markdown",
      "source": [
        "Obtenemos el tamaño de la matriz"
      ],
      "metadata": {
        "id": "07ln58aybK12"
      }
    },
    {
      "cell_type": "code",
      "source": [
        "UtMx3.shape"
      ],
      "metadata": {
        "colab": {
          "base_uri": "https://localhost:8080/"
        },
        "id": "S8gT8rETbG-b",
        "outputId": "8417ed57-14f9-45ca-f86d-cd8908f4b960"
      },
      "execution_count": 2069,
      "outputs": [
        {
          "output_type": "execute_result",
          "data": {
            "text/plain": [
              "(138, 129)"
            ]
          },
          "metadata": {},
          "execution_count": 2069
        }
      ]
    },
    {
      "cell_type": "markdown",
      "source": [
        "Despelgamos sus primeros 10 renglones"
      ],
      "metadata": {
        "id": "vTA7V8KubP_2"
      }
    },
    {
      "cell_type": "code",
      "source": [
        "UtMx3.head(10)"
      ],
      "metadata": {
        "colab": {
          "base_uri": "https://localhost:8080/",
          "height": 557
        },
        "id": "x7JSo0S6bT8m",
        "outputId": "c9ed71d3-2803-46a9-934a-f0a9d963a3ea"
      },
      "execution_count": 2070,
      "outputs": [
        {
          "output_type": "execute_result",
          "data": {
            "text/plain": [
              "name    Abondance Restaurante Bar  Arrachela Grill  Cabana Huasteca  \\\n",
              "userID                                                                \n",
              "1001                            0                0                0   \n",
              "1002                            0                0                0   \n",
              "1003                            0                0                2   \n",
              "1004                            0                0                0   \n",
              "1005                            0                0                0   \n",
              "1006                            0                0                0   \n",
              "1007                            0                0                0   \n",
              "1008                            1                0                0   \n",
              "1009                            0                0                1   \n",
              "1010                            0                0                0   \n",
              "\n",
              "name    Cafe Chaires  Cafeteria cenidet  Cafeteria y Restaurant El Pacifico  \\\n",
              "userID                                                                        \n",
              "1001               0                  0                                   0   \n",
              "1002               0                  0                                   0   \n",
              "1003               0                  0                                   0   \n",
              "1004               0                  0                                   2   \n",
              "1005               0                  0                                   2   \n",
              "1006               1                  0                                   0   \n",
              "1007               1                  0                                   0   \n",
              "1008               0                  0                                   0   \n",
              "1009               0                  0                                   0   \n",
              "1010               0                  0                                   0   \n",
              "\n",
              "name    Carls Jr  Carnitas Mata  Calle 16 de Septiembre  \\\n",
              "userID                                                    \n",
              "1001           0                                      0   \n",
              "1002           0                                      0   \n",
              "1003           0                                      0   \n",
              "1004           0                                      0   \n",
              "1005           0                                      0   \n",
              "1006           0                                      0   \n",
              "1007           0                                      0   \n",
              "1008           0                                      0   \n",
              "1009           0                                      0   \n",
              "1010           0                                      0   \n",
              "\n",
              "name    Carreton de Flautas y Migadas  Cenaduria El RincÃ³n de Tlaquepaque  \\\n",
              "userID                                                                       \n",
              "1001                                0                                    0   \n",
              "1002                                0                                    0   \n",
              "1003                                0                                    0   \n",
              "1004                                0                                    0   \n",
              "1005                                0                                    0   \n",
              "1006                                0                                    0   \n",
              "1007                                0                                    0   \n",
              "1008                                0                                    0   \n",
              "1009                                0                                    0   \n",
              "1010                                0                                    0   \n",
              "\n",
              "name    ...  puesto de tacos  rockabilly   shi ro ie  sirloin stockade  \\\n",
              "userID  ...                                                              \n",
              "1001    ...                1            0          0                 0   \n",
              "1002    ...                0            0          0                 0   \n",
              "1003    ...                1            1          0                 0   \n",
              "1004    ...                0            0          0                 0   \n",
              "1005    ...                0            0          0                 0   \n",
              "1006    ...                1            0          2                 0   \n",
              "1007    ...                0            0          0                 0   \n",
              "1008    ...                0            0          0                 0   \n",
              "1009    ...                0            0          0                 0   \n",
              "1010    ...                0            0          0                 0   \n",
              "\n",
              "name    tacos abi  tacos de barbacoa enfrente del Tec  tacos de la estacion  \\\n",
              "userID                                                                        \n",
              "1001            0                                   0                     0   \n",
              "1002            0                                   0                     0   \n",
              "1003            0                                   0                     0   \n",
              "1004            0                                   0                     0   \n",
              "1005            0                                   0                     0   \n",
              "1006            0                                   0                     0   \n",
              "1007            0                                   0                     0   \n",
              "1008            0                                   0                     0   \n",
              "1009            0                                   0                     0   \n",
              "1010            0                                   0                     0   \n",
              "\n",
              "name    tacos los volcanes  tortas hawai  vips  \n",
              "userID                                          \n",
              "1001                     0             0     0  \n",
              "1002                     0             0     0  \n",
              "1003                     0             0     0  \n",
              "1004                     2             0     0  \n",
              "1005                     0             0     0  \n",
              "1006                     0             0     0  \n",
              "1007                     0             0     0  \n",
              "1008                     0             0     0  \n",
              "1009                     0             0     0  \n",
              "1010                     0             0     0  \n",
              "\n",
              "[10 rows x 129 columns]"
            ],
            "text/html": [
              "\n",
              "  <div id=\"df-547a238c-bfeb-474e-bbb7-e158cbe0cfd9\">\n",
              "    <div class=\"colab-df-container\">\n",
              "      <div>\n",
              "<style scoped>\n",
              "    .dataframe tbody tr th:only-of-type {\n",
              "        vertical-align: middle;\n",
              "    }\n",
              "\n",
              "    .dataframe tbody tr th {\n",
              "        vertical-align: top;\n",
              "    }\n",
              "\n",
              "    .dataframe thead th {\n",
              "        text-align: right;\n",
              "    }\n",
              "</style>\n",
              "<table border=\"1\" class=\"dataframe\">\n",
              "  <thead>\n",
              "    <tr style=\"text-align: right;\">\n",
              "      <th>name</th>\n",
              "      <th>Abondance Restaurante Bar</th>\n",
              "      <th>Arrachela Grill</th>\n",
              "      <th>Cabana Huasteca</th>\n",
              "      <th>Cafe Chaires</th>\n",
              "      <th>Cafeteria cenidet</th>\n",
              "      <th>Cafeteria y Restaurant El Pacifico</th>\n",
              "      <th>Carls Jr</th>\n",
              "      <th>Carnitas Mata  Calle 16 de Septiembre</th>\n",
              "      <th>Carreton de Flautas y Migadas</th>\n",
              "      <th>Cenaduria El RincÃ³n de Tlaquepaque</th>\n",
              "      <th>...</th>\n",
              "      <th>puesto de tacos</th>\n",
              "      <th>rockabilly</th>\n",
              "      <th>shi ro ie</th>\n",
              "      <th>sirloin stockade</th>\n",
              "      <th>tacos abi</th>\n",
              "      <th>tacos de barbacoa enfrente del Tec</th>\n",
              "      <th>tacos de la estacion</th>\n",
              "      <th>tacos los volcanes</th>\n",
              "      <th>tortas hawai</th>\n",
              "      <th>vips</th>\n",
              "    </tr>\n",
              "    <tr>\n",
              "      <th>userID</th>\n",
              "      <th></th>\n",
              "      <th></th>\n",
              "      <th></th>\n",
              "      <th></th>\n",
              "      <th></th>\n",
              "      <th></th>\n",
              "      <th></th>\n",
              "      <th></th>\n",
              "      <th></th>\n",
              "      <th></th>\n",
              "      <th></th>\n",
              "      <th></th>\n",
              "      <th></th>\n",
              "      <th></th>\n",
              "      <th></th>\n",
              "      <th></th>\n",
              "      <th></th>\n",
              "      <th></th>\n",
              "      <th></th>\n",
              "      <th></th>\n",
              "      <th></th>\n",
              "    </tr>\n",
              "  </thead>\n",
              "  <tbody>\n",
              "    <tr>\n",
              "      <th>1001</th>\n",
              "      <td>0</td>\n",
              "      <td>0</td>\n",
              "      <td>0</td>\n",
              "      <td>0</td>\n",
              "      <td>0</td>\n",
              "      <td>0</td>\n",
              "      <td>0</td>\n",
              "      <td>0</td>\n",
              "      <td>0</td>\n",
              "      <td>0</td>\n",
              "      <td>...</td>\n",
              "      <td>1</td>\n",
              "      <td>0</td>\n",
              "      <td>0</td>\n",
              "      <td>0</td>\n",
              "      <td>0</td>\n",
              "      <td>0</td>\n",
              "      <td>0</td>\n",
              "      <td>0</td>\n",
              "      <td>0</td>\n",
              "      <td>0</td>\n",
              "    </tr>\n",
              "    <tr>\n",
              "      <th>1002</th>\n",
              "      <td>0</td>\n",
              "      <td>0</td>\n",
              "      <td>0</td>\n",
              "      <td>0</td>\n",
              "      <td>0</td>\n",
              "      <td>0</td>\n",
              "      <td>0</td>\n",
              "      <td>0</td>\n",
              "      <td>0</td>\n",
              "      <td>0</td>\n",
              "      <td>...</td>\n",
              "      <td>0</td>\n",
              "      <td>0</td>\n",
              "      <td>0</td>\n",
              "      <td>0</td>\n",
              "      <td>0</td>\n",
              "      <td>0</td>\n",
              "      <td>0</td>\n",
              "      <td>0</td>\n",
              "      <td>0</td>\n",
              "      <td>0</td>\n",
              "    </tr>\n",
              "    <tr>\n",
              "      <th>1003</th>\n",
              "      <td>0</td>\n",
              "      <td>0</td>\n",
              "      <td>2</td>\n",
              "      <td>0</td>\n",
              "      <td>0</td>\n",
              "      <td>0</td>\n",
              "      <td>0</td>\n",
              "      <td>0</td>\n",
              "      <td>0</td>\n",
              "      <td>0</td>\n",
              "      <td>...</td>\n",
              "      <td>1</td>\n",
              "      <td>1</td>\n",
              "      <td>0</td>\n",
              "      <td>0</td>\n",
              "      <td>0</td>\n",
              "      <td>0</td>\n",
              "      <td>0</td>\n",
              "      <td>0</td>\n",
              "      <td>0</td>\n",
              "      <td>0</td>\n",
              "    </tr>\n",
              "    <tr>\n",
              "      <th>1004</th>\n",
              "      <td>0</td>\n",
              "      <td>0</td>\n",
              "      <td>0</td>\n",
              "      <td>0</td>\n",
              "      <td>0</td>\n",
              "      <td>2</td>\n",
              "      <td>0</td>\n",
              "      <td>0</td>\n",
              "      <td>0</td>\n",
              "      <td>0</td>\n",
              "      <td>...</td>\n",
              "      <td>0</td>\n",
              "      <td>0</td>\n",
              "      <td>0</td>\n",
              "      <td>0</td>\n",
              "      <td>0</td>\n",
              "      <td>0</td>\n",
              "      <td>0</td>\n",
              "      <td>2</td>\n",
              "      <td>0</td>\n",
              "      <td>0</td>\n",
              "    </tr>\n",
              "    <tr>\n",
              "      <th>1005</th>\n",
              "      <td>0</td>\n",
              "      <td>0</td>\n",
              "      <td>0</td>\n",
              "      <td>0</td>\n",
              "      <td>0</td>\n",
              "      <td>2</td>\n",
              "      <td>0</td>\n",
              "      <td>0</td>\n",
              "      <td>0</td>\n",
              "      <td>0</td>\n",
              "      <td>...</td>\n",
              "      <td>0</td>\n",
              "      <td>0</td>\n",
              "      <td>0</td>\n",
              "      <td>0</td>\n",
              "      <td>0</td>\n",
              "      <td>0</td>\n",
              "      <td>0</td>\n",
              "      <td>0</td>\n",
              "      <td>0</td>\n",
              "      <td>0</td>\n",
              "    </tr>\n",
              "    <tr>\n",
              "      <th>1006</th>\n",
              "      <td>0</td>\n",
              "      <td>0</td>\n",
              "      <td>0</td>\n",
              "      <td>1</td>\n",
              "      <td>0</td>\n",
              "      <td>0</td>\n",
              "      <td>0</td>\n",
              "      <td>0</td>\n",
              "      <td>0</td>\n",
              "      <td>0</td>\n",
              "      <td>...</td>\n",
              "      <td>1</td>\n",
              "      <td>0</td>\n",
              "      <td>2</td>\n",
              "      <td>0</td>\n",
              "      <td>0</td>\n",
              "      <td>0</td>\n",
              "      <td>0</td>\n",
              "      <td>0</td>\n",
              "      <td>0</td>\n",
              "      <td>0</td>\n",
              "    </tr>\n",
              "    <tr>\n",
              "      <th>1007</th>\n",
              "      <td>0</td>\n",
              "      <td>0</td>\n",
              "      <td>0</td>\n",
              "      <td>1</td>\n",
              "      <td>0</td>\n",
              "      <td>0</td>\n",
              "      <td>0</td>\n",
              "      <td>0</td>\n",
              "      <td>0</td>\n",
              "      <td>0</td>\n",
              "      <td>...</td>\n",
              "      <td>0</td>\n",
              "      <td>0</td>\n",
              "      <td>0</td>\n",
              "      <td>0</td>\n",
              "      <td>0</td>\n",
              "      <td>0</td>\n",
              "      <td>0</td>\n",
              "      <td>0</td>\n",
              "      <td>0</td>\n",
              "      <td>0</td>\n",
              "    </tr>\n",
              "    <tr>\n",
              "      <th>1008</th>\n",
              "      <td>1</td>\n",
              "      <td>0</td>\n",
              "      <td>0</td>\n",
              "      <td>0</td>\n",
              "      <td>0</td>\n",
              "      <td>0</td>\n",
              "      <td>0</td>\n",
              "      <td>0</td>\n",
              "      <td>0</td>\n",
              "      <td>0</td>\n",
              "      <td>...</td>\n",
              "      <td>0</td>\n",
              "      <td>0</td>\n",
              "      <td>0</td>\n",
              "      <td>0</td>\n",
              "      <td>0</td>\n",
              "      <td>0</td>\n",
              "      <td>0</td>\n",
              "      <td>0</td>\n",
              "      <td>0</td>\n",
              "      <td>0</td>\n",
              "    </tr>\n",
              "    <tr>\n",
              "      <th>1009</th>\n",
              "      <td>0</td>\n",
              "      <td>0</td>\n",
              "      <td>1</td>\n",
              "      <td>0</td>\n",
              "      <td>0</td>\n",
              "      <td>0</td>\n",
              "      <td>0</td>\n",
              "      <td>0</td>\n",
              "      <td>0</td>\n",
              "      <td>0</td>\n",
              "      <td>...</td>\n",
              "      <td>0</td>\n",
              "      <td>0</td>\n",
              "      <td>0</td>\n",
              "      <td>0</td>\n",
              "      <td>0</td>\n",
              "      <td>0</td>\n",
              "      <td>0</td>\n",
              "      <td>0</td>\n",
              "      <td>0</td>\n",
              "      <td>0</td>\n",
              "    </tr>\n",
              "    <tr>\n",
              "      <th>1010</th>\n",
              "      <td>0</td>\n",
              "      <td>0</td>\n",
              "      <td>0</td>\n",
              "      <td>0</td>\n",
              "      <td>0</td>\n",
              "      <td>0</td>\n",
              "      <td>0</td>\n",
              "      <td>0</td>\n",
              "      <td>0</td>\n",
              "      <td>0</td>\n",
              "      <td>...</td>\n",
              "      <td>0</td>\n",
              "      <td>0</td>\n",
              "      <td>0</td>\n",
              "      <td>0</td>\n",
              "      <td>0</td>\n",
              "      <td>0</td>\n",
              "      <td>0</td>\n",
              "      <td>0</td>\n",
              "      <td>0</td>\n",
              "      <td>0</td>\n",
              "    </tr>\n",
              "  </tbody>\n",
              "</table>\n",
              "<p>10 rows × 129 columns</p>\n",
              "</div>\n",
              "      <button class=\"colab-df-convert\" onclick=\"convertToInteractive('df-547a238c-bfeb-474e-bbb7-e158cbe0cfd9')\"\n",
              "              title=\"Convert this dataframe to an interactive table.\"\n",
              "              style=\"display:none;\">\n",
              "        \n",
              "  <svg xmlns=\"http://www.w3.org/2000/svg\" height=\"24px\"viewBox=\"0 0 24 24\"\n",
              "       width=\"24px\">\n",
              "    <path d=\"M0 0h24v24H0V0z\" fill=\"none\"/>\n",
              "    <path d=\"M18.56 5.44l.94 2.06.94-2.06 2.06-.94-2.06-.94-.94-2.06-.94 2.06-2.06.94zm-11 1L8.5 8.5l.94-2.06 2.06-.94-2.06-.94L8.5 2.5l-.94 2.06-2.06.94zm10 10l.94 2.06.94-2.06 2.06-.94-2.06-.94-.94-2.06-.94 2.06-2.06.94z\"/><path d=\"M17.41 7.96l-1.37-1.37c-.4-.4-.92-.59-1.43-.59-.52 0-1.04.2-1.43.59L10.3 9.45l-7.72 7.72c-.78.78-.78 2.05 0 2.83L4 21.41c.39.39.9.59 1.41.59.51 0 1.02-.2 1.41-.59l7.78-7.78 2.81-2.81c.8-.78.8-2.07 0-2.86zM5.41 20L4 18.59l7.72-7.72 1.47 1.35L5.41 20z\"/>\n",
              "  </svg>\n",
              "      </button>\n",
              "      \n",
              "  <style>\n",
              "    .colab-df-container {\n",
              "      display:flex;\n",
              "      flex-wrap:wrap;\n",
              "      gap: 12px;\n",
              "    }\n",
              "\n",
              "    .colab-df-convert {\n",
              "      background-color: #E8F0FE;\n",
              "      border: none;\n",
              "      border-radius: 50%;\n",
              "      cursor: pointer;\n",
              "      display: none;\n",
              "      fill: #1967D2;\n",
              "      height: 32px;\n",
              "      padding: 0 0 0 0;\n",
              "      width: 32px;\n",
              "    }\n",
              "\n",
              "    .colab-df-convert:hover {\n",
              "      background-color: #E2EBFA;\n",
              "      box-shadow: 0px 1px 2px rgba(60, 64, 67, 0.3), 0px 1px 3px 1px rgba(60, 64, 67, 0.15);\n",
              "      fill: #174EA6;\n",
              "    }\n",
              "\n",
              "    [theme=dark] .colab-df-convert {\n",
              "      background-color: #3B4455;\n",
              "      fill: #D2E3FC;\n",
              "    }\n",
              "\n",
              "    [theme=dark] .colab-df-convert:hover {\n",
              "      background-color: #434B5C;\n",
              "      box-shadow: 0px 1px 3px 1px rgba(0, 0, 0, 0.15);\n",
              "      filter: drop-shadow(0px 1px 2px rgba(0, 0, 0, 0.3));\n",
              "      fill: #FFFFFF;\n",
              "    }\n",
              "  </style>\n",
              "\n",
              "      <script>\n",
              "        const buttonEl =\n",
              "          document.querySelector('#df-547a238c-bfeb-474e-bbb7-e158cbe0cfd9 button.colab-df-convert');\n",
              "        buttonEl.style.display =\n",
              "          google.colab.kernel.accessAllowed ? 'block' : 'none';\n",
              "\n",
              "        async function convertToInteractive(key) {\n",
              "          const element = document.querySelector('#df-547a238c-bfeb-474e-bbb7-e158cbe0cfd9');\n",
              "          const dataTable =\n",
              "            await google.colab.kernel.invokeFunction('convertToInteractive',\n",
              "                                                     [key], {});\n",
              "          if (!dataTable) return;\n",
              "\n",
              "          const docLinkHtml = 'Like what you see? Visit the ' +\n",
              "            '<a target=\"_blank\" href=https://colab.research.google.com/notebooks/data_table.ipynb>data table notebook</a>'\n",
              "            + ' to learn more about interactive tables.';\n",
              "          element.innerHTML = '';\n",
              "          dataTable['output_type'] = 'display_data';\n",
              "          await google.colab.output.renderOutput(dataTable, element);\n",
              "          const docLink = document.createElement('div');\n",
              "          docLink.innerHTML = docLinkHtml;\n",
              "          element.appendChild(docLink);\n",
              "        }\n",
              "      </script>\n",
              "    </div>\n",
              "  </div>\n",
              "  "
            ]
          },
          "metadata": {},
          "execution_count": 2070
        }
      ]
    },
    {
      "cell_type": "code",
      "source": [
        "X = UtMx3.T \n",
        "X.shape"
      ],
      "metadata": {
        "id": "QxDHWaTN2osL",
        "colab": {
          "base_uri": "https://localhost:8080/"
        },
        "outputId": "33f0c246-fbbc-4ad2-f644-cde851493ace"
      },
      "execution_count": 2071,
      "outputs": [
        {
          "output_type": "execute_result",
          "data": {
            "text/plain": [
              "(129, 138)"
            ]
          },
          "metadata": {},
          "execution_count": 2071
        }
      ]
    },
    {
      "cell_type": "code",
      "source": [
        "import matplotlib.pyplot as plt\n",
        "SVD = TruncatedSVD(n_components=128, random_state=1)  \n",
        "SVD.fit(X)\n",
        "cantidadList = []\n",
        "for i in range(136):\n",
        "  num_sv = i  \n",
        "  cantidad = (100 * (1- (SVD.singular_values_[0:num_sv]).sum() / (SVD.singular_values_).sum()))\n",
        "  cantidadList.append(cantidad)\n",
        "roll3 = np.cumsum(SVD.explained_variance_ratio_)\n",
        "plt.scatter(range(len(SVD.explained_variance_ratio_)), SVD.explained_variance_ratio_)\n",
        "plt.show()\n",
        "plt.scatter(range(len(roll3)), roll3)\n",
        "plt.show()"
      ],
      "metadata": {
        "id": "BfckPG4x2osL",
        "colab": {
          "base_uri": "https://localhost:8080/",
          "height": 513
        },
        "outputId": "fae9de55-f20e-4344-c922-897f38086c28"
      },
      "execution_count": 2072,
      "outputs": [
        {
          "output_type": "display_data",
          "data": {
            "text/plain": [
              "<Figure size 432x288 with 1 Axes>"
            ],
            "image/png": "[encoded data removed]"
          },
          "metadata": {
            "needs_background": "light"
          }
        },
        {
          "output_type": "display_data",
          "data": {
            "text/plain": [
              "<Figure size 432x288 with 1 Axes>"
            ],
            "image/png": "[encoded data removed]"
          },
          "metadata": {
            "needs_background": "light"
          }
        }
      ]
    },
    {
      "cell_type": "code",
      "source": [
        "SVD.singular_values_.ravel()"
      ],
      "metadata": {
        "colab": {
          "base_uri": "https://localhost:8080/"
        },
        "outputId": "d96117bb-684f-495f-c9f0-11239aa1ef4d",
        "id": "bfY49gASLJEG"
      },
      "execution_count": 2073,
      "outputs": [
        {
          "output_type": "execute_result",
          "data": {
            "text/plain": [
              "array([1.71371617e+01, 1.15595032e+01, 9.58637075e+00, 8.77978932e+00,\n",
              "       8.67789438e+00, 8.58159980e+00, 8.15554560e+00, 7.74509335e+00,\n",
              "       7.40485706e+00, 7.14037674e+00, 6.89831412e+00, 6.70453486e+00,\n",
              "       6.48951690e+00, 6.37022734e+00, 6.18435929e+00, 6.05196965e+00,\n",
              "       5.98224178e+00, 5.82899281e+00, 5.66161154e+00, 5.47955023e+00,\n",
              "       5.20189756e+00, 5.13241484e+00, 5.12425523e+00, 5.08821407e+00,\n",
              "       5.04451904e+00, 4.80243176e+00, 4.73758447e+00, 4.69249103e+00,\n",
              "       4.59554226e+00, 4.53933620e+00, 4.50898682e+00, 4.34752581e+00,\n",
              "       4.33282882e+00, 4.25078976e+00, 4.16881641e+00, 4.08372394e+00,\n",
              "       3.96552640e+00, 3.90720970e+00, 3.87407207e+00, 3.83953149e+00,\n",
              "       3.78932456e+00, 3.77429036e+00, 3.73317652e+00, 3.66288511e+00,\n",
              "       3.51759865e+00, 3.43018405e+00, 3.38232186e+00, 3.35743455e+00,\n",
              "       3.32745203e+00, 3.23695769e+00, 3.21576611e+00, 3.07573713e+00,\n",
              "       3.04912158e+00, 2.98606817e+00, 2.93376552e+00, 2.83288658e+00,\n",
              "       2.82725079e+00, 2.81023743e+00, 2.79227697e+00, 2.61830104e+00,\n",
              "       2.53280727e+00, 2.50726581e+00, 2.39775409e+00, 2.39732839e+00,\n",
              "       2.31895749e+00, 2.27645803e+00, 2.24393431e+00, 2.23251191e+00,\n",
              "       2.14240463e+00, 2.09986301e+00, 2.05977951e+00, 1.92289283e+00,\n",
              "       1.90886025e+00, 1.85289617e+00, 1.84342702e+00, 1.80695710e+00,\n",
              "       1.76430503e+00, 1.71762134e+00, 1.65237765e+00, 1.62494538e+00,\n",
              "       1.61179683e+00, 1.60266898e+00, 1.58689310e+00, 1.54753727e+00,\n",
              "       1.45882610e+00, 1.42730397e+00, 1.38263274e+00, 1.34815152e+00,\n",
              "       1.31319112e+00, 1.29359023e+00, 1.27572505e+00, 1.20863125e+00,\n",
              "       1.18666812e+00, 1.08034795e+00, 1.07827828e+00, 1.03941178e+00,\n",
              "       9.90369048e-01, 9.74371847e-01, 9.67684744e-01, 9.26583518e-01,\n",
              "       8.50817839e-01, 8.16336104e-01, 7.82879012e-01, 7.63875349e-01,\n",
              "       6.80470959e-01, 6.34725791e-01, 5.95572045e-01, 5.89924159e-01,\n",
              "       5.38403237e-01, 5.28312225e-01, 4.85791152e-01, 4.60189124e-01,\n",
              "       4.33395049e-01, 3.54063769e-01, 3.18333261e-01, 2.78355320e-01,\n",
              "       2.74615056e-01, 2.29574592e-01, 2.29221869e-01, 2.04046731e-01,\n",
              "       1.35792306e-01, 9.56941108e-02, 8.85212962e-02, 7.98090483e-02,\n",
              "       7.17876541e-02, 4.62071862e-15, 1.19068346e-15, 1.19068346e-15])"
            ]
          },
          "metadata": {},
          "execution_count": 2073
        }
      ]
    },
    {
      "cell_type": "markdown",
      "source": [
        "Cantidad de valores singulares"
      ],
      "metadata": {
        "id": "h5N-g4yBLJEH"
      }
    },
    {
      "cell_type": "code",
      "source": [
        "len(SVD.singular_values_.ravel())"
      ],
      "metadata": {
        "colab": {
          "base_uri": "https://localhost:8080/"
        },
        "outputId": "b1512cac-9f64-4645-f6fb-7d8656a35af6",
        "id": "j99U_UKJLJEI"
      },
      "execution_count": 2074,
      "outputs": [
        {
          "output_type": "execute_result",
          "data": {
            "text/plain": [
              "128"
            ]
          },
          "metadata": {},
          "execution_count": 2074
        }
      ]
    },
    {
      "cell_type": "markdown",
      "source": [
        "Obtenemos el porcentaje de información que se tiene con n_components = 52"
      ],
      "metadata": {
        "id": "LsbehTJWLQN-"
      }
    },
    {
      "cell_type": "code",
      "source": [
        "information_quantity(52)"
      ],
      "metadata": {
        "id": "kp-chDMO2osM",
        "colab": {
          "base_uri": "https://localhost:8080/"
        },
        "outputId": "a6ccccca-1dce-4e3d-e0d2-3eb315a5e368"
      },
      "execution_count": 2075,
      "outputs": [
        {
          "output_type": "execute_result",
          "data": {
            "text/plain": [
              "90.33188523499078"
            ]
          },
          "metadata": {},
          "execution_count": 2075
        }
      ]
    },
    {
      "cell_type": "markdown",
      "source": [
        "Ahora obtenemos las recomendaciones con n_components = 52 (valor que contienen el 90% de la información)"
      ],
      "metadata": {
        "id": "DeZWtq492osQ"
      }
    },
    {
      "cell_type": "code",
      "source": [
        "recomendation(52,\"Subway\",UtMx3.columns)"
      ],
      "metadata": {
        "colab": {
          "base_uri": "https://localhost:8080/",
          "height": 363
        },
        "id": "0Nya-47xiPXr",
        "outputId": "2cf3f220-024f-481c-c1ea-82598fac81e7"
      },
      "execution_count": 2076,
      "outputs": [
        {
          "output_type": "execute_result",
          "data": {
            "text/plain": [
              "           0                                               name\n",
              "58  0.949716                                   Restaurant Teely\n",
              "60  0.780413  Restaurant and Bar and Clothesline Carlos N Ch...\n",
              "85  0.712296                                    Rincon del Bife\n",
              "46  0.464946                                          Paniroles\n",
              "97  0.438833                                               Vips\n",
              "21  0.311813                                          Giovannis\n",
              "55  0.244420                           Restaurant Las Mananitas\n",
              "11  0.236541                                  Chilis Cuernavaca\n",
              "29  0.187110                                    Kiku Cuernavaca\n",
              "41  0.175280                                 Mariscos Tia Licha"
            ],
            "text/html": [
              "\n",
              "  <div id=\"df-a779a7fd-ffd7-4f5f-92d0-16052c202414\">\n",
              "    <div class=\"colab-df-container\">\n",
              "      <div>\n",
              "<style scoped>\n",
              "    .dataframe tbody tr th:only-of-type {\n",
              "        vertical-align: middle;\n",
              "    }\n",
              "\n",
              "    .dataframe tbody tr th {\n",
              "        vertical-align: top;\n",
              "    }\n",
              "\n",
              "    .dataframe thead th {\n",
              "        text-align: right;\n",
              "    }\n",
              "</style>\n",
              "<table border=\"1\" class=\"dataframe\">\n",
              "  <thead>\n",
              "    <tr style=\"text-align: right;\">\n",
              "      <th></th>\n",
              "      <th>0</th>\n",
              "      <th>name</th>\n",
              "    </tr>\n",
              "  </thead>\n",
              "  <tbody>\n",
              "    <tr>\n",
              "      <th>58</th>\n",
              "      <td>0.949716</td>\n",
              "      <td>Restaurant Teely</td>\n",
              "    </tr>\n",
              "    <tr>\n",
              "      <th>60</th>\n",
              "      <td>0.780413</td>\n",
              "      <td>Restaurant and Bar and Clothesline Carlos N Ch...</td>\n",
              "    </tr>\n",
              "    <tr>\n",
              "      <th>85</th>\n",
              "      <td>0.712296</td>\n",
              "      <td>Rincon del Bife</td>\n",
              "    </tr>\n",
              "    <tr>\n",
              "      <th>46</th>\n",
              "      <td>0.464946</td>\n",
              "      <td>Paniroles</td>\n",
              "    </tr>\n",
              "    <tr>\n",
              "      <th>97</th>\n",
              "      <td>0.438833</td>\n",
              "      <td>Vips</td>\n",
              "    </tr>\n",
              "    <tr>\n",
              "      <th>21</th>\n",
              "      <td>0.311813</td>\n",
              "      <td>Giovannis</td>\n",
              "    </tr>\n",
              "    <tr>\n",
              "      <th>55</th>\n",
              "      <td>0.244420</td>\n",
              "      <td>Restaurant Las Mananitas</td>\n",
              "    </tr>\n",
              "    <tr>\n",
              "      <th>11</th>\n",
              "      <td>0.236541</td>\n",
              "      <td>Chilis Cuernavaca</td>\n",
              "    </tr>\n",
              "    <tr>\n",
              "      <th>29</th>\n",
              "      <td>0.187110</td>\n",
              "      <td>Kiku Cuernavaca</td>\n",
              "    </tr>\n",
              "    <tr>\n",
              "      <th>41</th>\n",
              "      <td>0.175280</td>\n",
              "      <td>Mariscos Tia Licha</td>\n",
              "    </tr>\n",
              "  </tbody>\n",
              "</table>\n",
              "</div>\n",
              "      <button class=\"colab-df-convert\" onclick=\"convertToInteractive('df-a779a7fd-ffd7-4f5f-92d0-16052c202414')\"\n",
              "              title=\"Convert this dataframe to an interactive table.\"\n",
              "              style=\"display:none;\">\n",
              "        \n",
              "  <svg xmlns=\"http://www.w3.org/2000/svg\" height=\"24px\"viewBox=\"0 0 24 24\"\n",
              "       width=\"24px\">\n",
              "    <path d=\"M0 0h24v24H0V0z\" fill=\"none\"/>\n",
              "    <path d=\"M18.56 5.44l.94 2.06.94-2.06 2.06-.94-2.06-.94-.94-2.06-.94 2.06-2.06.94zm-11 1L8.5 8.5l.94-2.06 2.06-.94-2.06-.94L8.5 2.5l-.94 2.06-2.06.94zm10 10l.94 2.06.94-2.06 2.06-.94-2.06-.94-.94-2.06-.94 2.06-2.06.94z\"/><path d=\"M17.41 7.96l-1.37-1.37c-.4-.4-.92-.59-1.43-.59-.52 0-1.04.2-1.43.59L10.3 9.45l-7.72 7.72c-.78.78-.78 2.05 0 2.83L4 21.41c.39.39.9.59 1.41.59.51 0 1.02-.2 1.41-.59l7.78-7.78 2.81-2.81c.8-.78.8-2.07 0-2.86zM5.41 20L4 18.59l7.72-7.72 1.47 1.35L5.41 20z\"/>\n",
              "  </svg>\n",
              "      </button>\n",
              "      \n",
              "  <style>\n",
              "    .colab-df-container {\n",
              "      display:flex;\n",
              "      flex-wrap:wrap;\n",
              "      gap: 12px;\n",
              "    }\n",
              "\n",
              "    .colab-df-convert {\n",
              "      background-color: #E8F0FE;\n",
              "      border: none;\n",
              "      border-radius: 50%;\n",
              "      cursor: pointer;\n",
              "      display: none;\n",
              "      fill: #1967D2;\n",
              "      height: 32px;\n",
              "      padding: 0 0 0 0;\n",
              "      width: 32px;\n",
              "    }\n",
              "\n",
              "    .colab-df-convert:hover {\n",
              "      background-color: #E2EBFA;\n",
              "      box-shadow: 0px 1px 2px rgba(60, 64, 67, 0.3), 0px 1px 3px 1px rgba(60, 64, 67, 0.15);\n",
              "      fill: #174EA6;\n",
              "    }\n",
              "\n",
              "    [theme=dark] .colab-df-convert {\n",
              "      background-color: #3B4455;\n",
              "      fill: #D2E3FC;\n",
              "    }\n",
              "\n",
              "    [theme=dark] .colab-df-convert:hover {\n",
              "      background-color: #434B5C;\n",
              "      box-shadow: 0px 1px 3px 1px rgba(0, 0, 0, 0.15);\n",
              "      filter: drop-shadow(0px 1px 2px rgba(0, 0, 0, 0.3));\n",
              "      fill: #FFFFFF;\n",
              "    }\n",
              "  </style>\n",
              "\n",
              "      <script>\n",
              "        const buttonEl =\n",
              "          document.querySelector('#df-a779a7fd-ffd7-4f5f-92d0-16052c202414 button.colab-df-convert');\n",
              "        buttonEl.style.display =\n",
              "          google.colab.kernel.accessAllowed ? 'block' : 'none';\n",
              "\n",
              "        async function convertToInteractive(key) {\n",
              "          const element = document.querySelector('#df-a779a7fd-ffd7-4f5f-92d0-16052c202414');\n",
              "          const dataTable =\n",
              "            await google.colab.kernel.invokeFunction('convertToInteractive',\n",
              "                                                     [key], {});\n",
              "          if (!dataTable) return;\n",
              "\n",
              "          const docLinkHtml = 'Like what you see? Visit the ' +\n",
              "            '<a target=\"_blank\" href=https://colab.research.google.com/notebooks/data_table.ipynb>data table notebook</a>'\n",
              "            + ' to learn more about interactive tables.';\n",
              "          element.innerHTML = '';\n",
              "          dataTable['output_type'] = 'display_data';\n",
              "          await google.colab.output.renderOutput(dataTable, element);\n",
              "          const docLink = document.createElement('div');\n",
              "          docLink.innerHTML = docLinkHtml;\n",
              "          element.appendChild(docLink);\n",
              "        }\n",
              "      </script>\n",
              "    </div>\n",
              "  </div>\n",
              "  "
            ]
          },
          "metadata": {},
          "execution_count": 2076
        }
      ]
    },
    {
      "cell_type": "markdown",
      "source": [
        "Obtenemos las recomendaciones con n_components = 45"
      ],
      "metadata": {
        "id": "60Ff63aMLufy"
      }
    },
    {
      "cell_type": "code",
      "source": [
        "recomendation(45,\"Subway\",UtMx3.columns)"
      ],
      "metadata": {
        "colab": {
          "base_uri": "https://localhost:8080/",
          "height": 363
        },
        "id": "9o4cXgjxP6b2",
        "outputId": "0cd65dd0-f425-41ca-96bd-5e73b97b5fd6"
      },
      "execution_count": 2082,
      "outputs": [
        {
          "output_type": "execute_result",
          "data": {
            "text/plain": [
              "           0                                               name\n",
              "58  0.956227                                   Restaurant Teely\n",
              "60  0.902251  Restaurant and Bar and Clothesline Carlos N Ch...\n",
              "85  0.680841                                    Rincon del Bife\n",
              "97  0.647332                                               Vips\n",
              "46  0.508735                                          Paniroles\n",
              "21  0.260939                                          Giovannis\n",
              "11  0.232448                                  Chilis Cuernavaca\n",
              "55  0.213019                           Restaurant Las Mananitas\n",
              "37  0.206317                                    Kiku Cuernavaca\n",
              "38  0.184790                                       Los Vikingos"
            ],
            "text/html": [
              "\n",
              "  <div id=\"df-a1f20850-3531-4a60-ba7e-b09646536011\">\n",
              "    <div class=\"colab-df-container\">\n",
              "      <div>\n",
              "<style scoped>\n",
              "    .dataframe tbody tr th:only-of-type {\n",
              "        vertical-align: middle;\n",
              "    }\n",
              "\n",
              "    .dataframe tbody tr th {\n",
              "        vertical-align: top;\n",
              "    }\n",
              "\n",
              "    .dataframe thead th {\n",
              "        text-align: right;\n",
              "    }\n",
              "</style>\n",
              "<table border=\"1\" class=\"dataframe\">\n",
              "  <thead>\n",
              "    <tr style=\"text-align: right;\">\n",
              "      <th></th>\n",
              "      <th>0</th>\n",
              "      <th>name</th>\n",
              "    </tr>\n",
              "  </thead>\n",
              "  <tbody>\n",
              "    <tr>\n",
              "      <th>58</th>\n",
              "      <td>0.956227</td>\n",
              "      <td>Restaurant Teely</td>\n",
              "    </tr>\n",
              "    <tr>\n",
              "      <th>60</th>\n",
              "      <td>0.902251</td>\n",
              "      <td>Restaurant and Bar and Clothesline Carlos N Ch...</td>\n",
              "    </tr>\n",
              "    <tr>\n",
              "      <th>85</th>\n",
              "      <td>0.680841</td>\n",
              "      <td>Rincon del Bife</td>\n",
              "    </tr>\n",
              "    <tr>\n",
              "      <th>97</th>\n",
              "      <td>0.647332</td>\n",
              "      <td>Vips</td>\n",
              "    </tr>\n",
              "    <tr>\n",
              "      <th>46</th>\n",
              "      <td>0.508735</td>\n",
              "      <td>Paniroles</td>\n",
              "    </tr>\n",
              "    <tr>\n",
              "      <th>21</th>\n",
              "      <td>0.260939</td>\n",
              "      <td>Giovannis</td>\n",
              "    </tr>\n",
              "    <tr>\n",
              "      <th>11</th>\n",
              "      <td>0.232448</td>\n",
              "      <td>Chilis Cuernavaca</td>\n",
              "    </tr>\n",
              "    <tr>\n",
              "      <th>55</th>\n",
              "      <td>0.213019</td>\n",
              "      <td>Restaurant Las Mananitas</td>\n",
              "    </tr>\n",
              "    <tr>\n",
              "      <th>37</th>\n",
              "      <td>0.206317</td>\n",
              "      <td>Kiku Cuernavaca</td>\n",
              "    </tr>\n",
              "    <tr>\n",
              "      <th>38</th>\n",
              "      <td>0.184790</td>\n",
              "      <td>Los Vikingos</td>\n",
              "    </tr>\n",
              "  </tbody>\n",
              "</table>\n",
              "</div>\n",
              "      <button class=\"colab-df-convert\" onclick=\"convertToInteractive('df-a1f20850-3531-4a60-ba7e-b09646536011')\"\n",
              "              title=\"Convert this dataframe to an interactive table.\"\n",
              "              style=\"display:none;\">\n",
              "        \n",
              "  <svg xmlns=\"http://www.w3.org/2000/svg\" height=\"24px\"viewBox=\"0 0 24 24\"\n",
              "       width=\"24px\">\n",
              "    <path d=\"M0 0h24v24H0V0z\" fill=\"none\"/>\n",
              "    <path d=\"M18.56 5.44l.94 2.06.94-2.06 2.06-.94-2.06-.94-.94-2.06-.94 2.06-2.06.94zm-11 1L8.5 8.5l.94-2.06 2.06-.94-2.06-.94L8.5 2.5l-.94 2.06-2.06.94zm10 10l.94 2.06.94-2.06 2.06-.94-2.06-.94-.94-2.06-.94 2.06-2.06.94z\"/><path d=\"M17.41 7.96l-1.37-1.37c-.4-.4-.92-.59-1.43-.59-.52 0-1.04.2-1.43.59L10.3 9.45l-7.72 7.72c-.78.78-.78 2.05 0 2.83L4 21.41c.39.39.9.59 1.41.59.51 0 1.02-.2 1.41-.59l7.78-7.78 2.81-2.81c.8-.78.8-2.07 0-2.86zM5.41 20L4 18.59l7.72-7.72 1.47 1.35L5.41 20z\"/>\n",
              "  </svg>\n",
              "      </button>\n",
              "      \n",
              "  <style>\n",
              "    .colab-df-container {\n",
              "      display:flex;\n",
              "      flex-wrap:wrap;\n",
              "      gap: 12px;\n",
              "    }\n",
              "\n",
              "    .colab-df-convert {\n",
              "      background-color: #E8F0FE;\n",
              "      border: none;\n",
              "      border-radius: 50%;\n",
              "      cursor: pointer;\n",
              "      display: none;\n",
              "      fill: #1967D2;\n",
              "      height: 32px;\n",
              "      padding: 0 0 0 0;\n",
              "      width: 32px;\n",
              "    }\n",
              "\n",
              "    .colab-df-convert:hover {\n",
              "      background-color: #E2EBFA;\n",
              "      box-shadow: 0px 1px 2px rgba(60, 64, 67, 0.3), 0px 1px 3px 1px rgba(60, 64, 67, 0.15);\n",
              "      fill: #174EA6;\n",
              "    }\n",
              "\n",
              "    [theme=dark] .colab-df-convert {\n",
              "      background-color: #3B4455;\n",
              "      fill: #D2E3FC;\n",
              "    }\n",
              "\n",
              "    [theme=dark] .colab-df-convert:hover {\n",
              "      background-color: #434B5C;\n",
              "      box-shadow: 0px 1px 3px 1px rgba(0, 0, 0, 0.15);\n",
              "      filter: drop-shadow(0px 1px 2px rgba(0, 0, 0, 0.3));\n",
              "      fill: #FFFFFF;\n",
              "    }\n",
              "  </style>\n",
              "\n",
              "      <script>\n",
              "        const buttonEl =\n",
              "          document.querySelector('#df-a1f20850-3531-4a60-ba7e-b09646536011 button.colab-df-convert');\n",
              "        buttonEl.style.display =\n",
              "          google.colab.kernel.accessAllowed ? 'block' : 'none';\n",
              "\n",
              "        async function convertToInteractive(key) {\n",
              "          const element = document.querySelector('#df-a1f20850-3531-4a60-ba7e-b09646536011');\n",
              "          const dataTable =\n",
              "            await google.colab.kernel.invokeFunction('convertToInteractive',\n",
              "                                                     [key], {});\n",
              "          if (!dataTable) return;\n",
              "\n",
              "          const docLinkHtml = 'Like what you see? Visit the ' +\n",
              "            '<a target=\"_blank\" href=https://colab.research.google.com/notebooks/data_table.ipynb>data table notebook</a>'\n",
              "            + ' to learn more about interactive tables.';\n",
              "          element.innerHTML = '';\n",
              "          dataTable['output_type'] = 'display_data';\n",
              "          await google.colab.output.renderOutput(dataTable, element);\n",
              "          const docLink = document.createElement('div');\n",
              "          docLink.innerHTML = docLinkHtml;\n",
              "          element.appendChild(docLink);\n",
              "        }\n",
              "      </script>\n",
              "    </div>\n",
              "  </div>\n",
              "  "
            ]
          },
          "metadata": {},
          "execution_count": 2082
        }
      ]
    },
    {
      "cell_type": "markdown",
      "source": [
        "Con n_components = 45 se tiene el 86% de la información de la matriz de utilidad"
      ],
      "metadata": {
        "id": "DpWulAlsMevR"
      }
    },
    {
      "cell_type": "code",
      "source": [
        "information_quantity(45)"
      ],
      "metadata": {
        "colab": {
          "base_uri": "https://localhost:8080/"
        },
        "id": "C_kd6GkZpMRb",
        "outputId": "79553f11-4d09-4d6d-abf2-be4a3f16887a"
      },
      "execution_count": 2079,
      "outputs": [
        {
          "output_type": "execute_result",
          "data": {
            "text/plain": [
              "86.50077316479475"
            ]
          },
          "metadata": {},
          "execution_count": 2079
        }
      ]
    },
    {
      "cell_type": "markdown",
      "source": [
        "<font color=\"royalblue\"> **Conclusiones:**</font>\n",
        "\n",
        "<font color=\"royalblue\"> \n",
        "Con 52 n_components se tiene el 90% de la información original, en tanto que con 45 n_components se tiene el 86%, el restaurante que cambia es Mariscos Tia Licha, dado que con 45 componentes es sustituido por Los Vikingos, teniendo así que 9 de 10 recomendaciones permanecen igual (90% de las recomendaciones).\n",
        "\n",
        "</font>"
      ],
      "metadata": {
        "id": "zMMJyrQcMyey"
      }
    },
    {
      "cell_type": "markdown",
      "source": [
        "# **Ejercicio-8.**\n",
        "\n",
        "Incluye tus conclusiones finales. En particular indica la coincidencia o no de estos tres modelos.\n",
        "\n",
        "<font color=\"royalblue\"> Los modelos arrojan resultados similares, debido a que los ratings son **similares** entre si. De manera parecida a PCA, SVD es útil para representar un modelo con una menor cantidad de información, por ejemplo con 50 componentes de SVD, fue posible representar el 90% de la información, en lugar de los 138 componentes originales del dataset de ratings, por citar un ejemplo.  Se encontraron algunos valores críticos de los componentes, debido a que si los englobamos en rangos, al momento de revisar fuera de los límites de estos, tenemos cambios significativos en las recomendaciones, es decir, cambios del 30 al 40 por ciento. Las recomendaciones hechas a **Tacos de barbacoa enfrente del Tec** cambian respecto a **Subway**, lo cual se puede atribuir a factores como el servicio, la calidad de la comida y la opinión del restaurante. </font>"
      ],
      "metadata": {
        "id": "9h9eDt6fcmBN"
      }
    },
    {
      "cell_type": "markdown",
      "source": [
        "###**Fin de la Actividad de la semana 10 - Sistemas de Recomendación y Reducción de Dimensionalidad con SVD.**"
      ],
      "metadata": {
        "id": "7ql_r2G-DB_m"
      }
    }
  ]
}