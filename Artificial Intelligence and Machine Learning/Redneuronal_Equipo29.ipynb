{
  "cells": [
    {
      "cell_type": "markdown",
      "metadata": {
        "id": "view-in-github",
        "colab_type": "text"
      },
      "source": [
        "<a href=\"https://colab.research.google.com/github/Tecnologico-de-Monterrey-MNA/iayaa-Equipo-29/blob/main/Redneuronal_Equipo29.ipynb\" target=\"_parent\"><img src=\"https://colab.research.google.com/assets/colab-badge.svg\" alt=\"Open In Colab\"/></a>"
      ]
    },
    {
      "cell_type": "markdown",
      "metadata": {
        "id": "VFj0sSM06dYa"
      },
      "source": [
        "#**Maestría en Inteligencia Artificial Aplicada**\n",
        "##**Curso: Inteligencia Artificial y Aprendizaje Automático**\n",
        "###Tecnológico de Monterrey\n",
        "###Prof Luis Eduardo Falcón Morales\n",
        "\n",
        "## **Adtividad de la Semana 7**\n",
        "###**Red Neuronal Artificial - Perceptrón Multicapa : Multilayer Perceptrón (MLP)**\n"
      ]
    },
    {
      "cell_type": "markdown",
      "metadata": {
        "id": "Qgrvy0RGB9XI"
      },
      "source": [
        "**Nombres y matrículas de los integrantes del equipo:**\n",
        "\n",
        "*   Eduardo Gabriel Arévalo Aguilar - A01793897\n",
        "*   José Javier Granados Hernández - A00566717\n",
        "*   Ernesto Enriquez Rubio - A01228409\n",
        "*   Roberto Romero Vielma - A00822314  \n"
      ]
    },
    {
      "cell_type": "markdown",
      "metadata": {
        "id": "FrJ2ahMODVj1"
      },
      "source": [
        "En cada sección deberás incluir todas las líneas de código necesarias para responder a cada uno de los ejercicios."
      ]
    },
    {
      "cell_type": "code",
      "execution_count": 34,
      "metadata": {
        "id": "exXsscs-Dh-2"
      },
      "outputs": [],
      "source": [
        "# Incluye aquí todos módulos, librerías y paquetes que requieras.\n",
        "import pandas as pd\n",
        "import numpy as np\n",
        "\n",
        "import matplotlib.pyplot as plt\n",
        "import seaborn as sns\n",
        "\n",
        "from sklearn.pipeline import Pipeline\n",
        "from sklearn.compose import ColumnTransformer\n",
        "from sklearn.preprocessing import MinMaxScaler, OneHotEncoder, StandardScaler\n",
        "from sklearn.impute import SimpleImputer\n",
        "from sklearn.dummy import DummyRegressor\n",
        "\n",
        "from sklearn.metrics import make_scorer\n",
        "\n",
        "from sklearn.model_selection import train_test_split\n",
        "from sklearn.preprocessing import power_transform\n",
        "from sklearn.model_selection import cross_validate\n",
        "from sklearn.model_selection import RepeatedKFold\n",
        "from sklearn.model_selection import KFold\n",
        "from sklearn.model_selection import GridSearchCV\n",
        "from sklearn.inspection import permutation_importance\n",
        "from sklearn.compose import TransformedTargetRegressor\n",
        "\n",
        "from sklearn.linear_model import LinearRegression\n",
        "from sklearn.neural_network import MLPRegressor\n",
        "from sklearn.ensemble import RandomForestRegressor"
      ]
    },
    {
      "cell_type": "markdown",
      "metadata": {
        "id": "X25brD-gQdZM"
      },
      "source": [
        "#**Ejercicio-1.** \n",
        "En esta tarea considera únicamente la siguiente variable de salida que se concluye que es una de las \n",
        "mejores en el artículo antes citado:  ‘Lifetime People who have liked a Page and engaged with a \n",
        "post'. Renombra dicha variable como “LPE” . Como variables de entrada selecciona las 7 variables \n",
        "que indican los autores en la Tabla 3 del artículo citado. "
      ]
    },
    {
      "cell_type": "code",
      "execution_count": 35,
      "metadata": {
        "id": "3nU2GuWYCy6C"
      },
      "outputs": [],
      "source": [
        "file=\"https://raw.githubusercontent.com/rromerov/Machine-Learning-Projects/main/dataset_Facebook.csv\"\n",
        "fb=pd.read_table(file,sep=\";\")"
      ]
    },
    {
      "cell_type": "code",
      "execution_count": 36,
      "metadata": {
        "colab": {
          "base_uri": "https://localhost:8080/",
          "height": 406
        },
        "id": "0ulkqXVGCy97",
        "outputId": "5d79fdae-fbec-4b14-8d91-6f84afcea0bf"
      },
      "outputs": [
        {
          "output_type": "execute_result",
          "data": {
            "text/plain": [
              "   Page total likes    Type  Category  Post Month  Post Weekday  Post Hour  \\\n",
              "0            139441   Photo         2          12             4          3   \n",
              "1            139441  Status         2          12             3         10   \n",
              "2            139441   Photo         3          12             3          3   \n",
              "3            139441   Photo         2          12             2         10   \n",
              "4            139441   Photo         2          12             2          3   \n",
              "\n",
              "   Paid  Lifetime Post Total Reach  Lifetime Post Total Impressions  \\\n",
              "0   0.0                       2752                             5091   \n",
              "1   0.0                      10460                            19057   \n",
              "2   0.0                       2413                             4373   \n",
              "3   1.0                      50128                            87991   \n",
              "4   0.0                       7244                            13594   \n",
              "\n",
              "   Lifetime Engaged Users  Lifetime Post Consumers  \\\n",
              "0                     178                      109   \n",
              "1                    1457                     1361   \n",
              "2                     177                      113   \n",
              "3                    2211                      790   \n",
              "4                     671                      410   \n",
              "\n",
              "   Lifetime Post Consumptions  \\\n",
              "0                         159   \n",
              "1                        1674   \n",
              "2                         154   \n",
              "3                        1119   \n",
              "4                         580   \n",
              "\n",
              "   Lifetime Post Impressions by people who have liked your Page  \\\n",
              "0                                               3078              \n",
              "1                                              11710              \n",
              "2                                               2812              \n",
              "3                                              61027              \n",
              "4                                               6228              \n",
              "\n",
              "   Lifetime Post reach by people who like your Page  \\\n",
              "0                                              1640   \n",
              "1                                              6112   \n",
              "2                                              1503   \n",
              "3                                             32048   \n",
              "4                                              3200   \n",
              "\n",
              "   Lifetime People who have liked your Page and engaged with your post  \\\n",
              "0                                                119                     \n",
              "1                                               1108                     \n",
              "2                                                132                     \n",
              "3                                               1386                     \n",
              "4                                                396                     \n",
              "\n",
              "   comment    like  share  Total Interactions  \n",
              "0        4    79.0   17.0                 100  \n",
              "1        5   130.0   29.0                 164  \n",
              "2        0    66.0   14.0                  80  \n",
              "3       58  1572.0  147.0                1777  \n",
              "4       19   325.0   49.0                 393  "
            ],
            "text/html": [
              "\n",
              "  <div id=\"df-ad29c27e-7e6a-4bf5-864f-59097d7fda63\">\n",
              "    <div class=\"colab-df-container\">\n",
              "      <div>\n",
              "<style scoped>\n",
              "    .dataframe tbody tr th:only-of-type {\n",
              "        vertical-align: middle;\n",
              "    }\n",
              "\n",
              "    .dataframe tbody tr th {\n",
              "        vertical-align: top;\n",
              "    }\n",
              "\n",
              "    .dataframe thead th {\n",
              "        text-align: right;\n",
              "    }\n",
              "</style>\n",
              "<table border=\"1\" class=\"dataframe\">\n",
              "  <thead>\n",
              "    <tr style=\"text-align: right;\">\n",
              "      <th></th>\n",
              "      <th>Page total likes</th>\n",
              "      <th>Type</th>\n",
              "      <th>Category</th>\n",
              "      <th>Post Month</th>\n",
              "      <th>Post Weekday</th>\n",
              "      <th>Post Hour</th>\n",
              "      <th>Paid</th>\n",
              "      <th>Lifetime Post Total Reach</th>\n",
              "      <th>Lifetime Post Total Impressions</th>\n",
              "      <th>Lifetime Engaged Users</th>\n",
              "      <th>Lifetime Post Consumers</th>\n",
              "      <th>Lifetime Post Consumptions</th>\n",
              "      <th>Lifetime Post Impressions by people who have liked your Page</th>\n",
              "      <th>Lifetime Post reach by people who like your Page</th>\n",
              "      <th>Lifetime People who have liked your Page and engaged with your post</th>\n",
              "      <th>comment</th>\n",
              "      <th>like</th>\n",
              "      <th>share</th>\n",
              "      <th>Total Interactions</th>\n",
              "    </tr>\n",
              "  </thead>\n",
              "  <tbody>\n",
              "    <tr>\n",
              "      <th>0</th>\n",
              "      <td>139441</td>\n",
              "      <td>Photo</td>\n",
              "      <td>2</td>\n",
              "      <td>12</td>\n",
              "      <td>4</td>\n",
              "      <td>3</td>\n",
              "      <td>0.0</td>\n",
              "      <td>2752</td>\n",
              "      <td>5091</td>\n",
              "      <td>178</td>\n",
              "      <td>109</td>\n",
              "      <td>159</td>\n",
              "      <td>3078</td>\n",
              "      <td>1640</td>\n",
              "      <td>119</td>\n",
              "      <td>4</td>\n",
              "      <td>79.0</td>\n",
              "      <td>17.0</td>\n",
              "      <td>100</td>\n",
              "    </tr>\n",
              "    <tr>\n",
              "      <th>1</th>\n",
              "      <td>139441</td>\n",
              "      <td>Status</td>\n",
              "      <td>2</td>\n",
              "      <td>12</td>\n",
              "      <td>3</td>\n",
              "      <td>10</td>\n",
              "      <td>0.0</td>\n",
              "      <td>10460</td>\n",
              "      <td>19057</td>\n",
              "      <td>1457</td>\n",
              "      <td>1361</td>\n",
              "      <td>1674</td>\n",
              "      <td>11710</td>\n",
              "      <td>6112</td>\n",
              "      <td>1108</td>\n",
              "      <td>5</td>\n",
              "      <td>130.0</td>\n",
              "      <td>29.0</td>\n",
              "      <td>164</td>\n",
              "    </tr>\n",
              "    <tr>\n",
              "      <th>2</th>\n",
              "      <td>139441</td>\n",
              "      <td>Photo</td>\n",
              "      <td>3</td>\n",
              "      <td>12</td>\n",
              "      <td>3</td>\n",
              "      <td>3</td>\n",
              "      <td>0.0</td>\n",
              "      <td>2413</td>\n",
              "      <td>4373</td>\n",
              "      <td>177</td>\n",
              "      <td>113</td>\n",
              "      <td>154</td>\n",
              "      <td>2812</td>\n",
              "      <td>1503</td>\n",
              "      <td>132</td>\n",
              "      <td>0</td>\n",
              "      <td>66.0</td>\n",
              "      <td>14.0</td>\n",
              "      <td>80</td>\n",
              "    </tr>\n",
              "    <tr>\n",
              "      <th>3</th>\n",
              "      <td>139441</td>\n",
              "      <td>Photo</td>\n",
              "      <td>2</td>\n",
              "      <td>12</td>\n",
              "      <td>2</td>\n",
              "      <td>10</td>\n",
              "      <td>1.0</td>\n",
              "      <td>50128</td>\n",
              "      <td>87991</td>\n",
              "      <td>2211</td>\n",
              "      <td>790</td>\n",
              "      <td>1119</td>\n",
              "      <td>61027</td>\n",
              "      <td>32048</td>\n",
              "      <td>1386</td>\n",
              "      <td>58</td>\n",
              "      <td>1572.0</td>\n",
              "      <td>147.0</td>\n",
              "      <td>1777</td>\n",
              "    </tr>\n",
              "    <tr>\n",
              "      <th>4</th>\n",
              "      <td>139441</td>\n",
              "      <td>Photo</td>\n",
              "      <td>2</td>\n",
              "      <td>12</td>\n",
              "      <td>2</td>\n",
              "      <td>3</td>\n",
              "      <td>0.0</td>\n",
              "      <td>7244</td>\n",
              "      <td>13594</td>\n",
              "      <td>671</td>\n",
              "      <td>410</td>\n",
              "      <td>580</td>\n",
              "      <td>6228</td>\n",
              "      <td>3200</td>\n",
              "      <td>396</td>\n",
              "      <td>19</td>\n",
              "      <td>325.0</td>\n",
              "      <td>49.0</td>\n",
              "      <td>393</td>\n",
              "    </tr>\n",
              "  </tbody>\n",
              "</table>\n",
              "</div>\n",
              "      <button class=\"colab-df-convert\" onclick=\"convertToInteractive('df-ad29c27e-7e6a-4bf5-864f-59097d7fda63')\"\n",
              "              title=\"Convert this dataframe to an interactive table.\"\n",
              "              style=\"display:none;\">\n",
              "        \n",
              "  <svg xmlns=\"http://www.w3.org/2000/svg\" height=\"24px\"viewBox=\"0 0 24 24\"\n",
              "       width=\"24px\">\n",
              "    <path d=\"M0 0h24v24H0V0z\" fill=\"none\"/>\n",
              "    <path d=\"M18.56 5.44l.94 2.06.94-2.06 2.06-.94-2.06-.94-.94-2.06-.94 2.06-2.06.94zm-11 1L8.5 8.5l.94-2.06 2.06-.94-2.06-.94L8.5 2.5l-.94 2.06-2.06.94zm10 10l.94 2.06.94-2.06 2.06-.94-2.06-.94-.94-2.06-.94 2.06-2.06.94z\"/><path d=\"M17.41 7.96l-1.37-1.37c-.4-.4-.92-.59-1.43-.59-.52 0-1.04.2-1.43.59L10.3 9.45l-7.72 7.72c-.78.78-.78 2.05 0 2.83L4 21.41c.39.39.9.59 1.41.59.51 0 1.02-.2 1.41-.59l7.78-7.78 2.81-2.81c.8-.78.8-2.07 0-2.86zM5.41 20L4 18.59l7.72-7.72 1.47 1.35L5.41 20z\"/>\n",
              "  </svg>\n",
              "      </button>\n",
              "      \n",
              "  <style>\n",
              "    .colab-df-container {\n",
              "      display:flex;\n",
              "      flex-wrap:wrap;\n",
              "      gap: 12px;\n",
              "    }\n",
              "\n",
              "    .colab-df-convert {\n",
              "      background-color: #E8F0FE;\n",
              "      border: none;\n",
              "      border-radius: 50%;\n",
              "      cursor: pointer;\n",
              "      display: none;\n",
              "      fill: #1967D2;\n",
              "      height: 32px;\n",
              "      padding: 0 0 0 0;\n",
              "      width: 32px;\n",
              "    }\n",
              "\n",
              "    .colab-df-convert:hover {\n",
              "      background-color: #E2EBFA;\n",
              "      box-shadow: 0px 1px 2px rgba(60, 64, 67, 0.3), 0px 1px 3px 1px rgba(60, 64, 67, 0.15);\n",
              "      fill: #174EA6;\n",
              "    }\n",
              "\n",
              "    [theme=dark] .colab-df-convert {\n",
              "      background-color: #3B4455;\n",
              "      fill: #D2E3FC;\n",
              "    }\n",
              "\n",
              "    [theme=dark] .colab-df-convert:hover {\n",
              "      background-color: #434B5C;\n",
              "      box-shadow: 0px 1px 3px 1px rgba(0, 0, 0, 0.15);\n",
              "      filter: drop-shadow(0px 1px 2px rgba(0, 0, 0, 0.3));\n",
              "      fill: #FFFFFF;\n",
              "    }\n",
              "  </style>\n",
              "\n",
              "      <script>\n",
              "        const buttonEl =\n",
              "          document.querySelector('#df-ad29c27e-7e6a-4bf5-864f-59097d7fda63 button.colab-df-convert');\n",
              "        buttonEl.style.display =\n",
              "          google.colab.kernel.accessAllowed ? 'block' : 'none';\n",
              "\n",
              "        async function convertToInteractive(key) {\n",
              "          const element = document.querySelector('#df-ad29c27e-7e6a-4bf5-864f-59097d7fda63');\n",
              "          const dataTable =\n",
              "            await google.colab.kernel.invokeFunction('convertToInteractive',\n",
              "                                                     [key], {});\n",
              "          if (!dataTable) return;\n",
              "\n",
              "          const docLinkHtml = 'Like what you see? Visit the ' +\n",
              "            '<a target=\"_blank\" href=https://colab.research.google.com/notebooks/data_table.ipynb>data table notebook</a>'\n",
              "            + ' to learn more about interactive tables.';\n",
              "          element.innerHTML = '';\n",
              "          dataTable['output_type'] = 'display_data';\n",
              "          await google.colab.output.renderOutput(dataTable, element);\n",
              "          const docLink = document.createElement('div');\n",
              "          docLink.innerHTML = docLinkHtml;\n",
              "          element.appendChild(docLink);\n",
              "        }\n",
              "      </script>\n",
              "    </div>\n",
              "  </div>\n",
              "  "
            ]
          },
          "metadata": {},
          "execution_count": 36
        }
      ],
      "source": [
        "fb.head()"
      ]
    },
    {
      "cell_type": "markdown",
      "metadata": {
        "id": "c66u33sD4EHZ"
      },
      "source": [
        "Renombramos la columna Lifetime People who have liked a Page and engaged with a post con LPE"
      ]
    },
    {
      "cell_type": "code",
      "execution_count": 37,
      "metadata": {
        "id": "w0vQAiBJ4H9C"
      },
      "outputs": [],
      "source": [
        "fb.rename(columns={\"Lifetime People who have liked your Page and engaged with your post\":\"LPE\"},inplace=True)"
      ]
    },
    {
      "cell_type": "markdown",
      "metadata": {
        "id": "L_e9b6YADhvn"
      },
      "source": [
        "Seleccionamos las columnas que nos interesan"
      ]
    },
    {
      "cell_type": "code",
      "execution_count": 38,
      "metadata": {
        "id": "eE5iWZfPDmXU"
      },
      "outputs": [],
      "source": [
        "columns_of_interest=[\"Category\",\"Page total likes\",\"Type\",\"Post Month\",\"Post Hour\",\"Post Weekday\",\"Paid\",\"LPE\"]\n",
        "fb=fb[columns_of_interest]\n",
        "X=fb.iloc[:,:-1:]\n",
        "y=fb[\"LPE\"]"
      ]
    },
    {
      "cell_type": "code",
      "execution_count": 39,
      "metadata": {
        "colab": {
          "base_uri": "https://localhost:8080/",
          "height": 206
        },
        "id": "v45xg1mNy-Hu",
        "outputId": "1fe60858-108c-48d9-c5c9-b06b66bdc551"
      },
      "outputs": [
        {
          "output_type": "execute_result",
          "data": {
            "text/plain": [
              "   Category  Page total likes    Type  Post Month  Post Hour  Post Weekday  \\\n",
              "0         2            139441   Photo          12          3             4   \n",
              "1         2            139441  Status          12         10             3   \n",
              "2         3            139441   Photo          12          3             3   \n",
              "3         2            139441   Photo          12         10             2   \n",
              "4         2            139441   Photo          12          3             2   \n",
              "\n",
              "   Paid  \n",
              "0   0.0  \n",
              "1   0.0  \n",
              "2   0.0  \n",
              "3   1.0  \n",
              "4   0.0  "
            ],
            "text/html": [
              "\n",
              "  <div id=\"df-654d2a8e-50e9-45ae-b088-47ed911e3f0e\">\n",
              "    <div class=\"colab-df-container\">\n",
              "      <div>\n",
              "<style scoped>\n",
              "    .dataframe tbody tr th:only-of-type {\n",
              "        vertical-align: middle;\n",
              "    }\n",
              "\n",
              "    .dataframe tbody tr th {\n",
              "        vertical-align: top;\n",
              "    }\n",
              "\n",
              "    .dataframe thead th {\n",
              "        text-align: right;\n",
              "    }\n",
              "</style>\n",
              "<table border=\"1\" class=\"dataframe\">\n",
              "  <thead>\n",
              "    <tr style=\"text-align: right;\">\n",
              "      <th></th>\n",
              "      <th>Category</th>\n",
              "      <th>Page total likes</th>\n",
              "      <th>Type</th>\n",
              "      <th>Post Month</th>\n",
              "      <th>Post Hour</th>\n",
              "      <th>Post Weekday</th>\n",
              "      <th>Paid</th>\n",
              "    </tr>\n",
              "  </thead>\n",
              "  <tbody>\n",
              "    <tr>\n",
              "      <th>0</th>\n",
              "      <td>2</td>\n",
              "      <td>139441</td>\n",
              "      <td>Photo</td>\n",
              "      <td>12</td>\n",
              "      <td>3</td>\n",
              "      <td>4</td>\n",
              "      <td>0.0</td>\n",
              "    </tr>\n",
              "    <tr>\n",
              "      <th>1</th>\n",
              "      <td>2</td>\n",
              "      <td>139441</td>\n",
              "      <td>Status</td>\n",
              "      <td>12</td>\n",
              "      <td>10</td>\n",
              "      <td>3</td>\n",
              "      <td>0.0</td>\n",
              "    </tr>\n",
              "    <tr>\n",
              "      <th>2</th>\n",
              "      <td>3</td>\n",
              "      <td>139441</td>\n",
              "      <td>Photo</td>\n",
              "      <td>12</td>\n",
              "      <td>3</td>\n",
              "      <td>3</td>\n",
              "      <td>0.0</td>\n",
              "    </tr>\n",
              "    <tr>\n",
              "      <th>3</th>\n",
              "      <td>2</td>\n",
              "      <td>139441</td>\n",
              "      <td>Photo</td>\n",
              "      <td>12</td>\n",
              "      <td>10</td>\n",
              "      <td>2</td>\n",
              "      <td>1.0</td>\n",
              "    </tr>\n",
              "    <tr>\n",
              "      <th>4</th>\n",
              "      <td>2</td>\n",
              "      <td>139441</td>\n",
              "      <td>Photo</td>\n",
              "      <td>12</td>\n",
              "      <td>3</td>\n",
              "      <td>2</td>\n",
              "      <td>0.0</td>\n",
              "    </tr>\n",
              "  </tbody>\n",
              "</table>\n",
              "</div>\n",
              "      <button class=\"colab-df-convert\" onclick=\"convertToInteractive('df-654d2a8e-50e9-45ae-b088-47ed911e3f0e')\"\n",
              "              title=\"Convert this dataframe to an interactive table.\"\n",
              "              style=\"display:none;\">\n",
              "        \n",
              "  <svg xmlns=\"http://www.w3.org/2000/svg\" height=\"24px\"viewBox=\"0 0 24 24\"\n",
              "       width=\"24px\">\n",
              "    <path d=\"M0 0h24v24H0V0z\" fill=\"none\"/>\n",
              "    <path d=\"M18.56 5.44l.94 2.06.94-2.06 2.06-.94-2.06-.94-.94-2.06-.94 2.06-2.06.94zm-11 1L8.5 8.5l.94-2.06 2.06-.94-2.06-.94L8.5 2.5l-.94 2.06-2.06.94zm10 10l.94 2.06.94-2.06 2.06-.94-2.06-.94-.94-2.06-.94 2.06-2.06.94z\"/><path d=\"M17.41 7.96l-1.37-1.37c-.4-.4-.92-.59-1.43-.59-.52 0-1.04.2-1.43.59L10.3 9.45l-7.72 7.72c-.78.78-.78 2.05 0 2.83L4 21.41c.39.39.9.59 1.41.59.51 0 1.02-.2 1.41-.59l7.78-7.78 2.81-2.81c.8-.78.8-2.07 0-2.86zM5.41 20L4 18.59l7.72-7.72 1.47 1.35L5.41 20z\"/>\n",
              "  </svg>\n",
              "      </button>\n",
              "      \n",
              "  <style>\n",
              "    .colab-df-container {\n",
              "      display:flex;\n",
              "      flex-wrap:wrap;\n",
              "      gap: 12px;\n",
              "    }\n",
              "\n",
              "    .colab-df-convert {\n",
              "      background-color: #E8F0FE;\n",
              "      border: none;\n",
              "      border-radius: 50%;\n",
              "      cursor: pointer;\n",
              "      display: none;\n",
              "      fill: #1967D2;\n",
              "      height: 32px;\n",
              "      padding: 0 0 0 0;\n",
              "      width: 32px;\n",
              "    }\n",
              "\n",
              "    .colab-df-convert:hover {\n",
              "      background-color: #E2EBFA;\n",
              "      box-shadow: 0px 1px 2px rgba(60, 64, 67, 0.3), 0px 1px 3px 1px rgba(60, 64, 67, 0.15);\n",
              "      fill: #174EA6;\n",
              "    }\n",
              "\n",
              "    [theme=dark] .colab-df-convert {\n",
              "      background-color: #3B4455;\n",
              "      fill: #D2E3FC;\n",
              "    }\n",
              "\n",
              "    [theme=dark] .colab-df-convert:hover {\n",
              "      background-color: #434B5C;\n",
              "      box-shadow: 0px 1px 3px 1px rgba(0, 0, 0, 0.15);\n",
              "      filter: drop-shadow(0px 1px 2px rgba(0, 0, 0, 0.3));\n",
              "      fill: #FFFFFF;\n",
              "    }\n",
              "  </style>\n",
              "\n",
              "      <script>\n",
              "        const buttonEl =\n",
              "          document.querySelector('#df-654d2a8e-50e9-45ae-b088-47ed911e3f0e button.colab-df-convert');\n",
              "        buttonEl.style.display =\n",
              "          google.colab.kernel.accessAllowed ? 'block' : 'none';\n",
              "\n",
              "        async function convertToInteractive(key) {\n",
              "          const element = document.querySelector('#df-654d2a8e-50e9-45ae-b088-47ed911e3f0e');\n",
              "          const dataTable =\n",
              "            await google.colab.kernel.invokeFunction('convertToInteractive',\n",
              "                                                     [key], {});\n",
              "          if (!dataTable) return;\n",
              "\n",
              "          const docLinkHtml = 'Like what you see? Visit the ' +\n",
              "            '<a target=\"_blank\" href=https://colab.research.google.com/notebooks/data_table.ipynb>data table notebook</a>'\n",
              "            + ' to learn more about interactive tables.';\n",
              "          element.innerHTML = '';\n",
              "          dataTable['output_type'] = 'display_data';\n",
              "          await google.colab.output.renderOutput(dataTable, element);\n",
              "          const docLink = document.createElement('div');\n",
              "          docLink.innerHTML = docLinkHtml;\n",
              "          element.appendChild(docLink);\n",
              "        }\n",
              "      </script>\n",
              "    </div>\n",
              "  </div>\n",
              "  "
            ]
          },
          "metadata": {},
          "execution_count": 39
        }
      ],
      "source": [
        "X.head()"
      ]
    },
    {
      "cell_type": "code",
      "execution_count": 40,
      "metadata": {
        "colab": {
          "base_uri": "https://localhost:8080/"
        },
        "id": "TydGuK5FzBbI",
        "outputId": "6bb2f757-d4d6-4654-aa7a-01c2c5be5d57"
      },
      "outputs": [
        {
          "output_type": "execute_result",
          "data": {
            "text/plain": [
              "0     119\n",
              "1    1108\n",
              "2     132\n",
              "3    1386\n",
              "4     396\n",
              "Name: LPE, dtype: int64"
            ]
          },
          "metadata": {},
          "execution_count": 40
        }
      ],
      "source": [
        "y.head()"
      ]
    },
    {
      "cell_type": "markdown",
      "metadata": {
        "id": "xZhr2hkECzVv"
      },
      "source": [
        "#**Ejercicio-2.**\n",
        "Realiza una partición de los datos con 100 datos de Prueba y el resto para entrenamiento y \n",
        "validación.  "
      ]
    },
    {
      "cell_type": "code",
      "execution_count": 41,
      "metadata": {
        "id": "kGfAoOPkC1PP"
      },
      "outputs": [],
      "source": [
        "X_tv, X_test, y_tv,y_test=train_test_split(X,y,test_size=100,random_state=1)\n"
      ]
    },
    {
      "cell_type": "code",
      "execution_count": 42,
      "metadata": {
        "colab": {
          "base_uri": "https://localhost:8080/"
        },
        "id": "gpm_zrcWewHX",
        "outputId": "08bda41c-7328-4612-8aab-a85a83752f45"
      },
      "outputs": [
        {
          "output_type": "execute_result",
          "data": {
            "text/plain": [
              "400"
            ]
          },
          "metadata": {},
          "execution_count": 42
        }
      ],
      "source": [
        "len(X_tv) #Datos de Entrenamiento y Validación"
      ]
    },
    {
      "cell_type": "code",
      "execution_count": 43,
      "metadata": {
        "colab": {
          "base_uri": "https://localhost:8080/"
        },
        "id": "LYLmIz3pe2il",
        "outputId": "ea37b8b2-8e4d-4ec0-a1c5-48e18981b6bd"
      },
      "outputs": [
        {
          "output_type": "execute_result",
          "data": {
            "text/plain": [
              "100"
            ]
          },
          "metadata": {},
          "execution_count": 43
        }
      ],
      "source": [
        "len(X_test) #Datos de Prueba"
      ]
    },
    {
      "cell_type": "markdown",
      "metadata": {
        "id": "NCunuooTC2W3"
      },
      "source": [
        "#**Ejercicio-3.**\n",
        "Definirás tus propias funciones de errores para este problema de regresión. Los errores que \n",
        "utilizarás son la raíz cuadrada del error cuadrático medio RMSE, el error absoluto medio MAE y el \n",
        "error porcentual absoluto medio MAPE. "
      ]
    },
    {
      "cell_type": "code",
      "execution_count": 44,
      "metadata": {
        "id": "BKI80-YdC4HN"
      },
      "outputs": [],
      "source": [
        "def mi_RMSE(y,y_pred):\n",
        "  MSE=np.mean(np.square(y-y_pred))\n",
        "  RMSE=np.sqrt(MSE)\n",
        "  return RMSE\n",
        "\n",
        "def mi_MAE(y,y_pred):\n",
        "  MAE=np.mean(np.abs(y-y_pred))\n",
        "  return MAE\n",
        "\n",
        "def mi_MAPE(y,y_pred):\n",
        "  MAPE=np.mean(np.abs((y-y_pred)/y))*100\n",
        "  return MAPE"
      ]
    },
    {
      "cell_type": "markdown",
      "metadata": {
        "id": "chqk9jIDC5Pq"
      },
      "source": [
        "#**Ejercicio-4.**\n",
        "En la página de la UCI, así como en el artículo de los autores previamente citado encuentras \n",
        "información en relación al significado de cada variable. Haz una análisis de tus datos y lleva a cabo \n",
        "las transformaciones que consideres adecuadas tanto en los datos de entrada, como en las de salida. \n",
        "Utiliza un Pipeline para evitar el filtrado de información. "
      ]
    },
    {
      "cell_type": "markdown",
      "metadata": {
        "id": "2dHJyImBMC6W"
      },
      "source": [
        "**Análisis de datos**\n"
      ]
    },
    {
      "cell_type": "markdown",
      "metadata": {
        "id": "sEhtS4fkMm4A"
      },
      "source": [
        "Visualizamos el dataset"
      ]
    },
    {
      "cell_type": "code",
      "execution_count": 45,
      "metadata": {
        "colab": {
          "base_uri": "https://localhost:8080/"
        },
        "id": "7KXnlNzAC69Y",
        "outputId": "c727ec18-3bec-43dc-df7f-7a617e0ec483"
      },
      "outputs": [
        {
          "output_type": "stream",
          "name": "stdout",
          "text": [
            "<class 'pandas.core.frame.DataFrame'>\n",
            "RangeIndex: 500 entries, 0 to 499\n",
            "Data columns (total 8 columns):\n",
            " #   Column            Non-Null Count  Dtype  \n",
            "---  ------            --------------  -----  \n",
            " 0   Category          500 non-null    int64  \n",
            " 1   Page total likes  500 non-null    int64  \n",
            " 2   Type              500 non-null    object \n",
            " 3   Post Month        500 non-null    int64  \n",
            " 4   Post Hour         500 non-null    int64  \n",
            " 5   Post Weekday      500 non-null    int64  \n",
            " 6   Paid              499 non-null    float64\n",
            " 7   LPE               500 non-null    int64  \n",
            "dtypes: float64(1), int64(6), object(1)\n",
            "memory usage: 31.4+ KB\n"
          ]
        }
      ],
      "source": [
        "fb.info()"
      ]
    },
    {
      "cell_type": "code",
      "execution_count": 46,
      "metadata": {
        "colab": {
          "base_uri": "https://localhost:8080/",
          "height": 300
        },
        "id": "ccD5oIYm45n1",
        "outputId": "dfd72f3e-2d88-4159-85e5-f1e00de46d3b"
      },
      "outputs": [
        {
          "output_type": "execute_result",
          "data": {
            "text/plain": [
              "         Category  Page total likes  Post Month   Post Hour  Post Weekday  \\\n",
              "count  500.000000        500.000000  500.000000  500.000000    500.000000   \n",
              "mean     1.880000     123194.176000    7.038000    7.840000      4.150000   \n",
              "std      0.852675      16272.813214    3.307936    4.368589      2.030701   \n",
              "min      1.000000      81370.000000    1.000000    1.000000      1.000000   \n",
              "25%      1.000000     112676.000000    4.000000    3.000000      2.000000   \n",
              "50%      2.000000     129600.000000    7.000000    9.000000      4.000000   \n",
              "75%      3.000000     136393.000000   10.000000   11.000000      6.000000   \n",
              "max      3.000000     139441.000000   12.000000   23.000000      7.000000   \n",
              "\n",
              "             Paid          LPE  \n",
              "count  499.000000   500.000000  \n",
              "mean     0.278557   609.986000  \n",
              "std      0.448739   612.725618  \n",
              "min      0.000000     9.000000  \n",
              "25%      0.000000   291.000000  \n",
              "50%      0.000000   412.000000  \n",
              "75%      1.000000   656.250000  \n",
              "max      1.000000  4376.000000  "
            ],
            "text/html": [
              "\n",
              "  <div id=\"df-a27f9367-3129-433d-a36e-43b79cb0e870\">\n",
              "    <div class=\"colab-df-container\">\n",
              "      <div>\n",
              "<style scoped>\n",
              "    .dataframe tbody tr th:only-of-type {\n",
              "        vertical-align: middle;\n",
              "    }\n",
              "\n",
              "    .dataframe tbody tr th {\n",
              "        vertical-align: top;\n",
              "    }\n",
              "\n",
              "    .dataframe thead th {\n",
              "        text-align: right;\n",
              "    }\n",
              "</style>\n",
              "<table border=\"1\" class=\"dataframe\">\n",
              "  <thead>\n",
              "    <tr style=\"text-align: right;\">\n",
              "      <th></th>\n",
              "      <th>Category</th>\n",
              "      <th>Page total likes</th>\n",
              "      <th>Post Month</th>\n",
              "      <th>Post Hour</th>\n",
              "      <th>Post Weekday</th>\n",
              "      <th>Paid</th>\n",
              "      <th>LPE</th>\n",
              "    </tr>\n",
              "  </thead>\n",
              "  <tbody>\n",
              "    <tr>\n",
              "      <th>count</th>\n",
              "      <td>500.000000</td>\n",
              "      <td>500.000000</td>\n",
              "      <td>500.000000</td>\n",
              "      <td>500.000000</td>\n",
              "      <td>500.000000</td>\n",
              "      <td>499.000000</td>\n",
              "      <td>500.000000</td>\n",
              "    </tr>\n",
              "    <tr>\n",
              "      <th>mean</th>\n",
              "      <td>1.880000</td>\n",
              "      <td>123194.176000</td>\n",
              "      <td>7.038000</td>\n",
              "      <td>7.840000</td>\n",
              "      <td>4.150000</td>\n",
              "      <td>0.278557</td>\n",
              "      <td>609.986000</td>\n",
              "    </tr>\n",
              "    <tr>\n",
              "      <th>std</th>\n",
              "      <td>0.852675</td>\n",
              "      <td>16272.813214</td>\n",
              "      <td>3.307936</td>\n",
              "      <td>4.368589</td>\n",
              "      <td>2.030701</td>\n",
              "      <td>0.448739</td>\n",
              "      <td>612.725618</td>\n",
              "    </tr>\n",
              "    <tr>\n",
              "      <th>min</th>\n",
              "      <td>1.000000</td>\n",
              "      <td>81370.000000</td>\n",
              "      <td>1.000000</td>\n",
              "      <td>1.000000</td>\n",
              "      <td>1.000000</td>\n",
              "      <td>0.000000</td>\n",
              "      <td>9.000000</td>\n",
              "    </tr>\n",
              "    <tr>\n",
              "      <th>25%</th>\n",
              "      <td>1.000000</td>\n",
              "      <td>112676.000000</td>\n",
              "      <td>4.000000</td>\n",
              "      <td>3.000000</td>\n",
              "      <td>2.000000</td>\n",
              "      <td>0.000000</td>\n",
              "      <td>291.000000</td>\n",
              "    </tr>\n",
              "    <tr>\n",
              "      <th>50%</th>\n",
              "      <td>2.000000</td>\n",
              "      <td>129600.000000</td>\n",
              "      <td>7.000000</td>\n",
              "      <td>9.000000</td>\n",
              "      <td>4.000000</td>\n",
              "      <td>0.000000</td>\n",
              "      <td>412.000000</td>\n",
              "    </tr>\n",
              "    <tr>\n",
              "      <th>75%</th>\n",
              "      <td>3.000000</td>\n",
              "      <td>136393.000000</td>\n",
              "      <td>10.000000</td>\n",
              "      <td>11.000000</td>\n",
              "      <td>6.000000</td>\n",
              "      <td>1.000000</td>\n",
              "      <td>656.250000</td>\n",
              "    </tr>\n",
              "    <tr>\n",
              "      <th>max</th>\n",
              "      <td>3.000000</td>\n",
              "      <td>139441.000000</td>\n",
              "      <td>12.000000</td>\n",
              "      <td>23.000000</td>\n",
              "      <td>7.000000</td>\n",
              "      <td>1.000000</td>\n",
              "      <td>4376.000000</td>\n",
              "    </tr>\n",
              "  </tbody>\n",
              "</table>\n",
              "</div>\n",
              "      <button class=\"colab-df-convert\" onclick=\"convertToInteractive('df-a27f9367-3129-433d-a36e-43b79cb0e870')\"\n",
              "              title=\"Convert this dataframe to an interactive table.\"\n",
              "              style=\"display:none;\">\n",
              "        \n",
              "  <svg xmlns=\"http://www.w3.org/2000/svg\" height=\"24px\"viewBox=\"0 0 24 24\"\n",
              "       width=\"24px\">\n",
              "    <path d=\"M0 0h24v24H0V0z\" fill=\"none\"/>\n",
              "    <path d=\"M18.56 5.44l.94 2.06.94-2.06 2.06-.94-2.06-.94-.94-2.06-.94 2.06-2.06.94zm-11 1L8.5 8.5l.94-2.06 2.06-.94-2.06-.94L8.5 2.5l-.94 2.06-2.06.94zm10 10l.94 2.06.94-2.06 2.06-.94-2.06-.94-.94-2.06-.94 2.06-2.06.94z\"/><path d=\"M17.41 7.96l-1.37-1.37c-.4-.4-.92-.59-1.43-.59-.52 0-1.04.2-1.43.59L10.3 9.45l-7.72 7.72c-.78.78-.78 2.05 0 2.83L4 21.41c.39.39.9.59 1.41.59.51 0 1.02-.2 1.41-.59l7.78-7.78 2.81-2.81c.8-.78.8-2.07 0-2.86zM5.41 20L4 18.59l7.72-7.72 1.47 1.35L5.41 20z\"/>\n",
              "  </svg>\n",
              "      </button>\n",
              "      \n",
              "  <style>\n",
              "    .colab-df-container {\n",
              "      display:flex;\n",
              "      flex-wrap:wrap;\n",
              "      gap: 12px;\n",
              "    }\n",
              "\n",
              "    .colab-df-convert {\n",
              "      background-color: #E8F0FE;\n",
              "      border: none;\n",
              "      border-radius: 50%;\n",
              "      cursor: pointer;\n",
              "      display: none;\n",
              "      fill: #1967D2;\n",
              "      height: 32px;\n",
              "      padding: 0 0 0 0;\n",
              "      width: 32px;\n",
              "    }\n",
              "\n",
              "    .colab-df-convert:hover {\n",
              "      background-color: #E2EBFA;\n",
              "      box-shadow: 0px 1px 2px rgba(60, 64, 67, 0.3), 0px 1px 3px 1px rgba(60, 64, 67, 0.15);\n",
              "      fill: #174EA6;\n",
              "    }\n",
              "\n",
              "    [theme=dark] .colab-df-convert {\n",
              "      background-color: #3B4455;\n",
              "      fill: #D2E3FC;\n",
              "    }\n",
              "\n",
              "    [theme=dark] .colab-df-convert:hover {\n",
              "      background-color: #434B5C;\n",
              "      box-shadow: 0px 1px 3px 1px rgba(0, 0, 0, 0.15);\n",
              "      filter: drop-shadow(0px 1px 2px rgba(0, 0, 0, 0.3));\n",
              "      fill: #FFFFFF;\n",
              "    }\n",
              "  </style>\n",
              "\n",
              "      <script>\n",
              "        const buttonEl =\n",
              "          document.querySelector('#df-a27f9367-3129-433d-a36e-43b79cb0e870 button.colab-df-convert');\n",
              "        buttonEl.style.display =\n",
              "          google.colab.kernel.accessAllowed ? 'block' : 'none';\n",
              "\n",
              "        async function convertToInteractive(key) {\n",
              "          const element = document.querySelector('#df-a27f9367-3129-433d-a36e-43b79cb0e870');\n",
              "          const dataTable =\n",
              "            await google.colab.kernel.invokeFunction('convertToInteractive',\n",
              "                                                     [key], {});\n",
              "          if (!dataTable) return;\n",
              "\n",
              "          const docLinkHtml = 'Like what you see? Visit the ' +\n",
              "            '<a target=\"_blank\" href=https://colab.research.google.com/notebooks/data_table.ipynb>data table notebook</a>'\n",
              "            + ' to learn more about interactive tables.';\n",
              "          element.innerHTML = '';\n",
              "          dataTable['output_type'] = 'display_data';\n",
              "          await google.colab.output.renderOutput(dataTable, element);\n",
              "          const docLink = document.createElement('div');\n",
              "          docLink.innerHTML = docLinkHtml;\n",
              "          element.appendChild(docLink);\n",
              "        }\n",
              "      </script>\n",
              "    </div>\n",
              "  </div>\n",
              "  "
            ]
          },
          "metadata": {},
          "execution_count": 46
        }
      ],
      "source": [
        "fb.describe()"
      ]
    },
    {
      "cell_type": "code",
      "execution_count": 47,
      "metadata": {
        "colab": {
          "base_uri": "https://localhost:8080/",
          "height": 336
        },
        "id": "BXQGMK4J5PHD",
        "outputId": "cf4f1c31-632e-4150-db0a-2a93a8875b5d"
      },
      "outputs": [
        {
          "output_type": "execute_result",
          "data": {
            "text/plain": [
              "array([[<matplotlib.axes._subplots.AxesSubplot object at 0x7f5d0b743d50>,\n",
              "        <matplotlib.axes._subplots.AxesSubplot object at 0x7f5d0b5e7c10>]],\n",
              "      dtype=object)"
            ]
          },
          "metadata": {},
          "execution_count": 47
        },
        {
          "output_type": "display_data",
          "data": {
            "text/plain": [
              "<Figure size 576x288 with 2 Axes>"
            ],
            "image/png": "[encoded data removed]"
          },
          "metadata": {}
        }
      ],
      "source": [
        "fb[[\"Page total likes\",\"LPE\"]].hist()"
      ]
    },
    {
      "cell_type": "code",
      "execution_count": 48,
      "metadata": {
        "colab": {
          "base_uri": "https://localhost:8080/",
          "height": 206
        },
        "id": "5KruRoMF6r4m",
        "outputId": "e5c3e3eb-79da-456d-dc6e-1a10f88dabe1"
      },
      "outputs": [
        {
          "output_type": "execute_result",
          "data": {
            "text/plain": [
              "   Category  Page total likes    Type  Post Month  Post Hour  Post Weekday  \\\n",
              "0         2            139441   Photo          12          3             4   \n",
              "1         2            139441  Status          12         10             3   \n",
              "2         3            139441   Photo          12          3             3   \n",
              "3         2            139441   Photo          12         10             2   \n",
              "4         2            139441   Photo          12          3             2   \n",
              "\n",
              "   Paid   LPE  \n",
              "0   0.0   119  \n",
              "1   0.0  1108  \n",
              "2   0.0   132  \n",
              "3   1.0  1386  \n",
              "4   0.0   396  "
            ],
            "text/html": [
              "\n",
              "  <div id=\"df-54f4c565-4765-455f-8bde-4b484f3227a6\">\n",
              "    <div class=\"colab-df-container\">\n",
              "      <div>\n",
              "<style scoped>\n",
              "    .dataframe tbody tr th:only-of-type {\n",
              "        vertical-align: middle;\n",
              "    }\n",
              "\n",
              "    .dataframe tbody tr th {\n",
              "        vertical-align: top;\n",
              "    }\n",
              "\n",
              "    .dataframe thead th {\n",
              "        text-align: right;\n",
              "    }\n",
              "</style>\n",
              "<table border=\"1\" class=\"dataframe\">\n",
              "  <thead>\n",
              "    <tr style=\"text-align: right;\">\n",
              "      <th></th>\n",
              "      <th>Category</th>\n",
              "      <th>Page total likes</th>\n",
              "      <th>Type</th>\n",
              "      <th>Post Month</th>\n",
              "      <th>Post Hour</th>\n",
              "      <th>Post Weekday</th>\n",
              "      <th>Paid</th>\n",
              "      <th>LPE</th>\n",
              "    </tr>\n",
              "  </thead>\n",
              "  <tbody>\n",
              "    <tr>\n",
              "      <th>0</th>\n",
              "      <td>2</td>\n",
              "      <td>139441</td>\n",
              "      <td>Photo</td>\n",
              "      <td>12</td>\n",
              "      <td>3</td>\n",
              "      <td>4</td>\n",
              "      <td>0.0</td>\n",
              "      <td>119</td>\n",
              "    </tr>\n",
              "    <tr>\n",
              "      <th>1</th>\n",
              "      <td>2</td>\n",
              "      <td>139441</td>\n",
              "      <td>Status</td>\n",
              "      <td>12</td>\n",
              "      <td>10</td>\n",
              "      <td>3</td>\n",
              "      <td>0.0</td>\n",
              "      <td>1108</td>\n",
              "    </tr>\n",
              "    <tr>\n",
              "      <th>2</th>\n",
              "      <td>3</td>\n",
              "      <td>139441</td>\n",
              "      <td>Photo</td>\n",
              "      <td>12</td>\n",
              "      <td>3</td>\n",
              "      <td>3</td>\n",
              "      <td>0.0</td>\n",
              "      <td>132</td>\n",
              "    </tr>\n",
              "    <tr>\n",
              "      <th>3</th>\n",
              "      <td>2</td>\n",
              "      <td>139441</td>\n",
              "      <td>Photo</td>\n",
              "      <td>12</td>\n",
              "      <td>10</td>\n",
              "      <td>2</td>\n",
              "      <td>1.0</td>\n",
              "      <td>1386</td>\n",
              "    </tr>\n",
              "    <tr>\n",
              "      <th>4</th>\n",
              "      <td>2</td>\n",
              "      <td>139441</td>\n",
              "      <td>Photo</td>\n",
              "      <td>12</td>\n",
              "      <td>3</td>\n",
              "      <td>2</td>\n",
              "      <td>0.0</td>\n",
              "      <td>396</td>\n",
              "    </tr>\n",
              "  </tbody>\n",
              "</table>\n",
              "</div>\n",
              "      <button class=\"colab-df-convert\" onclick=\"convertToInteractive('df-54f4c565-4765-455f-8bde-4b484f3227a6')\"\n",
              "              title=\"Convert this dataframe to an interactive table.\"\n",
              "              style=\"display:none;\">\n",
              "        \n",
              "  <svg xmlns=\"http://www.w3.org/2000/svg\" height=\"24px\"viewBox=\"0 0 24 24\"\n",
              "       width=\"24px\">\n",
              "    <path d=\"M0 0h24v24H0V0z\" fill=\"none\"/>\n",
              "    <path d=\"M18.56 5.44l.94 2.06.94-2.06 2.06-.94-2.06-.94-.94-2.06-.94 2.06-2.06.94zm-11 1L8.5 8.5l.94-2.06 2.06-.94-2.06-.94L8.5 2.5l-.94 2.06-2.06.94zm10 10l.94 2.06.94-2.06 2.06-.94-2.06-.94-.94-2.06-.94 2.06-2.06.94z\"/><path d=\"M17.41 7.96l-1.37-1.37c-.4-.4-.92-.59-1.43-.59-.52 0-1.04.2-1.43.59L10.3 9.45l-7.72 7.72c-.78.78-.78 2.05 0 2.83L4 21.41c.39.39.9.59 1.41.59.51 0 1.02-.2 1.41-.59l7.78-7.78 2.81-2.81c.8-.78.8-2.07 0-2.86zM5.41 20L4 18.59l7.72-7.72 1.47 1.35L5.41 20z\"/>\n",
              "  </svg>\n",
              "      </button>\n",
              "      \n",
              "  <style>\n",
              "    .colab-df-container {\n",
              "      display:flex;\n",
              "      flex-wrap:wrap;\n",
              "      gap: 12px;\n",
              "    }\n",
              "\n",
              "    .colab-df-convert {\n",
              "      background-color: #E8F0FE;\n",
              "      border: none;\n",
              "      border-radius: 50%;\n",
              "      cursor: pointer;\n",
              "      display: none;\n",
              "      fill: #1967D2;\n",
              "      height: 32px;\n",
              "      padding: 0 0 0 0;\n",
              "      width: 32px;\n",
              "    }\n",
              "\n",
              "    .colab-df-convert:hover {\n",
              "      background-color: #E2EBFA;\n",
              "      box-shadow: 0px 1px 2px rgba(60, 64, 67, 0.3), 0px 1px 3px 1px rgba(60, 64, 67, 0.15);\n",
              "      fill: #174EA6;\n",
              "    }\n",
              "\n",
              "    [theme=dark] .colab-df-convert {\n",
              "      background-color: #3B4455;\n",
              "      fill: #D2E3FC;\n",
              "    }\n",
              "\n",
              "    [theme=dark] .colab-df-convert:hover {\n",
              "      background-color: #434B5C;\n",
              "      box-shadow: 0px 1px 3px 1px rgba(0, 0, 0, 0.15);\n",
              "      filter: drop-shadow(0px 1px 2px rgba(0, 0, 0, 0.3));\n",
              "      fill: #FFFFFF;\n",
              "    }\n",
              "  </style>\n",
              "\n",
              "      <script>\n",
              "        const buttonEl =\n",
              "          document.querySelector('#df-54f4c565-4765-455f-8bde-4b484f3227a6 button.colab-df-convert');\n",
              "        buttonEl.style.display =\n",
              "          google.colab.kernel.accessAllowed ? 'block' : 'none';\n",
              "\n",
              "        async function convertToInteractive(key) {\n",
              "          const element = document.querySelector('#df-54f4c565-4765-455f-8bde-4b484f3227a6');\n",
              "          const dataTable =\n",
              "            await google.colab.kernel.invokeFunction('convertToInteractive',\n",
              "                                                     [key], {});\n",
              "          if (!dataTable) return;\n",
              "\n",
              "          const docLinkHtml = 'Like what you see? Visit the ' +\n",
              "            '<a target=\"_blank\" href=https://colab.research.google.com/notebooks/data_table.ipynb>data table notebook</a>'\n",
              "            + ' to learn more about interactive tables.';\n",
              "          element.innerHTML = '';\n",
              "          dataTable['output_type'] = 'display_data';\n",
              "          await google.colab.output.renderOutput(dataTable, element);\n",
              "          const docLink = document.createElement('div');\n",
              "          docLink.innerHTML = docLinkHtml;\n",
              "          element.appendChild(docLink);\n",
              "        }\n",
              "      </script>\n",
              "    </div>\n",
              "  </div>\n",
              "  "
            ]
          },
          "metadata": {},
          "execution_count": 48
        }
      ],
      "source": [
        "fb.head()"
      ]
    },
    {
      "cell_type": "code",
      "execution_count": 49,
      "metadata": {
        "colab": {
          "base_uri": "https://localhost:8080/"
        },
        "id": "OejjR5WAfiyk",
        "outputId": "d1963253-004a-4b7d-ef75-815df0a7ba12"
      },
      "outputs": [
        {
          "output_type": "execute_result",
          "data": {
            "text/plain": [
              "array([2, 3, 1])"
            ]
          },
          "metadata": {},
          "execution_count": 49
        }
      ],
      "source": [
        "fb.Category.unique()"
      ]
    },
    {
      "cell_type": "code",
      "execution_count": 50,
      "metadata": {
        "id": "1fRK4zBm50jU"
      },
      "outputs": [],
      "source": [
        "numeric_features=[\"Page total likes\"]\n",
        "numeric_pipeline = Pipeline(\n",
        "    steps=[(\"Mednum\", SimpleImputer(strategy=\"median\")), (\"Stdscaler\",StandardScaler())])\n",
        "\n",
        "\n",
        "categorical_features =[\"Type\",\"Category\"]\n",
        "categorical_pipeline=Pipeline(\n",
        "    steps=[(\"Modacat\", SimpleImputer(strategy=\"most_frequent\")),(\"OHEcat\",OneHotEncoder(handle_unknown=\"ignore\"))]\n",
        ")\n",
        "\n",
        "ordinal_features=[\"Post Month\",\"Post Hour\",\"Post Weekday\"]\n",
        "ordinal_pipeline=Pipeline(\n",
        "    # steps=[(\"Modaord\",SimpleImputer(strategy=\"most_frequent\")),(\"OHEord\",OneHotEncoder(handle_unknown=\"ignore\"))]\n",
        "    steps=[(\"Modaord\",SimpleImputer(strategy=\"most_frequent\"))]\n",
        "\n",
        ")\n",
        "\n",
        "\n",
        "# binary_features=[\"Paid\"]\n",
        "# binary_pipeline=Pipeline(\n",
        "#     steps=[(\"Modabi\",SimpleImputer(strategy=\"most_frequent\")),(\"OHEbi\", OneHotEncoder(handle_unknown=\"ignore\"))]\n",
        "# )      \n",
        "\n",
        "binary_features=[\"Paid\"]\n",
        "binary_pipeline=Pipeline(\n",
        "    steps=[(\"Modabi\",SimpleImputer(strategy=\"most_frequent\"))]\n",
        ")     \n",
        "\n",
        "columnasTransformer = ColumnTransformer(transformers = [('numpipe', numeric_pipeline, numeric_features),\n",
        "                                                        ('catpipe', categorical_pipeline, categorical_features),\n",
        "                                                        ('ordpipe', ordinal_pipeline, ordinal_features),\n",
        "                                                        ('binpipe', binary_pipeline, binary_features)],\n",
        "                                        remainder=\"passthrough\")\n",
        "\n",
        "# X_tv, X_test, y_tv,_y_test=train_test_split(X,y,test_size=100,random_state=1)\n",
        "target_scaler = MinMaxScaler(feature_range=(10,100))\n",
        "y_tv_in = np.array(y_tv).reshape(-1,1)\n",
        "y_test_in = np.array(y_test).reshape(-1,1)\n",
        "target_scaler.fit(np.array(y_tv).reshape(-1,1))\n",
        "\n",
        "#Scale targets\n",
        "y_tv =   target_scaler.transform(y_tv_in).ravel()\n",
        "y_test = target_scaler.transform(y_test_in).ravel()"
      ]
    },
    {
      "cell_type": "markdown",
      "metadata": {
        "id": "Rv7KFq-mC7PS"
      },
      "source": [
        "#**Ejercicio-5.**\n",
        "\n",
        "Utiliza la función Dummy para modelos de regresión de scikit-learn con el conjunto que tienes de \n",
        "datos de entrenamiento y validación. Para ello particiónalos en 100 para validación y 300 para \n",
        "entrenamiento. Encuentra los errores RMSE, MAE y MAPE para los conjuntos de entrenamiento y \n",
        "validación. Estos serán tus errores máximos que deberás tomar como referencia en el resto de la \n",
        "actividad. Consulta su documentación correspondiente:  \n",
        "https://scikit-learn.org/stable/modules/generated/sklearn.dummy.DummyRegressor.html  "
      ]
    },
    {
      "cell_type": "code",
      "execution_count": 51,
      "metadata": {
        "colab": {
          "base_uri": "https://localhost:8080/"
        },
        "id": "YRGsPxjmGFwo",
        "outputId": "bda0d8da-5b44-4e7f-b532-f7b0abc93d15"
      },
      "outputs": [
        {
          "output_type": "stream",
          "name": "stdout",
          "text": [
            "Entrenamiento\n",
            "RMSE: 12.95371353807711\n",
            "MAE:  8.082742167556278\n",
            "MAPE: 34.724573143140105\n",
            "                   \n",
            "Validación\n",
            "RMSE: 12.51331931759724\n",
            "MAE:  8.498660942213972\n",
            "MAPE: 36.60114880863709\n"
          ]
        }
      ],
      "source": [
        "X_train, X_val, y_train, y_val=train_test_split(X_tv,y_tv,test_size=100,random_state=1)\n",
        "\n",
        "\n",
        "dummy_regr = DummyRegressor(strategy=\"mean\")\n",
        "pipeline = Pipeline(steps=[('ct',columnasTransformer),('m',dummy_regr)])\n",
        "\n",
        "\n",
        "pipeline.fit(X_train, y_train)  \n",
        "# RMSE-rrores del Train:\n",
        "\n",
        "print(\"Entrenamiento\")\n",
        "train_yhat = pipeline.predict(X_train)\n",
        "train_mse = mi_RMSE(y_train, train_yhat)          \n",
        "print(\"RMSE:\",train_mse)\n",
        "\n",
        "# MAE-errores del Train:\n",
        "train_yhat = pipeline.predict(X_train)\n",
        "train_mae = mi_MAE(y_train, train_yhat)          \n",
        "print(\"MAE: \",train_mae)\n",
        "\n",
        "# MAPE-errores del Train:\n",
        "train_yhat = pipeline.predict(X_train)\n",
        "train_mape = mi_MAPE(y_train, train_yhat)          \n",
        "print(\"MAPE:\",train_mape) \n",
        "print(\"                   \")\n",
        "print(\"Validación\")\n",
        "# RMSE-errores del Validation:\n",
        "val_yhat = pipeline.predict(X_val)\n",
        "val_mse = mi_RMSE(y_val, val_yhat)          \n",
        "print(\"RMSE:\",val_mse)\n",
        "\n",
        "# MAE-errores del Validation:\n",
        "val_yhat = pipeline.predict(X_val)\n",
        "val_mae = mi_MAE(y_val, val_yhat)          \n",
        "print(\"MAE: \",val_mae)\n",
        "\n",
        "# MAPE-errores del Validation:\n",
        "val_yhat = pipeline.predict(X_val)\n",
        "val_mape = mi_MAPE(y_val, val_yhat)          \n",
        "print(\"MAPE:\",val_mape)\n"
      ]
    },
    {
      "cell_type": "markdown",
      "metadata": {
        "id": "W2S7LI0NC9wE"
      },
      "source": [
        "#**Ejercicio-6.**\n",
        "Usando los modelos de regresión lineal múltiple, el bosque aleatorio y el perceptrón multicapa con \n",
        "sus valores predeterminados, lleva a cabo su entrenamiento con repeticiones de validación cruzada \n",
        "(RepeatedKFold) y desplegando los errores RMSE, MAE y MAPE. Recuerda evitar el filtrado de \n",
        "información usando los datos que obtuviste en el ejercicio 2. Incluye las conclusiones sobre el mejor \n",
        "modelo encontrado en esta primera aproximación. En particular ¿hay alguno sobreentrenado o \n",
        "subentrenado? NOTA: Recuerda que puedes aumentar en dado caso el número máximo de \n",
        "iteraciones para que todos los modelos converjan."
      ]
    },
    {
      "cell_type": "code",
      "execution_count": 52,
      "metadata": {
        "id": "8jsTz19hN5os"
      },
      "outputs": [],
      "source": [
        "def get_models():\n",
        "  modelos = list()\n",
        "  nombres = list()\n",
        "\n",
        "  # LR - Regresión Lineal:\n",
        "  modelos.append(LinearRegression())\n",
        "  nombres.append('LR')\n",
        "\n",
        "  # RF . Bosque Aleatorio\n",
        "  modelos.append(RandomForestRegressor())\n",
        "  nombres.append('RF')\n",
        "\n",
        "  #RNM Red Neuronal Multicapa\n",
        "  modelos.append(MLPRegressor(max_iter=5000))\n",
        "  nombres.append(\"RNM\")\n",
        "\n",
        "  return modelos, nombres"
      ]
    },
    {
      "cell_type": "code",
      "execution_count": 53,
      "metadata": {
        "colab": {
          "base_uri": "https://localhost:8080/"
        },
        "id": "4kwDavRP9uhf",
        "outputId": "5db6515a-1f87-4801-cca6-e48095e48ca0"
      },
      "outputs": [
        {
          "output_type": "stream",
          "name": "stdout",
          "text": [
            "Validación \n",
            "\n",
            "LR:\n",
            "mean RMSE: 10.580 (1.0765)\n",
            "mean MAE: 6.414 (0.4707)\n",
            "mean MAPE: 27.635 (2.8976)\n",
            "\n",
            "Entrenamiento \n",
            "\n",
            "LR:\n",
            "mean RMSE: 10.087 (0.5125)\n",
            "mean MAE: 6.023 (0.2769)\n",
            "mean MAPE: 25.921 (1.2638)\n",
            "\n",
            "Validación \n",
            "\n",
            "RF:\n",
            "mean RMSE: 11.745 (1.0640)\n",
            "mean MAE: 7.193 (0.4346)\n",
            "mean MAPE: 31.199 (3.2075)\n",
            "\n",
            "Entrenamiento \n",
            "\n",
            "RF:\n",
            "mean RMSE: 4.352 (0.2534)\n",
            "mean MAE: 2.617 (0.1510)\n",
            "mean MAPE: 11.354 (0.6935)\n",
            "\n",
            "Validación \n",
            "\n",
            "RNM:\n",
            "mean RMSE: 11.179 (1.1090)\n",
            "mean MAE: 6.930 (0.5465)\n",
            "mean MAPE: 29.975 (3.4733)\n",
            "\n",
            "Entrenamiento \n",
            "\n",
            "RNM:\n",
            "mean RMSE: 8.821 (0.6375)\n",
            "mean MAE: 5.468 (0.4048)\n",
            "mean MAPE: 23.594 (1.6822)\n",
            "\n"
          ]
        }
      ],
      "source": [
        "modelos, nombres = get_models()  \n",
        "resultadosLDR = list()   \n",
        "\n",
        "for i in range(len(modelos)):\n",
        "\n",
        "  pipeline = Pipeline(steps=[('ct',columnasTransformer),('m',modelos[i])])\n",
        "  mismetricas={\"RMSE\":make_scorer(mi_RMSE),\"MAE\":make_scorer(mi_MAE),\"MAPE\":make_scorer(mi_MAPE)}\n",
        "  kfold = RepeatedKFold(n_splits=3,n_repeats=5, random_state=0)\n",
        "\n",
        "  resultados = cross_validate(pipeline, X_tv, np.ravel(y_tv), scoring=mismetricas, cv=kfold, error_score=\"raise\",return_train_score=True)\n",
        "  resultadosLDR.append(resultados) \n",
        "\n",
        "  print(\"Validación \\n\") \n",
        "  print('%s:\\nmean RMSE: %.3f (%.4f)\\nmean MAE: %.3f (%.4f)\\nmean MAPE: %.3f (%.4f)\\n' % (nombres[i],\n",
        "                                                                          np.mean(resultados['test_RMSE']),\n",
        "                                                                          np.std(resultados['test_RMSE']), \n",
        "                                                                          np.mean(resultados['test_MAE']),\n",
        "                                                                          np.std(resultados['test_MAE']),\n",
        "                                                                          np.mean(resultados['test_MAPE']),\n",
        "                                                                          np.std(resultados['test_MAPE']),                                                                             \n",
        "                                                                          ))\n",
        "  print(\"Entrenamiento \\n\") \n",
        "  print('%s:\\nmean RMSE: %.3f (%.4f)\\nmean MAE: %.3f (%.4f)\\nmean MAPE: %.3f (%.4f)\\n' % (nombres[i], \n",
        "                                                                          np.mean(resultados['train_RMSE']), \n",
        "                                                                          np.std(resultados['train_RMSE']),  \n",
        "                                                                          np.mean(resultados['train_MAE']), \n",
        "                                                                          np.std(resultados['train_MAE']), \n",
        "                                                                          np.mean(resultados['train_MAPE']), \n",
        "                                                                          np.std(resultados['train_MAPE']),\n",
        "                                                                        ))\n"
      ]
    },
    {
      "cell_type": "markdown",
      "source": [
        "<font color=\"royalblue\">El modelo que presenta un mejor resultado es el de la **regresión lineal**, teniendo un MAPE de 25.92 en el conjunto de entrenamiento y un 27.63 en el MAPE de validación, en nuestra opinión el modelo que presenta mayor sobreentrenamiento es el de **Random Forest** dado que presenta un MAPE de 11.34 en el entrenamiento y un score de 31.19 en el conjunto de validación, lo que indica que tiene muy buen performance en la etapa de entrenamiento, pero en la etapa de validación tiene unos resultados que se separan mucho de la etapa previa, mientras que el modelo de regresión no da indicios con el MAPE de estar subentrenado ni sobreentrenado, por lo que podría ser un modelo óptimo para posteriores análisis, el modelo **Multi-layer Perceptron** también se puede considerar como un modelo óptimo dado que la diferencia entre el conjunto de validación y el de entrenamiento no es muy grande.   </font>"
      ],
      "metadata": {
        "id": "Ebhjt4m7wHY_"
      }
    },
    {
      "cell_type": "markdown",
      "metadata": {
        "id": "iCNGx4TQ8CFI"
      },
      "source": [
        "#**Ejercicio-7.**\n",
        "Obtener los diagramas de caja y bigote para los errores MAPE de los conjuntos de validación \n",
        "obtenidos. En particular compara estos primeros resultados de MAPE con el mejor resultado que \n",
        "encuentran los autores del artículo citado al inicio. Incluye tus conclusiones. "
      ]
    },
    {
      "cell_type": "code",
      "execution_count": 54,
      "metadata": {
        "colab": {
          "base_uri": "https://localhost:8080/",
          "height": 284
        },
        "id": "F1aW0dQX8BLL",
        "outputId": "4a2c32c6-3846-4fbd-d581-205b4741d337"
      },
      "outputs": [
        {
          "output_type": "display_data",
          "data": {
            "text/plain": [
              "<Figure size 576x288 with 1 Axes>"
            ],
            "image/png": "[encoded data removed]"
          },
          "metadata": {}
        }
      ],
      "source": [
        "sns.set(rc={'figure.figsize':(8,4)})\n",
        "\n",
        "bpMape = list()\n",
        "for i in range(len(resultadosLDR)):\n",
        "  rr = resultadosLDR[i]['test_MAPE']\n",
        "  bpMape.append(np.abs(rr))\n",
        "plt.title(\"Conjunto de validación MAPE\")\n",
        "plt.boxplot(bpMape, labels=nombres, showmeans=True)\n",
        "plt.show()"
      ]
    },
    {
      "cell_type": "markdown",
      "source": [
        "<font color=\"royalblue\">En las conclusiones del artículo se menciona que se obtuvo un MAPE de 26.9 en LPE, mientras que en nuestros resultados, en el conjunto de validación se obtuvo un resultado en los modelos de Regresión Lineal, Random Forest y Multi-layer Perceptron de 27.63, 31.19 y 29.97 respectivamente, lo que se encuentra dentro del rango expuesto en el artículo. </font> "
      ],
      "metadata": {
        "id": "OEtbkoD25hEW"
      }
    },
    {
      "cell_type": "code",
      "execution_count": 55,
      "metadata": {
        "colab": {
          "base_uri": "https://localhost:8080/",
          "height": 284
        },
        "id": "hKSNhPZaW0ss",
        "outputId": "16b8ed6a-d379-43ef-a2ec-77915d9ba6b3"
      },
      "outputs": [
        {
          "output_type": "display_data",
          "data": {
            "text/plain": [
              "<Figure size 576x288 with 1 Axes>"
            ],
            "image/png": "[encoded data removed]"
          },
          "metadata": {}
        }
      ],
      "source": [
        "sns.set(rc={'figure.figsize':(8,4)})\n",
        "\n",
        "bpMape = list()\n",
        "for i in range(len(resultadosLDR)):\n",
        "  rr = resultadosLDR[i]['train_MAPE']\n",
        "  bpMape.append(rr)\n",
        "plt.title(\"Conjunto de entrenamiento MAPE\")\n",
        "plt.boxplot(bpMape, labels=nombres, showmeans=True)\n",
        "plt.show()"
      ]
    },
    {
      "cell_type": "markdown",
      "metadata": {
        "id": "tzQn5NR78GFg"
      },
      "source": [
        "#**Ejercicio-8.**\n",
        "\n",
        "Usando una búsqueda de malla con validación cruzada (GridSearchCV), busca los mejores \n",
        "hiperparámetros para el modelo MLP. Al menos deberás realizar la búsqueda en los \n",
        "hiperparámetros “hidden_layer_sizes”, “alpha” y “learning_rate_init”. Además aplica la validación \n",
        "cruzada con repeticiones (RepeatedKFold). Muestra los mejores hiperparámetros encontrados. "
      ]
    },
    {
      "cell_type": "code",
      "execution_count": 56,
      "metadata": {
        "id": "EBKcp0278IQV",
        "colab": {
          "base_uri": "https://localhost:8080/"
        },
        "outputId": "1a27c61a-07ff-4a17-a2ff-26387674df2f"
      },
      "outputs": [
        {
          "output_type": "execute_result",
          "data": {
            "text/plain": [
              "GridSearchCV(cv=RepeatedKFold(n_repeats=3, n_splits=5, random_state=1),\n",
              "             estimator=Pipeline(steps=[('Col',\n",
              "                                        ColumnTransformer(remainder='passthrough',\n",
              "                                                          transformers=[('numpipe',\n",
              "                                                                         Pipeline(steps=[('Mednum',\n",
              "                                                                                          SimpleImputer(strategy='median')),\n",
              "                                                                                         ('Stdscaler',\n",
              "                                                                                          StandardScaler())]),\n",
              "                                                                         ['Page '\n",
              "                                                                          'total '\n",
              "                                                                          'likes']),\n",
              "                                                                        ('catpipe',\n",
              "                                                                         Pipeline(steps=[('Modacat',\n",
              "                                                                                          SimpleImputer(strategy='mo...\n",
              "                                                                          'Post '\n",
              "                                                                          'Weekday']),\n",
              "                                                                        ('binpipe',\n",
              "                                                                         Pipeline(steps=[('Modabi',\n",
              "                                                                                          SimpleImputer(strategy='most_frequent'))]),\n",
              "                                                                         ['Paid'])])),\n",
              "                                       ('model', MLPRegressor())]),\n",
              "             n_jobs=-1,\n",
              "             param_grid={'model__alpha': [0.0001, 0.0005, 0.001],\n",
              "                         'model__hidden_layer_sizes': [(5, 5), (7, 7),\n",
              "                                                       (11, 11)],\n",
              "                         'model__learning_rate_init': [0.001, 0.005, 0.01],\n",
              "                         'model__max_iter': [20000]},\n",
              "             scoring=make_scorer(mi_MAPE))"
            ]
          },
          "metadata": {},
          "execution_count": 56
        }
      ],
      "source": [
        "mlp_model=MLPRegressor()\n",
        "mlp_pipe=Pipeline(steps=[(\"Col\", columnasTransformer),(\"model\", mlp_model)])\n",
        "mlp_kfold=RepeatedKFold(n_splits=5, n_repeats=3, random_state=1) \n",
        "\n",
        "\n",
        "# parameter_space = {\"model__hidden_layer_sizes\":[(11,11)],\n",
        "#     \"model__alpha\":[0.0001],\n",
        "#     \"model__learning_rate_init\":[0.001],\n",
        "#     \"model__max_iter\":[20000]\n",
        "# }\n",
        "\n",
        "parameter_space = {\"model__hidden_layer_sizes\":[(5,5),(7,7),(11,11)],\n",
        "    \"model__alpha\":[0.0001,0.0005,0.001],\n",
        "    \"model__learning_rate_init\":[0.001,0.005,0.01],\n",
        "    \"model__max_iter\":[20000]\n",
        "}\n",
        "\n",
        "gridmlp=GridSearchCV(estimator =  mlp_pipe, \n",
        "                            param_grid = parameter_space,\n",
        "                            scoring = make_scorer(mi_MAPE), \n",
        "                            cv = mlp_kfold,\n",
        "                            n_jobs=-1)\n",
        "\n",
        "gridmlp.fit(X_tv,np.ravel(y_tv))"
      ]
    },
    {
      "cell_type": "code",
      "execution_count": 69,
      "metadata": {
        "id": "XGj_ni_gQ5U7",
        "colab": {
          "base_uri": "https://localhost:8080/"
        },
        "outputId": "952bed76-8c02-4181-df79-4f28101e5890"
      },
      "outputs": [
        {
          "output_type": "stream",
          "name": "stdout",
          "text": [
            "El mejor resultado es: 30.4174582056268\n",
            "Los mejores parámetros son: {'model__alpha': 0.001, 'model__hidden_layer_sizes': (11, 11), 'model__learning_rate_init': 0.005, 'model__max_iter': 20000}\n"
          ]
        }
      ],
      "source": [
        "print(\"El mejor resultado es:\",gridmlp.best_score_)\n",
        "print(\"Los mejores parámetros son:\",gridmlp.best_params_)"
      ]
    },
    {
      "cell_type": "markdown",
      "metadata": {
        "id": "mASNrZWs8JTh"
      },
      "source": [
        "#**Ejercicio-9.**\n",
        "Con los mejores valores de los hiperparámetros encontrados realiza un análisis de la importancia de \n",
        "los factores. Muestra un diagrama de barras de los resultados e incluye tus conclusiones. "
      ]
    },
    {
      "cell_type": "code",
      "execution_count": 85,
      "metadata": {
        "id": "Xr6oe1VF8K_A",
        "colab": {
          "base_uri": "https://localhost:8080/",
          "height": 389
        },
        "outputId": "cb1ec717-90d3-4423-e32d-c540b1cd8d37"
      },
      "outputs": [
        {
          "output_type": "stream",
          "name": "stdout",
          "text": [
            "Feature: Category            , Score: 0.24775\n",
            "Feature: Page total likes    , Score: 4.05897\n",
            "Feature: Type                , Score: 12.92742\n",
            "Feature: Post Month          , Score: 2.70448\n",
            "Feature: Post Hour           , Score: 0.98018\n",
            "Feature: Post Weekday        , Score: 1.01068\n",
            "Feature: Paid                , Score: 0.40022\n"
          ]
        },
        {
          "output_type": "display_data",
          "data": {
            "text/plain": [
              "<Figure size 576x288 with 1 Axes>"
            ],
            "image/png": "[encoded data removed]"
          },
          "metadata": {}
        }
      ],
      "source": [
        "best_mlp_model = MLPRegressor(hidden_layer_sizes=gridmlp.best_params_.get(\"model__hidden_layer_sizes\"), \n",
        "                            max_iter=gridmlp.best_params_.get(\"model__max_iter\"), \n",
        "                            alpha=gridmlp.best_params_.get(\"model__alpha\"),\n",
        "                            learning_rate_init=gridmlp.best_params_.get(\"model__learning_rate_init\"),\n",
        "                            random_state=1)  \n",
        "\n",
        "mlp_pipe_best=Pipeline(steps=[(\"Col\", columnasTransformer),(\"mlp_model\", best_mlp_model)])\n",
        "\n",
        "mlp_pipe_best.fit(X_tv, y_tv)\n",
        "\n",
        "importance = permutation_importance(mlp_pipe_best, X_tv, y_tv, n_repeats=10,random_state=1,scoring=make_scorer(mi_MAPE,greater_is_better=False))\n",
        "\n",
        "for v,n in zip(importance['importances_mean'], list(X.columns)):\n",
        "\tprint('Feature: {0:20}, Score: {1:.5f}'.format(n,np.abs(v)))\n",
        "\n",
        "plt.barh(X.columns.to_numpy(),np.abs(importance[\"importances_mean\"]))\n",
        "plt.show()"
      ]
    },
    {
      "cell_type": "markdown",
      "source": [
        "<font color=\"royalblue\"> En nuestro modelo la variable **Type** es la más importante con un score de 12.92, seguida de **Page total likes** con un score de 4.05 y la tercera más importante es **Post Month** con un score de 2.7, cabe aclarar que nuestra salida está escalada con un min-max scaler de 10 a 100. </font>"
      ],
      "metadata": {
        "id": "TXy2UbAhA4i_"
      }
    },
    {
      "cell_type": "markdown",
      "metadata": {
        "id": "VUIcDshs8MzG"
      },
      "source": [
        "#**Ejercicio-10.**\n",
        "Repite el ejercicio 8 y 9 para el modelo de bosque aleatorio para buscar sus mejores \n",
        "hiperparámetros (realiza la búsqueda con aquellos hiperparámetros que consideres más \n",
        "adecuados) y usando el conjunto de Prueba. Y realiza igualmente el análisis de importancia de \n",
        "factores con este modelo con un diagrama de barras. "
      ]
    },
    {
      "cell_type": "code",
      "execution_count": 59,
      "metadata": {
        "id": "0lKNJNIt8N88",
        "colab": {
          "base_uri": "https://localhost:8080/"
        },
        "outputId": "31a4f937-764e-4e5c-ce2b-94288d90a62b"
      },
      "outputs": [
        {
          "output_type": "execute_result",
          "data": {
            "text/plain": [
              "GridSearchCV(cv=RepeatedKFold(n_repeats=3, n_splits=5, random_state=1),\n",
              "             estimator=Pipeline(steps=[('Col',\n",
              "                                        ColumnTransformer(remainder='passthrough',\n",
              "                                                          transformers=[('numpipe',\n",
              "                                                                         Pipeline(steps=[('Mednum',\n",
              "                                                                                          SimpleImputer(strategy='median')),\n",
              "                                                                                         ('Stdscaler',\n",
              "                                                                                          StandardScaler())]),\n",
              "                                                                         ['Page '\n",
              "                                                                          'total '\n",
              "                                                                          'likes']),\n",
              "                                                                        ('catpipe',\n",
              "                                                                         Pipeline(steps=[('Modacat',\n",
              "                                                                                          SimpleImputer(strategy='mo...\n",
              "                                                                          'Weekday']),\n",
              "                                                                        ('binpipe',\n",
              "                                                                         Pipeline(steps=[('Modabi',\n",
              "                                                                                          SimpleImputer(strategy='most_frequent'))]),\n",
              "                                                                         ['Paid'])])),\n",
              "                                       ('model', RandomForestRegressor())]),\n",
              "             param_grid={'model__ccp_alpha': [0.1, 0.01, 0.001],\n",
              "                         'model__criterion': ['squared_error', 'absolute_error',\n",
              "                                              'poisson'],\n",
              "                         'model__max_depth': [10, 15, 20],\n",
              "                         'model__max_features': ['sqrt', 'log2', None]},\n",
              "             scoring=make_scorer(mi_MAPE))"
            ]
          },
          "metadata": {},
          "execution_count": 59
        }
      ],
      "source": [
        "modelo_rf=RandomForestRegressor() \n",
        "modelo_rf_pipe=Pipeline(steps=[(\"Col\", columnasTransformer),(\"model\", modelo_rf)])\n",
        "rf_kfold=RepeatedKFold(n_splits=5, n_repeats=3, random_state=1) \n",
        "\n",
        "parameter_space =      {\"model__max_depth\":[10,15,20], \n",
        "                        \"model__criterion\":[\"squared_error\", \"absolute_error\", \"poisson\"],\n",
        "                        \"model__max_features\":[\"sqrt\", \"log2\", None],\n",
        "                        \"model__ccp_alpha\":[0.1,0.01,0.001]\n",
        "     }\n",
        "\n",
        "gridrf=GridSearchCV(estimator=modelo_rf_pipe,\n",
        "                       param_grid=parameter_space,\n",
        "                       scoring=make_scorer(mi_MAPE),\n",
        "                       cv=rf_kfold)\n",
        "gridrf.fit(X_tv, np.ravel(y_tv))   "
      ]
    },
    {
      "cell_type": "code",
      "execution_count": 60,
      "metadata": {
        "id": "KPs3QWIxCXU0",
        "colab": {
          "base_uri": "https://localhost:8080/"
        },
        "outputId": "b8ee0f0c-5bad-4b58-a7b8-a4c1bf2972b8"
      },
      "outputs": [
        {
          "output_type": "stream",
          "name": "stdout",
          "text": [
            "El mejor resultado es: 33.64615815024917\n",
            "El mejor parámetro es: {'model__ccp_alpha': 0.001, 'model__criterion': 'poisson', 'model__max_depth': 20, 'model__max_features': None}\n"
          ]
        }
      ],
      "source": [
        "print(\"El mejor resultado es:\",gridrf.best_score_)\n",
        "print(\"El mejor parámetro es:\",gridrf.best_params_)"
      ]
    },
    {
      "cell_type": "code",
      "execution_count": 84,
      "metadata": {
        "id": "4LnblCRSChmC",
        "colab": {
          "base_uri": "https://localhost:8080/",
          "height": 389
        },
        "outputId": "ac1ee649-9a81-404a-b67c-856b7130a4f9"
      },
      "outputs": [
        {
          "output_type": "stream",
          "name": "stdout",
          "text": [
            "Feature: Category            , Score: 1.48221\n",
            "Feature: Page total likes    , Score: 5.82258\n",
            "Feature: Type                , Score: 11.13348\n",
            "Feature: Post Month          , Score: 5.10854\n",
            "Feature: Post Hour           , Score: 1.31985\n",
            "Feature: Post Weekday        , Score: 1.52757\n",
            "Feature: Paid                , Score: 1.68193\n"
          ]
        },
        {
          "output_type": "display_data",
          "data": {
            "text/plain": [
              "<Figure size 576x288 with 1 Axes>"
            ],
            "image/png": "[encoded data removed]"
          },
          "metadata": {}
        }
      ],
      "source": [
        "best_rf_model = RandomForestRegressor(max_depth=gridrf.best_params_.get(\"model__max_depth\"),\n",
        "                                      criterion=gridrf.best_params_.get(\"model__criterion\"),\n",
        "                                      max_features=gridrf.best_params_.get(\"model__max_features\"),\n",
        "                                      ccp_alpha=gridrf.best_params_.get(\"model__ccp_alpha\"),\n",
        "                                      random_state=1\n",
        ")\n",
        "\n",
        "best_rf_pipe=Pipeline(steps=[(\"Col\", columnasTransformer),(\"rf_model\", best_rf_model)])\n",
        "\n",
        "estimator=best_rf_pipe.fit(X_tv, y_tv)\n",
        "\n",
        "importance = permutation_importance(estimator, X_test, y_test, n_repeats=10,scoring=make_scorer(mi_MAPE,greater_is_better=False))\n",
        "\n",
        "for v,n in zip(importance['importances_mean'], list(X.columns)):\n",
        "\tprint('Feature: {0:20}, Score: {1:.5f}'.format(n,np.abs(v)))\n",
        "\n",
        "plt.barh(X.columns.to_numpy(),np.abs(importance[\"importances_mean\"]))\n",
        "plt.show()"
      ]
    },
    {
      "cell_type": "markdown",
      "metadata": {
        "id": "5LJl6oql8Pc8"
      },
      "source": [
        "#**Ejercicio-11.**\n",
        "Repite el ejercicio 8 y 9 para el modelo de regresión lineal múltiple para buscar sus mejores \n",
        "hiperparámetros (realiza la búsqueda con aquellos hiperparámetros que consideres más \n",
        "adecuados) y usando el conjunto de Prueba. Y realiza igualmente el análisis de importancia de \n",
        "factores con este modelo con un diagrama de barras. "
      ]
    },
    {
      "cell_type": "code",
      "execution_count": 62,
      "metadata": {
        "id": "-YiSnt9t8RfN",
        "colab": {
          "base_uri": "https://localhost:8080/"
        },
        "outputId": "c520bfd6-ab19-40de-f485-f65e40087cfa"
      },
      "outputs": [
        {
          "output_type": "execute_result",
          "data": {
            "text/plain": [
              "GridSearchCV(cv=RepeatedKFold(n_repeats=3, n_splits=5, random_state=1),\n",
              "             estimator=Pipeline(steps=[('Col',\n",
              "                                        ColumnTransformer(remainder='passthrough',\n",
              "                                                          transformers=[('numpipe',\n",
              "                                                                         Pipeline(steps=[('Mednum',\n",
              "                                                                                          SimpleImputer(strategy='median')),\n",
              "                                                                                         ('Stdscaler',\n",
              "                                                                                          StandardScaler())]),\n",
              "                                                                         ['Page '\n",
              "                                                                          'total '\n",
              "                                                                          'likes']),\n",
              "                                                                        ('catpipe',\n",
              "                                                                         Pipeline(steps=[('Modacat',\n",
              "                                                                                          SimpleImputer(strategy='mo...\n",
              "                                                                        ('ordpipe',\n",
              "                                                                         Pipeline(steps=[('Modaord',\n",
              "                                                                                          SimpleImputer(strategy='most_frequent'))]),\n",
              "                                                                         ['Post '\n",
              "                                                                          'Month',\n",
              "                                                                          'Post '\n",
              "                                                                          'Hour',\n",
              "                                                                          'Post '\n",
              "                                                                          'Weekday']),\n",
              "                                                                        ('binpipe',\n",
              "                                                                         Pipeline(steps=[('Modabi',\n",
              "                                                                                          SimpleImputer(strategy='most_frequent'))]),\n",
              "                                                                         ['Paid'])])),\n",
              "                                       ('model', LinearRegression())]),\n",
              "             param_grid={'model__fit_intercept': [True, False],\n",
              "                         'model__positive': [False]},\n",
              "             scoring=make_scorer(mi_MAPE))"
            ]
          },
          "metadata": {},
          "execution_count": 62
        }
      ],
      "source": [
        "modelo_mlr=LinearRegression() \n",
        "modelo_mlr_pipe=Pipeline(steps=[(\"Col\", columnasTransformer),(\"model\", modelo_mlr)])\n",
        "mlr_kfold=RepeatedKFold(n_splits=5, n_repeats=3, random_state=1) \n",
        "\n",
        "parameter_space =      {\"model__fit_intercept\":[True,False], \n",
        "                        \"model__positive\":[False], #No usamos true porque salen warnings\n",
        "                        # \"model__normalize\":[True,False]  #esto está comentanto porque el parámetro arroja warnings en cualquiera de sus 2 estados\n",
        "                        }\n",
        "\n",
        "gridmlr=GridSearchCV(estimator=modelo_mlr_pipe,\n",
        "                       param_grid=parameter_space,\n",
        "                       scoring=make_scorer(mi_MAPE),\n",
        "                       cv=rf_kfold)\n",
        "gridmlr.fit(X_tv, np.ravel(y_tv))   "
      ]
    },
    {
      "cell_type": "code",
      "execution_count": 63,
      "metadata": {
        "id": "2iRA78ZC8Rbm",
        "colab": {
          "base_uri": "https://localhost:8080/"
        },
        "outputId": "cfb4b6d3-3296-4e2e-a8ca-e72f0a664e74"
      },
      "outputs": [
        {
          "output_type": "stream",
          "name": "stdout",
          "text": [
            "El mejor resultado es: 27.12276599751302\n",
            "El mejor parámetro es: {'model__fit_intercept': False, 'model__positive': False}\n"
          ]
        }
      ],
      "source": [
        "print(\"El mejor resultado es:\",gridmlr.best_score_)\n",
        "print(\"El mejor parámetro es:\",gridmlr.best_params_)"
      ]
    },
    {
      "cell_type": "code",
      "execution_count": 86,
      "metadata": {
        "id": "NeEdINNZNzFR",
        "colab": {
          "base_uri": "https://localhost:8080/",
          "height": 389
        },
        "outputId": "2db7238a-8778-4d0b-e147-47913f749497"
      },
      "outputs": [
        {
          "output_type": "stream",
          "name": "stdout",
          "text": [
            "Feature: Category            , Score: 0.04074\n",
            "Feature: Page total likes    , Score: 3.66784\n",
            "Feature: Type                , Score: 11.57116\n",
            "Feature: Post Month          , Score: 9.41328\n",
            "Feature: Post Hour           , Score: 0.29820\n",
            "Feature: Post Weekday        , Score: 0.10436\n",
            "Feature: Paid                , Score: 0.25406\n"
          ]
        },
        {
          "output_type": "display_data",
          "data": {
            "text/plain": [
              "<Figure size 576x288 with 1 Axes>"
            ],
            "image/png": "[encoded data removed]"
          },
          "metadata": {}
        }
      ],
      "source": [
        "best_mlr_model = LinearRegression(fit_intercept=gridmlr.best_params_.get(\"fit_intercept\"),\n",
        "                                  positive=gridmlr.best_params_.get(\"positive\"))\n",
        " \n",
        "best_mlr_pipe=Pipeline(steps=[(\"Col\", columnasTransformer),(\"mlr_model\", best_mlr_model)])\n",
        "\n",
        "estimator=best_mlr_pipe.fit(X_tv, y_tv)\n",
        "\n",
        "importance = permutation_importance(estimator, X_test, y_test, n_repeats=10,scoring=make_scorer(mi_MAPE,greater_is_better=False))\n",
        "\n",
        "for v,n in zip(importance['importances_mean'], list(X.columns)):\n",
        "\tprint('Feature: {0:20}, Score: {1:.5f}'.format(n,np.abs(v)))\n",
        "\n",
        "plt.barh(X.columns.to_numpy(),np.abs(importance[\"importances_mean\"]))\n",
        "plt.show()"
      ]
    },
    {
      "cell_type": "markdown",
      "metadata": {
        "id": "IKW72uyk8Sbc"
      },
      "source": [
        "#**Ejercicio-12.**\n",
        "Compara tus resultados con los obtenidos por los autores del artículo de Moro-Rita-Vala con \n",
        "respecto a MAPE. Incluye tus conclusiones finales de la actividad. "
      ]
    },
    {
      "cell_type": "markdown",
      "source": [
        "<font color=\"royalblue\">  Los 3 modelos desarrollados comparten similitudes con el modelo presentado en el artículo  </font>"
      ],
      "metadata": {
        "id": "QKW6La0-D5Uz"
      }
    },
    {
      "cell_type": "markdown",
      "source": [
        "![image.png](data:image/png;base64,iVBORw0KGgoAAAANSUhEUgAAAbgAAAEyCAYAAACI4cUNAAAgAElEQVR4nOydd3hUZdqH7+mZSa+kEkISQg8JvQgI2MXey9qxrOvut+ta1t1VPz8b6qqrqOiuFQuiUkXpVXoLSYAAqaTOTDKTSabPnPP9kYQS0oCEJMO5r4vLy5lz3vOckzPnd97nfd/nJxNFUURCQkJCQsLHkHd3ABISEhISEl2BJHASEhISEj6JJHASEhISEj6JJHASEhISEj6JJHASEhISEj6JJHASEhISEj6JJHASEhISEj6JJHASEhISEj6JJHASEhISEj6JJHASEhISEj6JJHASEhISEj6JJHASEhISEj6JJHASEhISEj6JJHASEhISEj6JJHASEhISEj6JJHASEhISEj6JJHASEhISEj6JJHASEhISEj6JJHASEhISEj6JJHASEhISEj6JJHASEhISEj6JJHASEhISEj6JJHASEhISEj6JJHASEhISEj6JsrsDkPANBFHE5XTicDpxu9wIgoAoigiiiCiKIIrU1NQgl8uRyWTI5HKUCgV+fn5otX5otVq0Wi1yufTOJSEh0TlcAAInYNVXI0ZEEtDOs9NZbcAeHEnIBXBVOorH48FSV0ddXT3ORgFzOp04na7G/zb8c7nc7ba1c8eOdrdRq9UNguenRavTEhQURFhYGGGhoYSFNfwLDQ1FqZT+SBISEm3TvU8JQc+O/7zAPz/ahnv0g7z89zvpk/8Nb/3ff9gujuWBv/+ZOy9OIdCWz+r3XuSVjZE88NKz3J4Z0aHcqmDKZclbz/DC2uG8v+5lJmla2dBbybYPn+PJD5w8sv5L7oq68HoRbrcbi6WOWosFi6UOi8VCraUOm812XuNwuVy4XC5qay1tbhcUFEhYWBgR4eHExsYSFxdLbGwsWq3feYpUQkKip9O9AiePYswDf+Gm1dfwniuU5LhgIhMe4onsFVz3H5GY4f0JBNAlM2F4POlxj3dY3ADkoUO4YsZQ3lrXzoaKaEbPHEPsBxvP7Xx6CU6XC4PBgNFYTW1tg5DZ7fbuDuuMaBDhOoqKimH3nuOfh4WFERcbQ2xcLHFxccTHxRIUFNSNkUpISHQX3Z/nUSRx/W2T+OC5JSwvu4V7EpQkX3MFQ//9bxYur2Tm3bHIqWfLDhkXPRbdIG5eK5UFJViD+5EcpT3RVkufqxQoEAFwWWuxuQREmQJdYBAaBeCp5VhhNX7IkJ0cl2Cl8mgB1YpoUpIj0eDFaanD5hWRydToQvxROixY7AJKXRABmp7b63M6nRiMRvR6I3qDod3eUW+mpqaGmpoasnNyj38WHh5GcnIyqSnJpKQkExgY2I0RSkhInC+6X+CQEz7jOqa+8icWLyrgrj+kUp9diDVMTu6iJRTd8Qj969az2TOB/4mU4ypYxicL9UQliuz+6nGM173PnPsGIWvl8xMI2A9+zJ/fsnHp729jxugAbLvmMnuxnCmXxFG+agWF3sb0lmU7//7TV8jvvoche5/kOf2dfPbKFOp/e5X7n1hF8j++Z/ZdKfiZN/Pan9Yy6c1XuDpe3S1XryWcTicGgxG9wfcFrSNUV9dQXV3Djh07AYiKiiQlJYWU5P6kpCSj0+m6OUIJCYmuoAcIHBA0mZnTQnls6UJyZ93HkU1qZv3tMmY/uYRFB+/nd3lbUUx5lmBBzw+z52G+8VmmRMtJnLGaB977mA03P4ulpc9vfZspAIg4jvzMvF3pPP/FpSSqgfr1PPfsVgbN+5zLY+V4YvNZsrBhEoSnPItcYQiPXzSaQTEZvHvvava5LuXiy/7IA5NW8p+iajTyFBTWCnSTH+DyHiButRYLpaVllJaVYzbXdnc4PRq93oBeb2DLlq0AJCb2ZdiwoQwfNpSwsLBujk5CQqKz6BkChz8Trr2EqJ9+5qfl4Vh103jxMj+y3vodP/+wkgibH5NfDADXb2zd6yHyGiN6PTD4Qd59M4QUz17ebenzxpyjaNvOm7/P59qPvmwQN8C5eyWb3IlcHd6QWpRptWgat1cOnMXcj8rYueJHlpTlU+eS4wKQxzLz/iuZ+6dPWf5oBkPXVJJ4+YBuu4hmcy0lx0opLSujrq6+m6Lo/RQXl1BcXMKyZcuJi4tl+LChDBs2jKioyO4OTUJC4hzoIQIHmtEzuST+O358aRE3vv8DOj8F11/Tn2+/fJEfrn2T+VrA7sJlN0P0RUzLbFQqoR5LdVnLn9sEAGS6TG69oZi5f55N+nfPMSFYDk4nDouHWuH0WLyly3j+6XWMeOVVrkst46u5+ce/859wH7cm3sBXX6/iclcyV/dTdPGVORW73U51dQ3G6hrsDgclJcfO6/F9nbKycsrKyvnl15X06RPFsGFDyczIkMROQqIX0nNmRqhHcPVliThDxnPFKA2gZPC1VzPIqWL49DFoAdTDyBhcycI533PUDggWshd8w0bzkJY/14tNjZP60Gz+FLuMp59ZyDEPKAcNY4BnG7+sMiAAOJ04RQGv4KVg4Scsdg9mXIIaod6G3SsgNDWlSOG2h6ZR9dnrHE2dQfR5uIJerxe93kBO7kH2Z+dSVl6B0+lEIS2K7lKqqvSsXr2W2W+8xZwPPmLX7j243e2v95OQkOgZKF544YUXujuIBhREBFdTqLqCuyf1QQ7IQ/pgK7Ay9t4Z9FUC8hDSUjXs+/J13pj7PYuXbsY68RHuG9ePQS18fk9aFesXfMfSnTWEDp3KzKkq1s2ezfwDcvqNu4WZ/Q7y2WsfsHp/DvsOFVJUbMQbmMb4wfVs+PQLlu0rxaySUbN1HdnWREZPSCZYDn6JERjW1zDuT9czoAuXXVmtNsrKyskvKMRkMrf8cJWBw+HsuiA6kfKysu4O4awxm83k5OSyZcs2amsthAQHExgY0N1hSUhItIFMFEWx/c3OF3Zsdi26k2b+O212VDrtqV1NwU51hQllRCzBmg583gae2koq7Dr6RCjxeHXoGvdzmvTYdFGEahoqnDgCIwlumktiWspr/w3jiScn0tnz77xeL9XVNej1BqwdWGQtiiLF5yNNKdgxmwUCw/xpMSnrqafOpSVQ13rKtiOVTHoTfRMSGDtuDJkZI1CpVN0djoSERDN6mMD1ZARq9y/nl3wF7F2P7c6XuT+t84Yw3W4PVVVVVOn1eDzeDu8nk8koLCru8PYu/UG2rljK5qMCMUMH00duodoM0SOmcFFGAtpWsp6egkW8+1k1U595gJH+J38jUJu/lsXfrsEz7VnunRDUat7b1wSuCX9/fyZNnMDEieOlJQcSEj2IHjPJpOcjoN+zkI8/rmDYI2/yWieJm9PppKKiCoPRiCC0MOOlHURRJDQ0BJPJ3KHt1VGDGD94G2tznQy+7GrGBYGt4Gc+/eQTqrz/w91jQlvcT9n/Cmb9VcDfv/k3coKTRtAvdA1Hzjh638BqtbJi5SrWrd/AuHFjmDL5IoKDg7s7LAmJCx5J4DqMktR7/8vaezunNZvNRnlFJdXVNefcVlBgYIcFDgAZJ1VtkaPrO5h+wRvZX1gOY0IRnLUYDHXIg/sQGdiUetPgr7Li9ID2+F3jxV5jwKpsVgXmAsXlcrFx42Z++20rmZkZTLt4CpGR0uxLCYnuQhK484zD4eBYaRk1NaZOa1MuPzd58ZpLqaxTEx0fjaNgBd//JmPspHiOfbeAuvGzuHagk8JNS1m81srYPz/CxFA5gjWfTT/vQTZwKKHmHA4YBOlmasTr9bJz5y527drN0KFDuOzSS4iO7tPdYUlIXHBIz6TzhMvlorSsHIPB2OltiyKEhYZSYzoD0RRN5G9Zh0Mwkn+gEMbeynXjQjBvKkOMu4SUpFiCE1fwxYFivEMHk5SeSODqA407OzjyywIK4h7mnuGhyL0hGPbsobDTz6x3I4oi2dk55OTkMnJkJpddegmhoSHdHZaExAXDBSpwAlZzHcqQYDo42fKs8Xg8lJdXUFmlpyvn8wQGBZ6ZwMmCiBuSzvAADeMvC2woPA0w9X7uMBVwYNdezHo7Hrmn4XOl6sTkEU8RB/O8hI8IbPhMpkaaRNg6oiiya9du9u7dx0033UD68OGo1dIFk5Doanq5wHkp/M993PH+flzHtUNOyBWvs+a1SwAP5avf4/01TkJ0LvwHTmF0vIeKnYtYbL2T954d12UCJ4oilZVVlJVX4PV2fFbk2SKXNYyDdVxCFfgFhxEWdPKcRwFT1o8sPJjItTeNJMq0mU2GFnYVPXjcdry2M58UcyGj1WopL6+isnI1gwam0b9/P8nBXEKiC+ndAufKZaNhCm//OJvkQAXg5eCHj7Jg+GgA6ja/zAMv1/Gn+bO5LGQPP3zvILRPJAVVYdzwxzGcNiGwk7BYLBQVl2C3O7roCKcjiiJhYWFU13Rg0ooIIgKndSgFPfvW78GbMZ1QpUipy4UgiA2iKYocl09FDHHRAhv251I/NIMA3Hg8IArn0EMV3bicAnKNBqVMwOMRUSrPbxm0rmb06NHHF+Vn7c+hoKCIYcOGEBMjjc9JSHQFvVvglCnc9Kfh+DctDPdk81VODBc/HgKCgZ//uxDdjQuYESUHsxEhZCTRlZ+RlXQ3/9cFrt0ul4uSktKOiUwXEBgY0O6xXYZDbMspwyu4ObBlH/ETRpAQ3Hgt5MHEJYawYfV/+NqQTn+VP0LBb6zdF0Ca5QhGj5Gi7CKGTOjP6OuupvCLRcz9OJt+kTqsTjW24j0UD59CUlBHr62Aw3CUgwdLcWhDCdbJcVst1NvsuAOHctHI2JYXlfdCoqKicLlOrURTV1/Plq3biY7uQ2bGcLRabSt7S0hInA0+tdDbk/0Wd85J5IMPbiJcPMKcmx6m+qlf+Od4yJv/NcVTxlP8r59Jf+FJxnTietymdGRpWflZrWXrLGQyKCo+do5jfW5sFhfqIH+UuLFa3GiCdC2/CXnt1Na60AQFIBdE1Oq235dOXegt4qzYw+ZtlYSNncaIWG3jUgMv9YVb2VbVl6nj+rb6BiY6qyg3BxPbx69XLFGYMWMGVmvrlWmUSiXDhw0hKSnxPEYlIeHb9KBalOeKhwNfvUNO+u+5cZg/MnkwIa49/LqllJrC/ZgHX8fI/R+zIflhrnTM58X//ZItWTvYYYxn7KCws646bbPZyDt8BGN1TZdOIukoCoUCu91+Li2g0qgbr4cCtUbV+rWRq/DT+qGUy1Eo2r+Cp9Si9Bo5tGUvpqiRjB0UfpKQyVGHBCPaXIREBCNHxGO3YKl3gVqDUg54zBTu2EqJLI7oEBUKhRwZAh67hTq7iLJZzF5HHXVWD3KNGsWptu24rRasbjkqteKEUIpuXC4ROQ6sDgGZ6MXr8eJFhkIuw+t24fGKIFfQkRUa/fr1Q6Npu2ipIAhUVFZhNFYTERGGWt39HoMXPC4zerMMf13HE11CbRlldh1BrZUE6kJcZj1m/DmDcH0e37kUnoOs3BLG1I/CGx9uSgb87j0+tNnw6HRoLJt47ftk7njoF/5012IyPv6eP6W7+fmbVdSSTPgZHk4URcrLKygrr+gRwtZEYEBApywe72oEczlV9RA8IIrTHuWyYJLTggEXxtxtFMhSSQ41sme3g6SLRhFhN2Oqd+BQVlCuF4mPUaI/VIRdGwDGo+x0JjJ6/ACCFV7MR3aR744hRlXGrk1mtNGxxCcPJcFPz6HsMlRxcejqD7CvQk3/UelEuorJ3bUfU0gqUfZCit0JDAouJ6c8kGEXjyUpCFxVWewujyZzVF90HRC4lJSUNntvJ2MwGFm1ej1DhwwiOTkJmaw39E97IjYK18/j3dfm8pt9ANMuGYa/pZii6hBG3fE4D05POP2+O46Tks2f8eoz/6by1sX88IfUDqbKXex6505mFf+edZ/eTMs1gboARwm/ff4yz71byc1LfuL3qb6S2D93fGYKl+fgSraGTOHiiFNPSaHTocHFga8Wo775Jup/mEfOsLu5a5gGPMeo80ZxpjXh7XY7uQcOUVpW3qPErYne8FAUnQ6cKFC1ldYUbJjMIiHRfQjvk0AYFVTUCKiCowjxk+MX1pd+cSF4i7ModIURHhJMRL9Y/PQHOFLpAXcphw9aCU5MIDYlnaRAO0JQCgmhXsr376Q6ZBDJcTHEpo0mLbCcrL3FaMISCNd5cctCSZt8BZdNGUb/IWlEYcHqVCBDhsemJGpAPLoO/HqGDh3SYXFrwuv1krU/hw0bf5OMbM8aHUlT72ZGsov6qGk8/uzf+Ofs93h+qp5PH3uUD3I8beyroe+kW5nSvwO/I8HE1l82YRQA1Ix5cgEr37nh/IkbgF9fJt46haSe/7M/7/iIwHk4tGIzQRdPJ6KFMxJKF/J11TTuGamhzuIgKX0EoXIB46YtMGxUh5cKiKJIRUUl2TkHsFqtnXoGnUl4eFh3h9AuMpUaFV487jYeNPIQUidOIt5bRklJJXVuAeG0FRcCNfoaBLmA0+7A4Q4lZdwYkoIBZMhEG1arADINWp0KuUIO3hoMBg8araYxLakkPCocavSAHLlcjlqrRSlTolIpkOn6khwvcuzIMRxCHZX2AGKD2//pyGQy+vSJPssrBNXVNaxes568vCM98kWq5yNHoZABMhre+dTEjRlBvPcIBw6dPMPZi7XyCIeOGjiR3FegaNYREqyVHM7OpcDQZE9l5/C8v/LUp/sxmiw4BcA/DK23HhcCznozJpMJc60NDyA4LJhNZuocjeP0XiuVRw6Sr299SEGwmjDZvVjLi6hsek9qaT+58rReptdayZGD+RgaNxOc9ZhNJkzmWmweQHBSZzZhtjgbPDEFK5WHs8nNN3CyAZfXYqDaBt76Uo6WmDn1J+ihruwwh0vMuE49eLvndj7wDYHz5LHytyCmTo9q4YRq2fD5bgbcexnhcg2jb76DqOyv+PSrr1nNDG4Y0TF5c7ncHDp0mJJjpT3+YRNwekXkHoc8NIowjYjZYDj1h3EyopWy3Zs4WB9KfN8YAltcGy0iCB5caImKjSU6Npbo2BiC1CKiKo6BIyIx5e7m8NEjVGsGMyRRiww5MrkXh81xfN2gTKlC0fyJdhwVkanJBOiPUFRWjiswHv8OvC2PHj0am+3cfuCCIJCTe5CNm7bgcJy/ZSe+iYXsZespCBzH5IzGGauuAn5+712+35DFlo8f4pr7PuNQC/aKddvf4eGnvqfCUcWSv9zEcytNCPWF5O4totp4iPW/buVQ3hbmPjqDyY/9iFHwYNo9h/smjOfReaU4ALdhNS/OeplNRg+ugmXMeWc+m7K28MlDV/PgZwdPERWEarK/fYprJtzGyx+9zKO3zOT3n+Zjb2+/hpOicNl7/Pu7jWT/NpeHr7qfLw468Zh28+HdE5k062tKGwJi9fMP8+omAx7Ldv794NP8UOZAv/hJbn1mJSbBRuGvL3DjpJv4+3v/4tWXXuWvN1/O4wtK8QKCfjNz//dtluZWkTPnLq545DsKvbR/bucR3xA4ZRL3fPgut8S21H1TkHbP09zev+Hhpc18lA8+fpGH7r6b2y5ObCMPf4Jai4XsnFwsdXWdG3cXIYOzX0DstWN3tDMTVHBis7WV4ukAyhgGDIxCLM3lUIX91AXqLhPHivU4LcUcKRYIjvJHjhuvV6RhVZ4cuZzGGatyQsJDcBQdpNjiAURcNYUUVTlAdGO3B5A6dhQDUgYydHgywUpAEUp0Hy0WfSWOhkV+OOvqUUTHn4ih2TuMLKg/yTF28rMtBB2f8dk6Go2mU61zjMZq1qzdgNFY3WltXigIZRv48JlZ3Dz9Jt7SX8Ib8+dwV7ICENAvms035mGMHJzGmBun02fb+3yyrnlK2UN5Vi7eIVOZOHoyV2TK2LB6L+6AgYxPj0QZOYKZt19G+qBxXJUZhVcEUBM95Q88dmUopcVlyAClaCPh6ke5LNbMktnzMA8fyaC0MdwwI4rt733MhpMPKw9n2JVjiHXVIh/yJz5f9RtfPBjIz+3tBwj6xbwxz8ywUYMYMPZGpvfZxpy56/FET+H3f7iS0NJiymWAUsCWcBWPXB6PvDyLXGEIUy4azUVXZsD61exz6UiaOpEBGhdBmQ/y99ff5dXbIti2agc2wcSvr7xF6eTHuOPSi7j28VlM9bdS59a3f27nER+ZZKIjPLqVh4k8gNiEs3NebppIUlpWfg6xnX9EIDwsFEOHHoYein95j6+3VjekKfyHcf0fbmUIgNfEwdWryPPoUHk0RA/sT6jXTNGePbjG/47Lk8/l9pETmDqBiZqD5GatZWNxDFHBGkSXE488iLjUZDQKL2G6A+Rt3kx9fBQKjYjxaC7lIUMICQ/kQMFu9ovJJPVPZ6B+Czmrl3FEp8W/z2BGpAciE/QYivMoPFzAAbUKpVKNf3QaQ4fEETVsHGm795OVIych0IHBEk3G8GicpmIMFg825zEqa3XEBDctQ9AQk9yXfFk4ffza776NGTMGp7PVvulZ4XA42bhpC0OHDmJAakqntu3LyOOmMOv3Ibx+y985TAqZKU3PAzf7tuzDHXUNRr0eGMz9779JcGrzv6+StFmf8GHZDlb+uJiyoxZcipb/thrNyb+JIKbedR3vzFrAGtNEBq420u+qfihcq9i610PkNUYaDvsg774ZQkrzw6pVKJWhRMfokGuVBDi2dmg/954tZLmjmGnUowcGPfges0NSkQFBF9/Jtf+axQ+rTEwYtBpjv6tIVIB84CzmflTGzhU/sqQsnzqXvDGzokAu98M/yA+QofPX4q234nDuZN1WP4Y81dATViRcwz/eAhwr+KIj53ae8BGB63zcbjf5+YXUWizdHcpZERAQ0CGBE+qzyXVfxL2/j0eJDJlfEOE6ADtHl37CL47LeeiW4WiLd7Db7U9QsIE6/1FMS+qMImdqgvumM6HvMDwOK1aHiDogEK2y6dcQw/BLZjLAo8RPowBvIqleFX5qBQyZxoxkAZVfw5KGoElX089hwyX3Q6du6K2LVifKxLFMTghEcLrwet3Yqyoor40hJSSClPHT6O+y4xCUxPZTNQiZOonMy5PIbCFajw0iEmPa7fUHBQV1wrVpmYYCzgeoqTYxcqTkJN5RFAk38NJrWdz+yLM8OTCRj+9LQ4OAy2WjlhgmTc9o/LsK1NfaODWH4aVs2T94dm0GL712PSllX/JJfseOqx5+Gzcm38BPC9cwzjKQ2/vIwe7CZTdD9EVMy2y8m4R6LLaGjESriG3tdwLB7cJWC9EXTSfj+GYWbAKgHs4tNyVz848LWTvewsA7+yAHvKXLeP7pdYx45VWuSy3jq7ntnKDgwmmv5NgxN8Q2PQs8eDxneW5dhG+kKDuZuvp6snMO9Fpxg4YHYftpSgHjji3kVRRy4Igej38kkcFa5IBgyeK3PRoyLx5KoBxc9SK66GAsWcVETEgnsFPvHDlKv0CCQ4JOErdGFJoGcQNQ+DWIGwBKNH7qk25gGUo//+PiBl4MefupcGnw0wUREhZBeGggKk0wISdNf5Srtej8VK2nHEUXpmP5HCvN56BeS3xk+++Eo0aNOiNX9rOhrLyCtes2Ulvbe+/RrkdAEABBQBDlhF/8N958vB9Zrz/B65tMCKgZmjmYyp/msOCIHRCw7F/Atxv1NCXDRQBvAYs+XoR78HgS1AJWqw1BEBAAlVIJHtfxWriCKIIonshwKxK49uZRHJjzAfWjpxAMoB5GxuBKFs75nqN2QLCQveAbNupbGtsXT5TUa3O/pohBPSyTwRU/8eH8o9gBoXY/P3yzAYMIoCDhupsZmfsBH9WPZnIwgJeChZ+w2D2YcQlqhHobdq+A0Ji+PyWaxpJ9ojqd0cOrWfLup+yvBbxGtn45n53OIWdwbl2PDy307hyM1dUcOZJ/XgokdzUqlRKrra3ktwNjpRG7pZyD2zewedtRxL5D6ReqAvNBth/Qkjl9MKHeCrKOuukfcJit+kFcPCL8rEponbLQu8uRo9EqqSvO4WBeIeWVVVTXiwT3609kB1KMxxHrKc/ZTV65SMywoUS3s4A3JiaawMCu68GdjMvlprjkGFqdlhDJQbwZdoo2zePzr9dztMqJKjaFtAEJ9B81ltD9X/Lep5swRQxk0nUXEbL3S954/WMWLFrKb9aJPPxABo69P/HN12s55OrD8FEjiKhYyedfLCWr1IxKVsPWtVnYEscyJdnMqv8uYHulFbnKzf6fv2fjIQ/RGSMZHBeIEhm6vloKd2i45tEpRCsAeQhpqRr2ffk6b8z9nsVLN2Od+Aj3jQ058cImVJO79Bu+/WUfNUEpDB/Unwj/0Jb3y3Cw78ev+W7tIVzR6YycOIORAXv56vXX+WT+IpZttjHh0fsZE9LQusy/L9qCHWiue5TJDQGhduSx/NMvWLavFLNKRs3WdWRbY0kQt7Pwx93URWUyum81v34xj81FKlInX8F1U2M5+v1bvPLOZyz89QDB1z3G9WmxDGzv3M4jPlWq61wpLS2jrLyiu8PoPGRQVFTSoU0FazFb53/OyuqRPPA/V9NXVsm2b3+mMm4AkTIN8aNSqV6xDtUllxG8bxmbytSE6tTEjL+cjKiOyd2ppbp8k0tmzKD+DNe9dQbJyUmkDx/aK9ZA9jwE7MYKTKoIYoNbS707Melt6KJC0eCkWu8gMCoYNWCvNuAKjmyYwNRK+zarE51/s1qjgp3qChPKiFhaPWyLzXVsP8FupNKkIjz2dFswwWbFqfPn5IicJj02XRShGnBWG3AERhLcXj5esFNdaUEV0YcgdbPPz+bcOhlJ4GiYjVdQUNRtRZK7kmOlZR3ujQq1W/jyrWwG/fUhxgbKAQGXy4tarcJxeCnLq0YzSb6Yz3YlcudjlxPv3ceO3BTGjOzYJB5fF7iUlBQiI6O67fhxcTGMHpXZxnIHCYkLiwt+DM7tdnPwUJ5Pihuc2aJvuX84oYEa1Mqm20LeYMzpKWPbHiWZo5zs2XKM2AkTiVWBt8aBGNSNr2cAogeX001HS1yLHieuLso+9+vXr2sa7iBlZRVs/qcJwqsAACAASURBVG0bbre7/Y0lJC4ALuhZlA6Hg4OHDuNyde507p6ETteGBYvgpN4GugANcsBTVYQ5IZ3pp2iWgGnPb9QNvoK+qjL2uSOJ7+uPXKgj76hI7ITumsXnwZyfTbEziDB/DzXlZgLSRpIc1nBLC7Yy8g6UI6iVeJUh9In0R7QZOFbiod/4dCI7OZoRI9LPuCRXV2A0VrNh429MnDAOrbbtAs8SEr7OBStwVquNQ3mH8XjOccFyD0cURBQKRYtpSq9+M/PeX4szdTyjBgThrAvm4mvSCTi5X287xNaiGMbfFIhc3p/MccFs3LKB7X20hAweTUI33UGiNZ+coyJpM5KJVECMcjtr88roOz4RlbuSnE37cA+ZRma8mprCQrwaLZo6O+rEIUR0csxyuZywsPDzanDbFrW1FtZv2MSkieMJDDy7NaASEr7ABSlwtbW1DTMlu9G77Xwhk8mICA+jSm847TtF9HQefDYdowUCwsMIUJ+esRbkMYy/cgChcgA1fafdy11dH3b7iCKi3YjB7CEyXIHLZkfhp0WOiOPYYY4pk7goTosMJ07UhGlt5NcE0n9k+1VIzpSxY8f0GHFrwmazs37DZiZOGEtY2Hkt/Ssh0WO44Mbgjh0rZeHiZSiUF462t1UySukfQXRMRIviBiD3CyU0oOddK5l/P1L7einYsomcQzkctsWTOSQKBSIuhwt1WAT+MvDWlmFXR+AsKEaWmExgJ6ubVuuHWt3N45Ct4HK52LhpC5WVVd0dSo/FayklL/cohlbeT9r7XqINnNUYzO1lyFyY9dVdVqvyghK4wqJilv+6ErvdTlbW/oYJFBcAoiii9DVBl/kRPWIcKQFmCnOOYha1NFRJkhMQl0iItYT8I3kUmAKJD62i0BZN/yAzR3duZtfefezPLqKuEzrwY8aMxeXquZM6vF4vW7buoLS0d5Wb63oEqte9zcvfZJP73R+5etbXZ/i9ROt4qdw6h4emTOYvS0ytTgBzlmzm44enc9GD31DSRRO/LhiBy88vYOWq1Y0FesHucJCTe/CCKXUU0QssdM4I0Urpnhzcgy5j2vh+yIq3si3XgAeQB6cyeuII+vdPI7VfMLVHDQQmh1C+fQulukFkZIxgUIgX8znqUlhYKN4urljSGYiiyI6du6mQenIn8Bbxwwer8Bs7nRte+Jalb15/Zt+3i4Bpyy9sNpznYZBT/Om6CwXRY65mTNxpNctPQdN3EjdP6d/pQwYnc0EIXFFRMavWrEMQTr3c9fX15B0+7Hu9mxbQatuYTdkLEUz5HKkJIi5Kh3/cCMaPSsBdVIChSW9kSpQKEMxHOSZPIsFdSKEplKTkMBQI2NwimnP8s2dkZPaacVxRFNm2bSd6g7G7QznveCylHD5cSm3TZGnBSX31AQ6XuHHZazHXqwiPOimN3+r3LfnG0aKPmj3va55+8jP2G03U1ddjOe675sVea8ZkrsXqOrG/yWTHay2n6ITpW8vHclZTlHeUqnonp8+Pa8GfruECUHb4MKW1bcwWF6wYDfUIODEWHD3uPec0FXHoSBXNTZ9Ou6YnvqH22BEKq900V67m/nRAl6/Z9HmBKysvZ+Xqta16uJnNtRQUFvr84lhRFFGpfEjI5TJkHjceEUCGKiQEf4Xi1BJiopWSo3aiUyJQuF14A8IJ08gQHVUYCCX8HP7k8fHx5+z1dr4RBIEtW7ZTXe2baz5PQ6hiw1tP8uL3uVTmL+eF22/jhaVFuJzF7Fixg2M2CwWbf+XXjYcwn/ye0tL3jlZ841r0UaunKHcvxUYjeet+ZWteCb+9ciMT7/ucY14nNXnf8ueLp/DcajvV+7/lmasmcsf/zuXVWbdw3SOfkW9v+ViCYSWv/fN7SmyVrP7fx3l7dzN1aeZPl18vULXuX/z1+QXkVhTwyz/v4I5/LKWo2W7O4rXMvm0SV/9lDp//+x3mvPEE1137LP/96l3e++BT3n3sGu6ZcwBPW9cUEEzb+eip5/k+p4wDSz5jVUGTArfsT3c+8GmB0+sN/PLrqnYreRiN1Rw7VoribD3UegnhYeHdHUKnIQ9OZVCClaNZR6moKqPwkAH/IWlEnCRarsrD1AQPINZPhiIiiX7aGgoOH6WwHGL6nV09zSYGDRp0zufQHXi9Xn7bsg2zuba7Q+lyale8yt93DuKR+y9j8hWzePmJ/qx97kV+qk1h2s2T6KsJZMD0W7ltZgbhJ//0tQOafZ+Od0nLvnGeFn3UAkibMJxIZSTp19zOpSMHMnpYXOP9piNuxBjSwuSAnPDhVzE61oVFMZgnvlrFpnkPELi05WO5s1axqkxD/OBJ3P7X+5nQ3Ne4mT/dYHEFr/9tB4MevY9Lp1zOQ6/+gf5r/85LP1aespsmcRLT08Nw+qVw4xNP8/y//sjE6tVkh93Hk8/9L288NoIjK9dS6G3jmlZa2PT639g25Pc8cMVUrrr3d1wU23DGrfnTnY9Voz77RK8xmVi2/NcOV3WorKqisqrq7I1CewE+tfBX5kefYVMYNzQGf00gMekTyUgMPOmGFpEFD2BIcmBDpkQZwYAJk0hPS6F//xj8z+HPPHDgQOrrred8Ct2F2+1h829bqaur7+5QuhAn2Zt2UB/Rh7DGv7VuzEQy2Mv2vWc6+NroG6dwY9Tr0dc3+MbdMViGcuAs5n50DY4VP7JkYz51LmfrDvXHOTl3p0KlUhISHYNOriUwQNbqsVQjr+Siyre48don+O+RJMYObbtQpHP/ZnZaI+kTfvwCMCFDZN+2vadtK5fJUGj8GiyD5Dq0WhX+/g2zg1UaDUqrhTpvG9d0xw5WbXKTmBre8BuUafFrLGre4E+nxG3Uo9fXN/jT3T2oS8femvChnNUJLJY6li77BafzzLrBx0rLUCqVhIWFtZrS7M00pClVPlXKSa72P7XI63FkqHTNX3E7h/i4+HZcGno+TmfDEoKpUybi798116m7USoVOKsqMHohQQHI/fHX+SGe8aqO1n3j3KXLePFMfNTO4VgETObvP3zH0Lf/j7fvv5bdL3zPnNsSW89EKJUonFVUnLgA+Pv743fmF+D4bJHWr6kLp8OCp/b0Mek2/em6GJ/rrthsNpb+vBzbWT6ACouKsfRiH7j28LnZlOeZkSMze724NeFwONi0aWuPW6TeOWgYNm0yUXmbj89kFAwFlGinctkoDQ1ecWIbs/xO/r4137iK1n3UlCoUuHG7RECOUqVAtFmpFwG7kep6L6J44gl/4oW6dY86x7r5LKobzE0vfs13T6ewb0PWaevHTvan0wyfxqTIQ2zZaGiYqi8YKCjRMuXyUaed7anXQWgopNDkcXfcG6+NazpmGEMHeNj+8+rGGZxOXE4RUfC26U8nIrY91fIc8Sk/OLfbzZJly895fKGmxkRIaEjDzeJjqFSqbht/Ob9+cJ2PUqlkwIABXW5mej5xu90YjEYS+yb4XHpe3Xckw1Sb+HzeAbzyCjYtzCbxsWe4IcFM1pJv+Wb5XmoC+5GW0o/owJN+665K9p3yfRIDRw9Cs6e5b9w4Il0t+aglMmZyf8yr/suP26uwauMZNSqYo/Pe58uVu9hTAErLYSqIIyngEL/O/5V91UGkDB9EUoQ/oQNTWzjWWPyPzOPFz4uJjPRSdriauMtvZWLfkyvzyFCKxcf96fz6z+SWaTo2fTqPg4KMyo0LyUl8jKduSuZkS0R7yRZ++GoB26uCGDxmCMoDS/h6wVaqggYzZqDIvp++YckeC31GjmXMxIvJaOmapvZh8PBgsv/7Gh+u3E/u3kMUFpVg8AaQNv12pobtO82fboRjHwvnfcO6Qy6i0zMZnBBMZy/a8hm7HFEUWbFqDYWFRZ3W5rChQ3xunZwoilRUVnVLgenebpczceLE05aa+Arx8XGMHTOyu8PoGjwWqiqdBMRE4n9Ok6Vb9o1r1UfNXo3BFUxkk1Gc3UipSU10rA6vAzR+bb1At3AsrxevzEOdwYIqMrLVceTT/ek8WKoqcQbEEHluF+AErV1Tj4XKChv+fSJQeLzodCeuU1v+dF2Fzwjczl272bX79MHTcyVjRLrPmUg6XS4qKirb37CT6c0CFxAQQEZGpk8X5x46ZBBpaandHYaERKfhEzmJ/ILCLhE3gL37spDLfUvgtJqeWTuxJzN69CifFjeAnNyDVFRI1U4kfIdeL3BGYzVr163v0mPs2r3Xp6qdeAUBjaY9L3qJJiIjInG5fFvcmtixczeWurruDkNColPo1QJns9v5ZcXK8zLov2PnLtQ+Mh4nk8kID5NmU3aU9BHDj9cw9XU8Hg9bt+7o0QWkJSQ6Sq8VOK9XYMXK1ed1we32nbtQq32j56Pxk9KUHSExsR9Wa+8qyXWu1Ndb2bFzt0+sBXXZ7XgBnHbsHXxHEWrLKDU167F7LZQdOsBRfcfX1rbYTm/FZUZf3TXltTy1BkxdVLmr1wrc9h07z7vPlSiK7Ny1G40PiJzgFdBIY3HtMiD1wpx0UVWlJzvnQHeHcW441vL8tFt4/6CFZX+exEOflWDOW8n7D09ndMZUHnxzCVn65qrnYtc7d3L1XxZiavxEMK7nnZe+ITvnW/585Sy+KeuIUp7eTmdiy1/HR49dypiMadzz9P/xf8/9kYfu+yNv/ZRNC2utzwEnJZs/4tFpE3j4mxI6NVcm1HLgu//hiomz+K60a7JwvVLgjh0rJWt/drcc2+v1smvP3l7fk5PJZIRLi77bZOjQIdRbe29JrnPlyJH83m2WqgwnPDyM8HAN4eGRhIaHEZJ2Kb+bloi1Po4pv7ua9Kjmj0A1Y55cwMp3bqDBB91L8YIPWOM3lmk3vcC85W9yXVwrj81TrGqat9O56JIv5ncz+mGtj2HGX/7G319+mzce6cP6Z+/hqQWdud5UQ99JtzKlfxdMtJMHM/iKcfTtwux/rxM4u93OmnUbujUGt9vNvqz9vV7kpB5c68hkMvr0ie7uMLqdXbv3nXHJux6DMomBE4YzIERF6uApDExpqMWqVCpApkSlaOXx5x+G1luPCwFnfTUH8kpwu+xYzFZU4ZHoALxWKo8cJF/flL5uwarmeDsNCFYDxnoBnAYKj1Q2Fht2Yio6yJGqZmnw09o/HZlchoymypZyQjKmM7pPHft2HmynDQ91pYc5fKz21LqZ3nqqTfYGW5vDpViOZ1cVnG620oqdT9O5Ousxm0yYzPU4PXbqzCZMJjO1Vhfgwmo2Y653gkx+XIRc5mIOF5ma1fJsJdYO0usEbu36jdjt3T8m4nA4yMnJ7dULwQWvFz8/HyrA3ImMHjWq19nhdAVOp5M9e7O6O4yzJIiLH3uAdLWcsCsf5a5B7c+Edh7bwtxHZzD5sR8xCk6Kt69kZ4kNS/5mfl2+gUMmAVfBMua8M59NWVv45KGrefCzgzibWdUcymvWztrXuXPilfz1/c94/533eeuPM7nxmf/w9bvvMve/b/PEzLv58ECDorTYfgfO1lOew2GjlrRhaa22IVSt5+2/PM+CnAoKf/knd936T5YVOTBnf8tTV07g1r+8zD+eeZ6XHpvJxde9ymZTC90rVyvWQSch6NfwwlVjuemVrdQ6q9n25m1MvPxZfil3IAh17H/3UZ5dVtVgwYONvIWv8dIrb/K3Wy7hoc/z8bYa65nJXK8SuP3ZOZSUHOvuMI5Tb7VyKK/3GqY2zKbsigRK70alUqHz0QLEZ0N5eSVFxSXdHcZZ4R8SggaQB4UQ3IEiHpqEcVyVGYVXBNAyYPrNTEjUEDhgBrfcMZOMMCNLZs/DPHwkg9LGcMOMKLa/9zEb5Kda1aQPOrkdDYmTZjA8zIlf6k08/vSLvPHEJKpX7yf03qd45qV/8XDGYVatKcQr6Ftuv7Xyp0I5v305lw9mP819s76B21/n5ds1rbRRy8pX/sauQY9y7+VTuGzWqzzefy3/fHEhIcOuYXyigNj3ap5/by5fLvqAa61f8q95R5sfEP2ilu18TkaZcBWP3JJGraEGtPFMf/Q2Mu01WNX+yOVKagMmcN91fRuq/Yteoib/Dy/NfofZ9yawb/VWaoTWYv3xjP7+vUbgqqtr2Lqt51XCqK2tpaCgAGUvNUz1hQkznc24ceNwOs9/KbOeTFZWDlarbxSZbg9NW1bvrr1s3etB4Tai1+upH/wg7755FwNbGKI6tR05MrkCtV/D703ur8NP5Y+/H4AKjUaJ1VKH9wzab2goiuGXXsnMO//KR8vXMO8fV5AgtNKGez+bd9QTEd1oaYOO0ZMyEPdsA+Qo5HL8g4Ia3AkCMpk2PpTCg3nNDti6ddCpKEm94XoG7lvEL2VebEer8ATl8/Pio7gqV3IgcDqZTckjWSCh4RpAQXBQIKLTgdPZVqwdp1d0PTweD6vWrO2xa5GM1TUolCr6JsS3a67a0xBEEa1W2yPSvj2BoKCg7g6hR+LxeNi5aw9TJk/0udJ1x3EUkW+Ips07QHThspsh+iKmZR73fsFiE87ZwFNsp/2W+yNKAqMTSDh5skxrbZj3o1I4qSo34iUBBSDX+ePv19JyEBlanZZgWfMMT+t2Ps0jVMTP5LqRH/Dtwi2oa3X88Z+X8Ozbi1jpB1GX3dCO+KjOINbW6RU9uJ279mAymbs7jDapqqqioqKiV1ZkD5PSlMcZNWqUT7kFdCbV1TUcPtw8ZdX78HobXpRPfVRa2PPhh/xqkiOIYoNdTOM3otBkGAOoh5ExuJKFc77nqB0QLGQv+IaNevEUqxqgWTvNHsyCeNI6wwZ7GhDbbP80RBAR8DZ/72+tDfNQpk6OIu+3jTS43QgYC4rxm3r5iSabDuOtZH+ugilXZsJxuxxoy87ntAjlkVx64yQqvnqeXf1vYMyUG7nUNZ83DyZzaYLi+AFFRITGeESx0apHPazdWDtCj7fLqa6uZu36jd0dRoew1NWh0ajR6XTdHcoZoVIqMJ0HC52ebpcTExNNYKDUg2sLg7GamJjoXjo5ScCSt4rPP5vPtoJKjBVlHN65iQ2rlvLd+68zZ/cA7rklkB3ffcfGQx6iM4YTrl/HD18vZ19NAP3SUkiMTWBIqoZ9X77OG3O/Z/HSzVgnPsJ9Y0NRn2RVI1e52f/z943tDCGweDnffb8dfeAQRg1RcnDxPH7cVkng4LGkCftY/PVi9lr6kDn+YqaP9G+h/ZBTeiO2gg3M++I7Nh/R49JE0z8lleiAxi3kIaS1GGMU/Uamo974Gd8c9CKr2MSi7H48+uyNxPt5yVv2Mb/kOfC6TBz45Tuykp/gmRviMO/5iW++XsshVx+GjxzK0LGDW7TzCWnh3V4TH0TZJjuX/fV6knRRRJi2Uz3uca5N1YBg4fDyecxbsR9b1CjG9qtmxVfzWJ/nJmHCdK66YiyaFmPteAahR7sJiKLIT4uWoNcbujuUMyI1JZnAwMDuDuOM0BuMZ20S21F6upvAjBkzLphxpnMhKCiQ6dOm9MpsRach2KmuMKGMiOUk55wWrGo6t/3OasNTW0WVM4DoKP9GR3A7Sx4Zy38GfMu8u0OwqyPpE9zW+HzL1kEtYbPa0Pk3vvTbrdg0/ujO4NY5PdaO06PH4HJyD/Y6cQM4cjSfQQPT0Gq13R1KhwkLDelygevJJCcnS+LWQSyWOgoKikhJ6d/doXQfci3hcaf/vrXhkXTKr76V9jurDWVwH+Ja+FxEhi4yru1xyIbG0UbEdehcj4sbgNafM81vtRZrR+ixr2BWq5XtO3Z2dxhnzcFDebjdvadgrUrde9fzdQZJSUndHUKv4sDBQ713AbhEMwSMWUvZVqqhLnsFq7L19MzpfGdOj01Rrli5moJOdOfuLjJGDEcm67HvEadgMBq7tBfTU1OU6enp6HTSurczpV9iX0aOHNHdYUhItEqPTFEWFZe0Km7umkJytq5j25F6QgdfxKRx6cQH2qjI2cbmjfsx+PVnzNRJDE+OoCes8Nq7bz+jRmYgCD3yPeIUQkNCL7g0nVwuJzw8HLvd0d2h9DqKiktISkqUZuFK9Fh6XNfC6/WyefOWVr9XhSUxbGAf5E4/4oelEx8kB1kAMUPSSdA5EaMGMaKHiFsTvcUwVaXq+TF2NmPHjpHE7RzYl5XtE7Y6Er5JjxO47Jxc6urr295ILkeGnFMzfw3/33wRquCoxWgw4zi+tEnA7bBjtzvwiCC4Hdhtdhyupg1EXDYbbsGFpcZCZ42i7di5q8fXrRRFkYALqESVn58farVUcPpcMJnMFBf3nPJ5zelKr7FWOdk7TbBQfszE8brFghWDof4cxricVOvN+IjLXJfTowSuUwu7inUUblzCmv0V1NUcYs3XX7HmQA1ePFiL1vDt+/PZaxbw2vTsX/Ih//3lMG5bOft//g+ffL2KnWsXMP+zH9ld3XnDrTt6gWFqaGhId4dw3hg7dqzkXN0J5OQe6HkTqs6D19jpnO6d5tr5Dndf+SSLTAKmnIX885rx3PD23rN6cfZWbuOD+6dy8f8spaUayO1x/jzkeg49SuD27M06g5lZFgo3/8yvPy9t+Ld8PUfMJ1Iljrw1rDrWh7GjB5KUNo5LJ4WTv2IluXUqghNiCGrs6KmC44iP0jXYTuhiGZAQjMchJ2rSHdz7+zsYHd55l6g3GKaqekEqtTMIDQ3FK1Us6RScThcHDhzq7jBO5Tx4jZ3O6d5p6rF/4bs1b3N9qJzQoVcyfWgAZ1voTBE9mqvGxp1WFKWjnD8PuZ5DjxG4+nor2Tm5Z7BHEEmTruLyq2Y2/LtyKqkhTbeOh8rCElz+gWibhCwhiVixjGNlpz/UTr7hFAo5cm0ggWoZKj/NGS8sbI8mw9SeKnKCKBIQENDdYXQ5mZmZeHtobdPeSH5BEfX1Pcwcth2vMcFayeHsXAoMTelEJ/VNvmU2DyDgtJgxmRv93aDBK+1gPoZWS7c2907zJ8zPS33jgVXKpi9dWGvNmEwmzBZno1N26x5rntpjHCmowd1WHVDBSuXhbHLzDa3a67TrIddGG05jAYcOlWJp/gjtgHddd9FjBG7Hrt2dWqhYoZDjqbNga3qGyVSo1Sp6QgfF7Xaztwcbpvp6mjI+Lk7yeutkRFHkUN7h7g6jBVr2Gqvb/g4PP/U9FY4qlvzlJp5baULwmNgz53dMHvcw35Q6ADeG1c/z6MubMHpcFC57j39/t5Hs3+by8FX388XBdrJNzlK2fvgYl056jJ8MzV6mBDuHPv4Tf3j3V3IrLHha81gTTOz44Gle+C6H8gNL+PzXgpbH3yzb+feDT/NDmQP94ie59ZmVHUpjnuwh13obTg589iR//yaX4i2vc+uES7n/qdf5Kcd11t5154seIXDVNTXkncmPo7FAp3jKH1BorFcqAkr6JPfH31BIkbWx1Km1GrMqmdR4JTK5HBkuXE4AN1abC0E8uecvnm0WoMP0ZMNUpbJ3Wv90lEGDBnV3CD5JSUlpz1tm0qLXmIfyrFy8Q6YycfRkrsiUsWH1XtzqaCY//gcuDy2lpFQGKBGsCVz56OXEmBfzxjwzw0YNYsDYG5neZxtz5q5v20FAE8/YqzOJ8jR7mogOji77it3pL/LpC7czMS2c2lY81uo3zOa5rYN57KErmHL1PfxuSmyLWSVPeRa5whCmXDSai67MgPWr2dea41NLHnJ3JrTeRv1KPnivlME3XMVl9z7HHcmVONPu5LrB5jPzrusGekB/BrZt73jFEo+piJzcEmyChaKsLJL804kLtFF5MIvCGgGnI5d9+REM738xV05czuYV65EPCcdWbCTximkk+QFCEgOTN7N+0Tz00dFEKQNQ1R8jvzQAb5ERj8XKkSN6ggZEoetCZ5Amw9S0Aal4PD1nXpQoiAQFBmKpq+vuUDqdgWkDqe9pD2EfQRRF8vKOkJmZ3t2hnKAlrzGUpM36hA/LdrDyx8WUHbXgUjSqQfBU7rz+XzyyYDWmSQNZa+zHFf0UuFduIcsdxUyjHj0w6MH3mB2S2v54mkbT7CErYt8xmyfyr2fOV4mNy5kaPdairsGo1wMNHmvBqW72fLgJT7+ZNEwFkOGn9WvxmMqBs5j7URk7V/zIkrJ86lxyWnU0bPSQuzrcn3v+HIF/U4CttiFDIZZRVOKG+FBi44JQq1XHvfEirzHSEPaDvPtmCCk9yE2p2wXOYDCekUu3MrQfI2Y+woiZJ38aQPSQGdw+ZMYp28aNvZFbRzuor/OgThuOuqm/Kg9hyPWPkGS2Iw8KQi14GK9UNnRn4x9hyFXneFJnQJNhav+kJDw9yEsuJCTYJwUuPj4e6wVcc7OrKSouYeDA1B7uqOGlbNk/eHZtBi+9dj0pZV/ySX7Td2qG3XYTydf/yOI147EMvIM+crC7XdhqIfqi6WQct1hrHAI5ozyYDG3m7VxX9CFPzk7n6+cmEixvzWPNxBanA4uttt1lBd7SZTz/9DpGvPIq16WW8dXc/Da2bsFDrq02Ai7hj/9cx1/+9Q/mHk3GFPY4T9/UB/kZe9edf7o9ir37OmlZQGvI/QgIDjghbsdRoQsJwk8O8iZx6yaM1TUUHzuGoge5gvekWDqLkZmZkrh1MQ29uB7iGdea15ingEUfL8I9eDwJagGr1YYgCMdFRJFwLTeOzuWDOXWMmhoMgHpYJoMrfuLD+UexA0Ltfn74ZgOG08YyTvZOA0SB4yMnTahSeeCNPxO79CmeW3gMT6seazUMGD4Az9blrGkcw3M6nYiil1Nfhb0ULPyExe7BjEtQI9TbsHsFWiye1JqHXFttCHWUV/Tj4X+/wsO/e5hnnr2NgVrOzLuum+hWP7jaWgub2qhaciFhtVqRy2QEBgb2mMoQgijgdLaa6DhjutMPTqlUMmDAAMnM9DxQa7HQLzGhe8eX2/IamzSdATVr+PyLpWSVmlHJati6Ngtb4hgmpQSDzJ8EbSE7Ndfy8JToBjfpkIGkavby1euv88n8RSzbbGPCo/cz5hQT+LRQhgAAIABJREFUNBeVu0/yThsSQsWq+czfkIcnejgpqoP8umAJu6vDGHLxNUxRruHNN77lgKwfE266lOjs5h5r40gcMozg/Z/y+pyVZOfuI6+gkGKDl4ABI8mI9z8+G1LtyGP5p1+wbF8pZpWMmq3ryLYmMnpCMsGNIbbpIddWG6OsLH/hRd759FsWzJ/PDz/+zJayYP6fvfsOj+usEj/+nd5nNBpJo16tbrkXucSJE/fETg8JbVlg90fbZVlggQ1t2aWzsPQFlh4glFTSQxI77r0XyXKRrN41vd75/SHJcZFk2Z4qvZ/ngSeWR/eekUf33Lfcc2Yvmc/CyrH6zqUlfuQ0IqHFlt/cup3jJ04m6vRJqbioEJvNlhRJTpIitFyIXpWKRBZbXrZsWUrUA50qyspKmDO7LtFhTMDPQLcHfZYVDX76un2YsixvlfiTPLj9egxX9IORvL10Dqiw5VqIfg2c8XqshXB0duDR28lQhgjr9WOe2z/QjUefhVUD/r4efKZMJmzpNsljGLte5H//qmDNxlKC/U48Xgcd2zbTveFR3lejjE7vuhhJ2Bqcx+tN0m3FiXW+uQWVSpUUDVMVimS5D7s5BoMBhUKBJCXPRp6p7ty5ZiorytHpkrXztwZrlubif9uyrrgyy69ObgByXQa5MWvzOF6PNSXm7IKRHm3qcS/aGmvWxcSnsWXeUAK++hh+dvz067xq+G/emTcDSwHgaWHLqXay8kYiiUbvuhhJ2BXs2LHjUX3ubSo53XQGrzfxz2lFIhEslmu3Pkx2ixYuJBgUyS2eJEmiqWmijQ5CatAw5+0fZvaxz/Hgunt459//E4/+aCuadQ+y2JLo2K4tIVOUwWCQ3/7u8ag2TAx2HWDbYTe2vDQCbafpSa9n1YJcVADSEGe2beNsSIcyrCazrBBL2EHr8WME597HiqLkfOC6bmZtwp+TkyKR69rlOpFETFFmZGRQWVmFJKqWxJ1arWbD+tVTcsOSkBoSMoI7eaohut2ApUGOvLaXSOUSZtXWsWBlLezdRZMfwEfza4+zxVHG0pW3s6LaRFimw2AO4tLXMb8wOZMbDHdWSPSFWSFP7WnKOXPmJPxnOF0FAgHa2zsSHYYwjSXk6hX9jSURIpKT9vNdBIGIx4FbacCogIjrJPuPqampr8Agg4A7gjbThOtkG+nzqjEk0UOJYzl0+MhVLYDiKRKJkJaWAnMRYygqKk6+yhrTzNlzzYkO4eb4++gZTOHp7ZuN/8p2P1cKDdEb935Ekxf3BNfZ2cXg4FB0DypPo6Z+JqF9f+Gp13eyY+cg5XfeSoESIj43Pn0ueWlyCHXT5NCR6znISdksZmWkxuhk/4GDCS2fZTan5jpcRXl5okOY9np7+1K0YECYzp0/5B9uXcHHnx24if5tiRKd+N9q93Pl30gMHX+cj69Zzgd+30qy7qaI+xX+xKmGGBxVhn7GatYvttJ7YDOHOsFgGJ56lKdXUm0f4tTevezf10F6TTYtBxwUz8+gZ89zPPPsK2x+9XVORLHvWyzs2bs/YetxqThNWVtbg8udZNXtp6lzKTmKU5C96C4W3Xh3mgSLTvxvtfsZ+YI0wM4Xt9IrybHUbmBxkZTUP5+4XrkCgQBnzpyNwZElHCdeZIdvGe96333UyI7w/F820xoE5JnMvecBbps/l/n1s8no3kerbR4Zp57mrydMLN6whttWZBPqSPyuxWtJVMPUSCSCNS11OgzIZDKys3MSHYYworn5QuJ2TI/T/iXs6KHPA2FXK00tg1eMQEIMXTjNub4gExabHLNNTBhnTy8ewrham2gZvOJ9+3o5d/IUbUNXfD2qbWquFb+E3zXSqsflJ+R1MDgwwMDgEO4AEHAzODiIyw+Xt/vx0vjYJ/m3Xxyhd2C4hZB89PiBQZobzjMQvboQURHXBNd05mxsigpLnRzZ2YGtuhiTtZLbHryLCt9Rjp0fPZcclVoJ4U4OHVdQW+fn+IEO7PPmY1eCNORHMibZE4pjuNgwVRP/JGc2J/65vMlasGCBaIeTRILBIK2t7fE/8ZjtXzyce+mL3L/8AT77/W/z1f/8Kp98cB0f+fPwNJs0sJv//bcv8KdjbZx49pe8enbs69WYbWI8Z3nlC/ey4v5H+eF/f5mvfOXjPLL2Qzwx0lHcf/yXfPLff8/x8zv4xoPLWP+eT/HNvxyPapuaycUv0fO3z7Np0X18fecQ/t5dfPtt9dz16edp90pIzsN8/4Of4vkL5y9v9+M6x/GD5+nrPcXml3ZyxjV8NE/DU3zjP77Ktz/9Nta+91ecSaL5yrgmuFMxmZ4EkCOTB/AHhgfLMp2dzDQlisueiIzgOLYf14yF5Cn9+EM2snP1yCIums9HsOcnvO70pITDYfbtPxD3hqlyeZLvxhmhUqkwGAyJDkO4wtlz5+N+zrHbv+gpuW0ZFZoA5nnv57Nf/y5ffTiDXa/uwYOLrV//d3bVfpj3rb+NO9/zbm7JHWPtW+oeu00Mpdy6vAJNwMzcf/g8X/ne13goYyd/2+MGXLz6gx/QXnsfG9a/h8+8s4wOXyVvv682im1qJhk/SvLv+iAPVg7S0w+6glV84JF5ePo9qI1y5MohjEvfyz0zii9v92OsYsnsTJSZc9j4yFpqzAARpKwVfPTLX+fb33oPhQdfY1cSLffELcH1DwzQ1d0Tm4PL7cxdUYNjz6scOn2Opv07abOuYEHRJUnL28SB1izmVhiQKQupnWuk68AeDh04DeWzyUmN/AZAMBji4OHDcZ2ujEQg3Wq99gsTrL6+Pqr1M4Xo6O8fYGjIEddzDreQ2YTv5Sd49s0zOAP+kfYvCuRyLUazFpChN+gIu9z4vPt5dWuQonLb8IVRpkOrHePGbqRNjCLYS3d3N66a9/Pdb72TKhmgkKPQmhg+tAG9LozL5UcCZIoIbedbCCLHmpuLRT1clWT8OC9pUyO/uk3NVecPTjJ+AGUF99xbxeGnn6ct7KGpM4zlzHP8tSlA58vHMd0xf7iiyVXtfq4kw2i1oQEUFjPGiB9fEm2qjNtl/WTMRm8AMvRlK7m/2MtQv4NQ9h1sWqC+bPo5Irczd2XpSOFRFblLHuDuGEYUaz6fn6PHjjOztoZgMBiXc5rMJvoHrtpOlTSSobyZML4LF9riWhnn+lrIAPjx+xyEhq4xApmwTcx4jKz62OfY/LHv8IUfn6FswMaHPnM/dnkU29QMbJ9c/AAoyN94H/N+9Hue2aFmyPAvPLr6U3z3qZfRyuysvj+F7vgnEJcRXCQSoakpFptLrqDQYcm0YzOpr1pblWnMWPRTq6KC2+3mVEMDKmV8PowyZNdu8JhACxcuFN0CklhbezzX4SZqIXP5vr/hYk4RIspqZlaE2P383+gdWQML+CNEpCs+UxO1ibns0KN/jgASrvZOij/4Xf7rg+/iH/7907ytWjdxnNfbpqa/cnLxj5BnreXe5e089vl9lN67mBUPrCXwx29wqnQtBaOXyiva/aiUSggFGFkNIhIZbpAMw1WPJCIjDYOSQ1za5XR2dXH02PFYn2Za8vv9+Hw+MjLS41ItX66Q4/X6buh7Y9kuJzs7G5MpNZ/Xmy4CgSD5ebloNPHY0DVe+5dcCiK7eeqJ/Tiz5rGwsI+Xfv0Y286rKF+xnntXZnH051/jx68c4fjBU5w730JP2EjF/LnkjVaFkKdRWT5Gm5g5Lnb+4Vf8Zb+DrHmLKex9gd88to0WZTnLlpbS/sQX+dJ//5LH//RH/vSnJ3lxWxuWOUuoUjdGp01NfRG1syzXjv8iDXmWNrb71vHxe0vRZ2UwsKePxR+5hxlawNvK3id+N9LuZw7zavOxKpp59ed/ZnenCynUwa5nX+WoJ4sFS4rof/m3/O71BsKFy1g+K4vxZkfjKS61KLfv2MWRo8difZppzW7PorCgIC7bsc83t9zQ98WyFuWqVatE1ZIUUFNTRXVVRdzOd0MtZEIOOjs8GOwZKEJh9PpxEvL1tIkJt/LSj/6KYt1dlAT6cXq8ONq3saV7A5//h5rotqmZbPwAeHB79BhGGrB73R40Bv2EU3vevh4ClkwsKTCLGZcQz547F4/TTGtdXd2olEqys7NjWntRJht+ziwZ+tWNKisrE8ktRbS3d8Q1wd1QCxmlmeyCkdkA9QSXyOtoE+Pf9RO++bKRb7w7jxnDPWdoeeMUHfb8ceK8iTY1k40fgLeSG4Du0j+MQ2fLHKOlT3KKeYJrablAR1s7+QX5hKUILpcr1qectlrb2lEqlTFtmDq6m7Kvvz8mx78RJSUlIsGliMHBITweD3r9tS+kU4lm7tv54Nyv8MX71qPKyqOgqIbFd7+Th+rHm1YfaVPz5c/x4Do1WXkFFNXWs/Gdb0uJNjXJIuZTlM8//wLPPffCxT/n5uZQXFKKQqmI+7bh6WLGjDLMMd5ReCPTlLGYopw9ezZ6vXjuLZXMmjWT8hmliQ5DmAZivovyyJHL197a2zvYsX07W7e8SWtLCzqtBmuaBXkCK+ZPNU1NZ/B4YjuiSWSHg1FyuRybzZboMITrJFroCPES0wQ3NOSgpWX8O/3+/n5279rNls1bON3YiEqhIN2aJhokRsGphsaYPh9ns6XH7NiTtXjRohve0SkkTm9vX3T7QQrCOGKa4I4dm/zOSbfbzf79+9n8xmaOHz0KUph0a1pCigtPFbFsmGpMcDksrVaLOi7bzVNdCI/DxXi3OiH3EK6Rv5S8/fS739qFK/kdOH2x+fx0dHTF5LjJJYDXO1KH0utNwZY7qS+mm0yOHDl6Q98XCAQufq9MJqOysgJ7djY+fwCvVxTRvR6HDh9h/ry50d90IpMhl8sT1i178aJFBAIxGqH6uzi17QVe2HyacF4d1dkKnL0DkDOPW1bOJ1+fGu2Dgn0NbH/2cf42WM8/fXQt9kvDDvZyeuszPPHKIAv/5WPckS1x/qUf8uu+1fzbe+sYPPA8Tzx5gvy/+yz3VUb//Xb39FBcXBj14yYT/+ufY823c/jZ78v40W2/Z+6zv+Pv81PjszNVxOynHQ6HaWi4+fJckUiEU6ca2LJ5C7t37sQ5NIjFbMJkNEYhyulh/4GDKKM97RuJYEtPTG1Kq9VKOJYPtWvsVC2fiS3gwzJzAxvueYi3PXIH5pOP8/M/xO5ZPgDJ3cjRBse17/YlN02HT+Gc4IUqWyULq7LGrj6jyqB8cTWZF7+gpHTDR/n4OxZhkBvIm1NHnvYG3sAk9fUmzy7c6JEY2PEi23qG/1EUNhs2mw2bOgNbZjq2NJHc4i1mP/H29o6YFL09d+48W9/cyvZt2+jp6sJoMGBJ0Y7T8bRnX/QbphqMiZmmnDdvXuwfaJeNliUb/n+5oZjqMgu+5tF6hhL+wQ5aW7twXjmQDDrpaW9nwHtF9pH8DHW20e0Y5/ci0M7uP/yebReceLzBi0ku7O2ns7MPz8XOJwE6d/yOP7/ZgsvjJSiNH498oma1cvnlFwCNEZXkY/g0ci5+a8iPx+3G7XbjDUoTvpeQq4fOriH8ofCEXZ49Xm98WhpN0GftorCLvgEvYXcnpxtbcVzRYSbkaKWxsZWhK/7Z/H3naTzdhcsfIgR4G37Hpz7xS470DuD0SShLqqmvq8CinkHVrVWUxfCGQRhbzBLc+fOxb4/R0TGyI/NNsSNzMqLeMDVyjQtoDOTl5Sam11t4gLYOJ+qcAsDL2Zf/j7/sGSDo2M+fvv84x93DF/5g2xb+9OfttPc28uL3v8i3f/oHXtzbSqj7IK+9vJPGC41s+cU3+eWbbVzZqcvf00ZzrwNXxwmOne7CLw1x6sXf8cyeCwx1H+aZH32Ppw/2EPL10N7ci9PVwakjjfT4x49nskL9jWz+1Vf42q/3XDUqlAJtvPm7X/LakVaGfNI470XCeewZnt7dS2DoKM/++gWar9H6sa+v77pivG7j9lkbJTF49A/824alvO3jX+Zzn/4C//mhjay856tsG5BA6mLLf3+C//jTcTrPvMAXH3mYL/71PAEkel/5Kv/xx2Y8Xa/yXx/+bw4EXJw/fpDm3l4a3niJnWdcYL6dD7x/Dmq5jQ0fejdVKVD5Y6pJ6QR3qSt3ZCoVcqzWNJRxKkScCi42TI1ikov3bsqampo4ni3C4OmtbPnbX/nLT3/OLpbywEPLIDzAhVaJ3OpKSirnUMgJTjSHAR/HX32ZgbxF1M1awZ1L7QwFc6ifa+Lg89vwFJSQkz2D+TVmzrz6OqeuGFJocsopMCswFc5n0ax8Ikef4cmzuay8ZTaVs27n/jV2Tv7lSfb77JQVmlCYCplTP5tc9XjxTJ4yfQazis1cOfMbCXZyZPtZCu77AJuWVJJtcI/zXsJcOHaUQVU6uRVLWbei4ppVQ3pjPE05bp+1i+Sk1W1iSZFEpPAuvvD9n/Cbp3/E3e7f8O3Hmhh6+at8dm81H3jvWlas/0e+/M+lvP7of/Bkp5/Dr75Cmzaf6uVv5xPvXYYBI5VLZ5GpzGT2pkdYU2sGDKSlaQA5pjQLYm94/MUwwTXH6tDX5Ha7ObD/AFve2MyxI0fEjsxLhMNh9h04ELWfhWESpX2ipbKyEpcrnhVLZJgL6pg1dxnr3vtJPvmhe6mzKUCRy63vex9zgkfYf+AU3b4Qo43qZXIY6O0ljBy91YpOqUQRPs+ZljDysBOnYwh/3kre8chyciacaAjR2ngGvykNw8hvqbq0gsLIec5embwmiOd6qJRXXIIjAc49/0t2yaqpzBi5URz3vSgomlXJ0Avf4fu/fYOuzBnkXePesjfGI7jx+6xdSo5CLsdgNg8nIOM8bl9i5dzJYxzdugdXhp30kZ+/ftEy5nKQ3Qdh3vpb6PrWvdz3zz/jdGk9teLSkpRikuB8Pj8dHZ2xOPR1G92RufmNzezfuxe/10uaxYJenyrV1KIvGAxxKFoNUyPE7bnFgoKCuJznUnJtGlZbOkbNJe9R6ufwn37KKz0FzJ5XjV03mqm01K67l5KWF3n6ta3sOGvk9o2LMMvChPwesFRRXTtz+H9VOeivsQNVoZATGhrANfoyuQaNRsVVS6njxnOTZGqK6hcS2foYLzZ6htcEI+O9F9BV3ccHP3wPpUNb+NX//II9vRO/P4fDSSAQu+a04dbn+Oz7vk3zzI1suq0c86R+LDJ0eh0WqxWlUoG/q4Pe0fsJuQGDXotWI8d86+d5/I+fY3HnL/mHTR/ij9c5YhbiIyYJrqWlJamK8Y6KRCI0NDTw5pYt7NoxvXdkjjZMjcbGk3hMU86bNy/O9SaHP7+RyNUXaal7H28eCJNbno4y4icQkEY+7xK+gUEybn83991xC7du3MSiXDUoCyjKG+TA33bRFQAkD617dtB4VaU6BQo5hEMhQEl+dRWmjgYaHcMxSI5u+tTVzCxRDd9UhMOEJoxnpI/XeL+Kkct7d0XGeLEieyUPrrNy+PHHOdgXnuC9BDm1ey++vHru/uBHWWdvprHl2o9x9PXFappyon5wV7t4uQp3cuS4gls3LKbu9hVkNWy7uCtS6jlLi+421i6AzX98ClfNg3z+93/mkzMOsvWQH5QqFAQJBpLv2jddxaQf3P79BzgV0w7e0TE4OEhLcwsXWlqQy2TY7XZ0Ot20qbIQDAZxOV3Y7Zk39TybWq1mcHDomq+70X5wSqWSioqK+DUz9XfTsH0rexq6cISUWLLs2NO0F7fbyxQBOg9vYceBZvo9CmTu05xqCWArKyVw6EmefXELu/fsZO/uvRxp7EdfNJtZJSpatv2Vl97YxcFDDQQqVrG8zHD5HaZMQaT3KFv3NOHwq8icu4Qq9Sm2bW9Dkg/SuO8CGXdsYr5dgyLSw/Etuzk75Edtz0VqevOqeNIyVVw4uIOT7SEshSXkpuvfWgcKDdK8dzu7T7QTthSSqx/kxJ4dNHREsBTaUbYfZu+Bs7gNBVTOq0Zx4q+8tKsdWWY5C+rSaLvqvWjo3vEXdvSaMUoDdLvSmVlfgU098bBJp9dhz8qc8DU3Zrx+cEUsXFqG5eIPPkTDcz/lxQYf4cAAJ158nMNl/8yn7yvBXDSfOtVWfvXYCcLyDrY+dZSiD32a+8oUnP7tF/h1cyaZoVZO9+Wz9uFlFJmg+eWf88TuLty6fGaX2+LTrkUYV0yKLf/0p//HwYOHon3YuElPT6e8ohytVsvQkAMpCUej0ZSebmVGWRmhG1m4YfjOv7Wt/Zpb92+02PLSpUtJun+CoBtHQIPZoISgC2dQi0k7xNG/HUA+ax4ZYRc+fxDf4CkaHHPZdFseSAFcQ27kJiv6ca98AVyOEDrzJcko7MExFEKTZkZzSUYMuByEdGb0inHiGf8kN2+M9yJJEkheXF4lRpNmUtND6elWVt52S8zCvHY/OC/PfmAx/1fxBx57VxpedSb2KxvGhRx0dfox5mRiGPlHCYfDyEJOehwqMjMvuVHx9tETsJCZCs3SpoGY/CvEewdltI3uyAQwGAxUVlViMptxOl03nASSWX//AM3KFgoLb6xhqkwmI8Nmo6u7O+qx6fV6lEolwWCS/dxVBsyjs7sqIyYVhBpf58VjGh5absWutwF++k62M2geeSBersZovda6pxqj+YrXKPSYx5gFVhvNXHzlGPHE1BjvRS6Xg9yA+ToaWTgcse0oMtl+cBFk6DPzGPOJWqWZkbZtFykUClCkYb9y8KmzkTl9l/eTTtQT3NCQg4GBwWgfNmFGd2TC8FRcVVUl6TYbLrcnpgvk8dbV3Y1SqSAnJ+eGpitjtWln0aJFMSkYEAvKoqWsLHqGp7/3DZRmK9aMPMrmLWfhjOnV++x6hEJhvF4vOl0isoJE7+G/sqtVg9P/Mq8ezWBtXVbsW6wIcRP1KcrDh4/wv//702geMinJZDIqKoZrZAaCgcQ8fBwDRYUFZGRkXPcmoUgE2trbJxzhXu8Upc1mo6qqOmH1LoX4WL58SYzW4YTpLuo3K4l8/i2extqRaTal/o7M5pYLDA4Ncb3FYGSy6O+mnDt3jkhu04DT6Ux0CMIUFfUE13aDO+VS3blz59m2dbhGZndnJ0aDHoslNWtknjlz9oa25OujOM1UVFSE2z01RsXCxJxOV+xPEh6ujSkNtdE6kGTruckiPHH90FQU9QTX3z8Vq4Rfn87OTnZs33Gxa7lWo8GalpZSNTJPNTRe9xpjJBKJWmm08vLyqBwnFYV9bryhsUauEgG3G/9kB7WSH48n+S/msU5woQtv8Nhv3+RCIMC+/3kHd338KQZiesbUJDmO8/IfX6HBnehIoifqa3Af//gnp8x6VLSl4o7MObNnXVdBZZ/PT2fX2M0sJ7sGV1tbg9mcNulzThn+82z9wx9583QPrqCe4pVv5x1rqzDKQRo4yovPHUNfXYGy+Sh9RRu4a0HW8C6xcD8nXn2Zk0ED6pCGnOoyrOFBzu3fR2Dp37NhRnI3htVqNdy5YW1Mji31vs43vtHEXV/6R2ZqAXcP3eF0ssypXBlSYmDHyxwvX8vyzOiOUaSeV/jOjx088O8PUDQFnnSI6k/H7/eL5DaBS2tkHj18mEg4jDXJa2QeOnzkutbjdLqb6wkik8nIzs65qWOkphDNuw6jWv1RPvPlr/Dxt81g4PU/8tqZEEhDHHr6SbpmbODWBfO5ZcMcvK/8iZ3dEuDl9LM/4fn+GtbcuYn1cyyE5EbMaQEcxoXcUprcyQ2Gb4qCwVg0r3Ww5VvfoXvF24aTG4AhHV3Y9VZNyrCD3l4PhF20nW5hcLw5uglb6oRxd57mVFMPl179JPcAA94w7vbzdI7O+IcctDc20DJ4+exI2N3J6ZNn6Ln0AOPEdmVbnuFzddJ49Dhne64sUuGn7+xJGlodV00/jnVOeebtbLQ+y9f+1DolpiujmqMHBsTAf7KCwSBHj77VtbyiogJ7TjaBQPLtyNx/4BALF8yf1DNykUgElUp1wxesBQvmJ937jwvJCUXLWZSnRQ5kzF7BrFeP0tkXQMo8wv5GI6XrTcN3pJpSStJ/x56DndQvOc/W/Rrmf6QOkxw8zgi6YguOrc1kLnsbphTZ8+50ukiPcgNdqfsFfvdGPhv/3QKA/8IOfvWVR/nfwXfx/O/eS9r5l/nWRz/J5tx3sDFvgLP7NnMg5xP86UcPkHdxgCcxePSPfOUTX+VA3iYWGXpoPbmH49qH+O5vP8Vyw3me/8nTdGcVEtn/GP/Uczff/9Emgk9/nc987TBV71lG9xN/xv3wk/xwzt/4v51mFtdreeNj/4+hd/2C7z2cT8tzP+HpLjtFkX089uFe7v7hj3lQs3mc2NbhGGnLo3vjJXZKG1ni+gX/+hs573zPTA5+/NP0vPM3/OcaK3LfCX796M9x3rYa4yv/wntP5bBi1V189VObODfGOf+uWgMoKV5WQ/PnHufkQ59gZoqP4qL68Z9Kz7/F08UdmZuHd2Q6BpOvRubefftRqSb3ab/R3ZQqlQqD4TqeEp5K5FaKim1v/UJGfPgiuRQXa5E6WumOWLBaR/5WrsNi1dLT3kbI48RrKKQoQw7Bdo4NGih27eCAbCGL7SmS3YjNOlzw8D6OG/LIHxm9aQrquXNeFuGRRRl96W0srdQQMM/j/Z//Gt/5+sNk7HyFPZetQU3UUqeR7qe/we8H65hfU8mi++/AvusH/GyLjroNi8gNDCGv/Rd+9ep2fvlgI9/8Viu3fOgdrL7lHj74j7ejdzkJdj/DNx8bpG5BNRWL7+cO+y5++JPNMG5sV7bl0dN++Djh2ttYtnAF6+fJ2PK3gwQB1ys/4Idttdx75zre/eg7KO30UfGO+5DGOefoIFNdVIi9eT/7r1EsOxWIEVwSOn/+/MVqMNnZdkrLylAolQwNxbbqw7Xs2bufxYsWXnPziV57Y9OU9YsXT5s6oNfiaThEb+U61mXLkdq9+ORKlBenimWolUokrwe/bRZz8/7K4S1v0i7XULCgnNMvNVLbNK9nAAAgAElEQVSxtp6OLb/nzVYNVr2a3KUbmGdP3nUnjzf6o/bg4CBudfZl5c00mssveQq5Ao3BjAaQGfRoQ27cPgnMl94cjN1S56mTJzh05hDBrE30dncDNbz3B9/CUi4DtQql0kp2jh65Tolm6+vs0tXycR2AgoK7P883Af9Lv+JwMIuNvd10A9Xv/z7fSCtHNlFsl1FS+Y8/48dte3jliWdoa3IQUIz8fsoVRFrP0RKAvLRcci0a1CoIHtgx7jkB0OvRMkhfjwTZqXOTNBaR4JJcZ2cXnZ3DmzasVivlFeXodHqGhobiXiNztGHqogXz8U+Q5MKShFqtvq5dmCaTabiZGql/13izJNcptjfmcued1eiBoFaHJuK5OPKA4Qogco0enSqHpe9+PwF/GLVGhbfhGfbal7Pi8K/5vwPFvPsjGygIH2T3MS/Yk2dG4EqxuLFRGQ1ogwECUf9IjbTUkVkIDHgYIofld8wdKZsm4RryXPUplgJ+vB2ttAYhd3RZNBQiGAzgGYLsW+5g7shSvORy4Jl0zGHanvscn3l9Lv/5tXuZ0fYbfnZm+G+Mq/+FR1//V/7n8z/mTNkg6R/5NPfZ5UgTnVMOhEOEIyo02tTZ9T0eMUWZQgYGBtizew9bNm+msaEBpUJOepy7lofDYfbun7hh6nBtyuubply4cEFK7CqNuUAbh3b0Ur5uBXkjF0KFPZsMHAw5Rq96foYcXtJz7CN3qHLUGhWEWtm5X8mChT7277hA3rLl5Kkg3O9FMif3ZpNADMqxKWtqKXV00X3J0rEUiYy0CRp22S3iyNcn6C407GJLnUXMnFdD55M/5M+nvYCE48if+cOb3aPNli5+j3r2Iur6n+b7vziMAwj37uS3j+/FXzuPmo4n+fEfm/AC0tAR/vL7LfREJojt0rY84bM8/dOnCdYsoUAt4XZ7kCQJCZCc7XSWfIDvfOWDvPP/fYZPPVyNDlDXjX9OgHBXD4PmSqrzk3fEP1lRTnBiBBcvHo+HA/sPsPnSHZlpaWg0sd+RGQqFOHho4oapGs3kL6jZ2XZ8vtSoNxlToW6ObG3CXF9PgSZMOODg/N4DtJpmMbvEQWvLyDReoIULvTnMmpP3VscBJAb2bcNZu4IilRdvMJOCIiNyycHp05BXGuvqyzdnohmBG6UouJN7Zrdw6MTwsb0X9vLCjnMEzu/h5f3tOC/sYseJAfpP7WD/hTYOv7iT5sAFDr7ZhOOqEZRE147f8tPf/plff+NbHFn6JT62xETx2z/DR2ef4qsbl7Ny1UY+8qSRdWstnHphG03edva8+BoNfRKKgof57KMr6P7hAyxfeBv3fWYvM+5cjK30ET71sdk0fHkjt96yins+9BTG9evJbR8/NpdxJnNLmnj8C//BD19xUzU3h2Pfey8fePRHHAraCO36Dd97uYVg03ae+dm/ce+tK1mzZgP3Pvwhvv1qK4risc9Zohh+n7279+FdfS/1U6BodFSfg/vSl/4raTp5T1fDOzLLR2pkBmO6I9Fg0FNXW0tgjB2TkUiEzs6uyy5c4z0Ht2rVqjg3M01C0iBH//wD/rC755Lt2XIybv0IH7u7DLp28/QLFyhcNhtVw1ZOWVZz/4qCt7oJeI7z3LN9LH5oBZnyAM2v/ZbNQyVUZGmxVi2iKiO5t8NZLGZW3XFb1I8baPwVn/tzHp95dDU3/mTltVrqSHh7OxhQZZBrmfjGTvL20ulQk2G/pBPE6NcHVNhyLeN2PLg8pEvb8vgZ6Pagz7KiwU9ftw9TlpHuF3/Ec4p13FkSZMDpxuvoYPvmbv71i+8f/5yBU/zkX39D0ef/i3VZqb3+BlFOcB/72Cfw+XzROpwQBcXFReQXFBIhEpOdamaTierqqjEfCwgEArRfcsMzVoIrLS3Fbs+OelxTUtjDQM8QkikTm+HyhCX5BhgMmUg3JnciG49Op2XD+jUxOLJE747Hed67lIfvKJ5c8rjKcIL7WcXjPPWvNanRxNS/nS+s+RqGbz/GJ+ZbkAOels38ebuWv3ukfuzvkXrY+cvf0bbkH3mgZmp0wIjav5XX6xXJLQmdP998sQB2dradktIylCoVQ0PX7sA9GQ6nk9Onm5gx4+qGqRrttS8npaWlYvQ2WQo91uyxLzxyrZXolrqOr9i1RJKTsfTtPHzhPH0ByL3uGfwUbamjmcsjH57DVz93H3eqssgrKKam/m7e/vA4yQ2Q+p1k3/dPLLGm/trbqKiN4Lq7u/nCF74UjUMJcWC1plFeURG1HZlZmZkUFRVe9jB4JBKhs6v74g65K0dws+pmYUiiZ/2ExLp704a4bpgSpr6ofZpCoalQ2GX6GBgYZM/u4YSj1+uprKrEYrHguMEamd09PShVSnIvaZgqk8mw2dJpb++46vUymYyMzEy8MXj+SUhNfn9AJDghqqL2aZIkkeBSlcfj4eCBg8BwNZGqqirSbTY8Xu91PZ/U3t6BSqm8rGGqRj32NOXiRYtEchMu4/f7MRimxtqPkByiluDCYfGA7lRwZY3M8vJysnOyCQRDeDzXXitrbrmAUqkkLc1CJDJ846PVai9bn9VqNGi0uutuxyNMbbEpuCxMZ1FbK51MIV4htUQiERobG3lzy5vs2rGDoYF+zCYjJtPE62Znzp67uHFEJpNhu6KI7uL6xSK5CVeJcucuQYjmFKUYwU11zc0tNDe3AGC32yktK0WlUjM4xo7MUw2N1NZUo9Fo0FzyQLjVmkY4LC5kgiDE3hRcg5MI+kMoNOrk38qbwrq6uugaaWxqSUujsnJkR6bDcfFm5/iJk8yeVQcKBXrdcFmEefPm4fGIx0kEQYi9mK3BBV3ddJ5r5GyXH0vFEmYX6rmsdGeol4adB+kIGckpr6I4z4rmJmt7RoJDtJ04SKMnn8X1MzCkfq3QlDA0OP6OzMNHjjJ/3hys6VZyc3PxekW3AGFsYlwvRFvUBjlXTlGqjFnk5VpRSQF6m5sZumyAF8Hf1UpfMExIbSM392aSW4RAXwd9/ggylQV7ul78piTQ6I7M0RqZUjjE2bPnkcmgpqZGrLMI4xMfDSHKYrvJRCbHkpODzt1KS/clmwoiLjp61dhtSpDJkF2a3KQgXqcTb/CKNb1IEL8/BJEQXpeH4Gjla2czx4+cY8gfIBiO8NbBJIJuJ57o98oQJikYDHLs6DFOnjjB0SPHaLnQgt/vQyYDlUqJWq1CLhcTycIokeGE6IrxJhMZMnMh+Z5Ompov4M4uwyCDcH8bLnM+Wa72S14bwdfTSFOXiiy7Ds+Zo/SqiqmpzkXj7eT0ocP06orI1gXwDHQzqK1k4dwcQo5BvIEAip5OBsjFChB20nHqOH6fg75+JcWLF1FoFPOV8ZaVlUVObi5DDgcOpxOAwcGrN6RotVosZjN6vQ61WoNcLiciRQiK9jnTikhvQrTFYRelntzibJoPtnChv5iq9BDdnSEyZhiQNV7ysmAnp4/1Y66vJ0snA6sSz9aDNJjTmVuQSbpJQTdWiqrtKByN7NndxUCogBybBbXMiyW3kCydjKADIhENtvIarAoX53Zto6fPT4FRi0hx8ZGVlUlubh6DI4lNJpv4J+/z+casYyqXyzGbTRiNRrQaLSrl8Ig/FAqLXbuCIFxTFDeZjL+LUplZTK6xnQvNHRRrAvSrcqnWQN8lr5GGehkIachUj1wMlenY0iKc6BuAgixkMlAolCgAmVKBIhIiLI19zydTqlErAJkKpVI8whAvmZmZ5ObnMTTkYGgSie1aJElicHBozFGfTqvFbDaj1+tRq9UXR32BYPCmzyskiBjCCVEWn8Jvcgv5hRlcOHmOUzIL6RUlyK9s6i6TIZN8+PwR0A9foBRKJQqx2T/pZWZmkpc3MmJz3Hximwyvz4d33FGfGaPBgFanRaUQo77UITKcEF1RS3AGg+HqL0ohQuEwIEObW4z9zD56ZGXUjOzfj4y2j4+A3JKFTdNGf6+fokItsogft0dBRskYTUBG27lHAJkcGRIXr10jf3Hx78XvTMxkZmaMjNicURmxRcPwqG+QwcHBq/5urFGfJEUIilFfUlCIQstClEXtE2U0XprgIgSdXbQ2d9Prk2izlpNnzaCgMBd1uh01Idw9LXQOBIkEemjryKQkN5Py2eWcaDxGkywXQ6APd0Yd5ZkqJE83/Y4gAWUfgx498q4+vJKXwV4X2TkW0gynaDtxHCknA22/C8kboWfQh0reSb9bwqvoxplXhFktLmLRkJGRQX5+/siIzZUyyeGaoz6jAa1Wi1KhRCaTEQqFkMaZBhei79KKN4IQDVHrB9ffP8Cjj34uCkeSCPp8SEodGuUkL5xhP35JhUYlpjNjKSPDRl5+PkNxmoZMBjqdDrPJJEZ9cbB+3Sr0etFNQIieGI3gboYclfY6P+QKDZqp04Q26dhsNgoKCkZ2RabOiC0avF7vmG195HI5FrMZw+ioT6mCSIRwOCxGfTdILUZwQpRFLcGp1WpUKpVoeTGF2Gw28gvycThdSbPGliwkSWJgcJCBsdb6dDrMZhN6nX7kYXYFkiQRDIbEz3AccrlcNDsVoi6qnyiTyUh//0A0DykkwOiIbcjpxOF0JTqclDOZUZ9Oqx3ZVCEjLNb6UKtViQ5BmIKimuCMRpHgUll6ejoFhQUXR2xCdE1+1De61jd9Rn1ielKIhagnOCH1DCe2QhxixJYw4436FArFcDUXw+han5IIMkLB0JQqXC0SnBALiU1wUhhJPsaj3FKIQFiGSqWYVHmtSChASKZGJTaaXJf09HQKCwtHpiLFiC0ZhcNhBgYGGRiYYNSn16NWjYz6whLBUOqN+sQjAkIsJCbBhT30XzjD2WY/2UsWkH/xsx1i6NxhTpzrwxMIo7KWUjunAttILx3J28W5pm7CagURhQlbup6It5+O9hD5c6sZ45FwYQzp6daREZuYikxl1xr1GQzDa31KhZKILLlHfWIEJ8RCQhJcOAg6k4KA//LSSdJAC12KchaunI/M08aJvYc50WRjWW0G8mAvjftOEiqvpzZbzVDrBcIqDRq3D3VeOVaxAeuaLk1sYipy6prUqE+XXM/1aTQiwQnRF+UEN7ln4RRaPdqgistnFCMEsFJQYEYpAww5FGY30e3yECZCsPMsHYp8Ftq1yAjgj6hI0/poGTSQP1N0CpiI1WqlsEgkNmEya31GNFoNKqWKCMRt1DdmqT9BuElRTXAWi+UmvluG1mq95M8RQqEIJqsVJeD2B1GnWdHLIOzsxKfOInChAVleLaLV29is1jQKi4pwutwisQkTmmjUp9frMJmuWOuL8qjPELVCEYLwlqgmuJycnOgdLNBDlyeT0koTMkBvz8PU2E7z+SFkyjRybb2c6c2kNN9J89GzOBQ61Aoz+eX5GKZ5xa60tDSKikViE6LD4/Hi8Yw36jNfscPzxkZ9RjGCE2IgqgkuI8OGRqPG7w/c3IEifvqaezFWVpEx8vyn3FTMrHkhwpIShSJI36kL6AtL6Tq0m07rAhaUpxHpaKEnCAbNzb+XVCQSmxBPw6O+AQYGrn72Va/XYTaZ0el1w2t9svFHfQqFAq12mv7SCjEV1QQnk8nIzc3l3LnzN3GUMM72FjwZlRRarghPpkShAMnRTIe8gMpQK3sdFopnW1Ag4QxFUE/DzSZpaRaKiotFYhOSxmRHfQqlEqPBkHKPNQipIerpYLIJLjLas+0yEu6OcwxoCsi3KJCkMMGhDgZkOWSnjWxJiXjoaPaRWWFF4WgjbEjDrJYR8ffQH7FQMI2ehbNYLBQXF+N0i8QmpIaxRn2VFeUJjEiYyqKe4PLycq/5Gsk3SE97H17Jx0BnL2l2G0YN+DqPcejIBTxSAw0jr5XpS5i/PP/i9wZ7zjNoKqZGI0OWnk++5gyt55oxqHRk5qdNi/7fFouF4pKREZtLJDYhtdlstkSHIExRUesHN6qx8TTf+c53o3nIS0QIeb1IGj3q6ZDJrmCxmCkuLsHpdiftA7uCcL023bWBqqrKRIchTEEJGcHdOBlK3fRriGg2mykpLcElRmzCFCRGcEKsRD3BGQwGLBYLQ0ND0T70tGM2mykpKcEl1tiEKUqpVGCziSJ7QmzEZM9hXl6uSHA3wWw2UVxagtvlESM2YUqz2+3I5dNwvUGIi5h8smI7TTl1mUwmZs+eTUaWHafTjSTW2YQpLjeaxSEE4QoxGcHl5ubF4rBTlslkoqSsBJcYsQnTTG5OdqJDEKawmCS4/HwxgpsMk8lIaWkZTrcbp9Od6HAEIe5yc8UIToidmCS47OxsVCoVwWAwFodPeSaTkZLSUtweMWITpi+jwYDJZEp0GMIUFpM1OKVSSYWoTnAVo9HI7NmzycrOxulyI0lijU2YvnLE9KQQYzHbvlRTUx2rQ6cco9HArNmzsOfk4HC5RGITBMT0pBB7MStNXFNTAzwRq8OnBKPRQGlZGW6PF6dLrLEJwqUKCwoSHYIwxcUswWVn20lPt9Lff3UrjanOYDBQNkMkNkEYj1arJTvbnugwhCkupk9YDo/ipg+DwcDs2bPIycsdWWOTEh2SICSl4uJC0SJHiLkYJ7jpsQ5nMOiZNZLYHC434bBIbIIwkdLi4kSHIEwDMW0PWlVViVwun7IjGYNBT9mMGXi8YipSEK5HcYlIcELsxXQEp9PpKJmCH2S9fnTElo9TjNgE4bpkZWZiNBgSHYYwDcS8yulUWocbTWy5+aOJLZzokAQh5UzFm14hOcUhwaX+Opxer2PWrFnk5eWJxCYIN0kkOCFeYroGB1BYWIDBYMDtTr01Kp1OR3l5OV6vF2cKxi8IyUav15Mvuo0IcRLzEZxcLqe6uirWp4kqnU7HrFl15BUU4HS7CU3RTTKCEG+VFeWi/5sQN3H5pM2fPy8ep7lpWq2WuouJzSOmIgUhyqqrKxMdgjCNxHyKEqCubiYmkwmn0xmP0103rVZLRUU5Hp8fl9uT6HAEYUoymUzk5YrpSSF+4jKCUygULF68KB6nui6jI7b8wkIxYhOEGKuuqhDVS4S4ittk+LJlS+J1qmsaTWwFRUW4RGIThLiorkqttXgh9cVlihKGm6CWlpZw9uy5eJ3yKhqNhoqKCnyBgJiKFIQ4SrdasduzEh2GMM3ELcEBLF26JCEJTqPRUFFZgc8fwOURiU0Q4i3VdlILU0Nc9+vOnz8fjUYdt/NpNBrq6uooLC7G5fYQCoXidm5BEIbJZDJm1c1MdBjCNBTXBKfVauLyyMBwYptJUXExLo9IbIKQSDNmlGEyGRMdhjANxf2Jy6VLY7fZRKPRMLNu5vCIzeMlKBKbICTc3DmzEx2CME3FdQ0OoKysDLvdTldXV9SOqVarqayswBcI4vZ4o3ZcQRBuTnq6leKiwkSHIUxTCamZE61RnFqtZmbdTIpKSnB5vGIqUhCSzJzZsxIdgjCNJSTB1dcvuql6dGq1mpkzZ1JcWoJbJDZBSEpKpZK6mbWJDkOYxhKS4MxmM3NuYF5+OLHVDic2r5dgUCQ2QUhWNdVVaDSaRIchTGMJK+u9bt3aSb9WpVKNjNhKcXt9IrEJQgpYuCA1iqwLU1fCElxBQT4zrzF9MZzYaimdUTYyYgvGKTpBEG5GRUU5Npst0WEI01xCGzOtX79uzK+rVCpqLyY2H4GASGyCkEqW1i9OdAiCEP/HBC5VWlpCZWUFDQ2NwHBiq6isIBQK4/H6EhmaIAg3qKyslKyszESHIQiJTXAwvBZ39uw5KirKCYUlkdgEIcWJ0ZuQLBLeO76qqpJly5fh8fkJiDU2QUhpRUWF5ORkJzoMQQCSIMEBLF1an+gQBEGIAjF6E5JJUiS4gvx8iouLEh2GIAg3oaiwgIKC/ESHIQgXJUWCA1ixfFmiQxAE4SasvO3WRIcgCJdJmgSXnW2nvHxGosMQBOEGzJxZI3ZOCkknaRIcwIrlSxMdgiAI10mlUooZGCEpJVWCs9lsojirIKSYRQsXYjSKhqZC8kmqBAdw2623oNPpEh2GIAiTYDQaWLRwfqLDEIQxJV2C0+l03L5SLFYLQipYsXwZKpUq0WEIwpiSLsEB1NZUi8cGBCHJZWfbqa2tSXQYgjCupExwAGtW3YFSmfBKYoIgjEEul7N+7RpkMlmiQxGEcSVtgktLs7B8mdhVKQjJaPGiBWRmZiQ6DEGYUNImOIAF8+dit2clOgxBEC6Rnm5liSjJJaSApE5wcrmcdWtWi2kQQUgi69asFssHQkpI6gQHYLdnsWD+vESHIQgCMGf2LPLz8xIdhiBMStInOIDly5ZgsZgTHYYgTGtGo4FbVyxPdBiCMGkpkeBUKhVrV69KdBiCMK2tX7cGjUaT6DAEYdJSIsEBFBcXUVNdlegwBGFaWrhgPiXFxYkOQxCuS8okOIA7bl+J2SymKgUhnrKz7ay4RRRTFlJPSiU4nU7LvXdvRKFQJDoUQZgW1CoVG+/aIH7nhJSUUgkOhndVrl19R6LDEIRpYfXqO7CmpSU6DEG4ISmX4ABmzqxlzuxZiQ5DEKa02ppqamuqEx2GINywlExwAHfcfhu5OTmJDkMQpqR0q5XVq25PdBiCcFNSNsEpFAruvvsu9Hp9okMRhClFo9Fw772bUKvViQ5FEG5KyiY4AJPRyN0b7xSlvAQhSmQyGZvu2oAtPT3RoQjCTUvpBAdQUJDPyttWJDoMQZgSbrv1FkpKxPNuwtSQ8gkOYMH8eVRXVSY6DEFIaTNn1rBwwfxEhyEIUTMlEhzAurWryciwJToMQUhJubk5ohyeMOVMmQSnUqm49+5NolaeIFwnk8koCigIU9KUSXAAVmsaD9x/DyqVKtGhCEJK0Gq1PPTAfRgMhkSHIghRN6USHEBebi7333cPSqW4GxWEiahUKh68/15sNjG1L0xNUy7BARQW5HPvPZvElIsgjEOhUHDfPZvIyclOdCiCEDNTMsEBlBQXs0k8IycIV5HJZGy8awNFRYWJDkUQYmrKJjiA8hllbLxzvUhygnCJtWtWUVE+I9FhCELMTekEB1BVVcn6dWsSHYYgJIXbbl3BrLqZiQ5DEOJiyic4gJm1NawRLXaEae72lbeyaKF4kFuYPqZFggOYM3sWt6+8NdFhCEJCrFl9Bwvmz0t0GIIQV8pEBxBPC+bPIxQM8ea27YkORRDiQiaTsX7dGmbW1iQ6FEGIu2mV4ADq6xchRSS2bd+Z6FCES3lP8Mrje/DY80jX+uk934bfUkSeVY6np5XBrNt5eKUoAnw95HI5G+9cT2VlRaJDEYSEmHYJDmDpknrMZjMvvfwqkiQlOhwBiISCGKrXcnt9Dsrwed5sPk9P/nyWL85E7jvLjv3BRIeYUhQKBXdvuosZZaWJDkUQEmbarMFdaWZtDW976H60Wm2iQxEAmaaI2pn2se+41DmUl5jwuD14/CEgQsjnwePxEYqA5HfjDUoEHL30DfoIX/bNEgFnL719LoKReLyTxNNoNDxw/70iuQnT3rQcwY0qyM/nXe94hL88+RQDA4OJDmd6U6eRNl4D6UgQd8OrPHPGypL7V1OjkRNo28FrZ3KYndvO7h3tGCvy0Hjd9Ld1Iqtcy4blxegig5zZfwqvKQ3aD/Oas5w77ppHxhQucGOxWHjgvnuw2UTDUkGYtiO4UVZrGu96xyMUFOQnOhRhPAozRQvnkU8fA245MiDgUJA3t5rCinwsEbCU38bt6+/m7g3VhI/v4nhfGE/DDk76sshKT8deVYqhcx9HzgUS/W5iJi83l3e94xGR3ARhxLRPcPBWRXWx0yx5yYwVzCqHs4dP4wkP0OxKo9QmB5kcZGrUmuGPsspeQq5ugP6+AN1tnYTlYbxuNx5/BnVr1lCTOTWr2tRUV/G2h+5Hr9clOhRBSBrTeoryUgqFgg3r15JutYrHCJKSiuxZdVj/coQTZ2cQtlZgkcMVC26AEpVKg1YLUjiEP2IgvySX4VnJCAF/gAgwldLcsqX1LFu6JNFhCELSESO4K9TXL+LujXeKdjuJFIkQiUAkcvmuELm1hpnFbo7v6COtxHRJkorAyEsj7m76IsWU5GjIyM7AfWovJ/uCQAR/9wlONnuYKntNlEold925XiQ3QRiHGMGNobKyArPZzBNPPYPH40l0ONNKxN/HhZMNdPok3C3HacxXMyM/beSDqqVwZiVpkSyKDZeMwSJu2o/u50S2GueFDrJuXUG+Wo6sZhkLWl9k959+yVGzCVPBfFYst06JuzqbLZ27N95FRobo5SYI45FFrrxNFi5yOp288OLLNLdcSHQowgjf6W0cUS9iUdHIlstgA6/88gDp995HjSaIwmBEc9ngO0LI48In12HUTo37udqaalavugO1WnSuF4SJTI3f+BgxmUw89OD97D9wkC1vbiMcvmrBR4iHiI+epiYGZdDdoqNq5ZXPE0QAFXqzZoxvlqHUmzDGIcxYUyoVrLrjdtENQBAmSSS4a5DJZCyYP4/ioiKee+FFurt7Eh3S9BNx03VqH4dddmavWoVtdI4x4qH79AWcch+hM01062aQZZwKE5BXS7dauXvTXWRmZiQ6FEFIGWKK8jqEw2G2bd/J7j17Ex2KMI3MrK1h1R0rUavHexJeEISxiAR3A1pb23j+xZcYGnIkOhRhCjMajaxbs4rS0pJEhyIIKUkkuBvkDwR47fU3OHbsRKJDEaagupm13L7yVjSasdYVBUGYDJHgblLj6SZefuVveL3eRIcy9QQ9eNGju3SzoBTE54+g1qkntd0/EvARUGiv2FmZvEwmI+vWrKakRLQGEoSbJRJcFLjdbl559TVON51JdChThzTAieeeoq3yXayuVAESrrM72H1eS2G+gq6zQ9gX30K5dThzSc6zHNh7nrBWSViVQUGuGcnVzumGADXrlpObAstXs+pmsvK2FWLUJghRMjW3nMWZwWDg3ns28bYH7ycrMzPR4UwBYQZOHqZpMHCx6o/aWjIAAAXQSURBVEjE3cCOrX3kLppPecVcFs7ws3/zEQYlwN/Crr9uw1W0mEVLl1FqCCPTGTCEXOiq5pKT5MnNnpXF2x95iHVrV4vkJghRJBJcFBUVFfJ3734H69auxmAwJDqclBXqOc4ZZlBsGq1WEsFz5hRtuhyy9cNfU+fmYupu4Ex/GE/TQU6rqpldYkBGEC8a0g0uznZaqZlhSNq6k3q9jrVrVvHud72d/Ly8RIcjCFOOeA4uymQyGbPqZlJVWcnuPXvZu28/oVAo0WGljmAHJ8+oKF+YxoXG0S+G6evtJ2KoYvQxN5naiFE1QF9fEL/Hj9aeg1kOod4zuLRFmI/vQlZ1K9YkvIWTy+XMmzuHZUvrxYhNEGJIJLgYUatV3LJ8KXNmz+LNrds4fuJkokNKAX7aj55HV7MYi9zDWwXShrsAyBXKt0ZjMiUKhUTAF8RcWoltZyNHD/cgU9upyL/AvguFzK/u5ehrB+hRmdEqM6ipryYtwQmvtKSY21feRnq6NbGBCMI0IBJcjJlMRu7csI758+byxuYtXGhtS3RIScvXfICz8iJm4cTh8OIPRwj7nTg9WlRqFRF/+JJOAGEkSY5Ko0Fhm82qDUGCkgqV0k/r9hOk1c3j7CtP0ZR9FxsX25FOH6PZD2kJapeWk5PNLcuXUlxUlJgABGEaEgkuTrKz7Tzy8EM0nm5iy5atDAwOJjqkJCPhcTjob9rOG03Df/YOhAgceY0tznksSU+DMy48EsN94AIu3AEzGdaRj7BchUoO4Z4jNClqWBI4wTPdWcxenYUSib6AhD4BtYmzMjNZvnwpM8pK439yQZjmRIKLs4ryGZSVlnCqoZF9+w7Q1d2d6JCShJz0urVsqhv5Y8TDiWd/S2vVPaypVCE53NiPtNITAIsWQt3dONLLWZR5yZxjxMHpo24K63NQ9pwinGYnSysj4mmmLZJFbRw/7dnZdpbUL2ZGWSkyWbJucxGEqU0kuARQKBTU1lRTW1PNhQut7Nt/QDxDdw1ycy1LF3WzZ/cxtGVK2k4Eqb117luFlwF/82G6bLO5RS9DnltNtWE/Jw4dIU1jprg6m3g8611QkM+S+kViKlIQkoB40DtJDAwOsv/AQY4ePU4wGEx0OElL8jsYckXQpVnQXtH3LeB0Etab0SWgaklpSTFL6heTl5cb/5MLgjAmkeCSjN/v5/CRo+w/cAin05nocIQJGPR6amurqZtZi80mOmsLQrIRCS5JSZJE4+km9u07QHtHR6LDEUbI5XLKSkuom1lLaWkJcnkSPmgnCAIgElxKaG/v4NjxEzT+//bu5jdRIA7j+GNSGTRZTBkO2q7gYd9a6///r6zUPclgu2Zd0YimOzB7wGZPTfbFLjo+n4QE8PI7kHw1wnA/QZ7ndY9zloJAYnQ3xPD2Bu12u+5xiOg3MHAnxBiD6TTBOI4xjhm71yaEwM2njxjdDdHrdeseh4j+EAN3oowxmCYK43GMOL7HhrE7mCgMMRoN8eH9O1xc8EZjolPFwFnAGIMkUfgcx4jjCTabTd0jnRTPe4NBFGEQhYiiEK1WTcudENFBMXCWMcYgUQqTyRckKsXj41eUZVn3WEfFcRxEYR9RFGEwCOFfcl1IIhsxcJbTWmP28AClUqh0BqVS7Ha7usf6rxqNBq6uetWvtEGIXrfLux+JzgADd4a+LRb74KVQKsVi8b3ukQ7K8zwE0kcQSLy9vkY/7EM4R/7WUyI6OAaOsN1uodIZ5vM5lssMWZZhma2wXq9xzJdHp9NBIH1IKREEElL6kL6E49SwqjIRHR0Gjl5UliVWqzWWWRW9LFvt41ftv+ZjCk6zCeEKuMKF6wq4rRZ8/xKBfA6Zj2aTISOilzFw9Neenn4gz3MUhYbWBbTW1Vb82i+ezxf7z3QBYwyEEFW4hIDruvvjKmZCCP5HRkT/jIEjIiIr8WsyERFZiYEjIiIrMXBERGQlBo6IiKzEwBERkZUYOCIistJPNpase7j2yjUAAAAASUVORK5CYII=)"
      ],
      "metadata": {
        "id": "1nbg_M8mLRhC"
      }
    },
    {
      "cell_type": "markdown",
      "source": [
        "<font color=\"royalblue\"> La columna **Type** es la **feature** más importante, seguida de **Pages total likes**, la tercera más importante es **Month**, tanto en los resultados del artículo, como en los modelos expuestos en el desarrollo de la actividad, ***es importante aclarar que nuestros datos de salida están escalados con la función Min-Max***, por lo cual los resultados varían en cuanto a la magnitud, pero no en el orden de importancia de las columnas.   </font>"
      ],
      "metadata": {
        "id": "YDyi4poLLZfd"
      }
    },
    {
      "cell_type": "markdown",
      "metadata": {
        "id": "7ql_r2G-DB_m"
      },
      "source": [
        "###**Fin de la Actividad de la semana 7.**"
      ]
    }
  ],
  "metadata": {
    "colab": {
      "collapsed_sections": [],
      "provenance": [],
      "include_colab_link": true
    },
    "kernelspec": {
      "display_name": "Python 3",
      "name": "python3"
    }
  },
  "nbformat": 4,
  "nbformat_minor": 0
}